{
 "cells": [
  {
   "cell_type": "markdown",
   "id": "fcdcb3d0-62af-41df-9fad-fcb84f5af016",
   "metadata": {},
   "source": [
    "# Drone Trajectory Planner\n",
    "\n",
    "In this project, we will develop the drone trajectory planner. This notebook serves as the main file for the project, where we will refer to the instructions and demonstrate our code.\n",
    "\n",
    "Please follow week by week instructions, which includes writing the code in the `src/` folder."
   ]
  },
  {
   "cell_type": "code",
   "execution_count": 3,
   "id": "83a63ad4-c249-484a-99e2-d9724aa5d41e",
   "metadata": {},
   "outputs": [],
   "source": [
    "# Import all the files and libraries required for the project\n",
    "%load_ext autoreload\n",
    "%autoreload 2\n",
    "import copy\n",
    "    \n",
    "import numpy as np\n",
    "\n",
    "from src.camera_utils import compute_image_footprint_on_surface, compute_ground_sampling_distance, project_world_point_to_image\n",
    "from src.data_model import Camera, DatasetSpec\n",
    "from src.plan_computation import compute_distance_between_images, compute_speed_during_photo_capture, generate_photo_plan_on_grid\n",
    "from src.visualization import plot_photo_plan"
   ]
  },
  {
   "cell_type": "markdown",
   "id": "44eb7f16-9094-4bc8-8ce7-065991ea0b78",
   "metadata": {},
   "source": [
    "# Week 1: Introduction\n",
    "\n",
    "No code contribution expected this week"
   ]
  },
  {
   "cell_type": "markdown",
   "id": "0c08643e-1e37-4614-bc8f-b5636127b345",
   "metadata": {},
   "source": [
    "# Week 2: Camera System Modeling and Operations\n",
    "\n",
    "We plan to\n",
    "- Model the simple pinhole camera system\n",
    "- Write utility functions to\n",
    "    - project a 3D world point to an image\n",
    "    - Compute image footprint on a surface\n",
    "    - Compute the Ground Sampling Distance"
   ]
  },
  {
   "cell_type": "markdown",
   "id": "c65c8b8f-6f33-4cd4-8c3a-74acbdbd2c7d",
   "metadata": {},
   "source": [
    "## Model the camera parameters\n",
    "\n",
    "We want to model the following camera parameters in Python:\n",
    "- focal length along x axis (in pixels)\n",
    "- focal length along y axis (in pixels)\n",
    "- optical center of the image along the x axis (in pixels)\n",
    "- optical center of the image along the y axis (in pixels)\n",
    "- Size of the sensor along the x axis (in mm)\n",
    "- Size of the sensor along the y axis (in mm)\n",
    "- Number of pixels in the image along the x axis\n",
    "- Number of pixels in the image along the y axis\n",
    "\n",
    "I recommend to use `dataclasses` ([Python documentation](https://docs.python.org/3/library/dataclasses.html), [Blog](https://www.dataquest.io/blog/how-to-use-python-data-classes/) to model these parameters.\n",
    "\n",
    "$\\color{red}{\\text{TODO: }}$ Implement `Camera` in `src/data_model.py`"
   ]
  },
  {
   "cell_type": "code",
   "execution_count": 5,
   "id": "51f75a3f-b1b1-4087-b9ea-6d5b245ab0fc",
   "metadata": {},
   "outputs": [],
   "source": [
    "# Define the parameters for Skydio VT300L - Wide camera\n",
    "# Ref: https://support.skydio.com/hc/en-us/articles/20866347470491-Skydio-X10-camera-and-metadata-overview\n",
    "fx = 4938.56\n",
    "fy = 4936.49\n",
    "cx = 4095.5\n",
    "cy = 3071.5\n",
    "sensor_size_x_mm = 13.107 # single pixel size * number of pixels in X dimension\n",
    "sensor_size_y_mm = 9.830 # single pixel size * number of pixels in Y dimension\n",
    "image_size_x = 8192\n",
    "image_size_y = 6144\n",
    "\n",
    "camera_x10 = Camera(fx, fy, cx, cy, sensor_size_x_mm, sensor_size_y_mm, image_size_x, image_size_y)"
   ]
  },
  {
   "cell_type": "code",
   "execution_count": 6,
   "id": "d0c3834b-6ae4-49b2-8a4f-9a50a08c2cb7",
   "metadata": {},
   "outputs": [
    {
     "name": "stdout",
     "output_type": "stream",
     "text": [
      "X10 camera model: Camera(fx=4938.56, fy=4936.49, cx=4095.5, cy=3071.5, sensor_size_x_mm=13.107, sensor_size_y_mm=9.83, image_size_x_px=8192, image_size_y_px=6144)\n",
      "4095.5 3071.5\n"
     ]
    }
   ],
   "source": [
    "print(f\"X10 camera model: {camera_x10}\")\n",
    "print(camera_x10.cx, camera_x10.cy)"
   ]
  },
  {
   "cell_type": "markdown",
   "id": "1f1db4d3-824e-49b9-af3a-dbeb3323625a",
   "metadata": {},
   "source": [
    "## Project 3D world points into the image\n",
    "\n",
    "\n",
    "![Camera Projection](assets/image_projection.png)\n",
    "Reference: [Robert Collins CSE483](https://www.cse.psu.edu/~rtc12/CSE486/lecture12.pdf)\n",
    "\n",
    "\n",
    "Equations to implement:\n",
    "$$ x = f_x \\frac{X}{Z} $$\n",
    "$$ y = f_y \\frac{Y}{Z} $$\n",
    "$$ u = x + c_x $$\n",
    "$$ v = y + c_y $$\n",
    "\n",
    "$\\color{red}{\\text{TODO: }}$ Implement function `project_world_point_to_image` in `src/camera_utils.py`"
   ]
  },
  {
   "cell_type": "code",
   "execution_count": 7,
   "id": "4a3bd4c0-188b-4f95-98c9-95bb351e2d59",
   "metadata": {},
   "outputs": [
    {
     "name": "stdout",
     "output_type": "stream",
     "text": [
      "[ 25. -30.  50.] projected to [6564.7803   109.60571]\n",
      "Calculated uv: [6564.7803   109.60571]\n",
      "Expected uv: [6564.8  109.6]\n"
     ]
    }
   ],
   "source": [
    "point_3d = np.array([25, -30, 50], dtype=np.float32)\n",
    "expected_uv = np.array([6564.80, 109.60], dtype=np.float32)\n",
    "uv = project_world_point_to_image(camera_x10, point_3d)\n",
    "print(f\"{point_3d} projected to {uv}\")\n",
    "print(f\"Calculated uv: {uv}\")\n",
    "print(f\"Expected uv: {expected_uv}\")\n",
    "\n",
    "assert np.allclose(uv, expected_uv, atol=1e-2)"
   ]
  },
  {
   "cell_type": "markdown",
   "id": "cf58acce-ca40-492d-9281-791c05c92776",
   "metadata": {},
   "source": [
    "## Compute Image Footprint on the surface\n",
    "\n",
    "We have written code to *project* a 3D point into the image. The reverse operation is reprojection, where we take $(x, y)$ and compute the $(X, Y)$ for a given value of $Z$. Note that while going from 3D to 2D, the depth becomes ambiguous so we need the to specify the $Z$.\n",
    "\n",
    "An image's footprint is the area on the surface which is captured by the image. We can take the two corners of the image and reproject them at a given distance to obtain the width and length of the image.\n",
    "\n",
    "$\\color{red}{\\text{TODO: }}$ Implement function `compute_image_footprint_on_surface` in `src/camera_utils.py`"
   ]
  },
  {
   "cell_type": "code",
   "execution_count": 8,
   "id": "9d3e87ae-2123-4362-bf6e-279e6afb360c",
   "metadata": {},
   "outputs": [
    {
     "name": "stdout",
     "output_type": "stream",
     "text": [
      "Footprint at 100m = [165.87831271 124.46090238]\n"
     ]
    }
   ],
   "source": [
    "footprint_at_100m = compute_image_footprint_on_surface(camera_x10, 100)\n",
    "expected_footprint_at_100m = np.array([165.88, 124.46], dtype=np.float32)\n",
    "\n",
    "print(f\"Footprint at 100m = {footprint_at_100m}\")\n",
    "\n",
    "assert np.allclose(footprint_at_100m, expected_footprint_at_100m, atol=1e-2)\n"
   ]
  },
  {
   "cell_type": "code",
   "execution_count": 9,
   "id": "bf7af93f-e95b-40e2-b607-39020015381b",
   "metadata": {},
   "outputs": [
    {
     "name": "stdout",
     "output_type": "stream",
     "text": [
      "Footprint at 200m = [331.75662541 248.92180476]\n"
     ]
    }
   ],
   "source": [
    "footprint_at_200m = compute_image_footprint_on_surface(camera_x10, 200)\n",
    "expected_footprint_at_200m = expected_footprint_at_100m * 2\n",
    "\n",
    "print(f\"Footprint at 200m = {footprint_at_200m}\")\n",
    "\n",
    "assert np.allclose(footprint_at_200m, expected_footprint_at_200m, atol=1e-2)"
   ]
  },
  {
   "cell_type": "markdown",
   "id": "84486ad6-a4c5-4e5a-ba40-ad125ced7d3d",
   "metadata": {},
   "source": [
    "## Ground Sampling Distance\n",
    "\n",
    "Ground sampling distance is the length of the ground (in m) captured by a single pixel. We have the image footpring (the dimensions of ground captured by the whole sensor, and the number of pixels along the horizontal and vertical dimension. Can we get GSD from these two quantities?\n",
    "\n",
    "Note: Please return just one value of the GSD. Take the mininum of the values along the two axes."
   ]
  },
  {
   "cell_type": "code",
   "execution_count": 10,
   "id": "f21aa3d1-08be-4bce-8554-ec834ad000bf",
   "metadata": {},
   "outputs": [
    {
     "name": "stdout",
     "output_type": "stream",
     "text": [
      "GSD at 100m: 0.020248817469059804\n",
      "0.020248817469059804\n"
     ]
    }
   ],
   "source": [
    "gsd_at_100m = compute_ground_sampling_distance(camera_x10, 100)\n",
    "expected_gsd_at_100m = 0.0202\n",
    "\n",
    "print(f\"GSD at 100m: {gsd_at_100m}\")\n",
    "\n",
    "print(gsd_at_100m)\n",
    "assert np.allclose(gsd_at_100m, expected_gsd_at_100m, atol=1e-4)"
   ]
  },
  {
   "cell_type": "markdown",
   "id": "47477599-e78b-46d4-9cac-725bcbb5e6eb",
   "metadata": {},
   "source": [
    "## Bonus: Reprojection from 2D to 3D\n",
    "\n",
    "If we have a 2d pixel location of a point along with the camera model, can we go back to 3D?\n",
    "Do we need any additional information.\n",
    "\n",
    "\n",
    "$\\color{red}{\\text{TODO: }}$ Implement function `reproject_image_point_to_world` in `src/camera_utils.py` and demonstrate it by running it in the notebook. Confirm that your reprojection + projection function are consistent."
   ]
  },
  {
   "cell_type": "markdown",
   "id": "59349449-f7ed-4e2f-aa80-17a2fabf51f1",
   "metadata": {},
   "source": [
    "# Week 3: Model the user requirements\n",
    "\n",
    "For this week, we will model the dataset specifications.\n",
    "\n",
    "- Overlap: the ratio (in 0 to 1) of scene shared between two consecutive images.\n",
    "- Sidelap: the ratio (in 0 to 1) of scene shared between two images in adjacent rows.\n",
    "- Height: the height of the scan above the ground (in meters).\n",
    "- Scan_dimension_x: the horizontal size of the rectangle to be scanned\n",
    "- Scan_dimension_y: the vertical size of the rectangle to be scanned\n",
    "- exposure_time_ms: the exposure time for each image (in milliseconds).\n",
    "\n",
    "\n",
    "$\\color{red}{\\text{TODO: }}$ Implement `DatasetSpec` in `src/data_model.py`\n"
   ]
  },
  {
   "cell_type": "code",
   "execution_count": 11,
   "id": "38206e65-458d-4d0d-b3fc-7e45039c0b64",
   "metadata": {},
   "outputs": [
    {
     "name": "stdout",
     "output_type": "stream",
     "text": [
      "Nominal specs: DatasetSpec(overlap=0.7, sidelap=0.7, height=30.48, scan_dimension_x=150, scan_dimension_y=150, exposure_time_ms=2)\n",
      "2\n"
     ]
    }
   ],
   "source": [
    "# Model the nomimal dataset spec\n",
    "\n",
    "overlap = 0.7\n",
    "sidelap = 0.7\n",
    "height = 30.48 # 100 ft\n",
    "scan_dimension_x = 150\n",
    "scan_dimension_y = 150\n",
    "exposure_time_ms = 2 # 1/500 exposure time\n",
    "\n",
    "dataset_spec = DatasetSpec(overlap, sidelap, height, scan_dimension_x, scan_dimension_y, exposure_time_ms)\n",
    "\n",
    "print(f\"Nominal specs: {dataset_spec}\")\n",
    "print(dataset_spec.exposure_time_ms)"
   ]
  },
  {
   "cell_type": "markdown",
   "id": "135a5201-bcbc-4e57-9201-31d3dbb50005",
   "metadata": {},
   "source": [
    "# Week 4: Compute Distance Between Photos\n",
    "\n",
    "The overlap and sidelap are the ratio of the dimensions shared between two photos. We already know the footprint of a single image at a given distance. Can we convert the ratio into actual distances? And how does the distance on the surface relate to distance travelled by the camera?\n",
    "\n",
    "$\\color{red}{\\text{TODO: }}$ Implement `compute_distance_between_images` in `src/plan_computation.py`\n",
    "\n"
   ]
  },
  {
   "cell_type": "code",
   "execution_count": 12,
   "id": "70b32a91-2577-46ec-bb07-9a0a5fd01243",
   "metadata": {},
   "outputs": [
    {
     "name": "stdout",
     "output_type": "stream",
     "text": [
      "Computed distance for X10 camera with nominal dataset specs: [15.16791291 11.38070491]\n"
     ]
    }
   ],
   "source": [
    "computed_distances = compute_distance_between_images(camera_x10, dataset_spec)\n",
    "expected_distances = np.array([15.17, 11.38], dtype=np.float32)\n",
    "\n",
    "print(f\"Computed distance for X10 camera with nominal dataset specs: {computed_distances}\")\n",
    "\n",
    "assert np.allclose(computed_distances, expected_distances, atol=1e-2)"
   ]
  },
  {
   "cell_type": "markdown",
   "id": "5474e7ac-28bb-4ab3-ad8d-cb5398d5696b",
   "metadata": {},
   "source": [
    "$\\color{red}{\\text{TODO: }}$ define more specifications/camera parameters and check the computed distances. Does that align with your expections\n"
   ]
  },
  {
   "cell_type": "code",
   "execution_count": 13,
   "id": "f7f9334a-6ee1-4aa4-8770-d0f48b36f18b",
   "metadata": {},
   "outputs": [
    {
     "name": "stdout",
     "output_type": "stream",
     "text": [
      "Computed distance for original specs: [15.16791291 11.38070491]\n",
      "Computed distance with 25% of .7 overlap: [41.71176051 11.38070491] \n",
      "\n"
     ]
    }
   ],
   "source": [
    "camera_ = copy.copy(camera_x10)\n",
    "dataset_spec_ = copy.copy(dataset_spec)\n",
    "\n",
    "computed_distances_ = compute_distance_between_images(camera_, dataset_spec_)\n",
    "#print(f\"Computed distance: {computed_distances_}\")\n",
    "\n",
    "\n",
    "# Example reducing overlap should increase horizontal distance between images\n",
    "# Helpful when in scenairos where images require less detail due to flat terrain, or repetitive imagery.\n",
    "dataset_spec_.overlap = .25 * dataset_spec.overlap\n",
    "computed_distances_ = compute_distance_between_images(camera_, dataset_spec_)\n",
    "print(f\"Computed distance for original specs: {computed_distances}\")\n",
    "print(f\"Computed distance with 25% of .7 overlap: {computed_distances_} \\n\")\n"
   ]
  },
  {
   "cell_type": "code",
   "execution_count": 14,
   "id": "b6afc416",
   "metadata": {},
   "outputs": [
    {
     "name": "stdout",
     "output_type": "stream",
     "text": [
      "Computed distance for original specs: [15.16791291 11.38070491]\n",
      "Computed distance .9 sidelap: [15.16791291  3.7935683 ] \n",
      "\n"
     ]
    }
   ],
   "source": [
    "# reset\n",
    "camera_ = copy.copy(camera_x10)\n",
    "dataset_spec_ = copy.copy(dataset_spec)\n",
    "# Example increaseing overlap should decrease vertical distance between images\n",
    "# Helpful in scenarios where images require high detail due to complex terrain, imagery.\n",
    "dataset_spec_.sidelap = .9\n",
    "computed_distances_ = compute_distance_between_images(camera_, dataset_spec_)\n",
    "print(f\"Computed distance for original specs: {computed_distances}\")\n",
    "print(f\"Computed distance .9 sidelap: {computed_distances_} \\n\")"
   ]
  },
  {
   "cell_type": "code",
   "execution_count": 15,
   "id": "731c8036",
   "metadata": {},
   "outputs": [
    {
     "name": "stdout",
     "output_type": "stream",
     "text": [
      "Computed distance for original specs: [15.16791291 11.38070491]\n",
      "Computed distance with 50 feet height: [25.27985486  6.32261384] \n",
      "\n",
      "Ground sampling distance for original specs: 0.006171839564569429\n",
      "Ground sampling distance with 50 feet height: 0.01028639927428238\n",
      "\n"
     ]
    }
   ],
   "source": [
    "# Example increase drone height in data spec to 50 feet. \n",
    "# This would be useful in scenarios where the drone is flying over a large area and needs less detail.\n",
    "# This should increase the footprints thus increaing both vertical and horizontal overlaps.\n",
    "# This should also increase ground sampling distance.\n",
    "dataset_spec_.height = 50.8 # 50 feet\n",
    "computed_distances_ = compute_distance_between_images(camera_, dataset_spec_)\n",
    "ground_sampling_0 = compute_ground_sampling_distance(camera_x10, dataset_spec.height)\n",
    "ground_sampling_1 = compute_ground_sampling_distance(camera_, dataset_spec_.height)\n",
    "\n",
    "print(f\"Computed distance for original specs: {computed_distances}\")\n",
    "print(f\"Computed distance with 50 feet height: {computed_distances_} \\n\")\n",
    "\n",
    "print(f\"Ground sampling distance for original specs: {ground_sampling_0}\")\n",
    "print(f\"Ground sampling distance with 50 feet height: {ground_sampling_1}\\n\")"
   ]
  },
  {
   "cell_type": "code",
   "execution_count": 16,
   "id": "244288af",
   "metadata": {},
   "outputs": [
    {
     "name": "stdout",
     "output_type": "stream",
     "text": [
      "Computed distance for original specs: [15.16791291 11.38070491]\n",
      "Computed distance with double image size x and y: [30.33582583 22.76140983] \n",
      "\n"
     ]
    }
   ],
   "source": [
    "# reset\n",
    "camera_ = copy.copy(camera_x10)\n",
    "dataset_spec_ = copy.copy(dataset_spec)\n",
    "# Example increase image size horizontally and veritcally \n",
    "# This would be useful in scenarios where more detial is required in the images from a higher resolution camera.\n",
    "# This should increase the footprints thus increaing both vertical and horizontal overlaps distances. \n",
    "camera_.image_size_x_px = 8192 * 2\n",
    "camera_.image_size_y_px = 6144 * 2\n",
    "computed_distances_ = compute_distance_between_images(camera_, dataset_spec_)\n",
    "print(f\"Computed distance for original specs: {computed_distances}\")\n",
    "print(f\"Computed distance with double image size x and y: {computed_distances_} \\n\")"
   ]
  },
  {
   "cell_type": "code",
   "execution_count": 17,
   "id": "3dff9f04",
   "metadata": {},
   "outputs": [
    {
     "name": "stdout",
     "output_type": "stream",
     "text": [
      "Computed distance for original specs: [15.16791291 11.38070491]\n",
      "Computed distance with double focal lentghs both x and y: [30.33582583 22.76140983]\n",
      "\n"
     ]
    }
   ],
   "source": [
    "# reset\n",
    "camera_ = copy.copy(camera_x10)\n",
    "dataset_spec_ = copy.copy(dataset_spec)\n",
    "# Example decrease focal length \n",
    "# This would useful in covering an area with less images or less overlaps.\n",
    "# This should increase the footprints thus increasing both vertical and horizontal overlaps distances. \n",
    "camera_.fx = camera_.fx * .5\n",
    "camera_.fy = camera_.fy * .5\n",
    "computed_distances_ = compute_distance_between_images(camera_, dataset_spec_)\n",
    "\n",
    "print(f\"Computed distance for original specs: {computed_distances}\")\n",
    "print(f\"Computed distance with double focal lentghs both x and y: {computed_distances_}\\n\")"
   ]
  },
  {
   "cell_type": "markdown",
   "id": "cea6d39a-89af-42bc-bb63-2d22380dec1f",
   "metadata": {},
   "source": [
    "## Bonus: Non-Nadir photos\n",
    "\n",
    "We have solved for the distance assuming that the camera is facing straight down to the ground. This is called [Nadir scanning](https://support.esri.com/en-us/gis-dictionary/nadir). However, in practise we might want a custom gimbal angle.\n",
    "\n",
    "Your bonus task is to make the distance computation general. Introduce a double `camera_angle` parameter (which is the angle from the X-axis) in the dataset specification, and work out how to adapt your computation. Feel free to reach out to Ayush to discuss ideas and assumptions!\n",
    "\n",
    "![Non Nadir Footprint](assets/non_nadir_gimbal_angle.png)"
   ]
  },
  {
   "cell_type": "markdown",
   "id": "8dfc13a5-d13d-4930-a47b-2851e5458ceb",
   "metadata": {},
   "source": [
    "# Week 5: Compute Maximum Speed For Blur Free Photos\n",
    "\n",
    "To restrict motion blur due to camera movement to tolerable limits, we need to restrict the speed such that the image contents move less than 1px away. \n",
    "\n",
    "How much does 1px of movement translate to movement of the scene on the ground? It is the ground sampling distance!\n",
    "From previous week, we know that this is the maximum movement the camera can have. \n",
    "We have the distance now. To get speed we need to divide it with time. Do we have time already in our data models?\n",
    "\n",
    "$\\color{red}{\\text{TODO: }}$ Implement `compute_speed_during_photo_capture` in `src/plan_computation.py`."
   ]
  },
  {
   "cell_type": "code",
   "execution_count": 18,
   "id": "1292957c-d66f-4ac9-bb6f-1dc783d1a5aa",
   "metadata": {},
   "outputs": [
    {
     "name": "stdout",
     "output_type": "stream",
     "text": [
      "Computed speed during photo captures: 3.09\n"
     ]
    }
   ],
   "source": [
    "computed_speed = compute_speed_during_photo_capture(camera_x10, dataset_spec, allowed_movement_px=1)\n",
    "expected_speed = 3.09\n",
    "\n",
    "print(f\"Computed speed during photo captures: {computed_speed:.2f}\")\n",
    "\n",
    "assert np.allclose(computed_speed, expected_speed, atol=1e-2)"
   ]
  },
  {
   "cell_type": "markdown",
   "id": "b7fe63d9-c416-4bbf-b0ce-8c678de681de",
   "metadata": {},
   "source": [
    "$\\color{red}{\\text{TODO: }}$ define more specifications/camera parameters and check the computed distances. Does that align with your expections\n"
   ]
  },
  {
   "cell_type": "code",
   "execution_count": 19,
   "id": "85212946-83d0-475c-9740-e04d10a1ec32",
   "metadata": {},
   "outputs": [
    {
     "name": "stdout",
     "output_type": "stream",
     "text": [
      "Base line compute speed: 3.09\n",
      "Computed speed at higher exposure: 0.62\n"
     ]
    }
   ],
   "source": [
    "camera_ = copy.copy(camera_x10)\n",
    "dataset_spec_ = copy.copy(dataset_spec)\n",
    "\n",
    "# Example increasing exposure time for low light scenarios \n",
    "# This should decrease the speed required to shoot blur free images.\n",
    "dataset_spec_.exposure_time_ms = 10\n",
    "computed_speed_ = compute_speed_during_photo_capture(camera_, dataset_spec_)\n",
    "print(f\"Base line compute speed: {computed_speed:.2f}\")\n",
    "print(f\"Computed speed at higher exposure: {computed_speed_:.2f}\")"
   ]
  },
  {
   "cell_type": "code",
   "execution_count": 20,
   "id": "6b43717f",
   "metadata": {},
   "outputs": [
    {
     "name": "stdout",
     "output_type": "stream",
     "text": [
      "Base line compute speed: 3.09\n",
      "Computed speed at higher focal length: 1.54\n"
     ]
    }
   ],
   "source": [
    "camera_ = copy.copy(camera_x10)\n",
    "dataset_spec_ = copy.copy(dataset_spec)\n",
    "\n",
    "# Example decreasing ground sampling distance by increasing focal length to shoot more detailed images\n",
    "# This should decrease the speed required to shoot blur free images.\n",
    "camera_.fx = camera_.fx * 2\n",
    "camera_.fy = camera_.fy * 2\n",
    "computed_speed_ = compute_speed_during_photo_capture(camera_, dataset_spec_)\n",
    "print(f\"Base line compute speed: {computed_speed:.2f}\")\n",
    "print(f\"Computed speed at higher focal length: {computed_speed_:.2f}\")"
   ]
  },
  {
   "cell_type": "code",
   "execution_count": 21,
   "id": "23c80733",
   "metadata": {},
   "outputs": [
    {
     "name": "stdout",
     "output_type": "stream",
     "text": [
      "Base line compute speed: 3.09\n",
      "Computed speed at increased allowed pixel movement: 6.17\n"
     ]
    }
   ],
   "source": [
    "camera_ = copy.copy(camera_x10)\n",
    "dataset_spec_ = copy.copy(dataset_spec)\n",
    "\n",
    "# Example increasing allowed movement in pixels for faster flights\n",
    "# This could be helpful in scenarios where rapid surevy of large areas for large items required.\n",
    "# This should increase speed.\n",
    "computed_speed_ = compute_speed_during_photo_capture(camera_, dataset_spec_, 2)\n",
    "print(f\"Base line compute speed: {computed_speed:.2f}\")\n",
    "print(f\"Computed speed at increased allowed pixel movement: {computed_speed_:.2f}\")"
   ]
  },
  {
   "cell_type": "markdown",
   "id": "26d7075d-f520-43bd-8b8b-b36e9c6a6bc2",
   "metadata": {},
   "source": [
    "# Week 6: Generate Full Flight Plans  \n",
    "\n",
    "We now have all the tools to generate the full flight plan.\n",
    "\n",
    "Steps for this week:\n",
    "1. Define the `Waypoint` data model. What attributes should the data model have?\n",
    "   1. For Nadir scans, just the position of the camera is enough as we will always look drown to the ground.\n",
    "   2. For general case (bonus), we also need to define where the drone will look at.\n",
    "3. Implement the function `generate_photo_plan_on_grid` to generate the full plan.\n",
    "   1. Compute the maximum distance between two images, horizontally and vertically.\n",
    "   2. Layer the images such that we cover the whole scan area. Note that you need to take care when the scan dimension is not a multiple of distance between images. Example: to cover 45m length with 10m between images, we would need 4.5 images. Not possible. 4 images would not satisfy the overlap, so we should go with 5. How should we arrange 5 images in the given 45m.\n",
    "   3. Assign the speed to each waypoint.\n",
    "\n",
    "$\\color{red}{\\text{TODO: }}$ Implement:\n",
    "- `Waypoint` in `src/data_model.py`\n",
    "- `generate_photo_plan_on_grid` in `src/plan_computation.py`."
   ]
  },
  {
   "cell_type": "code",
   "execution_count": 101,
   "id": "7f1e5c3e-9974-4f50-9413-1b9c5b523051",
   "metadata": {},
   "outputs": [
    {
     "name": "stdout",
     "output_type": "stream",
     "text": [
      "Computed plan with 165 waypoints\n"
     ]
    }
   ],
   "source": [
    "computed_plan = generate_photo_plan_on_grid(camera_x10, dataset_spec) \n",
    "\n",
    "print(f\"Computed plan with {len(computed_plan)} waypoints\")"
   ]
  },
  {
   "cell_type": "code",
   "execution_count": 102,
   "id": "71f3bf15-c584-44da-a789-c821acb3f9a6",
   "metadata": {},
   "outputs": [
    {
     "name": "stdout",
     "output_type": "stream",
     "text": [
      "Idx 0: Waypoint(x=0.0, y=0.0, speed=3.0859197822847144)\n",
      "Idx 1: Waypoint(x=15.0, y=0.0, speed=3.0859197822847144)\n",
      "Idx 2: Waypoint(x=30.0, y=0.0, speed=3.0859197822847144)\n",
      "Idx 3: Waypoint(x=45.0, y=0.0, speed=3.0859197822847144)\n",
      "Idx 4: Waypoint(x=60.0, y=0.0, speed=3.0859197822847144)\n",
      "Idx 5: Waypoint(x=75.0, y=0.0, speed=3.0859197822847144)\n",
      "Idx 6: Waypoint(x=90.0, y=0.0, speed=3.0859197822847144)\n",
      "Idx 7: Waypoint(x=105.0, y=0.0, speed=3.0859197822847144)\n",
      "Idx 8: Waypoint(x=120.0, y=0.0, speed=3.0859197822847144)\n",
      "Idx 9: Waypoint(x=135.0, y=0.0, speed=3.0859197822847144)\n",
      "Idx 10: Waypoint(x=150.0, y=0.0, speed=3.0859197822847144)\n",
      "Idx 11: Waypoint(x=150.0, y=10.714285714285714, speed=3.0859197822847144)\n",
      "Idx 12: Waypoint(x=135.0, y=10.714285714285714, speed=3.0859197822847144)\n",
      "Idx 13: Waypoint(x=120.0, y=10.714285714285714, speed=3.0859197822847144)\n",
      "Idx 14: Waypoint(x=105.0, y=10.714285714285714, speed=3.0859197822847144)\n",
      "Idx 15: Waypoint(x=90.0, y=10.714285714285714, speed=3.0859197822847144)\n",
      "Idx 16: Waypoint(x=75.0, y=10.714285714285714, speed=3.0859197822847144)\n",
      "Idx 17: Waypoint(x=60.0, y=10.714285714285714, speed=3.0859197822847144)\n",
      "Idx 18: Waypoint(x=45.0, y=10.714285714285714, speed=3.0859197822847144)\n",
      "Idx 19: Waypoint(x=30.0, y=10.714285714285714, speed=3.0859197822847144)\n",
      "...\n"
     ]
    }
   ],
   "source": [
    "MAX_NUM_WAYPOINTS_TO_PRINT = 20\n",
    "\n",
    "for idx, waypoint in enumerate(computed_plan[:20]):\n",
    "    print(f\"Idx {idx}: {waypoint}\")\n",
    "if len(computed_plan) >= MAX_NUM_WAYPOINTS_TO_PRINT:\n",
    "    print(\"...\")"
   ]
  },
  {
   "cell_type": "markdown",
   "id": "5544587f-fff7-406a-be65-ad99c7217e51",
   "metadata": {},
   "source": [
    "## Bonus: Time computation \n",
    "\n",
    "if you have some time, you can implement a time computation function. We can make the drone fly as fast as possible between photos, but make sure it can decelerate back to the required speed at the photos. Please use the following data: \n",
    "- Max drone speed: 16m/s.\n",
    "- Max acceleration: 3.5 m/s^2.\n",
    "\n",
    "Hint: you might need to use a trapezoidal speed profile"
   ]
  },
  {
   "cell_type": "markdown",
   "id": "1a326c0e-86ff-443d-98ee-7a4fae0bfe81",
   "metadata": {},
   "source": [
    "# Week 7: Visualize Flight Plans\n",
    "\n",
    "This week, we will use a third party plotting framework called [Plotly](https://plotly.com/python/) to visualize our plans. Please follow this [tutorial](https://www.kaggle.com/code/kanncaa1/plotly-tutorial-for-beginners) to gain some basic experience with Plotly, and then come up with your own visualization function. You are free to choose to come up with your own visualization, and use something other than Plotly.\n",
    "\n",
    "$\\color{red}{\\text{TODO: }}$ Implement `plot_photo_plan` in `src/visualization.py`"
   ]
  },
  {
   "cell_type": "code",
   "execution_count": 264,
   "id": "3996504a-28fc-48f1-8094-94d9a6bd58f9",
   "metadata": {},
   "outputs": [
    {
     "data": {
      "application/vnd.plotly.v1+json": {
       "config": {
        "plotlyServerURL": "https://plot.ly"
       },
       "data": [
        {
         "line": {
          "dash": "dot"
         },
         "marker": {
          "color": "green"
         },
         "mode": "lines+markers",
         "name": "flight",
         "type": "scatter",
         "x": [
          0,
          15,
          30,
          45,
          60,
          75,
          90,
          105,
          120,
          135,
          150,
          150,
          135,
          120,
          105,
          90,
          75,
          60,
          45,
          30,
          15,
          0,
          0,
          15,
          30,
          45,
          60,
          75,
          90,
          105,
          120,
          135,
          150,
          150,
          135,
          120,
          105,
          90,
          75,
          60,
          45,
          30,
          15,
          0,
          0,
          15,
          30,
          45,
          60,
          75,
          90,
          105,
          120,
          135,
          150,
          150,
          135,
          120,
          105,
          90,
          75,
          60,
          45,
          30,
          15,
          0,
          0,
          15,
          30,
          45,
          60,
          75,
          90,
          105,
          120,
          135,
          150,
          150,
          135,
          120,
          105,
          90,
          75,
          60,
          45,
          30,
          15,
          0,
          0,
          15,
          30,
          45,
          60,
          75,
          90,
          105,
          120,
          135,
          150,
          150,
          135,
          120,
          105,
          90,
          75,
          60,
          45,
          30,
          15,
          0,
          0,
          15,
          30,
          45,
          60,
          75,
          90,
          105,
          120,
          135,
          150,
          150,
          135,
          120,
          105,
          90,
          75,
          60,
          45,
          30,
          15,
          0,
          0,
          15,
          30,
          45,
          60,
          75,
          90,
          105,
          120,
          135,
          150,
          150,
          135,
          120,
          105,
          90,
          75,
          60,
          45,
          30,
          15,
          0,
          0,
          15,
          30,
          45,
          60,
          75,
          90,
          105,
          120,
          135,
          150
         ],
         "y": [
          0,
          0,
          0,
          0,
          0,
          0,
          0,
          0,
          0,
          0,
          0,
          10.714285714285714,
          10.714285714285714,
          10.714285714285714,
          10.714285714285714,
          10.714285714285714,
          10.714285714285714,
          10.714285714285714,
          10.714285714285714,
          10.714285714285714,
          10.714285714285714,
          10.714285714285714,
          21.428571428571427,
          21.428571428571427,
          21.428571428571427,
          21.428571428571427,
          21.428571428571427,
          21.428571428571427,
          21.428571428571427,
          21.428571428571427,
          21.428571428571427,
          21.428571428571427,
          21.428571428571427,
          32.14285714285714,
          32.14285714285714,
          32.14285714285714,
          32.14285714285714,
          32.14285714285714,
          32.14285714285714,
          32.14285714285714,
          32.14285714285714,
          32.14285714285714,
          32.14285714285714,
          32.14285714285714,
          42.857142857142854,
          42.857142857142854,
          42.857142857142854,
          42.857142857142854,
          42.857142857142854,
          42.857142857142854,
          42.857142857142854,
          42.857142857142854,
          42.857142857142854,
          42.857142857142854,
          42.857142857142854,
          53.57142857142857,
          53.57142857142857,
          53.57142857142857,
          53.57142857142857,
          53.57142857142857,
          53.57142857142857,
          53.57142857142857,
          53.57142857142857,
          53.57142857142857,
          53.57142857142857,
          53.57142857142857,
          64.28571428571428,
          64.28571428571428,
          64.28571428571428,
          64.28571428571428,
          64.28571428571428,
          64.28571428571428,
          64.28571428571428,
          64.28571428571428,
          64.28571428571428,
          64.28571428571428,
          64.28571428571428,
          75,
          75,
          75,
          75,
          75,
          75,
          75,
          75,
          75,
          75,
          75,
          85.71428571428571,
          85.71428571428571,
          85.71428571428571,
          85.71428571428571,
          85.71428571428571,
          85.71428571428571,
          85.71428571428571,
          85.71428571428571,
          85.71428571428571,
          85.71428571428571,
          85.71428571428571,
          96.42857142857142,
          96.42857142857142,
          96.42857142857142,
          96.42857142857142,
          96.42857142857142,
          96.42857142857142,
          96.42857142857142,
          96.42857142857142,
          96.42857142857142,
          96.42857142857142,
          96.42857142857142,
          107.14285714285714,
          107.14285714285714,
          107.14285714285714,
          107.14285714285714,
          107.14285714285714,
          107.14285714285714,
          107.14285714285714,
          107.14285714285714,
          107.14285714285714,
          107.14285714285714,
          107.14285714285714,
          117.85714285714285,
          117.85714285714285,
          117.85714285714285,
          117.85714285714285,
          117.85714285714285,
          117.85714285714285,
          117.85714285714285,
          117.85714285714285,
          117.85714285714285,
          117.85714285714285,
          117.85714285714285,
          128.57142857142856,
          128.57142857142856,
          128.57142857142856,
          128.57142857142856,
          128.57142857142856,
          128.57142857142856,
          128.57142857142856,
          128.57142857142856,
          128.57142857142856,
          128.57142857142856,
          128.57142857142856,
          139.28571428571428,
          139.28571428571428,
          139.28571428571428,
          139.28571428571428,
          139.28571428571428,
          139.28571428571428,
          139.28571428571428,
          139.28571428571428,
          139.28571428571428,
          139.28571428571428,
          139.28571428571428,
          150,
          150,
          150,
          150,
          150,
          150,
          150,
          150,
          150,
          150,
          150
         ]
        },
        {
         "marker": {
          "color": "blue",
          "size": 20,
          "symbol": "x-dot"
         },
         "mode": "markers",
         "name": "drone ground midpoint",
         "text": [
          "3.0859197822847144",
          "3.0859197822847144",
          "3.0859197822847144",
          "3.0859197822847144",
          "3.0859197822847144",
          "3.0859197822847144",
          "3.0859197822847144",
          "3.0859197822847144",
          "3.0859197822847144",
          "3.0859197822847144",
          "3.0859197822847144",
          "3.0859197822847144",
          "3.0859197822847144",
          "3.0859197822847144",
          "3.0859197822847144",
          "3.0859197822847144",
          "3.0859197822847144",
          "3.0859197822847144",
          "3.0859197822847144",
          "3.0859197822847144",
          "3.0859197822847144",
          "3.0859197822847144",
          "3.0859197822847144",
          "3.0859197822847144",
          "3.0859197822847144",
          "3.0859197822847144",
          "3.0859197822847144",
          "3.0859197822847144",
          "3.0859197822847144",
          "3.0859197822847144",
          "3.0859197822847144",
          "3.0859197822847144",
          "3.0859197822847144",
          "3.0859197822847144",
          "3.0859197822847144",
          "3.0859197822847144",
          "3.0859197822847144",
          "3.0859197822847144",
          "3.0859197822847144",
          "3.0859197822847144",
          "3.0859197822847144",
          "3.0859197822847144",
          "3.0859197822847144",
          "3.0859197822847144",
          "3.0859197822847144",
          "3.0859197822847144",
          "3.0859197822847144",
          "3.0859197822847144",
          "3.0859197822847144",
          "3.0859197822847144",
          "3.0859197822847144",
          "3.0859197822847144",
          "3.0859197822847144",
          "3.0859197822847144",
          "3.0859197822847144",
          "3.0859197822847144",
          "3.0859197822847144",
          "3.0859197822847144",
          "3.0859197822847144",
          "3.0859197822847144",
          "3.0859197822847144",
          "3.0859197822847144",
          "3.0859197822847144",
          "3.0859197822847144",
          "3.0859197822847144",
          "3.0859197822847144",
          "3.0859197822847144",
          "3.0859197822847144",
          "3.0859197822847144",
          "3.0859197822847144",
          "3.0859197822847144",
          "3.0859197822847144",
          "3.0859197822847144",
          "3.0859197822847144",
          "3.0859197822847144",
          "3.0859197822847144",
          "3.0859197822847144",
          "3.0859197822847144",
          "3.0859197822847144",
          "3.0859197822847144",
          "3.0859197822847144",
          "3.0859197822847144",
          "3.0859197822847144",
          "3.0859197822847144",
          "3.0859197822847144",
          "3.0859197822847144",
          "3.0859197822847144",
          "3.0859197822847144",
          "3.0859197822847144",
          "3.0859197822847144",
          "3.0859197822847144",
          "3.0859197822847144",
          "3.0859197822847144",
          "3.0859197822847144",
          "3.0859197822847144",
          "3.0859197822847144",
          "3.0859197822847144",
          "3.0859197822847144",
          "3.0859197822847144",
          "3.0859197822847144",
          "3.0859197822847144",
          "3.0859197822847144",
          "3.0859197822847144",
          "3.0859197822847144",
          "3.0859197822847144",
          "3.0859197822847144",
          "3.0859197822847144",
          "3.0859197822847144",
          "3.0859197822847144",
          "3.0859197822847144",
          "3.0859197822847144",
          "3.0859197822847144",
          "3.0859197822847144",
          "3.0859197822847144",
          "3.0859197822847144",
          "3.0859197822847144",
          "3.0859197822847144",
          "3.0859197822847144",
          "3.0859197822847144",
          "3.0859197822847144",
          "3.0859197822847144",
          "3.0859197822847144",
          "3.0859197822847144",
          "3.0859197822847144",
          "3.0859197822847144",
          "3.0859197822847144",
          "3.0859197822847144",
          "3.0859197822847144",
          "3.0859197822847144",
          "3.0859197822847144",
          "3.0859197822847144",
          "3.0859197822847144",
          "3.0859197822847144",
          "3.0859197822847144",
          "3.0859197822847144",
          "3.0859197822847144",
          "3.0859197822847144",
          "3.0859197822847144",
          "3.0859197822847144",
          "3.0859197822847144",
          "3.0859197822847144",
          "3.0859197822847144",
          "3.0859197822847144",
          "3.0859197822847144",
          "3.0859197822847144",
          "3.0859197822847144",
          "3.0859197822847144",
          "3.0859197822847144",
          "3.0859197822847144",
          "3.0859197822847144",
          "3.0859197822847144",
          "3.0859197822847144",
          "3.0859197822847144",
          "3.0859197822847144",
          "3.0859197822847144",
          "3.0859197822847144",
          "3.0859197822847144",
          "3.0859197822847144",
          "3.0859197822847144",
          "3.0859197822847144",
          "3.0859197822847144",
          "3.0859197822847144",
          "3.0859197822847144",
          "3.0859197822847144",
          "3.0859197822847144"
         ],
         "type": "scatter",
         "x": [
          0
         ],
         "y": [
          0
         ]
        }
       ],
       "frames": [
        {
         "data": [
          {
           "type": "scatter",
           "x": [
            0
           ],
           "y": [
            0
           ]
          }
         ],
         "traces": [
          1
         ]
        },
        {
         "data": [
          {
           "type": "scatter",
           "x": [
            15
           ],
           "y": [
            0
           ]
          }
         ],
         "traces": [
          1
         ]
        },
        {
         "data": [
          {
           "type": "scatter",
           "x": [
            30
           ],
           "y": [
            0
           ]
          }
         ],
         "traces": [
          1
         ]
        },
        {
         "data": [
          {
           "type": "scatter",
           "x": [
            45
           ],
           "y": [
            0
           ]
          }
         ],
         "traces": [
          1
         ]
        },
        {
         "data": [
          {
           "type": "scatter",
           "x": [
            60
           ],
           "y": [
            0
           ]
          }
         ],
         "traces": [
          1
         ]
        },
        {
         "data": [
          {
           "type": "scatter",
           "x": [
            75
           ],
           "y": [
            0
           ]
          }
         ],
         "traces": [
          1
         ]
        },
        {
         "data": [
          {
           "type": "scatter",
           "x": [
            90
           ],
           "y": [
            0
           ]
          }
         ],
         "traces": [
          1
         ]
        },
        {
         "data": [
          {
           "type": "scatter",
           "x": [
            105
           ],
           "y": [
            0
           ]
          }
         ],
         "traces": [
          1
         ]
        },
        {
         "data": [
          {
           "type": "scatter",
           "x": [
            120
           ],
           "y": [
            0
           ]
          }
         ],
         "traces": [
          1
         ]
        },
        {
         "data": [
          {
           "type": "scatter",
           "x": [
            135
           ],
           "y": [
            0
           ]
          }
         ],
         "traces": [
          1
         ]
        },
        {
         "data": [
          {
           "type": "scatter",
           "x": [
            150
           ],
           "y": [
            0
           ]
          }
         ],
         "traces": [
          1
         ]
        },
        {
         "data": [
          {
           "type": "scatter",
           "x": [
            150
           ],
           "y": [
            10.714285714285714
           ]
          }
         ],
         "traces": [
          1
         ]
        },
        {
         "data": [
          {
           "type": "scatter",
           "x": [
            135
           ],
           "y": [
            10.714285714285714
           ]
          }
         ],
         "traces": [
          1
         ]
        },
        {
         "data": [
          {
           "type": "scatter",
           "x": [
            120
           ],
           "y": [
            10.714285714285714
           ]
          }
         ],
         "traces": [
          1
         ]
        },
        {
         "data": [
          {
           "type": "scatter",
           "x": [
            105
           ],
           "y": [
            10.714285714285714
           ]
          }
         ],
         "traces": [
          1
         ]
        },
        {
         "data": [
          {
           "type": "scatter",
           "x": [
            90
           ],
           "y": [
            10.714285714285714
           ]
          }
         ],
         "traces": [
          1
         ]
        },
        {
         "data": [
          {
           "type": "scatter",
           "x": [
            75
           ],
           "y": [
            10.714285714285714
           ]
          }
         ],
         "traces": [
          1
         ]
        },
        {
         "data": [
          {
           "type": "scatter",
           "x": [
            60
           ],
           "y": [
            10.714285714285714
           ]
          }
         ],
         "traces": [
          1
         ]
        },
        {
         "data": [
          {
           "type": "scatter",
           "x": [
            45
           ],
           "y": [
            10.714285714285714
           ]
          }
         ],
         "traces": [
          1
         ]
        },
        {
         "data": [
          {
           "type": "scatter",
           "x": [
            30
           ],
           "y": [
            10.714285714285714
           ]
          }
         ],
         "traces": [
          1
         ]
        },
        {
         "data": [
          {
           "type": "scatter",
           "x": [
            15
           ],
           "y": [
            10.714285714285714
           ]
          }
         ],
         "traces": [
          1
         ]
        },
        {
         "data": [
          {
           "type": "scatter",
           "x": [
            0
           ],
           "y": [
            10.714285714285714
           ]
          }
         ],
         "traces": [
          1
         ]
        },
        {
         "data": [
          {
           "type": "scatter",
           "x": [
            0
           ],
           "y": [
            21.428571428571427
           ]
          }
         ],
         "traces": [
          1
         ]
        },
        {
         "data": [
          {
           "type": "scatter",
           "x": [
            15
           ],
           "y": [
            21.428571428571427
           ]
          }
         ],
         "traces": [
          1
         ]
        },
        {
         "data": [
          {
           "type": "scatter",
           "x": [
            30
           ],
           "y": [
            21.428571428571427
           ]
          }
         ],
         "traces": [
          1
         ]
        },
        {
         "data": [
          {
           "type": "scatter",
           "x": [
            45
           ],
           "y": [
            21.428571428571427
           ]
          }
         ],
         "traces": [
          1
         ]
        },
        {
         "data": [
          {
           "type": "scatter",
           "x": [
            60
           ],
           "y": [
            21.428571428571427
           ]
          }
         ],
         "traces": [
          1
         ]
        },
        {
         "data": [
          {
           "type": "scatter",
           "x": [
            75
           ],
           "y": [
            21.428571428571427
           ]
          }
         ],
         "traces": [
          1
         ]
        },
        {
         "data": [
          {
           "type": "scatter",
           "x": [
            90
           ],
           "y": [
            21.428571428571427
           ]
          }
         ],
         "traces": [
          1
         ]
        },
        {
         "data": [
          {
           "type": "scatter",
           "x": [
            105
           ],
           "y": [
            21.428571428571427
           ]
          }
         ],
         "traces": [
          1
         ]
        },
        {
         "data": [
          {
           "type": "scatter",
           "x": [
            120
           ],
           "y": [
            21.428571428571427
           ]
          }
         ],
         "traces": [
          1
         ]
        },
        {
         "data": [
          {
           "type": "scatter",
           "x": [
            135
           ],
           "y": [
            21.428571428571427
           ]
          }
         ],
         "traces": [
          1
         ]
        },
        {
         "data": [
          {
           "type": "scatter",
           "x": [
            150
           ],
           "y": [
            21.428571428571427
           ]
          }
         ],
         "traces": [
          1
         ]
        },
        {
         "data": [
          {
           "type": "scatter",
           "x": [
            150
           ],
           "y": [
            32.14285714285714
           ]
          }
         ],
         "traces": [
          1
         ]
        },
        {
         "data": [
          {
           "type": "scatter",
           "x": [
            135
           ],
           "y": [
            32.14285714285714
           ]
          }
         ],
         "traces": [
          1
         ]
        },
        {
         "data": [
          {
           "type": "scatter",
           "x": [
            120
           ],
           "y": [
            32.14285714285714
           ]
          }
         ],
         "traces": [
          1
         ]
        },
        {
         "data": [
          {
           "type": "scatter",
           "x": [
            105
           ],
           "y": [
            32.14285714285714
           ]
          }
         ],
         "traces": [
          1
         ]
        },
        {
         "data": [
          {
           "type": "scatter",
           "x": [
            90
           ],
           "y": [
            32.14285714285714
           ]
          }
         ],
         "traces": [
          1
         ]
        },
        {
         "data": [
          {
           "type": "scatter",
           "x": [
            75
           ],
           "y": [
            32.14285714285714
           ]
          }
         ],
         "traces": [
          1
         ]
        },
        {
         "data": [
          {
           "type": "scatter",
           "x": [
            60
           ],
           "y": [
            32.14285714285714
           ]
          }
         ],
         "traces": [
          1
         ]
        },
        {
         "data": [
          {
           "type": "scatter",
           "x": [
            45
           ],
           "y": [
            32.14285714285714
           ]
          }
         ],
         "traces": [
          1
         ]
        },
        {
         "data": [
          {
           "type": "scatter",
           "x": [
            30
           ],
           "y": [
            32.14285714285714
           ]
          }
         ],
         "traces": [
          1
         ]
        },
        {
         "data": [
          {
           "type": "scatter",
           "x": [
            15
           ],
           "y": [
            32.14285714285714
           ]
          }
         ],
         "traces": [
          1
         ]
        },
        {
         "data": [
          {
           "type": "scatter",
           "x": [
            0
           ],
           "y": [
            32.14285714285714
           ]
          }
         ],
         "traces": [
          1
         ]
        },
        {
         "data": [
          {
           "type": "scatter",
           "x": [
            0
           ],
           "y": [
            42.857142857142854
           ]
          }
         ],
         "traces": [
          1
         ]
        },
        {
         "data": [
          {
           "type": "scatter",
           "x": [
            15
           ],
           "y": [
            42.857142857142854
           ]
          }
         ],
         "traces": [
          1
         ]
        },
        {
         "data": [
          {
           "type": "scatter",
           "x": [
            30
           ],
           "y": [
            42.857142857142854
           ]
          }
         ],
         "traces": [
          1
         ]
        },
        {
         "data": [
          {
           "type": "scatter",
           "x": [
            45
           ],
           "y": [
            42.857142857142854
           ]
          }
         ],
         "traces": [
          1
         ]
        },
        {
         "data": [
          {
           "type": "scatter",
           "x": [
            60
           ],
           "y": [
            42.857142857142854
           ]
          }
         ],
         "traces": [
          1
         ]
        },
        {
         "data": [
          {
           "type": "scatter",
           "x": [
            75
           ],
           "y": [
            42.857142857142854
           ]
          }
         ],
         "traces": [
          1
         ]
        },
        {
         "data": [
          {
           "type": "scatter",
           "x": [
            90
           ],
           "y": [
            42.857142857142854
           ]
          }
         ],
         "traces": [
          1
         ]
        },
        {
         "data": [
          {
           "type": "scatter",
           "x": [
            105
           ],
           "y": [
            42.857142857142854
           ]
          }
         ],
         "traces": [
          1
         ]
        },
        {
         "data": [
          {
           "type": "scatter",
           "x": [
            120
           ],
           "y": [
            42.857142857142854
           ]
          }
         ],
         "traces": [
          1
         ]
        },
        {
         "data": [
          {
           "type": "scatter",
           "x": [
            135
           ],
           "y": [
            42.857142857142854
           ]
          }
         ],
         "traces": [
          1
         ]
        },
        {
         "data": [
          {
           "type": "scatter",
           "x": [
            150
           ],
           "y": [
            42.857142857142854
           ]
          }
         ],
         "traces": [
          1
         ]
        },
        {
         "data": [
          {
           "type": "scatter",
           "x": [
            150
           ],
           "y": [
            53.57142857142857
           ]
          }
         ],
         "traces": [
          1
         ]
        },
        {
         "data": [
          {
           "type": "scatter",
           "x": [
            135
           ],
           "y": [
            53.57142857142857
           ]
          }
         ],
         "traces": [
          1
         ]
        },
        {
         "data": [
          {
           "type": "scatter",
           "x": [
            120
           ],
           "y": [
            53.57142857142857
           ]
          }
         ],
         "traces": [
          1
         ]
        },
        {
         "data": [
          {
           "type": "scatter",
           "x": [
            105
           ],
           "y": [
            53.57142857142857
           ]
          }
         ],
         "traces": [
          1
         ]
        },
        {
         "data": [
          {
           "type": "scatter",
           "x": [
            90
           ],
           "y": [
            53.57142857142857
           ]
          }
         ],
         "traces": [
          1
         ]
        },
        {
         "data": [
          {
           "type": "scatter",
           "x": [
            75
           ],
           "y": [
            53.57142857142857
           ]
          }
         ],
         "traces": [
          1
         ]
        },
        {
         "data": [
          {
           "type": "scatter",
           "x": [
            60
           ],
           "y": [
            53.57142857142857
           ]
          }
         ],
         "traces": [
          1
         ]
        },
        {
         "data": [
          {
           "type": "scatter",
           "x": [
            45
           ],
           "y": [
            53.57142857142857
           ]
          }
         ],
         "traces": [
          1
         ]
        },
        {
         "data": [
          {
           "type": "scatter",
           "x": [
            30
           ],
           "y": [
            53.57142857142857
           ]
          }
         ],
         "traces": [
          1
         ]
        },
        {
         "data": [
          {
           "type": "scatter",
           "x": [
            15
           ],
           "y": [
            53.57142857142857
           ]
          }
         ],
         "traces": [
          1
         ]
        },
        {
         "data": [
          {
           "type": "scatter",
           "x": [
            0
           ],
           "y": [
            53.57142857142857
           ]
          }
         ],
         "traces": [
          1
         ]
        },
        {
         "data": [
          {
           "type": "scatter",
           "x": [
            0
           ],
           "y": [
            64.28571428571428
           ]
          }
         ],
         "traces": [
          1
         ]
        },
        {
         "data": [
          {
           "type": "scatter",
           "x": [
            15
           ],
           "y": [
            64.28571428571428
           ]
          }
         ],
         "traces": [
          1
         ]
        },
        {
         "data": [
          {
           "type": "scatter",
           "x": [
            30
           ],
           "y": [
            64.28571428571428
           ]
          }
         ],
         "traces": [
          1
         ]
        },
        {
         "data": [
          {
           "type": "scatter",
           "x": [
            45
           ],
           "y": [
            64.28571428571428
           ]
          }
         ],
         "traces": [
          1
         ]
        },
        {
         "data": [
          {
           "type": "scatter",
           "x": [
            60
           ],
           "y": [
            64.28571428571428
           ]
          }
         ],
         "traces": [
          1
         ]
        },
        {
         "data": [
          {
           "type": "scatter",
           "x": [
            75
           ],
           "y": [
            64.28571428571428
           ]
          }
         ],
         "traces": [
          1
         ]
        },
        {
         "data": [
          {
           "type": "scatter",
           "x": [
            90
           ],
           "y": [
            64.28571428571428
           ]
          }
         ],
         "traces": [
          1
         ]
        },
        {
         "data": [
          {
           "type": "scatter",
           "x": [
            105
           ],
           "y": [
            64.28571428571428
           ]
          }
         ],
         "traces": [
          1
         ]
        },
        {
         "data": [
          {
           "type": "scatter",
           "x": [
            120
           ],
           "y": [
            64.28571428571428
           ]
          }
         ],
         "traces": [
          1
         ]
        },
        {
         "data": [
          {
           "type": "scatter",
           "x": [
            135
           ],
           "y": [
            64.28571428571428
           ]
          }
         ],
         "traces": [
          1
         ]
        },
        {
         "data": [
          {
           "type": "scatter",
           "x": [
            150
           ],
           "y": [
            64.28571428571428
           ]
          }
         ],
         "traces": [
          1
         ]
        },
        {
         "data": [
          {
           "type": "scatter",
           "x": [
            150
           ],
           "y": [
            75
           ]
          }
         ],
         "traces": [
          1
         ]
        },
        {
         "data": [
          {
           "type": "scatter",
           "x": [
            135
           ],
           "y": [
            75
           ]
          }
         ],
         "traces": [
          1
         ]
        },
        {
         "data": [
          {
           "type": "scatter",
           "x": [
            120
           ],
           "y": [
            75
           ]
          }
         ],
         "traces": [
          1
         ]
        },
        {
         "data": [
          {
           "type": "scatter",
           "x": [
            105
           ],
           "y": [
            75
           ]
          }
         ],
         "traces": [
          1
         ]
        },
        {
         "data": [
          {
           "type": "scatter",
           "x": [
            90
           ],
           "y": [
            75
           ]
          }
         ],
         "traces": [
          1
         ]
        },
        {
         "data": [
          {
           "type": "scatter",
           "x": [
            75
           ],
           "y": [
            75
           ]
          }
         ],
         "traces": [
          1
         ]
        },
        {
         "data": [
          {
           "type": "scatter",
           "x": [
            60
           ],
           "y": [
            75
           ]
          }
         ],
         "traces": [
          1
         ]
        },
        {
         "data": [
          {
           "type": "scatter",
           "x": [
            45
           ],
           "y": [
            75
           ]
          }
         ],
         "traces": [
          1
         ]
        },
        {
         "data": [
          {
           "type": "scatter",
           "x": [
            30
           ],
           "y": [
            75
           ]
          }
         ],
         "traces": [
          1
         ]
        },
        {
         "data": [
          {
           "type": "scatter",
           "x": [
            15
           ],
           "y": [
            75
           ]
          }
         ],
         "traces": [
          1
         ]
        },
        {
         "data": [
          {
           "type": "scatter",
           "x": [
            0
           ],
           "y": [
            75
           ]
          }
         ],
         "traces": [
          1
         ]
        },
        {
         "data": [
          {
           "type": "scatter",
           "x": [
            0
           ],
           "y": [
            85.71428571428571
           ]
          }
         ],
         "traces": [
          1
         ]
        },
        {
         "data": [
          {
           "type": "scatter",
           "x": [
            15
           ],
           "y": [
            85.71428571428571
           ]
          }
         ],
         "traces": [
          1
         ]
        },
        {
         "data": [
          {
           "type": "scatter",
           "x": [
            30
           ],
           "y": [
            85.71428571428571
           ]
          }
         ],
         "traces": [
          1
         ]
        },
        {
         "data": [
          {
           "type": "scatter",
           "x": [
            45
           ],
           "y": [
            85.71428571428571
           ]
          }
         ],
         "traces": [
          1
         ]
        },
        {
         "data": [
          {
           "type": "scatter",
           "x": [
            60
           ],
           "y": [
            85.71428571428571
           ]
          }
         ],
         "traces": [
          1
         ]
        },
        {
         "data": [
          {
           "type": "scatter",
           "x": [
            75
           ],
           "y": [
            85.71428571428571
           ]
          }
         ],
         "traces": [
          1
         ]
        },
        {
         "data": [
          {
           "type": "scatter",
           "x": [
            90
           ],
           "y": [
            85.71428571428571
           ]
          }
         ],
         "traces": [
          1
         ]
        },
        {
         "data": [
          {
           "type": "scatter",
           "x": [
            105
           ],
           "y": [
            85.71428571428571
           ]
          }
         ],
         "traces": [
          1
         ]
        },
        {
         "data": [
          {
           "type": "scatter",
           "x": [
            120
           ],
           "y": [
            85.71428571428571
           ]
          }
         ],
         "traces": [
          1
         ]
        },
        {
         "data": [
          {
           "type": "scatter",
           "x": [
            135
           ],
           "y": [
            85.71428571428571
           ]
          }
         ],
         "traces": [
          1
         ]
        },
        {
         "data": [
          {
           "type": "scatter",
           "x": [
            150
           ],
           "y": [
            85.71428571428571
           ]
          }
         ],
         "traces": [
          1
         ]
        },
        {
         "data": [
          {
           "type": "scatter",
           "x": [
            150
           ],
           "y": [
            96.42857142857142
           ]
          }
         ],
         "traces": [
          1
         ]
        },
        {
         "data": [
          {
           "type": "scatter",
           "x": [
            135
           ],
           "y": [
            96.42857142857142
           ]
          }
         ],
         "traces": [
          1
         ]
        },
        {
         "data": [
          {
           "type": "scatter",
           "x": [
            120
           ],
           "y": [
            96.42857142857142
           ]
          }
         ],
         "traces": [
          1
         ]
        },
        {
         "data": [
          {
           "type": "scatter",
           "x": [
            105
           ],
           "y": [
            96.42857142857142
           ]
          }
         ],
         "traces": [
          1
         ]
        },
        {
         "data": [
          {
           "type": "scatter",
           "x": [
            90
           ],
           "y": [
            96.42857142857142
           ]
          }
         ],
         "traces": [
          1
         ]
        },
        {
         "data": [
          {
           "type": "scatter",
           "x": [
            75
           ],
           "y": [
            96.42857142857142
           ]
          }
         ],
         "traces": [
          1
         ]
        },
        {
         "data": [
          {
           "type": "scatter",
           "x": [
            60
           ],
           "y": [
            96.42857142857142
           ]
          }
         ],
         "traces": [
          1
         ]
        },
        {
         "data": [
          {
           "type": "scatter",
           "x": [
            45
           ],
           "y": [
            96.42857142857142
           ]
          }
         ],
         "traces": [
          1
         ]
        },
        {
         "data": [
          {
           "type": "scatter",
           "x": [
            30
           ],
           "y": [
            96.42857142857142
           ]
          }
         ],
         "traces": [
          1
         ]
        },
        {
         "data": [
          {
           "type": "scatter",
           "x": [
            15
           ],
           "y": [
            96.42857142857142
           ]
          }
         ],
         "traces": [
          1
         ]
        },
        {
         "data": [
          {
           "type": "scatter",
           "x": [
            0
           ],
           "y": [
            96.42857142857142
           ]
          }
         ],
         "traces": [
          1
         ]
        },
        {
         "data": [
          {
           "type": "scatter",
           "x": [
            0
           ],
           "y": [
            107.14285714285714
           ]
          }
         ],
         "traces": [
          1
         ]
        },
        {
         "data": [
          {
           "type": "scatter",
           "x": [
            15
           ],
           "y": [
            107.14285714285714
           ]
          }
         ],
         "traces": [
          1
         ]
        },
        {
         "data": [
          {
           "type": "scatter",
           "x": [
            30
           ],
           "y": [
            107.14285714285714
           ]
          }
         ],
         "traces": [
          1
         ]
        },
        {
         "data": [
          {
           "type": "scatter",
           "x": [
            45
           ],
           "y": [
            107.14285714285714
           ]
          }
         ],
         "traces": [
          1
         ]
        },
        {
         "data": [
          {
           "type": "scatter",
           "x": [
            60
           ],
           "y": [
            107.14285714285714
           ]
          }
         ],
         "traces": [
          1
         ]
        },
        {
         "data": [
          {
           "type": "scatter",
           "x": [
            75
           ],
           "y": [
            107.14285714285714
           ]
          }
         ],
         "traces": [
          1
         ]
        },
        {
         "data": [
          {
           "type": "scatter",
           "x": [
            90
           ],
           "y": [
            107.14285714285714
           ]
          }
         ],
         "traces": [
          1
         ]
        },
        {
         "data": [
          {
           "type": "scatter",
           "x": [
            105
           ],
           "y": [
            107.14285714285714
           ]
          }
         ],
         "traces": [
          1
         ]
        },
        {
         "data": [
          {
           "type": "scatter",
           "x": [
            120
           ],
           "y": [
            107.14285714285714
           ]
          }
         ],
         "traces": [
          1
         ]
        },
        {
         "data": [
          {
           "type": "scatter",
           "x": [
            135
           ],
           "y": [
            107.14285714285714
           ]
          }
         ],
         "traces": [
          1
         ]
        },
        {
         "data": [
          {
           "type": "scatter",
           "x": [
            150
           ],
           "y": [
            107.14285714285714
           ]
          }
         ],
         "traces": [
          1
         ]
        },
        {
         "data": [
          {
           "type": "scatter",
           "x": [
            150
           ],
           "y": [
            117.85714285714285
           ]
          }
         ],
         "traces": [
          1
         ]
        },
        {
         "data": [
          {
           "type": "scatter",
           "x": [
            135
           ],
           "y": [
            117.85714285714285
           ]
          }
         ],
         "traces": [
          1
         ]
        },
        {
         "data": [
          {
           "type": "scatter",
           "x": [
            120
           ],
           "y": [
            117.85714285714285
           ]
          }
         ],
         "traces": [
          1
         ]
        },
        {
         "data": [
          {
           "type": "scatter",
           "x": [
            105
           ],
           "y": [
            117.85714285714285
           ]
          }
         ],
         "traces": [
          1
         ]
        },
        {
         "data": [
          {
           "type": "scatter",
           "x": [
            90
           ],
           "y": [
            117.85714285714285
           ]
          }
         ],
         "traces": [
          1
         ]
        },
        {
         "data": [
          {
           "type": "scatter",
           "x": [
            75
           ],
           "y": [
            117.85714285714285
           ]
          }
         ],
         "traces": [
          1
         ]
        },
        {
         "data": [
          {
           "type": "scatter",
           "x": [
            60
           ],
           "y": [
            117.85714285714285
           ]
          }
         ],
         "traces": [
          1
         ]
        },
        {
         "data": [
          {
           "type": "scatter",
           "x": [
            45
           ],
           "y": [
            117.85714285714285
           ]
          }
         ],
         "traces": [
          1
         ]
        },
        {
         "data": [
          {
           "type": "scatter",
           "x": [
            30
           ],
           "y": [
            117.85714285714285
           ]
          }
         ],
         "traces": [
          1
         ]
        },
        {
         "data": [
          {
           "type": "scatter",
           "x": [
            15
           ],
           "y": [
            117.85714285714285
           ]
          }
         ],
         "traces": [
          1
         ]
        },
        {
         "data": [
          {
           "type": "scatter",
           "x": [
            0
           ],
           "y": [
            117.85714285714285
           ]
          }
         ],
         "traces": [
          1
         ]
        },
        {
         "data": [
          {
           "type": "scatter",
           "x": [
            0
           ],
           "y": [
            128.57142857142856
           ]
          }
         ],
         "traces": [
          1
         ]
        },
        {
         "data": [
          {
           "type": "scatter",
           "x": [
            15
           ],
           "y": [
            128.57142857142856
           ]
          }
         ],
         "traces": [
          1
         ]
        },
        {
         "data": [
          {
           "type": "scatter",
           "x": [
            30
           ],
           "y": [
            128.57142857142856
           ]
          }
         ],
         "traces": [
          1
         ]
        },
        {
         "data": [
          {
           "type": "scatter",
           "x": [
            45
           ],
           "y": [
            128.57142857142856
           ]
          }
         ],
         "traces": [
          1
         ]
        },
        {
         "data": [
          {
           "type": "scatter",
           "x": [
            60
           ],
           "y": [
            128.57142857142856
           ]
          }
         ],
         "traces": [
          1
         ]
        },
        {
         "data": [
          {
           "type": "scatter",
           "x": [
            75
           ],
           "y": [
            128.57142857142856
           ]
          }
         ],
         "traces": [
          1
         ]
        },
        {
         "data": [
          {
           "type": "scatter",
           "x": [
            90
           ],
           "y": [
            128.57142857142856
           ]
          }
         ],
         "traces": [
          1
         ]
        },
        {
         "data": [
          {
           "type": "scatter",
           "x": [
            105
           ],
           "y": [
            128.57142857142856
           ]
          }
         ],
         "traces": [
          1
         ]
        },
        {
         "data": [
          {
           "type": "scatter",
           "x": [
            120
           ],
           "y": [
            128.57142857142856
           ]
          }
         ],
         "traces": [
          1
         ]
        },
        {
         "data": [
          {
           "type": "scatter",
           "x": [
            135
           ],
           "y": [
            128.57142857142856
           ]
          }
         ],
         "traces": [
          1
         ]
        },
        {
         "data": [
          {
           "type": "scatter",
           "x": [
            150
           ],
           "y": [
            128.57142857142856
           ]
          }
         ],
         "traces": [
          1
         ]
        },
        {
         "data": [
          {
           "type": "scatter",
           "x": [
            150
           ],
           "y": [
            139.28571428571428
           ]
          }
         ],
         "traces": [
          1
         ]
        },
        {
         "data": [
          {
           "type": "scatter",
           "x": [
            135
           ],
           "y": [
            139.28571428571428
           ]
          }
         ],
         "traces": [
          1
         ]
        },
        {
         "data": [
          {
           "type": "scatter",
           "x": [
            120
           ],
           "y": [
            139.28571428571428
           ]
          }
         ],
         "traces": [
          1
         ]
        },
        {
         "data": [
          {
           "type": "scatter",
           "x": [
            105
           ],
           "y": [
            139.28571428571428
           ]
          }
         ],
         "traces": [
          1
         ]
        },
        {
         "data": [
          {
           "type": "scatter",
           "x": [
            90
           ],
           "y": [
            139.28571428571428
           ]
          }
         ],
         "traces": [
          1
         ]
        },
        {
         "data": [
          {
           "type": "scatter",
           "x": [
            75
           ],
           "y": [
            139.28571428571428
           ]
          }
         ],
         "traces": [
          1
         ]
        },
        {
         "data": [
          {
           "type": "scatter",
           "x": [
            60
           ],
           "y": [
            139.28571428571428
           ]
          }
         ],
         "traces": [
          1
         ]
        },
        {
         "data": [
          {
           "type": "scatter",
           "x": [
            45
           ],
           "y": [
            139.28571428571428
           ]
          }
         ],
         "traces": [
          1
         ]
        },
        {
         "data": [
          {
           "type": "scatter",
           "x": [
            30
           ],
           "y": [
            139.28571428571428
           ]
          }
         ],
         "traces": [
          1
         ]
        },
        {
         "data": [
          {
           "type": "scatter",
           "x": [
            15
           ],
           "y": [
            139.28571428571428
           ]
          }
         ],
         "traces": [
          1
         ]
        },
        {
         "data": [
          {
           "type": "scatter",
           "x": [
            0
           ],
           "y": [
            139.28571428571428
           ]
          }
         ],
         "traces": [
          1
         ]
        },
        {
         "data": [
          {
           "type": "scatter",
           "x": [
            0
           ],
           "y": [
            150
           ]
          }
         ],
         "traces": [
          1
         ]
        },
        {
         "data": [
          {
           "type": "scatter",
           "x": [
            15
           ],
           "y": [
            150
           ]
          }
         ],
         "traces": [
          1
         ]
        },
        {
         "data": [
          {
           "type": "scatter",
           "x": [
            30
           ],
           "y": [
            150
           ]
          }
         ],
         "traces": [
          1
         ]
        },
        {
         "data": [
          {
           "type": "scatter",
           "x": [
            45
           ],
           "y": [
            150
           ]
          }
         ],
         "traces": [
          1
         ]
        },
        {
         "data": [
          {
           "type": "scatter",
           "x": [
            60
           ],
           "y": [
            150
           ]
          }
         ],
         "traces": [
          1
         ]
        },
        {
         "data": [
          {
           "type": "scatter",
           "x": [
            75
           ],
           "y": [
            150
           ]
          }
         ],
         "traces": [
          1
         ]
        },
        {
         "data": [
          {
           "type": "scatter",
           "x": [
            90
           ],
           "y": [
            150
           ]
          }
         ],
         "traces": [
          1
         ]
        },
        {
         "data": [
          {
           "type": "scatter",
           "x": [
            105
           ],
           "y": [
            150
           ]
          }
         ],
         "traces": [
          1
         ]
        },
        {
         "data": [
          {
           "type": "scatter",
           "x": [
            120
           ],
           "y": [
            150
           ]
          }
         ],
         "traces": [
          1
         ]
        },
        {
         "data": [
          {
           "type": "scatter",
           "x": [
            135
           ],
           "y": [
            150
           ]
          }
         ],
         "traces": [
          1
         ]
        },
        {
         "data": [
          {
           "type": "scatter",
           "x": [
            150
           ],
           "y": [
            150
           ]
          }
         ],
         "traces": [
          1
         ]
        }
       ],
       "layout": {
        "margin": {
         "b": 50,
         "l": 50,
         "r": 50,
         "t": 50
        },
        "template": {
         "data": {
          "bar": [
           {
            "error_x": {
             "color": "#2a3f5f"
            },
            "error_y": {
             "color": "#2a3f5f"
            },
            "marker": {
             "line": {
              "color": "#E5ECF6",
              "width": 0.5
             },
             "pattern": {
              "fillmode": "overlay",
              "size": 10,
              "solidity": 0.2
             }
            },
            "type": "bar"
           }
          ],
          "barpolar": [
           {
            "marker": {
             "line": {
              "color": "#E5ECF6",
              "width": 0.5
             },
             "pattern": {
              "fillmode": "overlay",
              "size": 10,
              "solidity": 0.2
             }
            },
            "type": "barpolar"
           }
          ],
          "carpet": [
           {
            "aaxis": {
             "endlinecolor": "#2a3f5f",
             "gridcolor": "white",
             "linecolor": "white",
             "minorgridcolor": "white",
             "startlinecolor": "#2a3f5f"
            },
            "baxis": {
             "endlinecolor": "#2a3f5f",
             "gridcolor": "white",
             "linecolor": "white",
             "minorgridcolor": "white",
             "startlinecolor": "#2a3f5f"
            },
            "type": "carpet"
           }
          ],
          "choropleth": [
           {
            "colorbar": {
             "outlinewidth": 0,
             "ticks": ""
            },
            "type": "choropleth"
           }
          ],
          "contour": [
           {
            "colorbar": {
             "outlinewidth": 0,
             "ticks": ""
            },
            "colorscale": [
             [
              0,
              "#0d0887"
             ],
             [
              0.1111111111111111,
              "#46039f"
             ],
             [
              0.2222222222222222,
              "#7201a8"
             ],
             [
              0.3333333333333333,
              "#9c179e"
             ],
             [
              0.4444444444444444,
              "#bd3786"
             ],
             [
              0.5555555555555556,
              "#d8576b"
             ],
             [
              0.6666666666666666,
              "#ed7953"
             ],
             [
              0.7777777777777778,
              "#fb9f3a"
             ],
             [
              0.8888888888888888,
              "#fdca26"
             ],
             [
              1,
              "#f0f921"
             ]
            ],
            "type": "contour"
           }
          ],
          "contourcarpet": [
           {
            "colorbar": {
             "outlinewidth": 0,
             "ticks": ""
            },
            "type": "contourcarpet"
           }
          ],
          "heatmap": [
           {
            "colorbar": {
             "outlinewidth": 0,
             "ticks": ""
            },
            "colorscale": [
             [
              0,
              "#0d0887"
             ],
             [
              0.1111111111111111,
              "#46039f"
             ],
             [
              0.2222222222222222,
              "#7201a8"
             ],
             [
              0.3333333333333333,
              "#9c179e"
             ],
             [
              0.4444444444444444,
              "#bd3786"
             ],
             [
              0.5555555555555556,
              "#d8576b"
             ],
             [
              0.6666666666666666,
              "#ed7953"
             ],
             [
              0.7777777777777778,
              "#fb9f3a"
             ],
             [
              0.8888888888888888,
              "#fdca26"
             ],
             [
              1,
              "#f0f921"
             ]
            ],
            "type": "heatmap"
           }
          ],
          "heatmapgl": [
           {
            "colorbar": {
             "outlinewidth": 0,
             "ticks": ""
            },
            "colorscale": [
             [
              0,
              "#0d0887"
             ],
             [
              0.1111111111111111,
              "#46039f"
             ],
             [
              0.2222222222222222,
              "#7201a8"
             ],
             [
              0.3333333333333333,
              "#9c179e"
             ],
             [
              0.4444444444444444,
              "#bd3786"
             ],
             [
              0.5555555555555556,
              "#d8576b"
             ],
             [
              0.6666666666666666,
              "#ed7953"
             ],
             [
              0.7777777777777778,
              "#fb9f3a"
             ],
             [
              0.8888888888888888,
              "#fdca26"
             ],
             [
              1,
              "#f0f921"
             ]
            ],
            "type": "heatmapgl"
           }
          ],
          "histogram": [
           {
            "marker": {
             "pattern": {
              "fillmode": "overlay",
              "size": 10,
              "solidity": 0.2
             }
            },
            "type": "histogram"
           }
          ],
          "histogram2d": [
           {
            "colorbar": {
             "outlinewidth": 0,
             "ticks": ""
            },
            "colorscale": [
             [
              0,
              "#0d0887"
             ],
             [
              0.1111111111111111,
              "#46039f"
             ],
             [
              0.2222222222222222,
              "#7201a8"
             ],
             [
              0.3333333333333333,
              "#9c179e"
             ],
             [
              0.4444444444444444,
              "#bd3786"
             ],
             [
              0.5555555555555556,
              "#d8576b"
             ],
             [
              0.6666666666666666,
              "#ed7953"
             ],
             [
              0.7777777777777778,
              "#fb9f3a"
             ],
             [
              0.8888888888888888,
              "#fdca26"
             ],
             [
              1,
              "#f0f921"
             ]
            ],
            "type": "histogram2d"
           }
          ],
          "histogram2dcontour": [
           {
            "colorbar": {
             "outlinewidth": 0,
             "ticks": ""
            },
            "colorscale": [
             [
              0,
              "#0d0887"
             ],
             [
              0.1111111111111111,
              "#46039f"
             ],
             [
              0.2222222222222222,
              "#7201a8"
             ],
             [
              0.3333333333333333,
              "#9c179e"
             ],
             [
              0.4444444444444444,
              "#bd3786"
             ],
             [
              0.5555555555555556,
              "#d8576b"
             ],
             [
              0.6666666666666666,
              "#ed7953"
             ],
             [
              0.7777777777777778,
              "#fb9f3a"
             ],
             [
              0.8888888888888888,
              "#fdca26"
             ],
             [
              1,
              "#f0f921"
             ]
            ],
            "type": "histogram2dcontour"
           }
          ],
          "mesh3d": [
           {
            "colorbar": {
             "outlinewidth": 0,
             "ticks": ""
            },
            "type": "mesh3d"
           }
          ],
          "parcoords": [
           {
            "line": {
             "colorbar": {
              "outlinewidth": 0,
              "ticks": ""
             }
            },
            "type": "parcoords"
           }
          ],
          "pie": [
           {
            "automargin": true,
            "type": "pie"
           }
          ],
          "scatter": [
           {
            "fillpattern": {
             "fillmode": "overlay",
             "size": 10,
             "solidity": 0.2
            },
            "type": "scatter"
           }
          ],
          "scatter3d": [
           {
            "line": {
             "colorbar": {
              "outlinewidth": 0,
              "ticks": ""
             }
            },
            "marker": {
             "colorbar": {
              "outlinewidth": 0,
              "ticks": ""
             }
            },
            "type": "scatter3d"
           }
          ],
          "scattercarpet": [
           {
            "marker": {
             "colorbar": {
              "outlinewidth": 0,
              "ticks": ""
             }
            },
            "type": "scattercarpet"
           }
          ],
          "scattergeo": [
           {
            "marker": {
             "colorbar": {
              "outlinewidth": 0,
              "ticks": ""
             }
            },
            "type": "scattergeo"
           }
          ],
          "scattergl": [
           {
            "marker": {
             "colorbar": {
              "outlinewidth": 0,
              "ticks": ""
             }
            },
            "type": "scattergl"
           }
          ],
          "scattermapbox": [
           {
            "marker": {
             "colorbar": {
              "outlinewidth": 0,
              "ticks": ""
             }
            },
            "type": "scattermapbox"
           }
          ],
          "scatterpolar": [
           {
            "marker": {
             "colorbar": {
              "outlinewidth": 0,
              "ticks": ""
             }
            },
            "type": "scatterpolar"
           }
          ],
          "scatterpolargl": [
           {
            "marker": {
             "colorbar": {
              "outlinewidth": 0,
              "ticks": ""
             }
            },
            "type": "scatterpolargl"
           }
          ],
          "scatterternary": [
           {
            "marker": {
             "colorbar": {
              "outlinewidth": 0,
              "ticks": ""
             }
            },
            "type": "scatterternary"
           }
          ],
          "surface": [
           {
            "colorbar": {
             "outlinewidth": 0,
             "ticks": ""
            },
            "colorscale": [
             [
              0,
              "#0d0887"
             ],
             [
              0.1111111111111111,
              "#46039f"
             ],
             [
              0.2222222222222222,
              "#7201a8"
             ],
             [
              0.3333333333333333,
              "#9c179e"
             ],
             [
              0.4444444444444444,
              "#bd3786"
             ],
             [
              0.5555555555555556,
              "#d8576b"
             ],
             [
              0.6666666666666666,
              "#ed7953"
             ],
             [
              0.7777777777777778,
              "#fb9f3a"
             ],
             [
              0.8888888888888888,
              "#fdca26"
             ],
             [
              1,
              "#f0f921"
             ]
            ],
            "type": "surface"
           }
          ],
          "table": [
           {
            "cells": {
             "fill": {
              "color": "#EBF0F8"
             },
             "line": {
              "color": "white"
             }
            },
            "header": {
             "fill": {
              "color": "#C8D4E3"
             },
             "line": {
              "color": "white"
             }
            },
            "type": "table"
           }
          ]
         },
         "layout": {
          "annotationdefaults": {
           "arrowcolor": "#2a3f5f",
           "arrowhead": 0,
           "arrowwidth": 1
          },
          "autotypenumbers": "strict",
          "coloraxis": {
           "colorbar": {
            "outlinewidth": 0,
            "ticks": ""
           }
          },
          "colorscale": {
           "diverging": [
            [
             0,
             "#8e0152"
            ],
            [
             0.1,
             "#c51b7d"
            ],
            [
             0.2,
             "#de77ae"
            ],
            [
             0.3,
             "#f1b6da"
            ],
            [
             0.4,
             "#fde0ef"
            ],
            [
             0.5,
             "#f7f7f7"
            ],
            [
             0.6,
             "#e6f5d0"
            ],
            [
             0.7,
             "#b8e186"
            ],
            [
             0.8,
             "#7fbc41"
            ],
            [
             0.9,
             "#4d9221"
            ],
            [
             1,
             "#276419"
            ]
           ],
           "sequential": [
            [
             0,
             "#0d0887"
            ],
            [
             0.1111111111111111,
             "#46039f"
            ],
            [
             0.2222222222222222,
             "#7201a8"
            ],
            [
             0.3333333333333333,
             "#9c179e"
            ],
            [
             0.4444444444444444,
             "#bd3786"
            ],
            [
             0.5555555555555556,
             "#d8576b"
            ],
            [
             0.6666666666666666,
             "#ed7953"
            ],
            [
             0.7777777777777778,
             "#fb9f3a"
            ],
            [
             0.8888888888888888,
             "#fdca26"
            ],
            [
             1,
             "#f0f921"
            ]
           ],
           "sequentialminus": [
            [
             0,
             "#0d0887"
            ],
            [
             0.1111111111111111,
             "#46039f"
            ],
            [
             0.2222222222222222,
             "#7201a8"
            ],
            [
             0.3333333333333333,
             "#9c179e"
            ],
            [
             0.4444444444444444,
             "#bd3786"
            ],
            [
             0.5555555555555556,
             "#d8576b"
            ],
            [
             0.6666666666666666,
             "#ed7953"
            ],
            [
             0.7777777777777778,
             "#fb9f3a"
            ],
            [
             0.8888888888888888,
             "#fdca26"
            ],
            [
             1,
             "#f0f921"
            ]
           ]
          },
          "colorway": [
           "#636efa",
           "#EF553B",
           "#00cc96",
           "#ab63fa",
           "#FFA15A",
           "#19d3f3",
           "#FF6692",
           "#B6E880",
           "#FF97FF",
           "#FECB52"
          ],
          "font": {
           "color": "#2a3f5f"
          },
          "geo": {
           "bgcolor": "white",
           "lakecolor": "white",
           "landcolor": "#E5ECF6",
           "showlakes": true,
           "showland": true,
           "subunitcolor": "white"
          },
          "hoverlabel": {
           "align": "left"
          },
          "hovermode": "closest",
          "mapbox": {
           "style": "light"
          },
          "paper_bgcolor": "white",
          "plot_bgcolor": "#E5ECF6",
          "polar": {
           "angularaxis": {
            "gridcolor": "white",
            "linecolor": "white",
            "ticks": ""
           },
           "bgcolor": "#E5ECF6",
           "radialaxis": {
            "gridcolor": "white",
            "linecolor": "white",
            "ticks": ""
           }
          },
          "scene": {
           "xaxis": {
            "backgroundcolor": "#E5ECF6",
            "gridcolor": "white",
            "gridwidth": 2,
            "linecolor": "white",
            "showbackground": true,
            "ticks": "",
            "zerolinecolor": "white"
           },
           "yaxis": {
            "backgroundcolor": "#E5ECF6",
            "gridcolor": "white",
            "gridwidth": 2,
            "linecolor": "white",
            "showbackground": true,
            "ticks": "",
            "zerolinecolor": "white"
           },
           "zaxis": {
            "backgroundcolor": "#E5ECF6",
            "gridcolor": "white",
            "gridwidth": 2,
            "linecolor": "white",
            "showbackground": true,
            "ticks": "",
            "zerolinecolor": "white"
           }
          },
          "shapedefaults": {
           "line": {
            "color": "#2a3f5f"
           }
          },
          "ternary": {
           "aaxis": {
            "gridcolor": "white",
            "linecolor": "white",
            "ticks": ""
           },
           "baxis": {
            "gridcolor": "white",
            "linecolor": "white",
            "ticks": ""
           },
           "bgcolor": "#E5ECF6",
           "caxis": {
            "gridcolor": "white",
            "linecolor": "white",
            "ticks": ""
           }
          },
          "title": {
           "x": 0.05
          },
          "xaxis": {
           "automargin": true,
           "gridcolor": "white",
           "linecolor": "white",
           "ticks": "",
           "title": {
            "standoff": 15
           },
           "zerolinecolor": "white",
           "zerolinewidth": 2
          },
          "yaxis": {
           "automargin": true,
           "gridcolor": "white",
           "linecolor": "white",
           "ticks": "",
           "title": {
            "standoff": 15
           },
           "zerolinecolor": "white",
           "zerolinewidth": 2
          }
         }
        },
        "title": {
         "text": "Drone Flight Plan",
         "x": 0.5
        },
        "updatemenus": [
         {
          "buttons": [
           {
            "args": [
             null,
             {
              "frame": {
               "duration": 1000,
               "redraw": false
              },
              "fromcurrent": true,
              "transition": {
               "duration": 1000
              }
             }
            ],
            "label": "Play",
            "method": "animate"
           }
          ],
          "type": "buttons"
         }
        ],
        "xaxis": {
         "autorange": true,
         "range": [
          0,
          150
         ],
         "zeroline": false
        },
        "yaxis": {
         "autorange": true,
         "range": [
          0,
          150
         ],
         "zeroline": false
        }
       }
      }
     },
     "metadata": {},
     "output_type": "display_data"
    }
   ],
   "source": [
    "fig = plot_photo_plan(computed_plan)\n",
    "fig.show()"
   ]
  },
  {
   "cell_type": "markdown",
   "id": "74ff5833-f107-4332-974c-b9294e02a1da",
   "metadata": {},
   "source": [
    "$\\color{red}{\\text{TODO: }}$ Compute the following ablations (and any other you can think of). \n",
    "You need to describe the input params you are changing, what impact you can observe, explanation behind the change in output, and practical implication of the correlation.\n",
    "\n",
    "1. Change overlap and confirm it affects the consecutive images\n",
    "2. Change sidelap and confirm it does not affect the consecutive images\n",
    "3. Change the height of the scan and document the affect on scan plans\n",
    "4. Change exposure time"
   ]
  },
  {
   "cell_type": "code",
   "execution_count": 265,
   "id": "7dbe090a-b696-4800-8373-6f4b3be02a87",
   "metadata": {},
   "outputs": [
    {
     "name": "stdout",
     "output_type": "stream",
     "text": [
      "0.006171839564569429\n",
      "Camera(fx=4938.56, fy=4936.49, cx=4095.5, cy=3071.5, sensor_size_x_mm=13.107, sensor_size_y_mm=9.83, image_size_x_px=8192, image_size_y_px=6144) DatasetSpec(overlap=0.7, sidelap=0.7, height=30.48, scan_dimension_x=150, scan_dimension_y=150, exposure_time_ms=1000)\n"
     ]
    },
    {
     "data": {
      "application/vnd.plotly.v1+json": {
       "config": {
        "plotlyServerURL": "https://plot.ly"
       },
       "data": [
        {
         "line": {
          "dash": "dot"
         },
         "marker": {
          "color": "green"
         },
         "mode": "lines+markers",
         "name": "flight",
         "type": "scatter",
         "x": [
          0,
          15,
          30,
          45,
          60,
          75,
          90,
          105,
          120,
          135,
          150,
          150,
          135,
          120,
          105,
          90,
          75,
          60,
          45,
          30,
          15,
          0,
          0,
          15,
          30,
          45,
          60,
          75,
          90,
          105,
          120,
          135,
          150,
          150,
          135,
          120,
          105,
          90,
          75,
          60,
          45,
          30,
          15,
          0,
          0,
          15,
          30,
          45,
          60,
          75,
          90,
          105,
          120,
          135,
          150,
          150,
          135,
          120,
          105,
          90,
          75,
          60,
          45,
          30,
          15,
          0,
          0,
          15,
          30,
          45,
          60,
          75,
          90,
          105,
          120,
          135,
          150,
          150,
          135,
          120,
          105,
          90,
          75,
          60,
          45,
          30,
          15,
          0,
          0,
          15,
          30,
          45,
          60,
          75,
          90,
          105,
          120,
          135,
          150,
          150,
          135,
          120,
          105,
          90,
          75,
          60,
          45,
          30,
          15,
          0,
          0,
          15,
          30,
          45,
          60,
          75,
          90,
          105,
          120,
          135,
          150,
          150,
          135,
          120,
          105,
          90,
          75,
          60,
          45,
          30,
          15,
          0,
          0,
          15,
          30,
          45,
          60,
          75,
          90,
          105,
          120,
          135,
          150,
          150,
          135,
          120,
          105,
          90,
          75,
          60,
          45,
          30,
          15,
          0,
          0,
          15,
          30,
          45,
          60,
          75,
          90,
          105,
          120,
          135,
          150
         ],
         "y": [
          0,
          0,
          0,
          0,
          0,
          0,
          0,
          0,
          0,
          0,
          0,
          10.714285714285714,
          10.714285714285714,
          10.714285714285714,
          10.714285714285714,
          10.714285714285714,
          10.714285714285714,
          10.714285714285714,
          10.714285714285714,
          10.714285714285714,
          10.714285714285714,
          10.714285714285714,
          21.428571428571427,
          21.428571428571427,
          21.428571428571427,
          21.428571428571427,
          21.428571428571427,
          21.428571428571427,
          21.428571428571427,
          21.428571428571427,
          21.428571428571427,
          21.428571428571427,
          21.428571428571427,
          32.14285714285714,
          32.14285714285714,
          32.14285714285714,
          32.14285714285714,
          32.14285714285714,
          32.14285714285714,
          32.14285714285714,
          32.14285714285714,
          32.14285714285714,
          32.14285714285714,
          32.14285714285714,
          42.857142857142854,
          42.857142857142854,
          42.857142857142854,
          42.857142857142854,
          42.857142857142854,
          42.857142857142854,
          42.857142857142854,
          42.857142857142854,
          42.857142857142854,
          42.857142857142854,
          42.857142857142854,
          53.57142857142857,
          53.57142857142857,
          53.57142857142857,
          53.57142857142857,
          53.57142857142857,
          53.57142857142857,
          53.57142857142857,
          53.57142857142857,
          53.57142857142857,
          53.57142857142857,
          53.57142857142857,
          64.28571428571428,
          64.28571428571428,
          64.28571428571428,
          64.28571428571428,
          64.28571428571428,
          64.28571428571428,
          64.28571428571428,
          64.28571428571428,
          64.28571428571428,
          64.28571428571428,
          64.28571428571428,
          75,
          75,
          75,
          75,
          75,
          75,
          75,
          75,
          75,
          75,
          75,
          85.71428571428571,
          85.71428571428571,
          85.71428571428571,
          85.71428571428571,
          85.71428571428571,
          85.71428571428571,
          85.71428571428571,
          85.71428571428571,
          85.71428571428571,
          85.71428571428571,
          85.71428571428571,
          96.42857142857142,
          96.42857142857142,
          96.42857142857142,
          96.42857142857142,
          96.42857142857142,
          96.42857142857142,
          96.42857142857142,
          96.42857142857142,
          96.42857142857142,
          96.42857142857142,
          96.42857142857142,
          107.14285714285714,
          107.14285714285714,
          107.14285714285714,
          107.14285714285714,
          107.14285714285714,
          107.14285714285714,
          107.14285714285714,
          107.14285714285714,
          107.14285714285714,
          107.14285714285714,
          107.14285714285714,
          117.85714285714285,
          117.85714285714285,
          117.85714285714285,
          117.85714285714285,
          117.85714285714285,
          117.85714285714285,
          117.85714285714285,
          117.85714285714285,
          117.85714285714285,
          117.85714285714285,
          117.85714285714285,
          128.57142857142856,
          128.57142857142856,
          128.57142857142856,
          128.57142857142856,
          128.57142857142856,
          128.57142857142856,
          128.57142857142856,
          128.57142857142856,
          128.57142857142856,
          128.57142857142856,
          128.57142857142856,
          139.28571428571428,
          139.28571428571428,
          139.28571428571428,
          139.28571428571428,
          139.28571428571428,
          139.28571428571428,
          139.28571428571428,
          139.28571428571428,
          139.28571428571428,
          139.28571428571428,
          139.28571428571428,
          150,
          150,
          150,
          150,
          150,
          150,
          150,
          150,
          150,
          150,
          150
         ]
        },
        {
         "marker": {
          "color": "blue",
          "size": 20,
          "symbol": "x-dot"
         },
         "mode": "markers",
         "name": "drone ground midpoint",
         "text": [
          "0.006171839564569429",
          "0.006171839564569429",
          "0.006171839564569429",
          "0.006171839564569429",
          "0.006171839564569429",
          "0.006171839564569429",
          "0.006171839564569429",
          "0.006171839564569429",
          "0.006171839564569429",
          "0.006171839564569429",
          "0.006171839564569429",
          "0.006171839564569429",
          "0.006171839564569429",
          "0.006171839564569429",
          "0.006171839564569429",
          "0.006171839564569429",
          "0.006171839564569429",
          "0.006171839564569429",
          "0.006171839564569429",
          "0.006171839564569429",
          "0.006171839564569429",
          "0.006171839564569429",
          "0.006171839564569429",
          "0.006171839564569429",
          "0.006171839564569429",
          "0.006171839564569429",
          "0.006171839564569429",
          "0.006171839564569429",
          "0.006171839564569429",
          "0.006171839564569429",
          "0.006171839564569429",
          "0.006171839564569429",
          "0.006171839564569429",
          "0.006171839564569429",
          "0.006171839564569429",
          "0.006171839564569429",
          "0.006171839564569429",
          "0.006171839564569429",
          "0.006171839564569429",
          "0.006171839564569429",
          "0.006171839564569429",
          "0.006171839564569429",
          "0.006171839564569429",
          "0.006171839564569429",
          "0.006171839564569429",
          "0.006171839564569429",
          "0.006171839564569429",
          "0.006171839564569429",
          "0.006171839564569429",
          "0.006171839564569429",
          "0.006171839564569429",
          "0.006171839564569429",
          "0.006171839564569429",
          "0.006171839564569429",
          "0.006171839564569429",
          "0.006171839564569429",
          "0.006171839564569429",
          "0.006171839564569429",
          "0.006171839564569429",
          "0.006171839564569429",
          "0.006171839564569429",
          "0.006171839564569429",
          "0.006171839564569429",
          "0.006171839564569429",
          "0.006171839564569429",
          "0.006171839564569429",
          "0.006171839564569429",
          "0.006171839564569429",
          "0.006171839564569429",
          "0.006171839564569429",
          "0.006171839564569429",
          "0.006171839564569429",
          "0.006171839564569429",
          "0.006171839564569429",
          "0.006171839564569429",
          "0.006171839564569429",
          "0.006171839564569429",
          "0.006171839564569429",
          "0.006171839564569429",
          "0.006171839564569429",
          "0.006171839564569429",
          "0.006171839564569429",
          "0.006171839564569429",
          "0.006171839564569429",
          "0.006171839564569429",
          "0.006171839564569429",
          "0.006171839564569429",
          "0.006171839564569429",
          "0.006171839564569429",
          "0.006171839564569429",
          "0.006171839564569429",
          "0.006171839564569429",
          "0.006171839564569429",
          "0.006171839564569429",
          "0.006171839564569429",
          "0.006171839564569429",
          "0.006171839564569429",
          "0.006171839564569429",
          "0.006171839564569429",
          "0.006171839564569429",
          "0.006171839564569429",
          "0.006171839564569429",
          "0.006171839564569429",
          "0.006171839564569429",
          "0.006171839564569429",
          "0.006171839564569429",
          "0.006171839564569429",
          "0.006171839564569429",
          "0.006171839564569429",
          "0.006171839564569429",
          "0.006171839564569429",
          "0.006171839564569429",
          "0.006171839564569429",
          "0.006171839564569429",
          "0.006171839564569429",
          "0.006171839564569429",
          "0.006171839564569429",
          "0.006171839564569429",
          "0.006171839564569429",
          "0.006171839564569429",
          "0.006171839564569429",
          "0.006171839564569429",
          "0.006171839564569429",
          "0.006171839564569429",
          "0.006171839564569429",
          "0.006171839564569429",
          "0.006171839564569429",
          "0.006171839564569429",
          "0.006171839564569429",
          "0.006171839564569429",
          "0.006171839564569429",
          "0.006171839564569429",
          "0.006171839564569429",
          "0.006171839564569429",
          "0.006171839564569429",
          "0.006171839564569429",
          "0.006171839564569429",
          "0.006171839564569429",
          "0.006171839564569429",
          "0.006171839564569429",
          "0.006171839564569429",
          "0.006171839564569429",
          "0.006171839564569429",
          "0.006171839564569429",
          "0.006171839564569429",
          "0.006171839564569429",
          "0.006171839564569429",
          "0.006171839564569429",
          "0.006171839564569429",
          "0.006171839564569429",
          "0.006171839564569429",
          "0.006171839564569429",
          "0.006171839564569429",
          "0.006171839564569429",
          "0.006171839564569429",
          "0.006171839564569429",
          "0.006171839564569429",
          "0.006171839564569429",
          "0.006171839564569429",
          "0.006171839564569429",
          "0.006171839564569429",
          "0.006171839564569429",
          "0.006171839564569429",
          "0.006171839564569429",
          "0.006171839564569429"
         ],
         "type": "scatter",
         "x": [
          0
         ],
         "y": [
          0
         ]
        }
       ],
       "frames": [
        {
         "data": [
          {
           "type": "scatter",
           "x": [
            0
           ],
           "y": [
            0
           ]
          }
         ],
         "traces": [
          1
         ]
        },
        {
         "data": [
          {
           "type": "scatter",
           "x": [
            15
           ],
           "y": [
            0
           ]
          }
         ],
         "traces": [
          1
         ]
        },
        {
         "data": [
          {
           "type": "scatter",
           "x": [
            30
           ],
           "y": [
            0
           ]
          }
         ],
         "traces": [
          1
         ]
        },
        {
         "data": [
          {
           "type": "scatter",
           "x": [
            45
           ],
           "y": [
            0
           ]
          }
         ],
         "traces": [
          1
         ]
        },
        {
         "data": [
          {
           "type": "scatter",
           "x": [
            60
           ],
           "y": [
            0
           ]
          }
         ],
         "traces": [
          1
         ]
        },
        {
         "data": [
          {
           "type": "scatter",
           "x": [
            75
           ],
           "y": [
            0
           ]
          }
         ],
         "traces": [
          1
         ]
        },
        {
         "data": [
          {
           "type": "scatter",
           "x": [
            90
           ],
           "y": [
            0
           ]
          }
         ],
         "traces": [
          1
         ]
        },
        {
         "data": [
          {
           "type": "scatter",
           "x": [
            105
           ],
           "y": [
            0
           ]
          }
         ],
         "traces": [
          1
         ]
        },
        {
         "data": [
          {
           "type": "scatter",
           "x": [
            120
           ],
           "y": [
            0
           ]
          }
         ],
         "traces": [
          1
         ]
        },
        {
         "data": [
          {
           "type": "scatter",
           "x": [
            135
           ],
           "y": [
            0
           ]
          }
         ],
         "traces": [
          1
         ]
        },
        {
         "data": [
          {
           "type": "scatter",
           "x": [
            150
           ],
           "y": [
            0
           ]
          }
         ],
         "traces": [
          1
         ]
        },
        {
         "data": [
          {
           "type": "scatter",
           "x": [
            150
           ],
           "y": [
            10.714285714285714
           ]
          }
         ],
         "traces": [
          1
         ]
        },
        {
         "data": [
          {
           "type": "scatter",
           "x": [
            135
           ],
           "y": [
            10.714285714285714
           ]
          }
         ],
         "traces": [
          1
         ]
        },
        {
         "data": [
          {
           "type": "scatter",
           "x": [
            120
           ],
           "y": [
            10.714285714285714
           ]
          }
         ],
         "traces": [
          1
         ]
        },
        {
         "data": [
          {
           "type": "scatter",
           "x": [
            105
           ],
           "y": [
            10.714285714285714
           ]
          }
         ],
         "traces": [
          1
         ]
        },
        {
         "data": [
          {
           "type": "scatter",
           "x": [
            90
           ],
           "y": [
            10.714285714285714
           ]
          }
         ],
         "traces": [
          1
         ]
        },
        {
         "data": [
          {
           "type": "scatter",
           "x": [
            75
           ],
           "y": [
            10.714285714285714
           ]
          }
         ],
         "traces": [
          1
         ]
        },
        {
         "data": [
          {
           "type": "scatter",
           "x": [
            60
           ],
           "y": [
            10.714285714285714
           ]
          }
         ],
         "traces": [
          1
         ]
        },
        {
         "data": [
          {
           "type": "scatter",
           "x": [
            45
           ],
           "y": [
            10.714285714285714
           ]
          }
         ],
         "traces": [
          1
         ]
        },
        {
         "data": [
          {
           "type": "scatter",
           "x": [
            30
           ],
           "y": [
            10.714285714285714
           ]
          }
         ],
         "traces": [
          1
         ]
        },
        {
         "data": [
          {
           "type": "scatter",
           "x": [
            15
           ],
           "y": [
            10.714285714285714
           ]
          }
         ],
         "traces": [
          1
         ]
        },
        {
         "data": [
          {
           "type": "scatter",
           "x": [
            0
           ],
           "y": [
            10.714285714285714
           ]
          }
         ],
         "traces": [
          1
         ]
        },
        {
         "data": [
          {
           "type": "scatter",
           "x": [
            0
           ],
           "y": [
            21.428571428571427
           ]
          }
         ],
         "traces": [
          1
         ]
        },
        {
         "data": [
          {
           "type": "scatter",
           "x": [
            15
           ],
           "y": [
            21.428571428571427
           ]
          }
         ],
         "traces": [
          1
         ]
        },
        {
         "data": [
          {
           "type": "scatter",
           "x": [
            30
           ],
           "y": [
            21.428571428571427
           ]
          }
         ],
         "traces": [
          1
         ]
        },
        {
         "data": [
          {
           "type": "scatter",
           "x": [
            45
           ],
           "y": [
            21.428571428571427
           ]
          }
         ],
         "traces": [
          1
         ]
        },
        {
         "data": [
          {
           "type": "scatter",
           "x": [
            60
           ],
           "y": [
            21.428571428571427
           ]
          }
         ],
         "traces": [
          1
         ]
        },
        {
         "data": [
          {
           "type": "scatter",
           "x": [
            75
           ],
           "y": [
            21.428571428571427
           ]
          }
         ],
         "traces": [
          1
         ]
        },
        {
         "data": [
          {
           "type": "scatter",
           "x": [
            90
           ],
           "y": [
            21.428571428571427
           ]
          }
         ],
         "traces": [
          1
         ]
        },
        {
         "data": [
          {
           "type": "scatter",
           "x": [
            105
           ],
           "y": [
            21.428571428571427
           ]
          }
         ],
         "traces": [
          1
         ]
        },
        {
         "data": [
          {
           "type": "scatter",
           "x": [
            120
           ],
           "y": [
            21.428571428571427
           ]
          }
         ],
         "traces": [
          1
         ]
        },
        {
         "data": [
          {
           "type": "scatter",
           "x": [
            135
           ],
           "y": [
            21.428571428571427
           ]
          }
         ],
         "traces": [
          1
         ]
        },
        {
         "data": [
          {
           "type": "scatter",
           "x": [
            150
           ],
           "y": [
            21.428571428571427
           ]
          }
         ],
         "traces": [
          1
         ]
        },
        {
         "data": [
          {
           "type": "scatter",
           "x": [
            150
           ],
           "y": [
            32.14285714285714
           ]
          }
         ],
         "traces": [
          1
         ]
        },
        {
         "data": [
          {
           "type": "scatter",
           "x": [
            135
           ],
           "y": [
            32.14285714285714
           ]
          }
         ],
         "traces": [
          1
         ]
        },
        {
         "data": [
          {
           "type": "scatter",
           "x": [
            120
           ],
           "y": [
            32.14285714285714
           ]
          }
         ],
         "traces": [
          1
         ]
        },
        {
         "data": [
          {
           "type": "scatter",
           "x": [
            105
           ],
           "y": [
            32.14285714285714
           ]
          }
         ],
         "traces": [
          1
         ]
        },
        {
         "data": [
          {
           "type": "scatter",
           "x": [
            90
           ],
           "y": [
            32.14285714285714
           ]
          }
         ],
         "traces": [
          1
         ]
        },
        {
         "data": [
          {
           "type": "scatter",
           "x": [
            75
           ],
           "y": [
            32.14285714285714
           ]
          }
         ],
         "traces": [
          1
         ]
        },
        {
         "data": [
          {
           "type": "scatter",
           "x": [
            60
           ],
           "y": [
            32.14285714285714
           ]
          }
         ],
         "traces": [
          1
         ]
        },
        {
         "data": [
          {
           "type": "scatter",
           "x": [
            45
           ],
           "y": [
            32.14285714285714
           ]
          }
         ],
         "traces": [
          1
         ]
        },
        {
         "data": [
          {
           "type": "scatter",
           "x": [
            30
           ],
           "y": [
            32.14285714285714
           ]
          }
         ],
         "traces": [
          1
         ]
        },
        {
         "data": [
          {
           "type": "scatter",
           "x": [
            15
           ],
           "y": [
            32.14285714285714
           ]
          }
         ],
         "traces": [
          1
         ]
        },
        {
         "data": [
          {
           "type": "scatter",
           "x": [
            0
           ],
           "y": [
            32.14285714285714
           ]
          }
         ],
         "traces": [
          1
         ]
        },
        {
         "data": [
          {
           "type": "scatter",
           "x": [
            0
           ],
           "y": [
            42.857142857142854
           ]
          }
         ],
         "traces": [
          1
         ]
        },
        {
         "data": [
          {
           "type": "scatter",
           "x": [
            15
           ],
           "y": [
            42.857142857142854
           ]
          }
         ],
         "traces": [
          1
         ]
        },
        {
         "data": [
          {
           "type": "scatter",
           "x": [
            30
           ],
           "y": [
            42.857142857142854
           ]
          }
         ],
         "traces": [
          1
         ]
        },
        {
         "data": [
          {
           "type": "scatter",
           "x": [
            45
           ],
           "y": [
            42.857142857142854
           ]
          }
         ],
         "traces": [
          1
         ]
        },
        {
         "data": [
          {
           "type": "scatter",
           "x": [
            60
           ],
           "y": [
            42.857142857142854
           ]
          }
         ],
         "traces": [
          1
         ]
        },
        {
         "data": [
          {
           "type": "scatter",
           "x": [
            75
           ],
           "y": [
            42.857142857142854
           ]
          }
         ],
         "traces": [
          1
         ]
        },
        {
         "data": [
          {
           "type": "scatter",
           "x": [
            90
           ],
           "y": [
            42.857142857142854
           ]
          }
         ],
         "traces": [
          1
         ]
        },
        {
         "data": [
          {
           "type": "scatter",
           "x": [
            105
           ],
           "y": [
            42.857142857142854
           ]
          }
         ],
         "traces": [
          1
         ]
        },
        {
         "data": [
          {
           "type": "scatter",
           "x": [
            120
           ],
           "y": [
            42.857142857142854
           ]
          }
         ],
         "traces": [
          1
         ]
        },
        {
         "data": [
          {
           "type": "scatter",
           "x": [
            135
           ],
           "y": [
            42.857142857142854
           ]
          }
         ],
         "traces": [
          1
         ]
        },
        {
         "data": [
          {
           "type": "scatter",
           "x": [
            150
           ],
           "y": [
            42.857142857142854
           ]
          }
         ],
         "traces": [
          1
         ]
        },
        {
         "data": [
          {
           "type": "scatter",
           "x": [
            150
           ],
           "y": [
            53.57142857142857
           ]
          }
         ],
         "traces": [
          1
         ]
        },
        {
         "data": [
          {
           "type": "scatter",
           "x": [
            135
           ],
           "y": [
            53.57142857142857
           ]
          }
         ],
         "traces": [
          1
         ]
        },
        {
         "data": [
          {
           "type": "scatter",
           "x": [
            120
           ],
           "y": [
            53.57142857142857
           ]
          }
         ],
         "traces": [
          1
         ]
        },
        {
         "data": [
          {
           "type": "scatter",
           "x": [
            105
           ],
           "y": [
            53.57142857142857
           ]
          }
         ],
         "traces": [
          1
         ]
        },
        {
         "data": [
          {
           "type": "scatter",
           "x": [
            90
           ],
           "y": [
            53.57142857142857
           ]
          }
         ],
         "traces": [
          1
         ]
        },
        {
         "data": [
          {
           "type": "scatter",
           "x": [
            75
           ],
           "y": [
            53.57142857142857
           ]
          }
         ],
         "traces": [
          1
         ]
        },
        {
         "data": [
          {
           "type": "scatter",
           "x": [
            60
           ],
           "y": [
            53.57142857142857
           ]
          }
         ],
         "traces": [
          1
         ]
        },
        {
         "data": [
          {
           "type": "scatter",
           "x": [
            45
           ],
           "y": [
            53.57142857142857
           ]
          }
         ],
         "traces": [
          1
         ]
        },
        {
         "data": [
          {
           "type": "scatter",
           "x": [
            30
           ],
           "y": [
            53.57142857142857
           ]
          }
         ],
         "traces": [
          1
         ]
        },
        {
         "data": [
          {
           "type": "scatter",
           "x": [
            15
           ],
           "y": [
            53.57142857142857
           ]
          }
         ],
         "traces": [
          1
         ]
        },
        {
         "data": [
          {
           "type": "scatter",
           "x": [
            0
           ],
           "y": [
            53.57142857142857
           ]
          }
         ],
         "traces": [
          1
         ]
        },
        {
         "data": [
          {
           "type": "scatter",
           "x": [
            0
           ],
           "y": [
            64.28571428571428
           ]
          }
         ],
         "traces": [
          1
         ]
        },
        {
         "data": [
          {
           "type": "scatter",
           "x": [
            15
           ],
           "y": [
            64.28571428571428
           ]
          }
         ],
         "traces": [
          1
         ]
        },
        {
         "data": [
          {
           "type": "scatter",
           "x": [
            30
           ],
           "y": [
            64.28571428571428
           ]
          }
         ],
         "traces": [
          1
         ]
        },
        {
         "data": [
          {
           "type": "scatter",
           "x": [
            45
           ],
           "y": [
            64.28571428571428
           ]
          }
         ],
         "traces": [
          1
         ]
        },
        {
         "data": [
          {
           "type": "scatter",
           "x": [
            60
           ],
           "y": [
            64.28571428571428
           ]
          }
         ],
         "traces": [
          1
         ]
        },
        {
         "data": [
          {
           "type": "scatter",
           "x": [
            75
           ],
           "y": [
            64.28571428571428
           ]
          }
         ],
         "traces": [
          1
         ]
        },
        {
         "data": [
          {
           "type": "scatter",
           "x": [
            90
           ],
           "y": [
            64.28571428571428
           ]
          }
         ],
         "traces": [
          1
         ]
        },
        {
         "data": [
          {
           "type": "scatter",
           "x": [
            105
           ],
           "y": [
            64.28571428571428
           ]
          }
         ],
         "traces": [
          1
         ]
        },
        {
         "data": [
          {
           "type": "scatter",
           "x": [
            120
           ],
           "y": [
            64.28571428571428
           ]
          }
         ],
         "traces": [
          1
         ]
        },
        {
         "data": [
          {
           "type": "scatter",
           "x": [
            135
           ],
           "y": [
            64.28571428571428
           ]
          }
         ],
         "traces": [
          1
         ]
        },
        {
         "data": [
          {
           "type": "scatter",
           "x": [
            150
           ],
           "y": [
            64.28571428571428
           ]
          }
         ],
         "traces": [
          1
         ]
        },
        {
         "data": [
          {
           "type": "scatter",
           "x": [
            150
           ],
           "y": [
            75
           ]
          }
         ],
         "traces": [
          1
         ]
        },
        {
         "data": [
          {
           "type": "scatter",
           "x": [
            135
           ],
           "y": [
            75
           ]
          }
         ],
         "traces": [
          1
         ]
        },
        {
         "data": [
          {
           "type": "scatter",
           "x": [
            120
           ],
           "y": [
            75
           ]
          }
         ],
         "traces": [
          1
         ]
        },
        {
         "data": [
          {
           "type": "scatter",
           "x": [
            105
           ],
           "y": [
            75
           ]
          }
         ],
         "traces": [
          1
         ]
        },
        {
         "data": [
          {
           "type": "scatter",
           "x": [
            90
           ],
           "y": [
            75
           ]
          }
         ],
         "traces": [
          1
         ]
        },
        {
         "data": [
          {
           "type": "scatter",
           "x": [
            75
           ],
           "y": [
            75
           ]
          }
         ],
         "traces": [
          1
         ]
        },
        {
         "data": [
          {
           "type": "scatter",
           "x": [
            60
           ],
           "y": [
            75
           ]
          }
         ],
         "traces": [
          1
         ]
        },
        {
         "data": [
          {
           "type": "scatter",
           "x": [
            45
           ],
           "y": [
            75
           ]
          }
         ],
         "traces": [
          1
         ]
        },
        {
         "data": [
          {
           "type": "scatter",
           "x": [
            30
           ],
           "y": [
            75
           ]
          }
         ],
         "traces": [
          1
         ]
        },
        {
         "data": [
          {
           "type": "scatter",
           "x": [
            15
           ],
           "y": [
            75
           ]
          }
         ],
         "traces": [
          1
         ]
        },
        {
         "data": [
          {
           "type": "scatter",
           "x": [
            0
           ],
           "y": [
            75
           ]
          }
         ],
         "traces": [
          1
         ]
        },
        {
         "data": [
          {
           "type": "scatter",
           "x": [
            0
           ],
           "y": [
            85.71428571428571
           ]
          }
         ],
         "traces": [
          1
         ]
        },
        {
         "data": [
          {
           "type": "scatter",
           "x": [
            15
           ],
           "y": [
            85.71428571428571
           ]
          }
         ],
         "traces": [
          1
         ]
        },
        {
         "data": [
          {
           "type": "scatter",
           "x": [
            30
           ],
           "y": [
            85.71428571428571
           ]
          }
         ],
         "traces": [
          1
         ]
        },
        {
         "data": [
          {
           "type": "scatter",
           "x": [
            45
           ],
           "y": [
            85.71428571428571
           ]
          }
         ],
         "traces": [
          1
         ]
        },
        {
         "data": [
          {
           "type": "scatter",
           "x": [
            60
           ],
           "y": [
            85.71428571428571
           ]
          }
         ],
         "traces": [
          1
         ]
        },
        {
         "data": [
          {
           "type": "scatter",
           "x": [
            75
           ],
           "y": [
            85.71428571428571
           ]
          }
         ],
         "traces": [
          1
         ]
        },
        {
         "data": [
          {
           "type": "scatter",
           "x": [
            90
           ],
           "y": [
            85.71428571428571
           ]
          }
         ],
         "traces": [
          1
         ]
        },
        {
         "data": [
          {
           "type": "scatter",
           "x": [
            105
           ],
           "y": [
            85.71428571428571
           ]
          }
         ],
         "traces": [
          1
         ]
        },
        {
         "data": [
          {
           "type": "scatter",
           "x": [
            120
           ],
           "y": [
            85.71428571428571
           ]
          }
         ],
         "traces": [
          1
         ]
        },
        {
         "data": [
          {
           "type": "scatter",
           "x": [
            135
           ],
           "y": [
            85.71428571428571
           ]
          }
         ],
         "traces": [
          1
         ]
        },
        {
         "data": [
          {
           "type": "scatter",
           "x": [
            150
           ],
           "y": [
            85.71428571428571
           ]
          }
         ],
         "traces": [
          1
         ]
        },
        {
         "data": [
          {
           "type": "scatter",
           "x": [
            150
           ],
           "y": [
            96.42857142857142
           ]
          }
         ],
         "traces": [
          1
         ]
        },
        {
         "data": [
          {
           "type": "scatter",
           "x": [
            135
           ],
           "y": [
            96.42857142857142
           ]
          }
         ],
         "traces": [
          1
         ]
        },
        {
         "data": [
          {
           "type": "scatter",
           "x": [
            120
           ],
           "y": [
            96.42857142857142
           ]
          }
         ],
         "traces": [
          1
         ]
        },
        {
         "data": [
          {
           "type": "scatter",
           "x": [
            105
           ],
           "y": [
            96.42857142857142
           ]
          }
         ],
         "traces": [
          1
         ]
        },
        {
         "data": [
          {
           "type": "scatter",
           "x": [
            90
           ],
           "y": [
            96.42857142857142
           ]
          }
         ],
         "traces": [
          1
         ]
        },
        {
         "data": [
          {
           "type": "scatter",
           "x": [
            75
           ],
           "y": [
            96.42857142857142
           ]
          }
         ],
         "traces": [
          1
         ]
        },
        {
         "data": [
          {
           "type": "scatter",
           "x": [
            60
           ],
           "y": [
            96.42857142857142
           ]
          }
         ],
         "traces": [
          1
         ]
        },
        {
         "data": [
          {
           "type": "scatter",
           "x": [
            45
           ],
           "y": [
            96.42857142857142
           ]
          }
         ],
         "traces": [
          1
         ]
        },
        {
         "data": [
          {
           "type": "scatter",
           "x": [
            30
           ],
           "y": [
            96.42857142857142
           ]
          }
         ],
         "traces": [
          1
         ]
        },
        {
         "data": [
          {
           "type": "scatter",
           "x": [
            15
           ],
           "y": [
            96.42857142857142
           ]
          }
         ],
         "traces": [
          1
         ]
        },
        {
         "data": [
          {
           "type": "scatter",
           "x": [
            0
           ],
           "y": [
            96.42857142857142
           ]
          }
         ],
         "traces": [
          1
         ]
        },
        {
         "data": [
          {
           "type": "scatter",
           "x": [
            0
           ],
           "y": [
            107.14285714285714
           ]
          }
         ],
         "traces": [
          1
         ]
        },
        {
         "data": [
          {
           "type": "scatter",
           "x": [
            15
           ],
           "y": [
            107.14285714285714
           ]
          }
         ],
         "traces": [
          1
         ]
        },
        {
         "data": [
          {
           "type": "scatter",
           "x": [
            30
           ],
           "y": [
            107.14285714285714
           ]
          }
         ],
         "traces": [
          1
         ]
        },
        {
         "data": [
          {
           "type": "scatter",
           "x": [
            45
           ],
           "y": [
            107.14285714285714
           ]
          }
         ],
         "traces": [
          1
         ]
        },
        {
         "data": [
          {
           "type": "scatter",
           "x": [
            60
           ],
           "y": [
            107.14285714285714
           ]
          }
         ],
         "traces": [
          1
         ]
        },
        {
         "data": [
          {
           "type": "scatter",
           "x": [
            75
           ],
           "y": [
            107.14285714285714
           ]
          }
         ],
         "traces": [
          1
         ]
        },
        {
         "data": [
          {
           "type": "scatter",
           "x": [
            90
           ],
           "y": [
            107.14285714285714
           ]
          }
         ],
         "traces": [
          1
         ]
        },
        {
         "data": [
          {
           "type": "scatter",
           "x": [
            105
           ],
           "y": [
            107.14285714285714
           ]
          }
         ],
         "traces": [
          1
         ]
        },
        {
         "data": [
          {
           "type": "scatter",
           "x": [
            120
           ],
           "y": [
            107.14285714285714
           ]
          }
         ],
         "traces": [
          1
         ]
        },
        {
         "data": [
          {
           "type": "scatter",
           "x": [
            135
           ],
           "y": [
            107.14285714285714
           ]
          }
         ],
         "traces": [
          1
         ]
        },
        {
         "data": [
          {
           "type": "scatter",
           "x": [
            150
           ],
           "y": [
            107.14285714285714
           ]
          }
         ],
         "traces": [
          1
         ]
        },
        {
         "data": [
          {
           "type": "scatter",
           "x": [
            150
           ],
           "y": [
            117.85714285714285
           ]
          }
         ],
         "traces": [
          1
         ]
        },
        {
         "data": [
          {
           "type": "scatter",
           "x": [
            135
           ],
           "y": [
            117.85714285714285
           ]
          }
         ],
         "traces": [
          1
         ]
        },
        {
         "data": [
          {
           "type": "scatter",
           "x": [
            120
           ],
           "y": [
            117.85714285714285
           ]
          }
         ],
         "traces": [
          1
         ]
        },
        {
         "data": [
          {
           "type": "scatter",
           "x": [
            105
           ],
           "y": [
            117.85714285714285
           ]
          }
         ],
         "traces": [
          1
         ]
        },
        {
         "data": [
          {
           "type": "scatter",
           "x": [
            90
           ],
           "y": [
            117.85714285714285
           ]
          }
         ],
         "traces": [
          1
         ]
        },
        {
         "data": [
          {
           "type": "scatter",
           "x": [
            75
           ],
           "y": [
            117.85714285714285
           ]
          }
         ],
         "traces": [
          1
         ]
        },
        {
         "data": [
          {
           "type": "scatter",
           "x": [
            60
           ],
           "y": [
            117.85714285714285
           ]
          }
         ],
         "traces": [
          1
         ]
        },
        {
         "data": [
          {
           "type": "scatter",
           "x": [
            45
           ],
           "y": [
            117.85714285714285
           ]
          }
         ],
         "traces": [
          1
         ]
        },
        {
         "data": [
          {
           "type": "scatter",
           "x": [
            30
           ],
           "y": [
            117.85714285714285
           ]
          }
         ],
         "traces": [
          1
         ]
        },
        {
         "data": [
          {
           "type": "scatter",
           "x": [
            15
           ],
           "y": [
            117.85714285714285
           ]
          }
         ],
         "traces": [
          1
         ]
        },
        {
         "data": [
          {
           "type": "scatter",
           "x": [
            0
           ],
           "y": [
            117.85714285714285
           ]
          }
         ],
         "traces": [
          1
         ]
        },
        {
         "data": [
          {
           "type": "scatter",
           "x": [
            0
           ],
           "y": [
            128.57142857142856
           ]
          }
         ],
         "traces": [
          1
         ]
        },
        {
         "data": [
          {
           "type": "scatter",
           "x": [
            15
           ],
           "y": [
            128.57142857142856
           ]
          }
         ],
         "traces": [
          1
         ]
        },
        {
         "data": [
          {
           "type": "scatter",
           "x": [
            30
           ],
           "y": [
            128.57142857142856
           ]
          }
         ],
         "traces": [
          1
         ]
        },
        {
         "data": [
          {
           "type": "scatter",
           "x": [
            45
           ],
           "y": [
            128.57142857142856
           ]
          }
         ],
         "traces": [
          1
         ]
        },
        {
         "data": [
          {
           "type": "scatter",
           "x": [
            60
           ],
           "y": [
            128.57142857142856
           ]
          }
         ],
         "traces": [
          1
         ]
        },
        {
         "data": [
          {
           "type": "scatter",
           "x": [
            75
           ],
           "y": [
            128.57142857142856
           ]
          }
         ],
         "traces": [
          1
         ]
        },
        {
         "data": [
          {
           "type": "scatter",
           "x": [
            90
           ],
           "y": [
            128.57142857142856
           ]
          }
         ],
         "traces": [
          1
         ]
        },
        {
         "data": [
          {
           "type": "scatter",
           "x": [
            105
           ],
           "y": [
            128.57142857142856
           ]
          }
         ],
         "traces": [
          1
         ]
        },
        {
         "data": [
          {
           "type": "scatter",
           "x": [
            120
           ],
           "y": [
            128.57142857142856
           ]
          }
         ],
         "traces": [
          1
         ]
        },
        {
         "data": [
          {
           "type": "scatter",
           "x": [
            135
           ],
           "y": [
            128.57142857142856
           ]
          }
         ],
         "traces": [
          1
         ]
        },
        {
         "data": [
          {
           "type": "scatter",
           "x": [
            150
           ],
           "y": [
            128.57142857142856
           ]
          }
         ],
         "traces": [
          1
         ]
        },
        {
         "data": [
          {
           "type": "scatter",
           "x": [
            150
           ],
           "y": [
            139.28571428571428
           ]
          }
         ],
         "traces": [
          1
         ]
        },
        {
         "data": [
          {
           "type": "scatter",
           "x": [
            135
           ],
           "y": [
            139.28571428571428
           ]
          }
         ],
         "traces": [
          1
         ]
        },
        {
         "data": [
          {
           "type": "scatter",
           "x": [
            120
           ],
           "y": [
            139.28571428571428
           ]
          }
         ],
         "traces": [
          1
         ]
        },
        {
         "data": [
          {
           "type": "scatter",
           "x": [
            105
           ],
           "y": [
            139.28571428571428
           ]
          }
         ],
         "traces": [
          1
         ]
        },
        {
         "data": [
          {
           "type": "scatter",
           "x": [
            90
           ],
           "y": [
            139.28571428571428
           ]
          }
         ],
         "traces": [
          1
         ]
        },
        {
         "data": [
          {
           "type": "scatter",
           "x": [
            75
           ],
           "y": [
            139.28571428571428
           ]
          }
         ],
         "traces": [
          1
         ]
        },
        {
         "data": [
          {
           "type": "scatter",
           "x": [
            60
           ],
           "y": [
            139.28571428571428
           ]
          }
         ],
         "traces": [
          1
         ]
        },
        {
         "data": [
          {
           "type": "scatter",
           "x": [
            45
           ],
           "y": [
            139.28571428571428
           ]
          }
         ],
         "traces": [
          1
         ]
        },
        {
         "data": [
          {
           "type": "scatter",
           "x": [
            30
           ],
           "y": [
            139.28571428571428
           ]
          }
         ],
         "traces": [
          1
         ]
        },
        {
         "data": [
          {
           "type": "scatter",
           "x": [
            15
           ],
           "y": [
            139.28571428571428
           ]
          }
         ],
         "traces": [
          1
         ]
        },
        {
         "data": [
          {
           "type": "scatter",
           "x": [
            0
           ],
           "y": [
            139.28571428571428
           ]
          }
         ],
         "traces": [
          1
         ]
        },
        {
         "data": [
          {
           "type": "scatter",
           "x": [
            0
           ],
           "y": [
            150
           ]
          }
         ],
         "traces": [
          1
         ]
        },
        {
         "data": [
          {
           "type": "scatter",
           "x": [
            15
           ],
           "y": [
            150
           ]
          }
         ],
         "traces": [
          1
         ]
        },
        {
         "data": [
          {
           "type": "scatter",
           "x": [
            30
           ],
           "y": [
            150
           ]
          }
         ],
         "traces": [
          1
         ]
        },
        {
         "data": [
          {
           "type": "scatter",
           "x": [
            45
           ],
           "y": [
            150
           ]
          }
         ],
         "traces": [
          1
         ]
        },
        {
         "data": [
          {
           "type": "scatter",
           "x": [
            60
           ],
           "y": [
            150
           ]
          }
         ],
         "traces": [
          1
         ]
        },
        {
         "data": [
          {
           "type": "scatter",
           "x": [
            75
           ],
           "y": [
            150
           ]
          }
         ],
         "traces": [
          1
         ]
        },
        {
         "data": [
          {
           "type": "scatter",
           "x": [
            90
           ],
           "y": [
            150
           ]
          }
         ],
         "traces": [
          1
         ]
        },
        {
         "data": [
          {
           "type": "scatter",
           "x": [
            105
           ],
           "y": [
            150
           ]
          }
         ],
         "traces": [
          1
         ]
        },
        {
         "data": [
          {
           "type": "scatter",
           "x": [
            120
           ],
           "y": [
            150
           ]
          }
         ],
         "traces": [
          1
         ]
        },
        {
         "data": [
          {
           "type": "scatter",
           "x": [
            135
           ],
           "y": [
            150
           ]
          }
         ],
         "traces": [
          1
         ]
        },
        {
         "data": [
          {
           "type": "scatter",
           "x": [
            150
           ],
           "y": [
            150
           ]
          }
         ],
         "traces": [
          1
         ]
        }
       ],
       "layout": {
        "margin": {
         "b": 50,
         "l": 50,
         "r": 50,
         "t": 50
        },
        "template": {
         "data": {
          "bar": [
           {
            "error_x": {
             "color": "#2a3f5f"
            },
            "error_y": {
             "color": "#2a3f5f"
            },
            "marker": {
             "line": {
              "color": "#E5ECF6",
              "width": 0.5
             },
             "pattern": {
              "fillmode": "overlay",
              "size": 10,
              "solidity": 0.2
             }
            },
            "type": "bar"
           }
          ],
          "barpolar": [
           {
            "marker": {
             "line": {
              "color": "#E5ECF6",
              "width": 0.5
             },
             "pattern": {
              "fillmode": "overlay",
              "size": 10,
              "solidity": 0.2
             }
            },
            "type": "barpolar"
           }
          ],
          "carpet": [
           {
            "aaxis": {
             "endlinecolor": "#2a3f5f",
             "gridcolor": "white",
             "linecolor": "white",
             "minorgridcolor": "white",
             "startlinecolor": "#2a3f5f"
            },
            "baxis": {
             "endlinecolor": "#2a3f5f",
             "gridcolor": "white",
             "linecolor": "white",
             "minorgridcolor": "white",
             "startlinecolor": "#2a3f5f"
            },
            "type": "carpet"
           }
          ],
          "choropleth": [
           {
            "colorbar": {
             "outlinewidth": 0,
             "ticks": ""
            },
            "type": "choropleth"
           }
          ],
          "contour": [
           {
            "colorbar": {
             "outlinewidth": 0,
             "ticks": ""
            },
            "colorscale": [
             [
              0,
              "#0d0887"
             ],
             [
              0.1111111111111111,
              "#46039f"
             ],
             [
              0.2222222222222222,
              "#7201a8"
             ],
             [
              0.3333333333333333,
              "#9c179e"
             ],
             [
              0.4444444444444444,
              "#bd3786"
             ],
             [
              0.5555555555555556,
              "#d8576b"
             ],
             [
              0.6666666666666666,
              "#ed7953"
             ],
             [
              0.7777777777777778,
              "#fb9f3a"
             ],
             [
              0.8888888888888888,
              "#fdca26"
             ],
             [
              1,
              "#f0f921"
             ]
            ],
            "type": "contour"
           }
          ],
          "contourcarpet": [
           {
            "colorbar": {
             "outlinewidth": 0,
             "ticks": ""
            },
            "type": "contourcarpet"
           }
          ],
          "heatmap": [
           {
            "colorbar": {
             "outlinewidth": 0,
             "ticks": ""
            },
            "colorscale": [
             [
              0,
              "#0d0887"
             ],
             [
              0.1111111111111111,
              "#46039f"
             ],
             [
              0.2222222222222222,
              "#7201a8"
             ],
             [
              0.3333333333333333,
              "#9c179e"
             ],
             [
              0.4444444444444444,
              "#bd3786"
             ],
             [
              0.5555555555555556,
              "#d8576b"
             ],
             [
              0.6666666666666666,
              "#ed7953"
             ],
             [
              0.7777777777777778,
              "#fb9f3a"
             ],
             [
              0.8888888888888888,
              "#fdca26"
             ],
             [
              1,
              "#f0f921"
             ]
            ],
            "type": "heatmap"
           }
          ],
          "heatmapgl": [
           {
            "colorbar": {
             "outlinewidth": 0,
             "ticks": ""
            },
            "colorscale": [
             [
              0,
              "#0d0887"
             ],
             [
              0.1111111111111111,
              "#46039f"
             ],
             [
              0.2222222222222222,
              "#7201a8"
             ],
             [
              0.3333333333333333,
              "#9c179e"
             ],
             [
              0.4444444444444444,
              "#bd3786"
             ],
             [
              0.5555555555555556,
              "#d8576b"
             ],
             [
              0.6666666666666666,
              "#ed7953"
             ],
             [
              0.7777777777777778,
              "#fb9f3a"
             ],
             [
              0.8888888888888888,
              "#fdca26"
             ],
             [
              1,
              "#f0f921"
             ]
            ],
            "type": "heatmapgl"
           }
          ],
          "histogram": [
           {
            "marker": {
             "pattern": {
              "fillmode": "overlay",
              "size": 10,
              "solidity": 0.2
             }
            },
            "type": "histogram"
           }
          ],
          "histogram2d": [
           {
            "colorbar": {
             "outlinewidth": 0,
             "ticks": ""
            },
            "colorscale": [
             [
              0,
              "#0d0887"
             ],
             [
              0.1111111111111111,
              "#46039f"
             ],
             [
              0.2222222222222222,
              "#7201a8"
             ],
             [
              0.3333333333333333,
              "#9c179e"
             ],
             [
              0.4444444444444444,
              "#bd3786"
             ],
             [
              0.5555555555555556,
              "#d8576b"
             ],
             [
              0.6666666666666666,
              "#ed7953"
             ],
             [
              0.7777777777777778,
              "#fb9f3a"
             ],
             [
              0.8888888888888888,
              "#fdca26"
             ],
             [
              1,
              "#f0f921"
             ]
            ],
            "type": "histogram2d"
           }
          ],
          "histogram2dcontour": [
           {
            "colorbar": {
             "outlinewidth": 0,
             "ticks": ""
            },
            "colorscale": [
             [
              0,
              "#0d0887"
             ],
             [
              0.1111111111111111,
              "#46039f"
             ],
             [
              0.2222222222222222,
              "#7201a8"
             ],
             [
              0.3333333333333333,
              "#9c179e"
             ],
             [
              0.4444444444444444,
              "#bd3786"
             ],
             [
              0.5555555555555556,
              "#d8576b"
             ],
             [
              0.6666666666666666,
              "#ed7953"
             ],
             [
              0.7777777777777778,
              "#fb9f3a"
             ],
             [
              0.8888888888888888,
              "#fdca26"
             ],
             [
              1,
              "#f0f921"
             ]
            ],
            "type": "histogram2dcontour"
           }
          ],
          "mesh3d": [
           {
            "colorbar": {
             "outlinewidth": 0,
             "ticks": ""
            },
            "type": "mesh3d"
           }
          ],
          "parcoords": [
           {
            "line": {
             "colorbar": {
              "outlinewidth": 0,
              "ticks": ""
             }
            },
            "type": "parcoords"
           }
          ],
          "pie": [
           {
            "automargin": true,
            "type": "pie"
           }
          ],
          "scatter": [
           {
            "fillpattern": {
             "fillmode": "overlay",
             "size": 10,
             "solidity": 0.2
            },
            "type": "scatter"
           }
          ],
          "scatter3d": [
           {
            "line": {
             "colorbar": {
              "outlinewidth": 0,
              "ticks": ""
             }
            },
            "marker": {
             "colorbar": {
              "outlinewidth": 0,
              "ticks": ""
             }
            },
            "type": "scatter3d"
           }
          ],
          "scattercarpet": [
           {
            "marker": {
             "colorbar": {
              "outlinewidth": 0,
              "ticks": ""
             }
            },
            "type": "scattercarpet"
           }
          ],
          "scattergeo": [
           {
            "marker": {
             "colorbar": {
              "outlinewidth": 0,
              "ticks": ""
             }
            },
            "type": "scattergeo"
           }
          ],
          "scattergl": [
           {
            "marker": {
             "colorbar": {
              "outlinewidth": 0,
              "ticks": ""
             }
            },
            "type": "scattergl"
           }
          ],
          "scattermapbox": [
           {
            "marker": {
             "colorbar": {
              "outlinewidth": 0,
              "ticks": ""
             }
            },
            "type": "scattermapbox"
           }
          ],
          "scatterpolar": [
           {
            "marker": {
             "colorbar": {
              "outlinewidth": 0,
              "ticks": ""
             }
            },
            "type": "scatterpolar"
           }
          ],
          "scatterpolargl": [
           {
            "marker": {
             "colorbar": {
              "outlinewidth": 0,
              "ticks": ""
             }
            },
            "type": "scatterpolargl"
           }
          ],
          "scatterternary": [
           {
            "marker": {
             "colorbar": {
              "outlinewidth": 0,
              "ticks": ""
             }
            },
            "type": "scatterternary"
           }
          ],
          "surface": [
           {
            "colorbar": {
             "outlinewidth": 0,
             "ticks": ""
            },
            "colorscale": [
             [
              0,
              "#0d0887"
             ],
             [
              0.1111111111111111,
              "#46039f"
             ],
             [
              0.2222222222222222,
              "#7201a8"
             ],
             [
              0.3333333333333333,
              "#9c179e"
             ],
             [
              0.4444444444444444,
              "#bd3786"
             ],
             [
              0.5555555555555556,
              "#d8576b"
             ],
             [
              0.6666666666666666,
              "#ed7953"
             ],
             [
              0.7777777777777778,
              "#fb9f3a"
             ],
             [
              0.8888888888888888,
              "#fdca26"
             ],
             [
              1,
              "#f0f921"
             ]
            ],
            "type": "surface"
           }
          ],
          "table": [
           {
            "cells": {
             "fill": {
              "color": "#EBF0F8"
             },
             "line": {
              "color": "white"
             }
            },
            "header": {
             "fill": {
              "color": "#C8D4E3"
             },
             "line": {
              "color": "white"
             }
            },
            "type": "table"
           }
          ]
         },
         "layout": {
          "annotationdefaults": {
           "arrowcolor": "#2a3f5f",
           "arrowhead": 0,
           "arrowwidth": 1
          },
          "autotypenumbers": "strict",
          "coloraxis": {
           "colorbar": {
            "outlinewidth": 0,
            "ticks": ""
           }
          },
          "colorscale": {
           "diverging": [
            [
             0,
             "#8e0152"
            ],
            [
             0.1,
             "#c51b7d"
            ],
            [
             0.2,
             "#de77ae"
            ],
            [
             0.3,
             "#f1b6da"
            ],
            [
             0.4,
             "#fde0ef"
            ],
            [
             0.5,
             "#f7f7f7"
            ],
            [
             0.6,
             "#e6f5d0"
            ],
            [
             0.7,
             "#b8e186"
            ],
            [
             0.8,
             "#7fbc41"
            ],
            [
             0.9,
             "#4d9221"
            ],
            [
             1,
             "#276419"
            ]
           ],
           "sequential": [
            [
             0,
             "#0d0887"
            ],
            [
             0.1111111111111111,
             "#46039f"
            ],
            [
             0.2222222222222222,
             "#7201a8"
            ],
            [
             0.3333333333333333,
             "#9c179e"
            ],
            [
             0.4444444444444444,
             "#bd3786"
            ],
            [
             0.5555555555555556,
             "#d8576b"
            ],
            [
             0.6666666666666666,
             "#ed7953"
            ],
            [
             0.7777777777777778,
             "#fb9f3a"
            ],
            [
             0.8888888888888888,
             "#fdca26"
            ],
            [
             1,
             "#f0f921"
            ]
           ],
           "sequentialminus": [
            [
             0,
             "#0d0887"
            ],
            [
             0.1111111111111111,
             "#46039f"
            ],
            [
             0.2222222222222222,
             "#7201a8"
            ],
            [
             0.3333333333333333,
             "#9c179e"
            ],
            [
             0.4444444444444444,
             "#bd3786"
            ],
            [
             0.5555555555555556,
             "#d8576b"
            ],
            [
             0.6666666666666666,
             "#ed7953"
            ],
            [
             0.7777777777777778,
             "#fb9f3a"
            ],
            [
             0.8888888888888888,
             "#fdca26"
            ],
            [
             1,
             "#f0f921"
            ]
           ]
          },
          "colorway": [
           "#636efa",
           "#EF553B",
           "#00cc96",
           "#ab63fa",
           "#FFA15A",
           "#19d3f3",
           "#FF6692",
           "#B6E880",
           "#FF97FF",
           "#FECB52"
          ],
          "font": {
           "color": "#2a3f5f"
          },
          "geo": {
           "bgcolor": "white",
           "lakecolor": "white",
           "landcolor": "#E5ECF6",
           "showlakes": true,
           "showland": true,
           "subunitcolor": "white"
          },
          "hoverlabel": {
           "align": "left"
          },
          "hovermode": "closest",
          "mapbox": {
           "style": "light"
          },
          "paper_bgcolor": "white",
          "plot_bgcolor": "#E5ECF6",
          "polar": {
           "angularaxis": {
            "gridcolor": "white",
            "linecolor": "white",
            "ticks": ""
           },
           "bgcolor": "#E5ECF6",
           "radialaxis": {
            "gridcolor": "white",
            "linecolor": "white",
            "ticks": ""
           }
          },
          "scene": {
           "xaxis": {
            "backgroundcolor": "#E5ECF6",
            "gridcolor": "white",
            "gridwidth": 2,
            "linecolor": "white",
            "showbackground": true,
            "ticks": "",
            "zerolinecolor": "white"
           },
           "yaxis": {
            "backgroundcolor": "#E5ECF6",
            "gridcolor": "white",
            "gridwidth": 2,
            "linecolor": "white",
            "showbackground": true,
            "ticks": "",
            "zerolinecolor": "white"
           },
           "zaxis": {
            "backgroundcolor": "#E5ECF6",
            "gridcolor": "white",
            "gridwidth": 2,
            "linecolor": "white",
            "showbackground": true,
            "ticks": "",
            "zerolinecolor": "white"
           }
          },
          "shapedefaults": {
           "line": {
            "color": "#2a3f5f"
           }
          },
          "ternary": {
           "aaxis": {
            "gridcolor": "white",
            "linecolor": "white",
            "ticks": ""
           },
           "baxis": {
            "gridcolor": "white",
            "linecolor": "white",
            "ticks": ""
           },
           "bgcolor": "#E5ECF6",
           "caxis": {
            "gridcolor": "white",
            "linecolor": "white",
            "ticks": ""
           }
          },
          "title": {
           "x": 0.05
          },
          "xaxis": {
           "automargin": true,
           "gridcolor": "white",
           "linecolor": "white",
           "ticks": "",
           "title": {
            "standoff": 15
           },
           "zerolinecolor": "white",
           "zerolinewidth": 2
          },
          "yaxis": {
           "automargin": true,
           "gridcolor": "white",
           "linecolor": "white",
           "ticks": "",
           "title": {
            "standoff": 15
           },
           "zerolinecolor": "white",
           "zerolinewidth": 2
          }
         }
        },
        "title": {
         "text": "Drone Flight Plan",
         "x": 0.5
        },
        "updatemenus": [
         {
          "buttons": [
           {
            "args": [
             null,
             {
              "frame": {
               "duration": 1000,
               "redraw": false
              },
              "fromcurrent": true,
              "transition": {
               "duration": 1000
              }
             }
            ],
            "label": "Play",
            "method": "animate"
           }
          ],
          "type": "buttons"
         }
        ],
        "xaxis": {
         "autorange": true,
         "range": [
          0,
          150
         ],
         "zeroline": false
        },
        "yaxis": {
         "autorange": true,
         "range": [
          0,
          150
         ],
         "zeroline": false
        }
       }
      }
     },
     "metadata": {},
     "output_type": "display_data"
    }
   ],
   "source": [
    "camera_ = copy.deepcopy(camera_x10)\n",
    "dataset_spec_ = copy.deepcopy(dataset_spec)\n",
    "\n",
    "dataset_spec_.exposure_time_ms = 1000\n",
    "\n",
    "print(compute_speed_during_photo_capture(camera_,dataset_spec_))\n",
    "print(camera_, dataset_spec_)\n",
    "\n",
    "fig = plot_photo_plan(generate_photo_plan_on_grid(camera_, dataset_spec_))\n",
    "fig.show()"
   ]
  },
  {
   "cell_type": "markdown",
   "id": "e20868af",
   "metadata": {},
   "source": [
    "$\\color{red}{\\text{Experiment 1 }}$ Change overlap and confirm it affects the consecutive images\n",
    "\n",
    "* **Parameter Change:** Overlap from .7 to 0  \n",
    "<br>\n",
    "* **Expected Outcome:**  Reduction of the numer of consecutive images  \n",
    "<br>\n",
    "* **Explanation:** Overlap has a direct relationship with consecutive photo numbers. If overlap increases, images increase, if overlap reduces the number of images reduces.  \n",
    "<br> \n",
    "* **Math:** \n",
    "In `compute_distance_between_images` the overlap ratio is a determining factor in the distance between consecutive images.    \n",
    "<br>\n",
    "`horizontal_overlap = (1 - dataset_spec.overlap) * footprint_x`  <br><br>This product is then further used to plan flight path by:\n",
    "<br>\n",
    " `generate_photo_plan_on_grid` `images_x_axis = math.ceil(dataset_spec.scan_dimension_x / max_distance[0])`\n",
    " <br><br>Where the max distance determines how many points the drone needs to stop to take an image.\n",
    "\n",
    "* **Use Case:** Reducing overlap will generally lead to loss of details, in most cases increasing overlap is the best choice for image quality."
   ]
  },
  {
   "cell_type": "code",
   "execution_count": 266,
   "id": "7e6893eb",
   "metadata": {},
   "outputs": [
    {
     "name": "stdout",
     "output_type": "stream",
     "text": [
      "Camera(fx=4938.56, fy=4936.49, cx=4095.5, cy=3071.5, sensor_size_x_mm=13.107, sensor_size_y_mm=9.83, image_size_x_px=8192, image_size_y_px=6144) DatasetSpec(overlap=0, sidelap=0.7, height=30.48, scan_dimension_x=150, scan_dimension_y=150, exposure_time_ms=2)\n"
     ]
    },
    {
     "data": {
      "application/vnd.plotly.v1+json": {
       "config": {
        "plotlyServerURL": "https://plot.ly"
       },
       "data": [
        {
         "line": {
          "dash": "dot"
         },
         "marker": {
          "color": "green"
         },
         "mode": "lines+markers",
         "name": "flight",
         "type": "scatter",
         "x": [
          0,
          50,
          100,
          150,
          150,
          100,
          50,
          0,
          0,
          50,
          100,
          150,
          150,
          100,
          50,
          0,
          0,
          50,
          100,
          150,
          150,
          100,
          50,
          0,
          0,
          50,
          100,
          150,
          150,
          100,
          50,
          0,
          0,
          50,
          100,
          150,
          150,
          100,
          50,
          0,
          0,
          50,
          100,
          150,
          150,
          100,
          50,
          0,
          0,
          50,
          100,
          150,
          150,
          100,
          50,
          0,
          0,
          50,
          100,
          150
         ],
         "y": [
          0,
          0,
          0,
          0,
          10.714285714285714,
          10.714285714285714,
          10.714285714285714,
          10.714285714285714,
          21.428571428571427,
          21.428571428571427,
          21.428571428571427,
          21.428571428571427,
          32.14285714285714,
          32.14285714285714,
          32.14285714285714,
          32.14285714285714,
          42.857142857142854,
          42.857142857142854,
          42.857142857142854,
          42.857142857142854,
          53.57142857142857,
          53.57142857142857,
          53.57142857142857,
          53.57142857142857,
          64.28571428571428,
          64.28571428571428,
          64.28571428571428,
          64.28571428571428,
          75,
          75,
          75,
          75,
          85.71428571428571,
          85.71428571428571,
          85.71428571428571,
          85.71428571428571,
          96.42857142857142,
          96.42857142857142,
          96.42857142857142,
          96.42857142857142,
          107.14285714285714,
          107.14285714285714,
          107.14285714285714,
          107.14285714285714,
          117.85714285714285,
          117.85714285714285,
          117.85714285714285,
          117.85714285714285,
          128.57142857142856,
          128.57142857142856,
          128.57142857142856,
          128.57142857142856,
          139.28571428571428,
          139.28571428571428,
          139.28571428571428,
          139.28571428571428,
          150,
          150,
          150,
          150
         ]
        },
        {
         "marker": {
          "color": "blue",
          "size": 20,
          "symbol": "x-dot"
         },
         "mode": "markers",
         "name": "drone ground midpoint",
         "text": [
          "3.0859197822847144",
          "3.0859197822847144",
          "3.0859197822847144",
          "3.0859197822847144",
          "3.0859197822847144",
          "3.0859197822847144",
          "3.0859197822847144",
          "3.0859197822847144",
          "3.0859197822847144",
          "3.0859197822847144",
          "3.0859197822847144",
          "3.0859197822847144",
          "3.0859197822847144",
          "3.0859197822847144",
          "3.0859197822847144",
          "3.0859197822847144",
          "3.0859197822847144",
          "3.0859197822847144",
          "3.0859197822847144",
          "3.0859197822847144",
          "3.0859197822847144",
          "3.0859197822847144",
          "3.0859197822847144",
          "3.0859197822847144",
          "3.0859197822847144",
          "3.0859197822847144",
          "3.0859197822847144",
          "3.0859197822847144",
          "3.0859197822847144",
          "3.0859197822847144",
          "3.0859197822847144",
          "3.0859197822847144",
          "3.0859197822847144",
          "3.0859197822847144",
          "3.0859197822847144",
          "3.0859197822847144",
          "3.0859197822847144",
          "3.0859197822847144",
          "3.0859197822847144",
          "3.0859197822847144",
          "3.0859197822847144",
          "3.0859197822847144",
          "3.0859197822847144",
          "3.0859197822847144",
          "3.0859197822847144",
          "3.0859197822847144",
          "3.0859197822847144",
          "3.0859197822847144",
          "3.0859197822847144",
          "3.0859197822847144",
          "3.0859197822847144",
          "3.0859197822847144",
          "3.0859197822847144",
          "3.0859197822847144",
          "3.0859197822847144",
          "3.0859197822847144",
          "3.0859197822847144",
          "3.0859197822847144",
          "3.0859197822847144",
          "3.0859197822847144"
         ],
         "type": "scatter",
         "x": [
          0
         ],
         "y": [
          0
         ]
        }
       ],
       "frames": [
        {
         "data": [
          {
           "type": "scatter",
           "x": [
            0
           ],
           "y": [
            0
           ]
          }
         ],
         "traces": [
          1
         ]
        },
        {
         "data": [
          {
           "type": "scatter",
           "x": [
            50
           ],
           "y": [
            0
           ]
          }
         ],
         "traces": [
          1
         ]
        },
        {
         "data": [
          {
           "type": "scatter",
           "x": [
            100
           ],
           "y": [
            0
           ]
          }
         ],
         "traces": [
          1
         ]
        },
        {
         "data": [
          {
           "type": "scatter",
           "x": [
            150
           ],
           "y": [
            0
           ]
          }
         ],
         "traces": [
          1
         ]
        },
        {
         "data": [
          {
           "type": "scatter",
           "x": [
            150
           ],
           "y": [
            10.714285714285714
           ]
          }
         ],
         "traces": [
          1
         ]
        },
        {
         "data": [
          {
           "type": "scatter",
           "x": [
            100
           ],
           "y": [
            10.714285714285714
           ]
          }
         ],
         "traces": [
          1
         ]
        },
        {
         "data": [
          {
           "type": "scatter",
           "x": [
            50
           ],
           "y": [
            10.714285714285714
           ]
          }
         ],
         "traces": [
          1
         ]
        },
        {
         "data": [
          {
           "type": "scatter",
           "x": [
            0
           ],
           "y": [
            10.714285714285714
           ]
          }
         ],
         "traces": [
          1
         ]
        },
        {
         "data": [
          {
           "type": "scatter",
           "x": [
            0
           ],
           "y": [
            21.428571428571427
           ]
          }
         ],
         "traces": [
          1
         ]
        },
        {
         "data": [
          {
           "type": "scatter",
           "x": [
            50
           ],
           "y": [
            21.428571428571427
           ]
          }
         ],
         "traces": [
          1
         ]
        },
        {
         "data": [
          {
           "type": "scatter",
           "x": [
            100
           ],
           "y": [
            21.428571428571427
           ]
          }
         ],
         "traces": [
          1
         ]
        },
        {
         "data": [
          {
           "type": "scatter",
           "x": [
            150
           ],
           "y": [
            21.428571428571427
           ]
          }
         ],
         "traces": [
          1
         ]
        },
        {
         "data": [
          {
           "type": "scatter",
           "x": [
            150
           ],
           "y": [
            32.14285714285714
           ]
          }
         ],
         "traces": [
          1
         ]
        },
        {
         "data": [
          {
           "type": "scatter",
           "x": [
            100
           ],
           "y": [
            32.14285714285714
           ]
          }
         ],
         "traces": [
          1
         ]
        },
        {
         "data": [
          {
           "type": "scatter",
           "x": [
            50
           ],
           "y": [
            32.14285714285714
           ]
          }
         ],
         "traces": [
          1
         ]
        },
        {
         "data": [
          {
           "type": "scatter",
           "x": [
            0
           ],
           "y": [
            32.14285714285714
           ]
          }
         ],
         "traces": [
          1
         ]
        },
        {
         "data": [
          {
           "type": "scatter",
           "x": [
            0
           ],
           "y": [
            42.857142857142854
           ]
          }
         ],
         "traces": [
          1
         ]
        },
        {
         "data": [
          {
           "type": "scatter",
           "x": [
            50
           ],
           "y": [
            42.857142857142854
           ]
          }
         ],
         "traces": [
          1
         ]
        },
        {
         "data": [
          {
           "type": "scatter",
           "x": [
            100
           ],
           "y": [
            42.857142857142854
           ]
          }
         ],
         "traces": [
          1
         ]
        },
        {
         "data": [
          {
           "type": "scatter",
           "x": [
            150
           ],
           "y": [
            42.857142857142854
           ]
          }
         ],
         "traces": [
          1
         ]
        },
        {
         "data": [
          {
           "type": "scatter",
           "x": [
            150
           ],
           "y": [
            53.57142857142857
           ]
          }
         ],
         "traces": [
          1
         ]
        },
        {
         "data": [
          {
           "type": "scatter",
           "x": [
            100
           ],
           "y": [
            53.57142857142857
           ]
          }
         ],
         "traces": [
          1
         ]
        },
        {
         "data": [
          {
           "type": "scatter",
           "x": [
            50
           ],
           "y": [
            53.57142857142857
           ]
          }
         ],
         "traces": [
          1
         ]
        },
        {
         "data": [
          {
           "type": "scatter",
           "x": [
            0
           ],
           "y": [
            53.57142857142857
           ]
          }
         ],
         "traces": [
          1
         ]
        },
        {
         "data": [
          {
           "type": "scatter",
           "x": [
            0
           ],
           "y": [
            64.28571428571428
           ]
          }
         ],
         "traces": [
          1
         ]
        },
        {
         "data": [
          {
           "type": "scatter",
           "x": [
            50
           ],
           "y": [
            64.28571428571428
           ]
          }
         ],
         "traces": [
          1
         ]
        },
        {
         "data": [
          {
           "type": "scatter",
           "x": [
            100
           ],
           "y": [
            64.28571428571428
           ]
          }
         ],
         "traces": [
          1
         ]
        },
        {
         "data": [
          {
           "type": "scatter",
           "x": [
            150
           ],
           "y": [
            64.28571428571428
           ]
          }
         ],
         "traces": [
          1
         ]
        },
        {
         "data": [
          {
           "type": "scatter",
           "x": [
            150
           ],
           "y": [
            75
           ]
          }
         ],
         "traces": [
          1
         ]
        },
        {
         "data": [
          {
           "type": "scatter",
           "x": [
            100
           ],
           "y": [
            75
           ]
          }
         ],
         "traces": [
          1
         ]
        },
        {
         "data": [
          {
           "type": "scatter",
           "x": [
            50
           ],
           "y": [
            75
           ]
          }
         ],
         "traces": [
          1
         ]
        },
        {
         "data": [
          {
           "type": "scatter",
           "x": [
            0
           ],
           "y": [
            75
           ]
          }
         ],
         "traces": [
          1
         ]
        },
        {
         "data": [
          {
           "type": "scatter",
           "x": [
            0
           ],
           "y": [
            85.71428571428571
           ]
          }
         ],
         "traces": [
          1
         ]
        },
        {
         "data": [
          {
           "type": "scatter",
           "x": [
            50
           ],
           "y": [
            85.71428571428571
           ]
          }
         ],
         "traces": [
          1
         ]
        },
        {
         "data": [
          {
           "type": "scatter",
           "x": [
            100
           ],
           "y": [
            85.71428571428571
           ]
          }
         ],
         "traces": [
          1
         ]
        },
        {
         "data": [
          {
           "type": "scatter",
           "x": [
            150
           ],
           "y": [
            85.71428571428571
           ]
          }
         ],
         "traces": [
          1
         ]
        },
        {
         "data": [
          {
           "type": "scatter",
           "x": [
            150
           ],
           "y": [
            96.42857142857142
           ]
          }
         ],
         "traces": [
          1
         ]
        },
        {
         "data": [
          {
           "type": "scatter",
           "x": [
            100
           ],
           "y": [
            96.42857142857142
           ]
          }
         ],
         "traces": [
          1
         ]
        },
        {
         "data": [
          {
           "type": "scatter",
           "x": [
            50
           ],
           "y": [
            96.42857142857142
           ]
          }
         ],
         "traces": [
          1
         ]
        },
        {
         "data": [
          {
           "type": "scatter",
           "x": [
            0
           ],
           "y": [
            96.42857142857142
           ]
          }
         ],
         "traces": [
          1
         ]
        },
        {
         "data": [
          {
           "type": "scatter",
           "x": [
            0
           ],
           "y": [
            107.14285714285714
           ]
          }
         ],
         "traces": [
          1
         ]
        },
        {
         "data": [
          {
           "type": "scatter",
           "x": [
            50
           ],
           "y": [
            107.14285714285714
           ]
          }
         ],
         "traces": [
          1
         ]
        },
        {
         "data": [
          {
           "type": "scatter",
           "x": [
            100
           ],
           "y": [
            107.14285714285714
           ]
          }
         ],
         "traces": [
          1
         ]
        },
        {
         "data": [
          {
           "type": "scatter",
           "x": [
            150
           ],
           "y": [
            107.14285714285714
           ]
          }
         ],
         "traces": [
          1
         ]
        },
        {
         "data": [
          {
           "type": "scatter",
           "x": [
            150
           ],
           "y": [
            117.85714285714285
           ]
          }
         ],
         "traces": [
          1
         ]
        },
        {
         "data": [
          {
           "type": "scatter",
           "x": [
            100
           ],
           "y": [
            117.85714285714285
           ]
          }
         ],
         "traces": [
          1
         ]
        },
        {
         "data": [
          {
           "type": "scatter",
           "x": [
            50
           ],
           "y": [
            117.85714285714285
           ]
          }
         ],
         "traces": [
          1
         ]
        },
        {
         "data": [
          {
           "type": "scatter",
           "x": [
            0
           ],
           "y": [
            117.85714285714285
           ]
          }
         ],
         "traces": [
          1
         ]
        },
        {
         "data": [
          {
           "type": "scatter",
           "x": [
            0
           ],
           "y": [
            128.57142857142856
           ]
          }
         ],
         "traces": [
          1
         ]
        },
        {
         "data": [
          {
           "type": "scatter",
           "x": [
            50
           ],
           "y": [
            128.57142857142856
           ]
          }
         ],
         "traces": [
          1
         ]
        },
        {
         "data": [
          {
           "type": "scatter",
           "x": [
            100
           ],
           "y": [
            128.57142857142856
           ]
          }
         ],
         "traces": [
          1
         ]
        },
        {
         "data": [
          {
           "type": "scatter",
           "x": [
            150
           ],
           "y": [
            128.57142857142856
           ]
          }
         ],
         "traces": [
          1
         ]
        },
        {
         "data": [
          {
           "type": "scatter",
           "x": [
            150
           ],
           "y": [
            139.28571428571428
           ]
          }
         ],
         "traces": [
          1
         ]
        },
        {
         "data": [
          {
           "type": "scatter",
           "x": [
            100
           ],
           "y": [
            139.28571428571428
           ]
          }
         ],
         "traces": [
          1
         ]
        },
        {
         "data": [
          {
           "type": "scatter",
           "x": [
            50
           ],
           "y": [
            139.28571428571428
           ]
          }
         ],
         "traces": [
          1
         ]
        },
        {
         "data": [
          {
           "type": "scatter",
           "x": [
            0
           ],
           "y": [
            139.28571428571428
           ]
          }
         ],
         "traces": [
          1
         ]
        },
        {
         "data": [
          {
           "type": "scatter",
           "x": [
            0
           ],
           "y": [
            150
           ]
          }
         ],
         "traces": [
          1
         ]
        },
        {
         "data": [
          {
           "type": "scatter",
           "x": [
            50
           ],
           "y": [
            150
           ]
          }
         ],
         "traces": [
          1
         ]
        },
        {
         "data": [
          {
           "type": "scatter",
           "x": [
            100
           ],
           "y": [
            150
           ]
          }
         ],
         "traces": [
          1
         ]
        },
        {
         "data": [
          {
           "type": "scatter",
           "x": [
            150
           ],
           "y": [
            150
           ]
          }
         ],
         "traces": [
          1
         ]
        }
       ],
       "layout": {
        "margin": {
         "b": 50,
         "l": 50,
         "r": 50,
         "t": 50
        },
        "template": {
         "data": {
          "bar": [
           {
            "error_x": {
             "color": "#2a3f5f"
            },
            "error_y": {
             "color": "#2a3f5f"
            },
            "marker": {
             "line": {
              "color": "#E5ECF6",
              "width": 0.5
             },
             "pattern": {
              "fillmode": "overlay",
              "size": 10,
              "solidity": 0.2
             }
            },
            "type": "bar"
           }
          ],
          "barpolar": [
           {
            "marker": {
             "line": {
              "color": "#E5ECF6",
              "width": 0.5
             },
             "pattern": {
              "fillmode": "overlay",
              "size": 10,
              "solidity": 0.2
             }
            },
            "type": "barpolar"
           }
          ],
          "carpet": [
           {
            "aaxis": {
             "endlinecolor": "#2a3f5f",
             "gridcolor": "white",
             "linecolor": "white",
             "minorgridcolor": "white",
             "startlinecolor": "#2a3f5f"
            },
            "baxis": {
             "endlinecolor": "#2a3f5f",
             "gridcolor": "white",
             "linecolor": "white",
             "minorgridcolor": "white",
             "startlinecolor": "#2a3f5f"
            },
            "type": "carpet"
           }
          ],
          "choropleth": [
           {
            "colorbar": {
             "outlinewidth": 0,
             "ticks": ""
            },
            "type": "choropleth"
           }
          ],
          "contour": [
           {
            "colorbar": {
             "outlinewidth": 0,
             "ticks": ""
            },
            "colorscale": [
             [
              0,
              "#0d0887"
             ],
             [
              0.1111111111111111,
              "#46039f"
             ],
             [
              0.2222222222222222,
              "#7201a8"
             ],
             [
              0.3333333333333333,
              "#9c179e"
             ],
             [
              0.4444444444444444,
              "#bd3786"
             ],
             [
              0.5555555555555556,
              "#d8576b"
             ],
             [
              0.6666666666666666,
              "#ed7953"
             ],
             [
              0.7777777777777778,
              "#fb9f3a"
             ],
             [
              0.8888888888888888,
              "#fdca26"
             ],
             [
              1,
              "#f0f921"
             ]
            ],
            "type": "contour"
           }
          ],
          "contourcarpet": [
           {
            "colorbar": {
             "outlinewidth": 0,
             "ticks": ""
            },
            "type": "contourcarpet"
           }
          ],
          "heatmap": [
           {
            "colorbar": {
             "outlinewidth": 0,
             "ticks": ""
            },
            "colorscale": [
             [
              0,
              "#0d0887"
             ],
             [
              0.1111111111111111,
              "#46039f"
             ],
             [
              0.2222222222222222,
              "#7201a8"
             ],
             [
              0.3333333333333333,
              "#9c179e"
             ],
             [
              0.4444444444444444,
              "#bd3786"
             ],
             [
              0.5555555555555556,
              "#d8576b"
             ],
             [
              0.6666666666666666,
              "#ed7953"
             ],
             [
              0.7777777777777778,
              "#fb9f3a"
             ],
             [
              0.8888888888888888,
              "#fdca26"
             ],
             [
              1,
              "#f0f921"
             ]
            ],
            "type": "heatmap"
           }
          ],
          "heatmapgl": [
           {
            "colorbar": {
             "outlinewidth": 0,
             "ticks": ""
            },
            "colorscale": [
             [
              0,
              "#0d0887"
             ],
             [
              0.1111111111111111,
              "#46039f"
             ],
             [
              0.2222222222222222,
              "#7201a8"
             ],
             [
              0.3333333333333333,
              "#9c179e"
             ],
             [
              0.4444444444444444,
              "#bd3786"
             ],
             [
              0.5555555555555556,
              "#d8576b"
             ],
             [
              0.6666666666666666,
              "#ed7953"
             ],
             [
              0.7777777777777778,
              "#fb9f3a"
             ],
             [
              0.8888888888888888,
              "#fdca26"
             ],
             [
              1,
              "#f0f921"
             ]
            ],
            "type": "heatmapgl"
           }
          ],
          "histogram": [
           {
            "marker": {
             "pattern": {
              "fillmode": "overlay",
              "size": 10,
              "solidity": 0.2
             }
            },
            "type": "histogram"
           }
          ],
          "histogram2d": [
           {
            "colorbar": {
             "outlinewidth": 0,
             "ticks": ""
            },
            "colorscale": [
             [
              0,
              "#0d0887"
             ],
             [
              0.1111111111111111,
              "#46039f"
             ],
             [
              0.2222222222222222,
              "#7201a8"
             ],
             [
              0.3333333333333333,
              "#9c179e"
             ],
             [
              0.4444444444444444,
              "#bd3786"
             ],
             [
              0.5555555555555556,
              "#d8576b"
             ],
             [
              0.6666666666666666,
              "#ed7953"
             ],
             [
              0.7777777777777778,
              "#fb9f3a"
             ],
             [
              0.8888888888888888,
              "#fdca26"
             ],
             [
              1,
              "#f0f921"
             ]
            ],
            "type": "histogram2d"
           }
          ],
          "histogram2dcontour": [
           {
            "colorbar": {
             "outlinewidth": 0,
             "ticks": ""
            },
            "colorscale": [
             [
              0,
              "#0d0887"
             ],
             [
              0.1111111111111111,
              "#46039f"
             ],
             [
              0.2222222222222222,
              "#7201a8"
             ],
             [
              0.3333333333333333,
              "#9c179e"
             ],
             [
              0.4444444444444444,
              "#bd3786"
             ],
             [
              0.5555555555555556,
              "#d8576b"
             ],
             [
              0.6666666666666666,
              "#ed7953"
             ],
             [
              0.7777777777777778,
              "#fb9f3a"
             ],
             [
              0.8888888888888888,
              "#fdca26"
             ],
             [
              1,
              "#f0f921"
             ]
            ],
            "type": "histogram2dcontour"
           }
          ],
          "mesh3d": [
           {
            "colorbar": {
             "outlinewidth": 0,
             "ticks": ""
            },
            "type": "mesh3d"
           }
          ],
          "parcoords": [
           {
            "line": {
             "colorbar": {
              "outlinewidth": 0,
              "ticks": ""
             }
            },
            "type": "parcoords"
           }
          ],
          "pie": [
           {
            "automargin": true,
            "type": "pie"
           }
          ],
          "scatter": [
           {
            "fillpattern": {
             "fillmode": "overlay",
             "size": 10,
             "solidity": 0.2
            },
            "type": "scatter"
           }
          ],
          "scatter3d": [
           {
            "line": {
             "colorbar": {
              "outlinewidth": 0,
              "ticks": ""
             }
            },
            "marker": {
             "colorbar": {
              "outlinewidth": 0,
              "ticks": ""
             }
            },
            "type": "scatter3d"
           }
          ],
          "scattercarpet": [
           {
            "marker": {
             "colorbar": {
              "outlinewidth": 0,
              "ticks": ""
             }
            },
            "type": "scattercarpet"
           }
          ],
          "scattergeo": [
           {
            "marker": {
             "colorbar": {
              "outlinewidth": 0,
              "ticks": ""
             }
            },
            "type": "scattergeo"
           }
          ],
          "scattergl": [
           {
            "marker": {
             "colorbar": {
              "outlinewidth": 0,
              "ticks": ""
             }
            },
            "type": "scattergl"
           }
          ],
          "scattermapbox": [
           {
            "marker": {
             "colorbar": {
              "outlinewidth": 0,
              "ticks": ""
             }
            },
            "type": "scattermapbox"
           }
          ],
          "scatterpolar": [
           {
            "marker": {
             "colorbar": {
              "outlinewidth": 0,
              "ticks": ""
             }
            },
            "type": "scatterpolar"
           }
          ],
          "scatterpolargl": [
           {
            "marker": {
             "colorbar": {
              "outlinewidth": 0,
              "ticks": ""
             }
            },
            "type": "scatterpolargl"
           }
          ],
          "scatterternary": [
           {
            "marker": {
             "colorbar": {
              "outlinewidth": 0,
              "ticks": ""
             }
            },
            "type": "scatterternary"
           }
          ],
          "surface": [
           {
            "colorbar": {
             "outlinewidth": 0,
             "ticks": ""
            },
            "colorscale": [
             [
              0,
              "#0d0887"
             ],
             [
              0.1111111111111111,
              "#46039f"
             ],
             [
              0.2222222222222222,
              "#7201a8"
             ],
             [
              0.3333333333333333,
              "#9c179e"
             ],
             [
              0.4444444444444444,
              "#bd3786"
             ],
             [
              0.5555555555555556,
              "#d8576b"
             ],
             [
              0.6666666666666666,
              "#ed7953"
             ],
             [
              0.7777777777777778,
              "#fb9f3a"
             ],
             [
              0.8888888888888888,
              "#fdca26"
             ],
             [
              1,
              "#f0f921"
             ]
            ],
            "type": "surface"
           }
          ],
          "table": [
           {
            "cells": {
             "fill": {
              "color": "#EBF0F8"
             },
             "line": {
              "color": "white"
             }
            },
            "header": {
             "fill": {
              "color": "#C8D4E3"
             },
             "line": {
              "color": "white"
             }
            },
            "type": "table"
           }
          ]
         },
         "layout": {
          "annotationdefaults": {
           "arrowcolor": "#2a3f5f",
           "arrowhead": 0,
           "arrowwidth": 1
          },
          "autotypenumbers": "strict",
          "coloraxis": {
           "colorbar": {
            "outlinewidth": 0,
            "ticks": ""
           }
          },
          "colorscale": {
           "diverging": [
            [
             0,
             "#8e0152"
            ],
            [
             0.1,
             "#c51b7d"
            ],
            [
             0.2,
             "#de77ae"
            ],
            [
             0.3,
             "#f1b6da"
            ],
            [
             0.4,
             "#fde0ef"
            ],
            [
             0.5,
             "#f7f7f7"
            ],
            [
             0.6,
             "#e6f5d0"
            ],
            [
             0.7,
             "#b8e186"
            ],
            [
             0.8,
             "#7fbc41"
            ],
            [
             0.9,
             "#4d9221"
            ],
            [
             1,
             "#276419"
            ]
           ],
           "sequential": [
            [
             0,
             "#0d0887"
            ],
            [
             0.1111111111111111,
             "#46039f"
            ],
            [
             0.2222222222222222,
             "#7201a8"
            ],
            [
             0.3333333333333333,
             "#9c179e"
            ],
            [
             0.4444444444444444,
             "#bd3786"
            ],
            [
             0.5555555555555556,
             "#d8576b"
            ],
            [
             0.6666666666666666,
             "#ed7953"
            ],
            [
             0.7777777777777778,
             "#fb9f3a"
            ],
            [
             0.8888888888888888,
             "#fdca26"
            ],
            [
             1,
             "#f0f921"
            ]
           ],
           "sequentialminus": [
            [
             0,
             "#0d0887"
            ],
            [
             0.1111111111111111,
             "#46039f"
            ],
            [
             0.2222222222222222,
             "#7201a8"
            ],
            [
             0.3333333333333333,
             "#9c179e"
            ],
            [
             0.4444444444444444,
             "#bd3786"
            ],
            [
             0.5555555555555556,
             "#d8576b"
            ],
            [
             0.6666666666666666,
             "#ed7953"
            ],
            [
             0.7777777777777778,
             "#fb9f3a"
            ],
            [
             0.8888888888888888,
             "#fdca26"
            ],
            [
             1,
             "#f0f921"
            ]
           ]
          },
          "colorway": [
           "#636efa",
           "#EF553B",
           "#00cc96",
           "#ab63fa",
           "#FFA15A",
           "#19d3f3",
           "#FF6692",
           "#B6E880",
           "#FF97FF",
           "#FECB52"
          ],
          "font": {
           "color": "#2a3f5f"
          },
          "geo": {
           "bgcolor": "white",
           "lakecolor": "white",
           "landcolor": "#E5ECF6",
           "showlakes": true,
           "showland": true,
           "subunitcolor": "white"
          },
          "hoverlabel": {
           "align": "left"
          },
          "hovermode": "closest",
          "mapbox": {
           "style": "light"
          },
          "paper_bgcolor": "white",
          "plot_bgcolor": "#E5ECF6",
          "polar": {
           "angularaxis": {
            "gridcolor": "white",
            "linecolor": "white",
            "ticks": ""
           },
           "bgcolor": "#E5ECF6",
           "radialaxis": {
            "gridcolor": "white",
            "linecolor": "white",
            "ticks": ""
           }
          },
          "scene": {
           "xaxis": {
            "backgroundcolor": "#E5ECF6",
            "gridcolor": "white",
            "gridwidth": 2,
            "linecolor": "white",
            "showbackground": true,
            "ticks": "",
            "zerolinecolor": "white"
           },
           "yaxis": {
            "backgroundcolor": "#E5ECF6",
            "gridcolor": "white",
            "gridwidth": 2,
            "linecolor": "white",
            "showbackground": true,
            "ticks": "",
            "zerolinecolor": "white"
           },
           "zaxis": {
            "backgroundcolor": "#E5ECF6",
            "gridcolor": "white",
            "gridwidth": 2,
            "linecolor": "white",
            "showbackground": true,
            "ticks": "",
            "zerolinecolor": "white"
           }
          },
          "shapedefaults": {
           "line": {
            "color": "#2a3f5f"
           }
          },
          "ternary": {
           "aaxis": {
            "gridcolor": "white",
            "linecolor": "white",
            "ticks": ""
           },
           "baxis": {
            "gridcolor": "white",
            "linecolor": "white",
            "ticks": ""
           },
           "bgcolor": "#E5ECF6",
           "caxis": {
            "gridcolor": "white",
            "linecolor": "white",
            "ticks": ""
           }
          },
          "title": {
           "x": 0.05
          },
          "xaxis": {
           "automargin": true,
           "gridcolor": "white",
           "linecolor": "white",
           "ticks": "",
           "title": {
            "standoff": 15
           },
           "zerolinecolor": "white",
           "zerolinewidth": 2
          },
          "yaxis": {
           "automargin": true,
           "gridcolor": "white",
           "linecolor": "white",
           "ticks": "",
           "title": {
            "standoff": 15
           },
           "zerolinecolor": "white",
           "zerolinewidth": 2
          }
         }
        },
        "title": {
         "text": "Drone Flight Plan",
         "x": 0.5
        },
        "updatemenus": [
         {
          "buttons": [
           {
            "args": [
             null,
             {
              "frame": {
               "duration": 1000,
               "redraw": false
              },
              "fromcurrent": true,
              "transition": {
               "duration": 1000
              }
             }
            ],
            "label": "Play",
            "method": "animate"
           }
          ],
          "type": "buttons"
         }
        ],
        "xaxis": {
         "autorange": true,
         "range": [
          0,
          150
         ],
         "zeroline": false
        },
        "yaxis": {
         "autorange": true,
         "range": [
          0,
          150
         ],
         "zeroline": false
        }
       }
      }
     },
     "metadata": {},
     "output_type": "display_data"
    }
   ],
   "source": [
    "camera_ = copy.deepcopy(camera_x10)\n",
    "dataset_spec_ = copy.deepcopy(dataset_spec)\n",
    "\n",
    "dataset_spec_.overlap = 0\n",
    "#dataset_spec_.sidelap = 0\n",
    "\n",
    "\n",
    "print(camera_, dataset_spec_)\n",
    "\n",
    "fig = plot_photo_plan(generate_photo_plan_on_grid(camera_, dataset_spec_))\n",
    "fig.show()"
   ]
  },
  {
   "cell_type": "markdown",
   "id": "a267e6ed",
   "metadata": {},
   "source": [
    "$\\color{red}{\\text{Experiment 2 }}$ Change sidelap and confirm it does not affect the consecutive images\n",
    "\n",
    "* **Parameter Change:** Sidelap from .7 to 0  \n",
    "<br>\n",
    "* **Expected Outcome:**  No effect on the numer of consecutive images. However there will be a reduction in the amount of rows.  \n",
    "<br>\n",
    "* **Explanation:** Sidelap has a direct relationship with number of rows of photos. If sidelap increases, number of rows increase increase, if sidelap reduces the number of images reduces.  \n",
    "<br> \n",
    "* **Math:** \n",
    "In `compute_distance_between_images` the sidelap ratio is a determining factor in the number of rows.    \n",
    "<br>\n",
    "`vertical_overlap = (1 - dataset_spec.sidelap) * footprint_y`  <br><br>This product is then further used to plan flight path by:\n",
    "<br>\n",
    " `generate_photo_plan_on_grid` `images_y_axis = math.ceil(dataset_spec.scan_dimension_y / max_distance[1])`\n",
    " <br><br>Where the max distance determines how many rows of consecutive points the drone needs to stop to take an image.\n",
    "\n",
    "* **Use Case:** Reducing overlap will generally lead to loss of details, in most cases increasing overlap is the best choice for image quality."
   ]
  },
  {
   "cell_type": "code",
   "execution_count": 271,
   "id": "07d8ba39",
   "metadata": {},
   "outputs": [
    {
     "name": "stdout",
     "output_type": "stream",
     "text": [
      "Camera(fx=4938.56, fy=4936.49, cx=4095.5, cy=3071.5, sensor_size_x_mm=13.107, sensor_size_y_mm=9.83, image_size_x_px=8192, image_size_y_px=6144) DatasetSpec(overlap=0.7, sidelap=0, height=30.48, scan_dimension_x=150, scan_dimension_y=150, exposure_time_ms=2)\n"
     ]
    },
    {
     "data": {
      "application/vnd.plotly.v1+json": {
       "config": {
        "plotlyServerURL": "https://plot.ly"
       },
       "data": [
        {
         "line": {
          "dash": "dot"
         },
         "marker": {
          "color": "green"
         },
         "mode": "lines+markers",
         "name": "flight",
         "type": "scatter",
         "x": [
          0,
          15,
          30,
          45,
          60,
          75,
          90,
          105,
          120,
          135,
          150,
          150,
          135,
          120,
          105,
          90,
          75,
          60,
          45,
          30,
          15,
          0,
          0,
          15,
          30,
          45,
          60,
          75,
          90,
          105,
          120,
          135,
          150,
          150,
          135,
          120,
          105,
          90,
          75,
          60,
          45,
          30,
          15,
          0,
          0,
          15,
          30,
          45,
          60,
          75,
          90,
          105,
          120,
          135,
          150
         ],
         "y": [
          0,
          0,
          0,
          0,
          0,
          0,
          0,
          0,
          0,
          0,
          0,
          37.5,
          37.5,
          37.5,
          37.5,
          37.5,
          37.5,
          37.5,
          37.5,
          37.5,
          37.5,
          37.5,
          75,
          75,
          75,
          75,
          75,
          75,
          75,
          75,
          75,
          75,
          75,
          112.5,
          112.5,
          112.5,
          112.5,
          112.5,
          112.5,
          112.5,
          112.5,
          112.5,
          112.5,
          112.5,
          150,
          150,
          150,
          150,
          150,
          150,
          150,
          150,
          150,
          150,
          150
         ]
        },
        {
         "marker": {
          "color": "blue",
          "size": 20,
          "symbol": "x-dot"
         },
         "mode": "markers",
         "name": "drone ground midpoint",
         "text": [
          "3.0859197822847144",
          "3.0859197822847144",
          "3.0859197822847144",
          "3.0859197822847144",
          "3.0859197822847144",
          "3.0859197822847144",
          "3.0859197822847144",
          "3.0859197822847144",
          "3.0859197822847144",
          "3.0859197822847144",
          "3.0859197822847144",
          "3.0859197822847144",
          "3.0859197822847144",
          "3.0859197822847144",
          "3.0859197822847144",
          "3.0859197822847144",
          "3.0859197822847144",
          "3.0859197822847144",
          "3.0859197822847144",
          "3.0859197822847144",
          "3.0859197822847144",
          "3.0859197822847144",
          "3.0859197822847144",
          "3.0859197822847144",
          "3.0859197822847144",
          "3.0859197822847144",
          "3.0859197822847144",
          "3.0859197822847144",
          "3.0859197822847144",
          "3.0859197822847144",
          "3.0859197822847144",
          "3.0859197822847144",
          "3.0859197822847144",
          "3.0859197822847144",
          "3.0859197822847144",
          "3.0859197822847144",
          "3.0859197822847144",
          "3.0859197822847144",
          "3.0859197822847144",
          "3.0859197822847144",
          "3.0859197822847144",
          "3.0859197822847144",
          "3.0859197822847144",
          "3.0859197822847144",
          "3.0859197822847144",
          "3.0859197822847144",
          "3.0859197822847144",
          "3.0859197822847144",
          "3.0859197822847144",
          "3.0859197822847144",
          "3.0859197822847144",
          "3.0859197822847144",
          "3.0859197822847144",
          "3.0859197822847144",
          "3.0859197822847144"
         ],
         "type": "scatter",
         "x": [
          0
         ],
         "y": [
          0
         ]
        }
       ],
       "frames": [
        {
         "data": [
          {
           "type": "scatter",
           "x": [
            0
           ],
           "y": [
            0
           ]
          }
         ],
         "traces": [
          1
         ]
        },
        {
         "data": [
          {
           "type": "scatter",
           "x": [
            15
           ],
           "y": [
            0
           ]
          }
         ],
         "traces": [
          1
         ]
        },
        {
         "data": [
          {
           "type": "scatter",
           "x": [
            30
           ],
           "y": [
            0
           ]
          }
         ],
         "traces": [
          1
         ]
        },
        {
         "data": [
          {
           "type": "scatter",
           "x": [
            45
           ],
           "y": [
            0
           ]
          }
         ],
         "traces": [
          1
         ]
        },
        {
         "data": [
          {
           "type": "scatter",
           "x": [
            60
           ],
           "y": [
            0
           ]
          }
         ],
         "traces": [
          1
         ]
        },
        {
         "data": [
          {
           "type": "scatter",
           "x": [
            75
           ],
           "y": [
            0
           ]
          }
         ],
         "traces": [
          1
         ]
        },
        {
         "data": [
          {
           "type": "scatter",
           "x": [
            90
           ],
           "y": [
            0
           ]
          }
         ],
         "traces": [
          1
         ]
        },
        {
         "data": [
          {
           "type": "scatter",
           "x": [
            105
           ],
           "y": [
            0
           ]
          }
         ],
         "traces": [
          1
         ]
        },
        {
         "data": [
          {
           "type": "scatter",
           "x": [
            120
           ],
           "y": [
            0
           ]
          }
         ],
         "traces": [
          1
         ]
        },
        {
         "data": [
          {
           "type": "scatter",
           "x": [
            135
           ],
           "y": [
            0
           ]
          }
         ],
         "traces": [
          1
         ]
        },
        {
         "data": [
          {
           "type": "scatter",
           "x": [
            150
           ],
           "y": [
            0
           ]
          }
         ],
         "traces": [
          1
         ]
        },
        {
         "data": [
          {
           "type": "scatter",
           "x": [
            150
           ],
           "y": [
            37.5
           ]
          }
         ],
         "traces": [
          1
         ]
        },
        {
         "data": [
          {
           "type": "scatter",
           "x": [
            135
           ],
           "y": [
            37.5
           ]
          }
         ],
         "traces": [
          1
         ]
        },
        {
         "data": [
          {
           "type": "scatter",
           "x": [
            120
           ],
           "y": [
            37.5
           ]
          }
         ],
         "traces": [
          1
         ]
        },
        {
         "data": [
          {
           "type": "scatter",
           "x": [
            105
           ],
           "y": [
            37.5
           ]
          }
         ],
         "traces": [
          1
         ]
        },
        {
         "data": [
          {
           "type": "scatter",
           "x": [
            90
           ],
           "y": [
            37.5
           ]
          }
         ],
         "traces": [
          1
         ]
        },
        {
         "data": [
          {
           "type": "scatter",
           "x": [
            75
           ],
           "y": [
            37.5
           ]
          }
         ],
         "traces": [
          1
         ]
        },
        {
         "data": [
          {
           "type": "scatter",
           "x": [
            60
           ],
           "y": [
            37.5
           ]
          }
         ],
         "traces": [
          1
         ]
        },
        {
         "data": [
          {
           "type": "scatter",
           "x": [
            45
           ],
           "y": [
            37.5
           ]
          }
         ],
         "traces": [
          1
         ]
        },
        {
         "data": [
          {
           "type": "scatter",
           "x": [
            30
           ],
           "y": [
            37.5
           ]
          }
         ],
         "traces": [
          1
         ]
        },
        {
         "data": [
          {
           "type": "scatter",
           "x": [
            15
           ],
           "y": [
            37.5
           ]
          }
         ],
         "traces": [
          1
         ]
        },
        {
         "data": [
          {
           "type": "scatter",
           "x": [
            0
           ],
           "y": [
            37.5
           ]
          }
         ],
         "traces": [
          1
         ]
        },
        {
         "data": [
          {
           "type": "scatter",
           "x": [
            0
           ],
           "y": [
            75
           ]
          }
         ],
         "traces": [
          1
         ]
        },
        {
         "data": [
          {
           "type": "scatter",
           "x": [
            15
           ],
           "y": [
            75
           ]
          }
         ],
         "traces": [
          1
         ]
        },
        {
         "data": [
          {
           "type": "scatter",
           "x": [
            30
           ],
           "y": [
            75
           ]
          }
         ],
         "traces": [
          1
         ]
        },
        {
         "data": [
          {
           "type": "scatter",
           "x": [
            45
           ],
           "y": [
            75
           ]
          }
         ],
         "traces": [
          1
         ]
        },
        {
         "data": [
          {
           "type": "scatter",
           "x": [
            60
           ],
           "y": [
            75
           ]
          }
         ],
         "traces": [
          1
         ]
        },
        {
         "data": [
          {
           "type": "scatter",
           "x": [
            75
           ],
           "y": [
            75
           ]
          }
         ],
         "traces": [
          1
         ]
        },
        {
         "data": [
          {
           "type": "scatter",
           "x": [
            90
           ],
           "y": [
            75
           ]
          }
         ],
         "traces": [
          1
         ]
        },
        {
         "data": [
          {
           "type": "scatter",
           "x": [
            105
           ],
           "y": [
            75
           ]
          }
         ],
         "traces": [
          1
         ]
        },
        {
         "data": [
          {
           "type": "scatter",
           "x": [
            120
           ],
           "y": [
            75
           ]
          }
         ],
         "traces": [
          1
         ]
        },
        {
         "data": [
          {
           "type": "scatter",
           "x": [
            135
           ],
           "y": [
            75
           ]
          }
         ],
         "traces": [
          1
         ]
        },
        {
         "data": [
          {
           "type": "scatter",
           "x": [
            150
           ],
           "y": [
            75
           ]
          }
         ],
         "traces": [
          1
         ]
        },
        {
         "data": [
          {
           "type": "scatter",
           "x": [
            150
           ],
           "y": [
            112.5
           ]
          }
         ],
         "traces": [
          1
         ]
        },
        {
         "data": [
          {
           "type": "scatter",
           "x": [
            135
           ],
           "y": [
            112.5
           ]
          }
         ],
         "traces": [
          1
         ]
        },
        {
         "data": [
          {
           "type": "scatter",
           "x": [
            120
           ],
           "y": [
            112.5
           ]
          }
         ],
         "traces": [
          1
         ]
        },
        {
         "data": [
          {
           "type": "scatter",
           "x": [
            105
           ],
           "y": [
            112.5
           ]
          }
         ],
         "traces": [
          1
         ]
        },
        {
         "data": [
          {
           "type": "scatter",
           "x": [
            90
           ],
           "y": [
            112.5
           ]
          }
         ],
         "traces": [
          1
         ]
        },
        {
         "data": [
          {
           "type": "scatter",
           "x": [
            75
           ],
           "y": [
            112.5
           ]
          }
         ],
         "traces": [
          1
         ]
        },
        {
         "data": [
          {
           "type": "scatter",
           "x": [
            60
           ],
           "y": [
            112.5
           ]
          }
         ],
         "traces": [
          1
         ]
        },
        {
         "data": [
          {
           "type": "scatter",
           "x": [
            45
           ],
           "y": [
            112.5
           ]
          }
         ],
         "traces": [
          1
         ]
        },
        {
         "data": [
          {
           "type": "scatter",
           "x": [
            30
           ],
           "y": [
            112.5
           ]
          }
         ],
         "traces": [
          1
         ]
        },
        {
         "data": [
          {
           "type": "scatter",
           "x": [
            15
           ],
           "y": [
            112.5
           ]
          }
         ],
         "traces": [
          1
         ]
        },
        {
         "data": [
          {
           "type": "scatter",
           "x": [
            0
           ],
           "y": [
            112.5
           ]
          }
         ],
         "traces": [
          1
         ]
        },
        {
         "data": [
          {
           "type": "scatter",
           "x": [
            0
           ],
           "y": [
            150
           ]
          }
         ],
         "traces": [
          1
         ]
        },
        {
         "data": [
          {
           "type": "scatter",
           "x": [
            15
           ],
           "y": [
            150
           ]
          }
         ],
         "traces": [
          1
         ]
        },
        {
         "data": [
          {
           "type": "scatter",
           "x": [
            30
           ],
           "y": [
            150
           ]
          }
         ],
         "traces": [
          1
         ]
        },
        {
         "data": [
          {
           "type": "scatter",
           "x": [
            45
           ],
           "y": [
            150
           ]
          }
         ],
         "traces": [
          1
         ]
        },
        {
         "data": [
          {
           "type": "scatter",
           "x": [
            60
           ],
           "y": [
            150
           ]
          }
         ],
         "traces": [
          1
         ]
        },
        {
         "data": [
          {
           "type": "scatter",
           "x": [
            75
           ],
           "y": [
            150
           ]
          }
         ],
         "traces": [
          1
         ]
        },
        {
         "data": [
          {
           "type": "scatter",
           "x": [
            90
           ],
           "y": [
            150
           ]
          }
         ],
         "traces": [
          1
         ]
        },
        {
         "data": [
          {
           "type": "scatter",
           "x": [
            105
           ],
           "y": [
            150
           ]
          }
         ],
         "traces": [
          1
         ]
        },
        {
         "data": [
          {
           "type": "scatter",
           "x": [
            120
           ],
           "y": [
            150
           ]
          }
         ],
         "traces": [
          1
         ]
        },
        {
         "data": [
          {
           "type": "scatter",
           "x": [
            135
           ],
           "y": [
            150
           ]
          }
         ],
         "traces": [
          1
         ]
        },
        {
         "data": [
          {
           "type": "scatter",
           "x": [
            150
           ],
           "y": [
            150
           ]
          }
         ],
         "traces": [
          1
         ]
        }
       ],
       "layout": {
        "margin": {
         "b": 50,
         "l": 50,
         "r": 50,
         "t": 50
        },
        "template": {
         "data": {
          "bar": [
           {
            "error_x": {
             "color": "#2a3f5f"
            },
            "error_y": {
             "color": "#2a3f5f"
            },
            "marker": {
             "line": {
              "color": "#E5ECF6",
              "width": 0.5
             },
             "pattern": {
              "fillmode": "overlay",
              "size": 10,
              "solidity": 0.2
             }
            },
            "type": "bar"
           }
          ],
          "barpolar": [
           {
            "marker": {
             "line": {
              "color": "#E5ECF6",
              "width": 0.5
             },
             "pattern": {
              "fillmode": "overlay",
              "size": 10,
              "solidity": 0.2
             }
            },
            "type": "barpolar"
           }
          ],
          "carpet": [
           {
            "aaxis": {
             "endlinecolor": "#2a3f5f",
             "gridcolor": "white",
             "linecolor": "white",
             "minorgridcolor": "white",
             "startlinecolor": "#2a3f5f"
            },
            "baxis": {
             "endlinecolor": "#2a3f5f",
             "gridcolor": "white",
             "linecolor": "white",
             "minorgridcolor": "white",
             "startlinecolor": "#2a3f5f"
            },
            "type": "carpet"
           }
          ],
          "choropleth": [
           {
            "colorbar": {
             "outlinewidth": 0,
             "ticks": ""
            },
            "type": "choropleth"
           }
          ],
          "contour": [
           {
            "colorbar": {
             "outlinewidth": 0,
             "ticks": ""
            },
            "colorscale": [
             [
              0,
              "#0d0887"
             ],
             [
              0.1111111111111111,
              "#46039f"
             ],
             [
              0.2222222222222222,
              "#7201a8"
             ],
             [
              0.3333333333333333,
              "#9c179e"
             ],
             [
              0.4444444444444444,
              "#bd3786"
             ],
             [
              0.5555555555555556,
              "#d8576b"
             ],
             [
              0.6666666666666666,
              "#ed7953"
             ],
             [
              0.7777777777777778,
              "#fb9f3a"
             ],
             [
              0.8888888888888888,
              "#fdca26"
             ],
             [
              1,
              "#f0f921"
             ]
            ],
            "type": "contour"
           }
          ],
          "contourcarpet": [
           {
            "colorbar": {
             "outlinewidth": 0,
             "ticks": ""
            },
            "type": "contourcarpet"
           }
          ],
          "heatmap": [
           {
            "colorbar": {
             "outlinewidth": 0,
             "ticks": ""
            },
            "colorscale": [
             [
              0,
              "#0d0887"
             ],
             [
              0.1111111111111111,
              "#46039f"
             ],
             [
              0.2222222222222222,
              "#7201a8"
             ],
             [
              0.3333333333333333,
              "#9c179e"
             ],
             [
              0.4444444444444444,
              "#bd3786"
             ],
             [
              0.5555555555555556,
              "#d8576b"
             ],
             [
              0.6666666666666666,
              "#ed7953"
             ],
             [
              0.7777777777777778,
              "#fb9f3a"
             ],
             [
              0.8888888888888888,
              "#fdca26"
             ],
             [
              1,
              "#f0f921"
             ]
            ],
            "type": "heatmap"
           }
          ],
          "heatmapgl": [
           {
            "colorbar": {
             "outlinewidth": 0,
             "ticks": ""
            },
            "colorscale": [
             [
              0,
              "#0d0887"
             ],
             [
              0.1111111111111111,
              "#46039f"
             ],
             [
              0.2222222222222222,
              "#7201a8"
             ],
             [
              0.3333333333333333,
              "#9c179e"
             ],
             [
              0.4444444444444444,
              "#bd3786"
             ],
             [
              0.5555555555555556,
              "#d8576b"
             ],
             [
              0.6666666666666666,
              "#ed7953"
             ],
             [
              0.7777777777777778,
              "#fb9f3a"
             ],
             [
              0.8888888888888888,
              "#fdca26"
             ],
             [
              1,
              "#f0f921"
             ]
            ],
            "type": "heatmapgl"
           }
          ],
          "histogram": [
           {
            "marker": {
             "pattern": {
              "fillmode": "overlay",
              "size": 10,
              "solidity": 0.2
             }
            },
            "type": "histogram"
           }
          ],
          "histogram2d": [
           {
            "colorbar": {
             "outlinewidth": 0,
             "ticks": ""
            },
            "colorscale": [
             [
              0,
              "#0d0887"
             ],
             [
              0.1111111111111111,
              "#46039f"
             ],
             [
              0.2222222222222222,
              "#7201a8"
             ],
             [
              0.3333333333333333,
              "#9c179e"
             ],
             [
              0.4444444444444444,
              "#bd3786"
             ],
             [
              0.5555555555555556,
              "#d8576b"
             ],
             [
              0.6666666666666666,
              "#ed7953"
             ],
             [
              0.7777777777777778,
              "#fb9f3a"
             ],
             [
              0.8888888888888888,
              "#fdca26"
             ],
             [
              1,
              "#f0f921"
             ]
            ],
            "type": "histogram2d"
           }
          ],
          "histogram2dcontour": [
           {
            "colorbar": {
             "outlinewidth": 0,
             "ticks": ""
            },
            "colorscale": [
             [
              0,
              "#0d0887"
             ],
             [
              0.1111111111111111,
              "#46039f"
             ],
             [
              0.2222222222222222,
              "#7201a8"
             ],
             [
              0.3333333333333333,
              "#9c179e"
             ],
             [
              0.4444444444444444,
              "#bd3786"
             ],
             [
              0.5555555555555556,
              "#d8576b"
             ],
             [
              0.6666666666666666,
              "#ed7953"
             ],
             [
              0.7777777777777778,
              "#fb9f3a"
             ],
             [
              0.8888888888888888,
              "#fdca26"
             ],
             [
              1,
              "#f0f921"
             ]
            ],
            "type": "histogram2dcontour"
           }
          ],
          "mesh3d": [
           {
            "colorbar": {
             "outlinewidth": 0,
             "ticks": ""
            },
            "type": "mesh3d"
           }
          ],
          "parcoords": [
           {
            "line": {
             "colorbar": {
              "outlinewidth": 0,
              "ticks": ""
             }
            },
            "type": "parcoords"
           }
          ],
          "pie": [
           {
            "automargin": true,
            "type": "pie"
           }
          ],
          "scatter": [
           {
            "fillpattern": {
             "fillmode": "overlay",
             "size": 10,
             "solidity": 0.2
            },
            "type": "scatter"
           }
          ],
          "scatter3d": [
           {
            "line": {
             "colorbar": {
              "outlinewidth": 0,
              "ticks": ""
             }
            },
            "marker": {
             "colorbar": {
              "outlinewidth": 0,
              "ticks": ""
             }
            },
            "type": "scatter3d"
           }
          ],
          "scattercarpet": [
           {
            "marker": {
             "colorbar": {
              "outlinewidth": 0,
              "ticks": ""
             }
            },
            "type": "scattercarpet"
           }
          ],
          "scattergeo": [
           {
            "marker": {
             "colorbar": {
              "outlinewidth": 0,
              "ticks": ""
             }
            },
            "type": "scattergeo"
           }
          ],
          "scattergl": [
           {
            "marker": {
             "colorbar": {
              "outlinewidth": 0,
              "ticks": ""
             }
            },
            "type": "scattergl"
           }
          ],
          "scattermapbox": [
           {
            "marker": {
             "colorbar": {
              "outlinewidth": 0,
              "ticks": ""
             }
            },
            "type": "scattermapbox"
           }
          ],
          "scatterpolar": [
           {
            "marker": {
             "colorbar": {
              "outlinewidth": 0,
              "ticks": ""
             }
            },
            "type": "scatterpolar"
           }
          ],
          "scatterpolargl": [
           {
            "marker": {
             "colorbar": {
              "outlinewidth": 0,
              "ticks": ""
             }
            },
            "type": "scatterpolargl"
           }
          ],
          "scatterternary": [
           {
            "marker": {
             "colorbar": {
              "outlinewidth": 0,
              "ticks": ""
             }
            },
            "type": "scatterternary"
           }
          ],
          "surface": [
           {
            "colorbar": {
             "outlinewidth": 0,
             "ticks": ""
            },
            "colorscale": [
             [
              0,
              "#0d0887"
             ],
             [
              0.1111111111111111,
              "#46039f"
             ],
             [
              0.2222222222222222,
              "#7201a8"
             ],
             [
              0.3333333333333333,
              "#9c179e"
             ],
             [
              0.4444444444444444,
              "#bd3786"
             ],
             [
              0.5555555555555556,
              "#d8576b"
             ],
             [
              0.6666666666666666,
              "#ed7953"
             ],
             [
              0.7777777777777778,
              "#fb9f3a"
             ],
             [
              0.8888888888888888,
              "#fdca26"
             ],
             [
              1,
              "#f0f921"
             ]
            ],
            "type": "surface"
           }
          ],
          "table": [
           {
            "cells": {
             "fill": {
              "color": "#EBF0F8"
             },
             "line": {
              "color": "white"
             }
            },
            "header": {
             "fill": {
              "color": "#C8D4E3"
             },
             "line": {
              "color": "white"
             }
            },
            "type": "table"
           }
          ]
         },
         "layout": {
          "annotationdefaults": {
           "arrowcolor": "#2a3f5f",
           "arrowhead": 0,
           "arrowwidth": 1
          },
          "autotypenumbers": "strict",
          "coloraxis": {
           "colorbar": {
            "outlinewidth": 0,
            "ticks": ""
           }
          },
          "colorscale": {
           "diverging": [
            [
             0,
             "#8e0152"
            ],
            [
             0.1,
             "#c51b7d"
            ],
            [
             0.2,
             "#de77ae"
            ],
            [
             0.3,
             "#f1b6da"
            ],
            [
             0.4,
             "#fde0ef"
            ],
            [
             0.5,
             "#f7f7f7"
            ],
            [
             0.6,
             "#e6f5d0"
            ],
            [
             0.7,
             "#b8e186"
            ],
            [
             0.8,
             "#7fbc41"
            ],
            [
             0.9,
             "#4d9221"
            ],
            [
             1,
             "#276419"
            ]
           ],
           "sequential": [
            [
             0,
             "#0d0887"
            ],
            [
             0.1111111111111111,
             "#46039f"
            ],
            [
             0.2222222222222222,
             "#7201a8"
            ],
            [
             0.3333333333333333,
             "#9c179e"
            ],
            [
             0.4444444444444444,
             "#bd3786"
            ],
            [
             0.5555555555555556,
             "#d8576b"
            ],
            [
             0.6666666666666666,
             "#ed7953"
            ],
            [
             0.7777777777777778,
             "#fb9f3a"
            ],
            [
             0.8888888888888888,
             "#fdca26"
            ],
            [
             1,
             "#f0f921"
            ]
           ],
           "sequentialminus": [
            [
             0,
             "#0d0887"
            ],
            [
             0.1111111111111111,
             "#46039f"
            ],
            [
             0.2222222222222222,
             "#7201a8"
            ],
            [
             0.3333333333333333,
             "#9c179e"
            ],
            [
             0.4444444444444444,
             "#bd3786"
            ],
            [
             0.5555555555555556,
             "#d8576b"
            ],
            [
             0.6666666666666666,
             "#ed7953"
            ],
            [
             0.7777777777777778,
             "#fb9f3a"
            ],
            [
             0.8888888888888888,
             "#fdca26"
            ],
            [
             1,
             "#f0f921"
            ]
           ]
          },
          "colorway": [
           "#636efa",
           "#EF553B",
           "#00cc96",
           "#ab63fa",
           "#FFA15A",
           "#19d3f3",
           "#FF6692",
           "#B6E880",
           "#FF97FF",
           "#FECB52"
          ],
          "font": {
           "color": "#2a3f5f"
          },
          "geo": {
           "bgcolor": "white",
           "lakecolor": "white",
           "landcolor": "#E5ECF6",
           "showlakes": true,
           "showland": true,
           "subunitcolor": "white"
          },
          "hoverlabel": {
           "align": "left"
          },
          "hovermode": "closest",
          "mapbox": {
           "style": "light"
          },
          "paper_bgcolor": "white",
          "plot_bgcolor": "#E5ECF6",
          "polar": {
           "angularaxis": {
            "gridcolor": "white",
            "linecolor": "white",
            "ticks": ""
           },
           "bgcolor": "#E5ECF6",
           "radialaxis": {
            "gridcolor": "white",
            "linecolor": "white",
            "ticks": ""
           }
          },
          "scene": {
           "xaxis": {
            "backgroundcolor": "#E5ECF6",
            "gridcolor": "white",
            "gridwidth": 2,
            "linecolor": "white",
            "showbackground": true,
            "ticks": "",
            "zerolinecolor": "white"
           },
           "yaxis": {
            "backgroundcolor": "#E5ECF6",
            "gridcolor": "white",
            "gridwidth": 2,
            "linecolor": "white",
            "showbackground": true,
            "ticks": "",
            "zerolinecolor": "white"
           },
           "zaxis": {
            "backgroundcolor": "#E5ECF6",
            "gridcolor": "white",
            "gridwidth": 2,
            "linecolor": "white",
            "showbackground": true,
            "ticks": "",
            "zerolinecolor": "white"
           }
          },
          "shapedefaults": {
           "line": {
            "color": "#2a3f5f"
           }
          },
          "ternary": {
           "aaxis": {
            "gridcolor": "white",
            "linecolor": "white",
            "ticks": ""
           },
           "baxis": {
            "gridcolor": "white",
            "linecolor": "white",
            "ticks": ""
           },
           "bgcolor": "#E5ECF6",
           "caxis": {
            "gridcolor": "white",
            "linecolor": "white",
            "ticks": ""
           }
          },
          "title": {
           "x": 0.05
          },
          "xaxis": {
           "automargin": true,
           "gridcolor": "white",
           "linecolor": "white",
           "ticks": "",
           "title": {
            "standoff": 15
           },
           "zerolinecolor": "white",
           "zerolinewidth": 2
          },
          "yaxis": {
           "automargin": true,
           "gridcolor": "white",
           "linecolor": "white",
           "ticks": "",
           "title": {
            "standoff": 15
           },
           "zerolinecolor": "white",
           "zerolinewidth": 2
          }
         }
        },
        "title": {
         "text": "Drone Flight Plan",
         "x": 0.5
        },
        "updatemenus": [
         {
          "buttons": [
           {
            "args": [
             null,
             {
              "frame": {
               "duration": 1000,
               "redraw": false
              },
              "fromcurrent": true,
              "transition": {
               "duration": 1000
              }
             }
            ],
            "label": "Play",
            "method": "animate"
           }
          ],
          "type": "buttons"
         }
        ],
        "xaxis": {
         "autorange": true,
         "range": [
          0,
          150
         ],
         "zeroline": false
        },
        "yaxis": {
         "autorange": true,
         "range": [
          0,
          150
         ],
         "zeroline": false
        }
       }
      }
     },
     "metadata": {},
     "output_type": "display_data"
    }
   ],
   "source": [
    "camera_ = copy.deepcopy(camera_x10)\n",
    "dataset_spec_ = copy.deepcopy(dataset_spec)\n",
    "\n",
    "\n",
    "dataset_spec_.sidelap = 0\n",
    "\n",
    "\n",
    "print(camera_, dataset_spec_)\n",
    "\n",
    "fig = plot_photo_plan(generate_photo_plan_on_grid(camera_, dataset_spec_))\n",
    "fig.show()"
   ]
  },
  {
   "cell_type": "markdown",
   "id": "4a101117",
   "metadata": {},
   "source": [
    "$\\color{red}{\\text{Experiment 3 }}$ Change the height of the scan and document the affect on scan plans\n",
    "\n",
    "* **Parameter Change:** Two models for reduced height at 10m and incresed height at 100m  \n",
    "<br>\n",
    "* **Expected Outcome:**  Lower height increases both the number of rows, consecutive images and reduces the max speed of the drone. Increased heights will result in less rows and consecutive images while increasing the speed at which the drone can operate. This also increases the ground sampling distance. This assumes a constant square area. \n",
    "<br>\n",
    "* **Explanation:** As the height of the drone changes so does the ground sampling distance and the footprints in both the x and y direction. For example at a higher elevation the footprint is larger requiring less images to be taken to cover a given area. \n",
    "<br>\n",
    "    Speed also changes as ground sampling distance increases resulting in more distance being cover over a given period of time. \n",
    "<br> \n",
    "* **Math:** \n",
    "In `generate_photo_plan_on_grid` the number of images per axis is directly affected by height increase or decreases.    \n",
    "<br>\n",
    "    * `images_x_axis = math.ceil(dataset_spec.scan_dimension_x / max_distance[0])`\n",
    "<br>\n",
    "    * `images_y_axis = math.ceil(dataset_spec.scan_dimension_y  / max_distance[1])`  \n",
    "    <br>\n",
    "The equations underneath this can be simply definied for an axis by:\n",
    "<br>\n",
    "        * $$\\text{number of images on axis} = \\frac {\\text{image dimension axis}} {(\\text{overlap axis} * (\\text{scan dimension axis} * \\text{height}))}$$  \n",
    "    * An equation for speed = distance /time can be broken down into:\n",
    "        * $$ \\frac {\\text{distance from surface}}{\\text{max focal length }} \\times \\frac{1}{\\text{time}}$$\n",
    "\n",
    "* **Use Case:** Reducing the height along may be useful for taking more detailed pictures by way of the decreased ground sampling. Increasing height may be useful for taking large areas of images quiclky where detial quality is not important, however generally if height is increased then focal length needs to be increased as well to maintin quality."
   ]
  },
  {
   "cell_type": "code",
   "execution_count": 274,
   "id": "48d498af",
   "metadata": {},
   "outputs": [
    {
     "name": "stdout",
     "output_type": "stream",
     "text": [
      "Camera(fx=4938.56, fy=4936.49, cx=4095.5, cy=3071.5, sensor_size_x_mm=13.107, sensor_size_y_mm=9.83, image_size_x_px=8192, image_size_y_px=6144) DatasetSpec(overlap=0.7, sidelap=0.7, height=10, scan_dimension_x=150, scan_dimension_y=150, exposure_time_ms=2)\n",
      "Original Speed 3.0859197822847144\n",
      "Reduced speed:  1.0124408734529904\n",
      "Original Footprint [50.55970971 37.93568305]\n",
      "Reduced Footprint [16.58783127 12.44609024]\n",
      "Original GSD 0.006171839564569429\n",
      "Reduced GSD 0.0020248817469059807\n",
      "Original Distance between images [15.16791291 11.38070491]\n",
      "Reduced Distance between images [4.97634938 3.73382707]\n"
     ]
    },
    {
     "data": {
      "application/vnd.plotly.v1+json": {
       "config": {
        "plotlyServerURL": "https://plot.ly"
       },
       "data": [
        {
         "line": {
          "dash": "dot"
         },
         "marker": {
          "color": "green"
         },
         "mode": "lines+markers",
         "name": "flight",
         "type": "scatter",
         "x": [
          0,
          4.838709677419355,
          9.67741935483871,
          14.516129032258064,
          19.35483870967742,
          24.193548387096776,
          29.032258064516128,
          33.87096774193549,
          38.70967741935484,
          43.54838709677419,
          48.38709677419355,
          53.225806451612904,
          58.064516129032256,
          62.903225806451616,
          67.74193548387098,
          72.58064516129032,
          77.41935483870968,
          82.25806451612904,
          87.09677419354838,
          91.93548387096774,
          96.7741935483871,
          101.61290322580645,
          106.45161290322581,
          111.29032258064517,
          116.12903225806451,
          120.96774193548387,
          125.80645161290323,
          130.6451612903226,
          135.48387096774195,
          140.32258064516128,
          145.16129032258064,
          150,
          150,
          145.16129032258064,
          140.32258064516128,
          135.48387096774195,
          130.6451612903226,
          125.80645161290323,
          120.96774193548387,
          116.12903225806451,
          111.29032258064517,
          106.45161290322581,
          101.61290322580645,
          96.7741935483871,
          91.93548387096774,
          87.09677419354838,
          82.25806451612904,
          77.41935483870968,
          72.58064516129032,
          67.74193548387098,
          62.903225806451616,
          58.064516129032256,
          53.225806451612904,
          48.38709677419355,
          43.54838709677419,
          38.70967741935484,
          33.87096774193549,
          29.032258064516128,
          24.193548387096776,
          19.35483870967742,
          14.516129032258064,
          9.67741935483871,
          4.838709677419355,
          0,
          0,
          4.838709677419355,
          9.67741935483871,
          14.516129032258064,
          19.35483870967742,
          24.193548387096776,
          29.032258064516128,
          33.87096774193549,
          38.70967741935484,
          43.54838709677419,
          48.38709677419355,
          53.225806451612904,
          58.064516129032256,
          62.903225806451616,
          67.74193548387098,
          72.58064516129032,
          77.41935483870968,
          82.25806451612904,
          87.09677419354838,
          91.93548387096774,
          96.7741935483871,
          101.61290322580645,
          106.45161290322581,
          111.29032258064517,
          116.12903225806451,
          120.96774193548387,
          125.80645161290323,
          130.6451612903226,
          135.48387096774195,
          140.32258064516128,
          145.16129032258064,
          150,
          150,
          145.16129032258064,
          140.32258064516128,
          135.48387096774195,
          130.6451612903226,
          125.80645161290323,
          120.96774193548387,
          116.12903225806451,
          111.29032258064517,
          106.45161290322581,
          101.61290322580645,
          96.7741935483871,
          91.93548387096774,
          87.09677419354838,
          82.25806451612904,
          77.41935483870968,
          72.58064516129032,
          67.74193548387098,
          62.903225806451616,
          58.064516129032256,
          53.225806451612904,
          48.38709677419355,
          43.54838709677419,
          38.70967741935484,
          33.87096774193549,
          29.032258064516128,
          24.193548387096776,
          19.35483870967742,
          14.516129032258064,
          9.67741935483871,
          4.838709677419355,
          0,
          0,
          4.838709677419355,
          9.67741935483871,
          14.516129032258064,
          19.35483870967742,
          24.193548387096776,
          29.032258064516128,
          33.87096774193549,
          38.70967741935484,
          43.54838709677419,
          48.38709677419355,
          53.225806451612904,
          58.064516129032256,
          62.903225806451616,
          67.74193548387098,
          72.58064516129032,
          77.41935483870968,
          82.25806451612904,
          87.09677419354838,
          91.93548387096774,
          96.7741935483871,
          101.61290322580645,
          106.45161290322581,
          111.29032258064517,
          116.12903225806451,
          120.96774193548387,
          125.80645161290323,
          130.6451612903226,
          135.48387096774195,
          140.32258064516128,
          145.16129032258064,
          150,
          150,
          145.16129032258064,
          140.32258064516128,
          135.48387096774195,
          130.6451612903226,
          125.80645161290323,
          120.96774193548387,
          116.12903225806451,
          111.29032258064517,
          106.45161290322581,
          101.61290322580645,
          96.7741935483871,
          91.93548387096774,
          87.09677419354838,
          82.25806451612904,
          77.41935483870968,
          72.58064516129032,
          67.74193548387098,
          62.903225806451616,
          58.064516129032256,
          53.225806451612904,
          48.38709677419355,
          43.54838709677419,
          38.70967741935484,
          33.87096774193549,
          29.032258064516128,
          24.193548387096776,
          19.35483870967742,
          14.516129032258064,
          9.67741935483871,
          4.838709677419355,
          0,
          0,
          4.838709677419355,
          9.67741935483871,
          14.516129032258064,
          19.35483870967742,
          24.193548387096776,
          29.032258064516128,
          33.87096774193549,
          38.70967741935484,
          43.54838709677419,
          48.38709677419355,
          53.225806451612904,
          58.064516129032256,
          62.903225806451616,
          67.74193548387098,
          72.58064516129032,
          77.41935483870968,
          82.25806451612904,
          87.09677419354838,
          91.93548387096774,
          96.7741935483871,
          101.61290322580645,
          106.45161290322581,
          111.29032258064517,
          116.12903225806451,
          120.96774193548387,
          125.80645161290323,
          130.6451612903226,
          135.48387096774195,
          140.32258064516128,
          145.16129032258064,
          150,
          150,
          145.16129032258064,
          140.32258064516128,
          135.48387096774195,
          130.6451612903226,
          125.80645161290323,
          120.96774193548387,
          116.12903225806451,
          111.29032258064517,
          106.45161290322581,
          101.61290322580645,
          96.7741935483871,
          91.93548387096774,
          87.09677419354838,
          82.25806451612904,
          77.41935483870968,
          72.58064516129032,
          67.74193548387098,
          62.903225806451616,
          58.064516129032256,
          53.225806451612904,
          48.38709677419355,
          43.54838709677419,
          38.70967741935484,
          33.87096774193549,
          29.032258064516128,
          24.193548387096776,
          19.35483870967742,
          14.516129032258064,
          9.67741935483871,
          4.838709677419355,
          0,
          0,
          4.838709677419355,
          9.67741935483871,
          14.516129032258064,
          19.35483870967742,
          24.193548387096776,
          29.032258064516128,
          33.87096774193549,
          38.70967741935484,
          43.54838709677419,
          48.38709677419355,
          53.225806451612904,
          58.064516129032256,
          62.903225806451616,
          67.74193548387098,
          72.58064516129032,
          77.41935483870968,
          82.25806451612904,
          87.09677419354838,
          91.93548387096774,
          96.7741935483871,
          101.61290322580645,
          106.45161290322581,
          111.29032258064517,
          116.12903225806451,
          120.96774193548387,
          125.80645161290323,
          130.6451612903226,
          135.48387096774195,
          140.32258064516128,
          145.16129032258064,
          150,
          150,
          145.16129032258064,
          140.32258064516128,
          135.48387096774195,
          130.6451612903226,
          125.80645161290323,
          120.96774193548387,
          116.12903225806451,
          111.29032258064517,
          106.45161290322581,
          101.61290322580645,
          96.7741935483871,
          91.93548387096774,
          87.09677419354838,
          82.25806451612904,
          77.41935483870968,
          72.58064516129032,
          67.74193548387098,
          62.903225806451616,
          58.064516129032256,
          53.225806451612904,
          48.38709677419355,
          43.54838709677419,
          38.70967741935484,
          33.87096774193549,
          29.032258064516128,
          24.193548387096776,
          19.35483870967742,
          14.516129032258064,
          9.67741935483871,
          4.838709677419355,
          0,
          0,
          4.838709677419355,
          9.67741935483871,
          14.516129032258064,
          19.35483870967742,
          24.193548387096776,
          29.032258064516128,
          33.87096774193549,
          38.70967741935484,
          43.54838709677419,
          48.38709677419355,
          53.225806451612904,
          58.064516129032256,
          62.903225806451616,
          67.74193548387098,
          72.58064516129032,
          77.41935483870968,
          82.25806451612904,
          87.09677419354838,
          91.93548387096774,
          96.7741935483871,
          101.61290322580645,
          106.45161290322581,
          111.29032258064517,
          116.12903225806451,
          120.96774193548387,
          125.80645161290323,
          130.6451612903226,
          135.48387096774195,
          140.32258064516128,
          145.16129032258064,
          150,
          150,
          145.16129032258064,
          140.32258064516128,
          135.48387096774195,
          130.6451612903226,
          125.80645161290323,
          120.96774193548387,
          116.12903225806451,
          111.29032258064517,
          106.45161290322581,
          101.61290322580645,
          96.7741935483871,
          91.93548387096774,
          87.09677419354838,
          82.25806451612904,
          77.41935483870968,
          72.58064516129032,
          67.74193548387098,
          62.903225806451616,
          58.064516129032256,
          53.225806451612904,
          48.38709677419355,
          43.54838709677419,
          38.70967741935484,
          33.87096774193549,
          29.032258064516128,
          24.193548387096776,
          19.35483870967742,
          14.516129032258064,
          9.67741935483871,
          4.838709677419355,
          0,
          0,
          4.838709677419355,
          9.67741935483871,
          14.516129032258064,
          19.35483870967742,
          24.193548387096776,
          29.032258064516128,
          33.87096774193549,
          38.70967741935484,
          43.54838709677419,
          48.38709677419355,
          53.225806451612904,
          58.064516129032256,
          62.903225806451616,
          67.74193548387098,
          72.58064516129032,
          77.41935483870968,
          82.25806451612904,
          87.09677419354838,
          91.93548387096774,
          96.7741935483871,
          101.61290322580645,
          106.45161290322581,
          111.29032258064517,
          116.12903225806451,
          120.96774193548387,
          125.80645161290323,
          130.6451612903226,
          135.48387096774195,
          140.32258064516128,
          145.16129032258064,
          150,
          150,
          145.16129032258064,
          140.32258064516128,
          135.48387096774195,
          130.6451612903226,
          125.80645161290323,
          120.96774193548387,
          116.12903225806451,
          111.29032258064517,
          106.45161290322581,
          101.61290322580645,
          96.7741935483871,
          91.93548387096774,
          87.09677419354838,
          82.25806451612904,
          77.41935483870968,
          72.58064516129032,
          67.74193548387098,
          62.903225806451616,
          58.064516129032256,
          53.225806451612904,
          48.38709677419355,
          43.54838709677419,
          38.70967741935484,
          33.87096774193549,
          29.032258064516128,
          24.193548387096776,
          19.35483870967742,
          14.516129032258064,
          9.67741935483871,
          4.838709677419355,
          0,
          0,
          4.838709677419355,
          9.67741935483871,
          14.516129032258064,
          19.35483870967742,
          24.193548387096776,
          29.032258064516128,
          33.87096774193549,
          38.70967741935484,
          43.54838709677419,
          48.38709677419355,
          53.225806451612904,
          58.064516129032256,
          62.903225806451616,
          67.74193548387098,
          72.58064516129032,
          77.41935483870968,
          82.25806451612904,
          87.09677419354838,
          91.93548387096774,
          96.7741935483871,
          101.61290322580645,
          106.45161290322581,
          111.29032258064517,
          116.12903225806451,
          120.96774193548387,
          125.80645161290323,
          130.6451612903226,
          135.48387096774195,
          140.32258064516128,
          145.16129032258064,
          150,
          150,
          145.16129032258064,
          140.32258064516128,
          135.48387096774195,
          130.6451612903226,
          125.80645161290323,
          120.96774193548387,
          116.12903225806451,
          111.29032258064517,
          106.45161290322581,
          101.61290322580645,
          96.7741935483871,
          91.93548387096774,
          87.09677419354838,
          82.25806451612904,
          77.41935483870968,
          72.58064516129032,
          67.74193548387098,
          62.903225806451616,
          58.064516129032256,
          53.225806451612904,
          48.38709677419355,
          43.54838709677419,
          38.70967741935484,
          33.87096774193549,
          29.032258064516128,
          24.193548387096776,
          19.35483870967742,
          14.516129032258064,
          9.67741935483871,
          4.838709677419355,
          0,
          0,
          4.838709677419355,
          9.67741935483871,
          14.516129032258064,
          19.35483870967742,
          24.193548387096776,
          29.032258064516128,
          33.87096774193549,
          38.70967741935484,
          43.54838709677419,
          48.38709677419355,
          53.225806451612904,
          58.064516129032256,
          62.903225806451616,
          67.74193548387098,
          72.58064516129032,
          77.41935483870968,
          82.25806451612904,
          87.09677419354838,
          91.93548387096774,
          96.7741935483871,
          101.61290322580645,
          106.45161290322581,
          111.29032258064517,
          116.12903225806451,
          120.96774193548387,
          125.80645161290323,
          130.6451612903226,
          135.48387096774195,
          140.32258064516128,
          145.16129032258064,
          150,
          150,
          145.16129032258064,
          140.32258064516128,
          135.48387096774195,
          130.6451612903226,
          125.80645161290323,
          120.96774193548387,
          116.12903225806451,
          111.29032258064517,
          106.45161290322581,
          101.61290322580645,
          96.7741935483871,
          91.93548387096774,
          87.09677419354838,
          82.25806451612904,
          77.41935483870968,
          72.58064516129032,
          67.74193548387098,
          62.903225806451616,
          58.064516129032256,
          53.225806451612904,
          48.38709677419355,
          43.54838709677419,
          38.70967741935484,
          33.87096774193549,
          29.032258064516128,
          24.193548387096776,
          19.35483870967742,
          14.516129032258064,
          9.67741935483871,
          4.838709677419355,
          0,
          0,
          4.838709677419355,
          9.67741935483871,
          14.516129032258064,
          19.35483870967742,
          24.193548387096776,
          29.032258064516128,
          33.87096774193549,
          38.70967741935484,
          43.54838709677419,
          48.38709677419355,
          53.225806451612904,
          58.064516129032256,
          62.903225806451616,
          67.74193548387098,
          72.58064516129032,
          77.41935483870968,
          82.25806451612904,
          87.09677419354838,
          91.93548387096774,
          96.7741935483871,
          101.61290322580645,
          106.45161290322581,
          111.29032258064517,
          116.12903225806451,
          120.96774193548387,
          125.80645161290323,
          130.6451612903226,
          135.48387096774195,
          140.32258064516128,
          145.16129032258064,
          150,
          150,
          145.16129032258064,
          140.32258064516128,
          135.48387096774195,
          130.6451612903226,
          125.80645161290323,
          120.96774193548387,
          116.12903225806451,
          111.29032258064517,
          106.45161290322581,
          101.61290322580645,
          96.7741935483871,
          91.93548387096774,
          87.09677419354838,
          82.25806451612904,
          77.41935483870968,
          72.58064516129032,
          67.74193548387098,
          62.903225806451616,
          58.064516129032256,
          53.225806451612904,
          48.38709677419355,
          43.54838709677419,
          38.70967741935484,
          33.87096774193549,
          29.032258064516128,
          24.193548387096776,
          19.35483870967742,
          14.516129032258064,
          9.67741935483871,
          4.838709677419355,
          0,
          0,
          4.838709677419355,
          9.67741935483871,
          14.516129032258064,
          19.35483870967742,
          24.193548387096776,
          29.032258064516128,
          33.87096774193549,
          38.70967741935484,
          43.54838709677419,
          48.38709677419355,
          53.225806451612904,
          58.064516129032256,
          62.903225806451616,
          67.74193548387098,
          72.58064516129032,
          77.41935483870968,
          82.25806451612904,
          87.09677419354838,
          91.93548387096774,
          96.7741935483871,
          101.61290322580645,
          106.45161290322581,
          111.29032258064517,
          116.12903225806451,
          120.96774193548387,
          125.80645161290323,
          130.6451612903226,
          135.48387096774195,
          140.32258064516128,
          145.16129032258064,
          150,
          150,
          145.16129032258064,
          140.32258064516128,
          135.48387096774195,
          130.6451612903226,
          125.80645161290323,
          120.96774193548387,
          116.12903225806451,
          111.29032258064517,
          106.45161290322581,
          101.61290322580645,
          96.7741935483871,
          91.93548387096774,
          87.09677419354838,
          82.25806451612904,
          77.41935483870968,
          72.58064516129032,
          67.74193548387098,
          62.903225806451616,
          58.064516129032256,
          53.225806451612904,
          48.38709677419355,
          43.54838709677419,
          38.70967741935484,
          33.87096774193549,
          29.032258064516128,
          24.193548387096776,
          19.35483870967742,
          14.516129032258064,
          9.67741935483871,
          4.838709677419355,
          0,
          0,
          4.838709677419355,
          9.67741935483871,
          14.516129032258064,
          19.35483870967742,
          24.193548387096776,
          29.032258064516128,
          33.87096774193549,
          38.70967741935484,
          43.54838709677419,
          48.38709677419355,
          53.225806451612904,
          58.064516129032256,
          62.903225806451616,
          67.74193548387098,
          72.58064516129032,
          77.41935483870968,
          82.25806451612904,
          87.09677419354838,
          91.93548387096774,
          96.7741935483871,
          101.61290322580645,
          106.45161290322581,
          111.29032258064517,
          116.12903225806451,
          120.96774193548387,
          125.80645161290323,
          130.6451612903226,
          135.48387096774195,
          140.32258064516128,
          145.16129032258064,
          150,
          150,
          145.16129032258064,
          140.32258064516128,
          135.48387096774195,
          130.6451612903226,
          125.80645161290323,
          120.96774193548387,
          116.12903225806451,
          111.29032258064517,
          106.45161290322581,
          101.61290322580645,
          96.7741935483871,
          91.93548387096774,
          87.09677419354838,
          82.25806451612904,
          77.41935483870968,
          72.58064516129032,
          67.74193548387098,
          62.903225806451616,
          58.064516129032256,
          53.225806451612904,
          48.38709677419355,
          43.54838709677419,
          38.70967741935484,
          33.87096774193549,
          29.032258064516128,
          24.193548387096776,
          19.35483870967742,
          14.516129032258064,
          9.67741935483871,
          4.838709677419355,
          0,
          0,
          4.838709677419355,
          9.67741935483871,
          14.516129032258064,
          19.35483870967742,
          24.193548387096776,
          29.032258064516128,
          33.87096774193549,
          38.70967741935484,
          43.54838709677419,
          48.38709677419355,
          53.225806451612904,
          58.064516129032256,
          62.903225806451616,
          67.74193548387098,
          72.58064516129032,
          77.41935483870968,
          82.25806451612904,
          87.09677419354838,
          91.93548387096774,
          96.7741935483871,
          101.61290322580645,
          106.45161290322581,
          111.29032258064517,
          116.12903225806451,
          120.96774193548387,
          125.80645161290323,
          130.6451612903226,
          135.48387096774195,
          140.32258064516128,
          145.16129032258064,
          150,
          150,
          145.16129032258064,
          140.32258064516128,
          135.48387096774195,
          130.6451612903226,
          125.80645161290323,
          120.96774193548387,
          116.12903225806451,
          111.29032258064517,
          106.45161290322581,
          101.61290322580645,
          96.7741935483871,
          91.93548387096774,
          87.09677419354838,
          82.25806451612904,
          77.41935483870968,
          72.58064516129032,
          67.74193548387098,
          62.903225806451616,
          58.064516129032256,
          53.225806451612904,
          48.38709677419355,
          43.54838709677419,
          38.70967741935484,
          33.87096774193549,
          29.032258064516128,
          24.193548387096776,
          19.35483870967742,
          14.516129032258064,
          9.67741935483871,
          4.838709677419355,
          0,
          0,
          4.838709677419355,
          9.67741935483871,
          14.516129032258064,
          19.35483870967742,
          24.193548387096776,
          29.032258064516128,
          33.87096774193549,
          38.70967741935484,
          43.54838709677419,
          48.38709677419355,
          53.225806451612904,
          58.064516129032256,
          62.903225806451616,
          67.74193548387098,
          72.58064516129032,
          77.41935483870968,
          82.25806451612904,
          87.09677419354838,
          91.93548387096774,
          96.7741935483871,
          101.61290322580645,
          106.45161290322581,
          111.29032258064517,
          116.12903225806451,
          120.96774193548387,
          125.80645161290323,
          130.6451612903226,
          135.48387096774195,
          140.32258064516128,
          145.16129032258064,
          150,
          150,
          145.16129032258064,
          140.32258064516128,
          135.48387096774195,
          130.6451612903226,
          125.80645161290323,
          120.96774193548387,
          116.12903225806451,
          111.29032258064517,
          106.45161290322581,
          101.61290322580645,
          96.7741935483871,
          91.93548387096774,
          87.09677419354838,
          82.25806451612904,
          77.41935483870968,
          72.58064516129032,
          67.74193548387098,
          62.903225806451616,
          58.064516129032256,
          53.225806451612904,
          48.38709677419355,
          43.54838709677419,
          38.70967741935484,
          33.87096774193549,
          29.032258064516128,
          24.193548387096776,
          19.35483870967742,
          14.516129032258064,
          9.67741935483871,
          4.838709677419355,
          0,
          0,
          4.838709677419355,
          9.67741935483871,
          14.516129032258064,
          19.35483870967742,
          24.193548387096776,
          29.032258064516128,
          33.87096774193549,
          38.70967741935484,
          43.54838709677419,
          48.38709677419355,
          53.225806451612904,
          58.064516129032256,
          62.903225806451616,
          67.74193548387098,
          72.58064516129032,
          77.41935483870968,
          82.25806451612904,
          87.09677419354838,
          91.93548387096774,
          96.7741935483871,
          101.61290322580645,
          106.45161290322581,
          111.29032258064517,
          116.12903225806451,
          120.96774193548387,
          125.80645161290323,
          130.6451612903226,
          135.48387096774195,
          140.32258064516128,
          145.16129032258064,
          150,
          150,
          145.16129032258064,
          140.32258064516128,
          135.48387096774195,
          130.6451612903226,
          125.80645161290323,
          120.96774193548387,
          116.12903225806451,
          111.29032258064517,
          106.45161290322581,
          101.61290322580645,
          96.7741935483871,
          91.93548387096774,
          87.09677419354838,
          82.25806451612904,
          77.41935483870968,
          72.58064516129032,
          67.74193548387098,
          62.903225806451616,
          58.064516129032256,
          53.225806451612904,
          48.38709677419355,
          43.54838709677419,
          38.70967741935484,
          33.87096774193549,
          29.032258064516128,
          24.193548387096776,
          19.35483870967742,
          14.516129032258064,
          9.67741935483871,
          4.838709677419355,
          0,
          0,
          4.838709677419355,
          9.67741935483871,
          14.516129032258064,
          19.35483870967742,
          24.193548387096776,
          29.032258064516128,
          33.87096774193549,
          38.70967741935484,
          43.54838709677419,
          48.38709677419355,
          53.225806451612904,
          58.064516129032256,
          62.903225806451616,
          67.74193548387098,
          72.58064516129032,
          77.41935483870968,
          82.25806451612904,
          87.09677419354838,
          91.93548387096774,
          96.7741935483871,
          101.61290322580645,
          106.45161290322581,
          111.29032258064517,
          116.12903225806451,
          120.96774193548387,
          125.80645161290323,
          130.6451612903226,
          135.48387096774195,
          140.32258064516128,
          145.16129032258064,
          150,
          150,
          145.16129032258064,
          140.32258064516128,
          135.48387096774195,
          130.6451612903226,
          125.80645161290323,
          120.96774193548387,
          116.12903225806451,
          111.29032258064517,
          106.45161290322581,
          101.61290322580645,
          96.7741935483871,
          91.93548387096774,
          87.09677419354838,
          82.25806451612904,
          77.41935483870968,
          72.58064516129032,
          67.74193548387098,
          62.903225806451616,
          58.064516129032256,
          53.225806451612904,
          48.38709677419355,
          43.54838709677419,
          38.70967741935484,
          33.87096774193549,
          29.032258064516128,
          24.193548387096776,
          19.35483870967742,
          14.516129032258064,
          9.67741935483871,
          4.838709677419355,
          0,
          0,
          4.838709677419355,
          9.67741935483871,
          14.516129032258064,
          19.35483870967742,
          24.193548387096776,
          29.032258064516128,
          33.87096774193549,
          38.70967741935484,
          43.54838709677419,
          48.38709677419355,
          53.225806451612904,
          58.064516129032256,
          62.903225806451616,
          67.74193548387098,
          72.58064516129032,
          77.41935483870968,
          82.25806451612904,
          87.09677419354838,
          91.93548387096774,
          96.7741935483871,
          101.61290322580645,
          106.45161290322581,
          111.29032258064517,
          116.12903225806451,
          120.96774193548387,
          125.80645161290323,
          130.6451612903226,
          135.48387096774195,
          140.32258064516128,
          145.16129032258064,
          150,
          150,
          145.16129032258064,
          140.32258064516128,
          135.48387096774195,
          130.6451612903226,
          125.80645161290323,
          120.96774193548387,
          116.12903225806451,
          111.29032258064517,
          106.45161290322581,
          101.61290322580645,
          96.7741935483871,
          91.93548387096774,
          87.09677419354838,
          82.25806451612904,
          77.41935483870968,
          72.58064516129032,
          67.74193548387098,
          62.903225806451616,
          58.064516129032256,
          53.225806451612904,
          48.38709677419355,
          43.54838709677419,
          38.70967741935484,
          33.87096774193549,
          29.032258064516128,
          24.193548387096776,
          19.35483870967742,
          14.516129032258064,
          9.67741935483871,
          4.838709677419355,
          0,
          0,
          4.838709677419355,
          9.67741935483871,
          14.516129032258064,
          19.35483870967742,
          24.193548387096776,
          29.032258064516128,
          33.87096774193549,
          38.70967741935484,
          43.54838709677419,
          48.38709677419355,
          53.225806451612904,
          58.064516129032256,
          62.903225806451616,
          67.74193548387098,
          72.58064516129032,
          77.41935483870968,
          82.25806451612904,
          87.09677419354838,
          91.93548387096774,
          96.7741935483871,
          101.61290322580645,
          106.45161290322581,
          111.29032258064517,
          116.12903225806451,
          120.96774193548387,
          125.80645161290323,
          130.6451612903226,
          135.48387096774195,
          140.32258064516128,
          145.16129032258064,
          150,
          150,
          145.16129032258064,
          140.32258064516128,
          135.48387096774195,
          130.6451612903226,
          125.80645161290323,
          120.96774193548387,
          116.12903225806451,
          111.29032258064517,
          106.45161290322581,
          101.61290322580645,
          96.7741935483871,
          91.93548387096774,
          87.09677419354838,
          82.25806451612904,
          77.41935483870968,
          72.58064516129032,
          67.74193548387098,
          62.903225806451616,
          58.064516129032256,
          53.225806451612904,
          48.38709677419355,
          43.54838709677419,
          38.70967741935484,
          33.87096774193549,
          29.032258064516128,
          24.193548387096776,
          19.35483870967742,
          14.516129032258064,
          9.67741935483871,
          4.838709677419355,
          0,
          0,
          4.838709677419355,
          9.67741935483871,
          14.516129032258064,
          19.35483870967742,
          24.193548387096776,
          29.032258064516128,
          33.87096774193549,
          38.70967741935484,
          43.54838709677419,
          48.38709677419355,
          53.225806451612904,
          58.064516129032256,
          62.903225806451616,
          67.74193548387098,
          72.58064516129032,
          77.41935483870968,
          82.25806451612904,
          87.09677419354838,
          91.93548387096774,
          96.7741935483871,
          101.61290322580645,
          106.45161290322581,
          111.29032258064517,
          116.12903225806451,
          120.96774193548387,
          125.80645161290323,
          130.6451612903226,
          135.48387096774195,
          140.32258064516128,
          145.16129032258064,
          150,
          150,
          145.16129032258064,
          140.32258064516128,
          135.48387096774195,
          130.6451612903226,
          125.80645161290323,
          120.96774193548387,
          116.12903225806451,
          111.29032258064517,
          106.45161290322581,
          101.61290322580645,
          96.7741935483871,
          91.93548387096774,
          87.09677419354838,
          82.25806451612904,
          77.41935483870968,
          72.58064516129032,
          67.74193548387098,
          62.903225806451616,
          58.064516129032256,
          53.225806451612904,
          48.38709677419355,
          43.54838709677419,
          38.70967741935484,
          33.87096774193549,
          29.032258064516128,
          24.193548387096776,
          19.35483870967742,
          14.516129032258064,
          9.67741935483871,
          4.838709677419355,
          0,
          0,
          4.838709677419355,
          9.67741935483871,
          14.516129032258064,
          19.35483870967742,
          24.193548387096776,
          29.032258064516128,
          33.87096774193549,
          38.70967741935484,
          43.54838709677419,
          48.38709677419355,
          53.225806451612904,
          58.064516129032256,
          62.903225806451616,
          67.74193548387098,
          72.58064516129032,
          77.41935483870968,
          82.25806451612904,
          87.09677419354838,
          91.93548387096774,
          96.7741935483871,
          101.61290322580645,
          106.45161290322581,
          111.29032258064517,
          116.12903225806451,
          120.96774193548387,
          125.80645161290323,
          130.6451612903226,
          135.48387096774195,
          140.32258064516128,
          145.16129032258064,
          150,
          150,
          145.16129032258064,
          140.32258064516128,
          135.48387096774195,
          130.6451612903226,
          125.80645161290323,
          120.96774193548387,
          116.12903225806451,
          111.29032258064517,
          106.45161290322581,
          101.61290322580645,
          96.7741935483871,
          91.93548387096774,
          87.09677419354838,
          82.25806451612904,
          77.41935483870968,
          72.58064516129032,
          67.74193548387098,
          62.903225806451616,
          58.064516129032256,
          53.225806451612904,
          48.38709677419355,
          43.54838709677419,
          38.70967741935484,
          33.87096774193549,
          29.032258064516128,
          24.193548387096776,
          19.35483870967742,
          14.516129032258064,
          9.67741935483871,
          4.838709677419355,
          0,
          0,
          4.838709677419355,
          9.67741935483871,
          14.516129032258064,
          19.35483870967742,
          24.193548387096776,
          29.032258064516128,
          33.87096774193549,
          38.70967741935484,
          43.54838709677419,
          48.38709677419355,
          53.225806451612904,
          58.064516129032256,
          62.903225806451616,
          67.74193548387098,
          72.58064516129032,
          77.41935483870968,
          82.25806451612904,
          87.09677419354838,
          91.93548387096774,
          96.7741935483871,
          101.61290322580645,
          106.45161290322581,
          111.29032258064517,
          116.12903225806451,
          120.96774193548387,
          125.80645161290323,
          130.6451612903226,
          135.48387096774195,
          140.32258064516128,
          145.16129032258064,
          150,
          150,
          145.16129032258064,
          140.32258064516128,
          135.48387096774195,
          130.6451612903226,
          125.80645161290323,
          120.96774193548387,
          116.12903225806451,
          111.29032258064517,
          106.45161290322581,
          101.61290322580645,
          96.7741935483871,
          91.93548387096774,
          87.09677419354838,
          82.25806451612904,
          77.41935483870968,
          72.58064516129032,
          67.74193548387098,
          62.903225806451616,
          58.064516129032256,
          53.225806451612904,
          48.38709677419355,
          43.54838709677419,
          38.70967741935484,
          33.87096774193549,
          29.032258064516128,
          24.193548387096776,
          19.35483870967742,
          14.516129032258064,
          9.67741935483871,
          4.838709677419355,
          0
         ],
         "y": [
          0,
          0,
          0,
          0,
          0,
          0,
          0,
          0,
          0,
          0,
          0,
          0,
          0,
          0,
          0,
          0,
          0,
          0,
          0,
          0,
          0,
          0,
          0,
          0,
          0,
          0,
          0,
          0,
          0,
          0,
          0,
          0,
          3.658536585365854,
          3.658536585365854,
          3.658536585365854,
          3.658536585365854,
          3.658536585365854,
          3.658536585365854,
          3.658536585365854,
          3.658536585365854,
          3.658536585365854,
          3.658536585365854,
          3.658536585365854,
          3.658536585365854,
          3.658536585365854,
          3.658536585365854,
          3.658536585365854,
          3.658536585365854,
          3.658536585365854,
          3.658536585365854,
          3.658536585365854,
          3.658536585365854,
          3.658536585365854,
          3.658536585365854,
          3.658536585365854,
          3.658536585365854,
          3.658536585365854,
          3.658536585365854,
          3.658536585365854,
          3.658536585365854,
          3.658536585365854,
          3.658536585365854,
          3.658536585365854,
          3.658536585365854,
          7.317073170731708,
          7.317073170731708,
          7.317073170731708,
          7.317073170731708,
          7.317073170731708,
          7.317073170731708,
          7.317073170731708,
          7.317073170731708,
          7.317073170731708,
          7.317073170731708,
          7.317073170731708,
          7.317073170731708,
          7.317073170731708,
          7.317073170731708,
          7.317073170731708,
          7.317073170731708,
          7.317073170731708,
          7.317073170731708,
          7.317073170731708,
          7.317073170731708,
          7.317073170731708,
          7.317073170731708,
          7.317073170731708,
          7.317073170731708,
          7.317073170731708,
          7.317073170731708,
          7.317073170731708,
          7.317073170731708,
          7.317073170731708,
          7.317073170731708,
          7.317073170731708,
          7.317073170731708,
          10.975609756097562,
          10.975609756097562,
          10.975609756097562,
          10.975609756097562,
          10.975609756097562,
          10.975609756097562,
          10.975609756097562,
          10.975609756097562,
          10.975609756097562,
          10.975609756097562,
          10.975609756097562,
          10.975609756097562,
          10.975609756097562,
          10.975609756097562,
          10.975609756097562,
          10.975609756097562,
          10.975609756097562,
          10.975609756097562,
          10.975609756097562,
          10.975609756097562,
          10.975609756097562,
          10.975609756097562,
          10.975609756097562,
          10.975609756097562,
          10.975609756097562,
          10.975609756097562,
          10.975609756097562,
          10.975609756097562,
          10.975609756097562,
          10.975609756097562,
          10.975609756097562,
          10.975609756097562,
          14.634146341463415,
          14.634146341463415,
          14.634146341463415,
          14.634146341463415,
          14.634146341463415,
          14.634146341463415,
          14.634146341463415,
          14.634146341463415,
          14.634146341463415,
          14.634146341463415,
          14.634146341463415,
          14.634146341463415,
          14.634146341463415,
          14.634146341463415,
          14.634146341463415,
          14.634146341463415,
          14.634146341463415,
          14.634146341463415,
          14.634146341463415,
          14.634146341463415,
          14.634146341463415,
          14.634146341463415,
          14.634146341463415,
          14.634146341463415,
          14.634146341463415,
          14.634146341463415,
          14.634146341463415,
          14.634146341463415,
          14.634146341463415,
          14.634146341463415,
          14.634146341463415,
          14.634146341463415,
          18.29268292682927,
          18.29268292682927,
          18.29268292682927,
          18.29268292682927,
          18.29268292682927,
          18.29268292682927,
          18.29268292682927,
          18.29268292682927,
          18.29268292682927,
          18.29268292682927,
          18.29268292682927,
          18.29268292682927,
          18.29268292682927,
          18.29268292682927,
          18.29268292682927,
          18.29268292682927,
          18.29268292682927,
          18.29268292682927,
          18.29268292682927,
          18.29268292682927,
          18.29268292682927,
          18.29268292682927,
          18.29268292682927,
          18.29268292682927,
          18.29268292682927,
          18.29268292682927,
          18.29268292682927,
          18.29268292682927,
          18.29268292682927,
          18.29268292682927,
          18.29268292682927,
          18.29268292682927,
          21.951219512195124,
          21.951219512195124,
          21.951219512195124,
          21.951219512195124,
          21.951219512195124,
          21.951219512195124,
          21.951219512195124,
          21.951219512195124,
          21.951219512195124,
          21.951219512195124,
          21.951219512195124,
          21.951219512195124,
          21.951219512195124,
          21.951219512195124,
          21.951219512195124,
          21.951219512195124,
          21.951219512195124,
          21.951219512195124,
          21.951219512195124,
          21.951219512195124,
          21.951219512195124,
          21.951219512195124,
          21.951219512195124,
          21.951219512195124,
          21.951219512195124,
          21.951219512195124,
          21.951219512195124,
          21.951219512195124,
          21.951219512195124,
          21.951219512195124,
          21.951219512195124,
          21.951219512195124,
          25.609756097560975,
          25.609756097560975,
          25.609756097560975,
          25.609756097560975,
          25.609756097560975,
          25.609756097560975,
          25.609756097560975,
          25.609756097560975,
          25.609756097560975,
          25.609756097560975,
          25.609756097560975,
          25.609756097560975,
          25.609756097560975,
          25.609756097560975,
          25.609756097560975,
          25.609756097560975,
          25.609756097560975,
          25.609756097560975,
          25.609756097560975,
          25.609756097560975,
          25.609756097560975,
          25.609756097560975,
          25.609756097560975,
          25.609756097560975,
          25.609756097560975,
          25.609756097560975,
          25.609756097560975,
          25.609756097560975,
          25.609756097560975,
          25.609756097560975,
          25.609756097560975,
          25.609756097560975,
          29.26829268292683,
          29.26829268292683,
          29.26829268292683,
          29.26829268292683,
          29.26829268292683,
          29.26829268292683,
          29.26829268292683,
          29.26829268292683,
          29.26829268292683,
          29.26829268292683,
          29.26829268292683,
          29.26829268292683,
          29.26829268292683,
          29.26829268292683,
          29.26829268292683,
          29.26829268292683,
          29.26829268292683,
          29.26829268292683,
          29.26829268292683,
          29.26829268292683,
          29.26829268292683,
          29.26829268292683,
          29.26829268292683,
          29.26829268292683,
          29.26829268292683,
          29.26829268292683,
          29.26829268292683,
          29.26829268292683,
          29.26829268292683,
          29.26829268292683,
          29.26829268292683,
          29.26829268292683,
          32.926829268292686,
          32.926829268292686,
          32.926829268292686,
          32.926829268292686,
          32.926829268292686,
          32.926829268292686,
          32.926829268292686,
          32.926829268292686,
          32.926829268292686,
          32.926829268292686,
          32.926829268292686,
          32.926829268292686,
          32.926829268292686,
          32.926829268292686,
          32.926829268292686,
          32.926829268292686,
          32.926829268292686,
          32.926829268292686,
          32.926829268292686,
          32.926829268292686,
          32.926829268292686,
          32.926829268292686,
          32.926829268292686,
          32.926829268292686,
          32.926829268292686,
          32.926829268292686,
          32.926829268292686,
          32.926829268292686,
          32.926829268292686,
          32.926829268292686,
          32.926829268292686,
          32.926829268292686,
          36.58536585365854,
          36.58536585365854,
          36.58536585365854,
          36.58536585365854,
          36.58536585365854,
          36.58536585365854,
          36.58536585365854,
          36.58536585365854,
          36.58536585365854,
          36.58536585365854,
          36.58536585365854,
          36.58536585365854,
          36.58536585365854,
          36.58536585365854,
          36.58536585365854,
          36.58536585365854,
          36.58536585365854,
          36.58536585365854,
          36.58536585365854,
          36.58536585365854,
          36.58536585365854,
          36.58536585365854,
          36.58536585365854,
          36.58536585365854,
          36.58536585365854,
          36.58536585365854,
          36.58536585365854,
          36.58536585365854,
          36.58536585365854,
          36.58536585365854,
          36.58536585365854,
          36.58536585365854,
          40.24390243902439,
          40.24390243902439,
          40.24390243902439,
          40.24390243902439,
          40.24390243902439,
          40.24390243902439,
          40.24390243902439,
          40.24390243902439,
          40.24390243902439,
          40.24390243902439,
          40.24390243902439,
          40.24390243902439,
          40.24390243902439,
          40.24390243902439,
          40.24390243902439,
          40.24390243902439,
          40.24390243902439,
          40.24390243902439,
          40.24390243902439,
          40.24390243902439,
          40.24390243902439,
          40.24390243902439,
          40.24390243902439,
          40.24390243902439,
          40.24390243902439,
          40.24390243902439,
          40.24390243902439,
          40.24390243902439,
          40.24390243902439,
          40.24390243902439,
          40.24390243902439,
          40.24390243902439,
          43.90243902439025,
          43.90243902439025,
          43.90243902439025,
          43.90243902439025,
          43.90243902439025,
          43.90243902439025,
          43.90243902439025,
          43.90243902439025,
          43.90243902439025,
          43.90243902439025,
          43.90243902439025,
          43.90243902439025,
          43.90243902439025,
          43.90243902439025,
          43.90243902439025,
          43.90243902439025,
          43.90243902439025,
          43.90243902439025,
          43.90243902439025,
          43.90243902439025,
          43.90243902439025,
          43.90243902439025,
          43.90243902439025,
          43.90243902439025,
          43.90243902439025,
          43.90243902439025,
          43.90243902439025,
          43.90243902439025,
          43.90243902439025,
          43.90243902439025,
          43.90243902439025,
          43.90243902439025,
          47.5609756097561,
          47.5609756097561,
          47.5609756097561,
          47.5609756097561,
          47.5609756097561,
          47.5609756097561,
          47.5609756097561,
          47.5609756097561,
          47.5609756097561,
          47.5609756097561,
          47.5609756097561,
          47.5609756097561,
          47.5609756097561,
          47.5609756097561,
          47.5609756097561,
          47.5609756097561,
          47.5609756097561,
          47.5609756097561,
          47.5609756097561,
          47.5609756097561,
          47.5609756097561,
          47.5609756097561,
          47.5609756097561,
          47.5609756097561,
          47.5609756097561,
          47.5609756097561,
          47.5609756097561,
          47.5609756097561,
          47.5609756097561,
          47.5609756097561,
          47.5609756097561,
          47.5609756097561,
          51.21951219512195,
          51.21951219512195,
          51.21951219512195,
          51.21951219512195,
          51.21951219512195,
          51.21951219512195,
          51.21951219512195,
          51.21951219512195,
          51.21951219512195,
          51.21951219512195,
          51.21951219512195,
          51.21951219512195,
          51.21951219512195,
          51.21951219512195,
          51.21951219512195,
          51.21951219512195,
          51.21951219512195,
          51.21951219512195,
          51.21951219512195,
          51.21951219512195,
          51.21951219512195,
          51.21951219512195,
          51.21951219512195,
          51.21951219512195,
          51.21951219512195,
          51.21951219512195,
          51.21951219512195,
          51.21951219512195,
          51.21951219512195,
          51.21951219512195,
          51.21951219512195,
          51.21951219512195,
          54.87804878048781,
          54.87804878048781,
          54.87804878048781,
          54.87804878048781,
          54.87804878048781,
          54.87804878048781,
          54.87804878048781,
          54.87804878048781,
          54.87804878048781,
          54.87804878048781,
          54.87804878048781,
          54.87804878048781,
          54.87804878048781,
          54.87804878048781,
          54.87804878048781,
          54.87804878048781,
          54.87804878048781,
          54.87804878048781,
          54.87804878048781,
          54.87804878048781,
          54.87804878048781,
          54.87804878048781,
          54.87804878048781,
          54.87804878048781,
          54.87804878048781,
          54.87804878048781,
          54.87804878048781,
          54.87804878048781,
          54.87804878048781,
          54.87804878048781,
          54.87804878048781,
          54.87804878048781,
          58.53658536585366,
          58.53658536585366,
          58.53658536585366,
          58.53658536585366,
          58.53658536585366,
          58.53658536585366,
          58.53658536585366,
          58.53658536585366,
          58.53658536585366,
          58.53658536585366,
          58.53658536585366,
          58.53658536585366,
          58.53658536585366,
          58.53658536585366,
          58.53658536585366,
          58.53658536585366,
          58.53658536585366,
          58.53658536585366,
          58.53658536585366,
          58.53658536585366,
          58.53658536585366,
          58.53658536585366,
          58.53658536585366,
          58.53658536585366,
          58.53658536585366,
          58.53658536585366,
          58.53658536585366,
          58.53658536585366,
          58.53658536585366,
          58.53658536585366,
          58.53658536585366,
          58.53658536585366,
          62.19512195121951,
          62.19512195121951,
          62.19512195121951,
          62.19512195121951,
          62.19512195121951,
          62.19512195121951,
          62.19512195121951,
          62.19512195121951,
          62.19512195121951,
          62.19512195121951,
          62.19512195121951,
          62.19512195121951,
          62.19512195121951,
          62.19512195121951,
          62.19512195121951,
          62.19512195121951,
          62.19512195121951,
          62.19512195121951,
          62.19512195121951,
          62.19512195121951,
          62.19512195121951,
          62.19512195121951,
          62.19512195121951,
          62.19512195121951,
          62.19512195121951,
          62.19512195121951,
          62.19512195121951,
          62.19512195121951,
          62.19512195121951,
          62.19512195121951,
          62.19512195121951,
          62.19512195121951,
          65.85365853658537,
          65.85365853658537,
          65.85365853658537,
          65.85365853658537,
          65.85365853658537,
          65.85365853658537,
          65.85365853658537,
          65.85365853658537,
          65.85365853658537,
          65.85365853658537,
          65.85365853658537,
          65.85365853658537,
          65.85365853658537,
          65.85365853658537,
          65.85365853658537,
          65.85365853658537,
          65.85365853658537,
          65.85365853658537,
          65.85365853658537,
          65.85365853658537,
          65.85365853658537,
          65.85365853658537,
          65.85365853658537,
          65.85365853658537,
          65.85365853658537,
          65.85365853658537,
          65.85365853658537,
          65.85365853658537,
          65.85365853658537,
          65.85365853658537,
          65.85365853658537,
          65.85365853658537,
          69.51219512195122,
          69.51219512195122,
          69.51219512195122,
          69.51219512195122,
          69.51219512195122,
          69.51219512195122,
          69.51219512195122,
          69.51219512195122,
          69.51219512195122,
          69.51219512195122,
          69.51219512195122,
          69.51219512195122,
          69.51219512195122,
          69.51219512195122,
          69.51219512195122,
          69.51219512195122,
          69.51219512195122,
          69.51219512195122,
          69.51219512195122,
          69.51219512195122,
          69.51219512195122,
          69.51219512195122,
          69.51219512195122,
          69.51219512195122,
          69.51219512195122,
          69.51219512195122,
          69.51219512195122,
          69.51219512195122,
          69.51219512195122,
          69.51219512195122,
          69.51219512195122,
          69.51219512195122,
          73.17073170731707,
          73.17073170731707,
          73.17073170731707,
          73.17073170731707,
          73.17073170731707,
          73.17073170731707,
          73.17073170731707,
          73.17073170731707,
          73.17073170731707,
          73.17073170731707,
          73.17073170731707,
          73.17073170731707,
          73.17073170731707,
          73.17073170731707,
          73.17073170731707,
          73.17073170731707,
          73.17073170731707,
          73.17073170731707,
          73.17073170731707,
          73.17073170731707,
          73.17073170731707,
          73.17073170731707,
          73.17073170731707,
          73.17073170731707,
          73.17073170731707,
          73.17073170731707,
          73.17073170731707,
          73.17073170731707,
          73.17073170731707,
          73.17073170731707,
          73.17073170731707,
          73.17073170731707,
          76.82926829268293,
          76.82926829268293,
          76.82926829268293,
          76.82926829268293,
          76.82926829268293,
          76.82926829268293,
          76.82926829268293,
          76.82926829268293,
          76.82926829268293,
          76.82926829268293,
          76.82926829268293,
          76.82926829268293,
          76.82926829268293,
          76.82926829268293,
          76.82926829268293,
          76.82926829268293,
          76.82926829268293,
          76.82926829268293,
          76.82926829268293,
          76.82926829268293,
          76.82926829268293,
          76.82926829268293,
          76.82926829268293,
          76.82926829268293,
          76.82926829268293,
          76.82926829268293,
          76.82926829268293,
          76.82926829268293,
          76.82926829268293,
          76.82926829268293,
          76.82926829268293,
          76.82926829268293,
          80.48780487804878,
          80.48780487804878,
          80.48780487804878,
          80.48780487804878,
          80.48780487804878,
          80.48780487804878,
          80.48780487804878,
          80.48780487804878,
          80.48780487804878,
          80.48780487804878,
          80.48780487804878,
          80.48780487804878,
          80.48780487804878,
          80.48780487804878,
          80.48780487804878,
          80.48780487804878,
          80.48780487804878,
          80.48780487804878,
          80.48780487804878,
          80.48780487804878,
          80.48780487804878,
          80.48780487804878,
          80.48780487804878,
          80.48780487804878,
          80.48780487804878,
          80.48780487804878,
          80.48780487804878,
          80.48780487804878,
          80.48780487804878,
          80.48780487804878,
          80.48780487804878,
          80.48780487804878,
          84.14634146341464,
          84.14634146341464,
          84.14634146341464,
          84.14634146341464,
          84.14634146341464,
          84.14634146341464,
          84.14634146341464,
          84.14634146341464,
          84.14634146341464,
          84.14634146341464,
          84.14634146341464,
          84.14634146341464,
          84.14634146341464,
          84.14634146341464,
          84.14634146341464,
          84.14634146341464,
          84.14634146341464,
          84.14634146341464,
          84.14634146341464,
          84.14634146341464,
          84.14634146341464,
          84.14634146341464,
          84.14634146341464,
          84.14634146341464,
          84.14634146341464,
          84.14634146341464,
          84.14634146341464,
          84.14634146341464,
          84.14634146341464,
          84.14634146341464,
          84.14634146341464,
          84.14634146341464,
          87.8048780487805,
          87.8048780487805,
          87.8048780487805,
          87.8048780487805,
          87.8048780487805,
          87.8048780487805,
          87.8048780487805,
          87.8048780487805,
          87.8048780487805,
          87.8048780487805,
          87.8048780487805,
          87.8048780487805,
          87.8048780487805,
          87.8048780487805,
          87.8048780487805,
          87.8048780487805,
          87.8048780487805,
          87.8048780487805,
          87.8048780487805,
          87.8048780487805,
          87.8048780487805,
          87.8048780487805,
          87.8048780487805,
          87.8048780487805,
          87.8048780487805,
          87.8048780487805,
          87.8048780487805,
          87.8048780487805,
          87.8048780487805,
          87.8048780487805,
          87.8048780487805,
          87.8048780487805,
          91.46341463414635,
          91.46341463414635,
          91.46341463414635,
          91.46341463414635,
          91.46341463414635,
          91.46341463414635,
          91.46341463414635,
          91.46341463414635,
          91.46341463414635,
          91.46341463414635,
          91.46341463414635,
          91.46341463414635,
          91.46341463414635,
          91.46341463414635,
          91.46341463414635,
          91.46341463414635,
          91.46341463414635,
          91.46341463414635,
          91.46341463414635,
          91.46341463414635,
          91.46341463414635,
          91.46341463414635,
          91.46341463414635,
          91.46341463414635,
          91.46341463414635,
          91.46341463414635,
          91.46341463414635,
          91.46341463414635,
          91.46341463414635,
          91.46341463414635,
          91.46341463414635,
          91.46341463414635,
          95.1219512195122,
          95.1219512195122,
          95.1219512195122,
          95.1219512195122,
          95.1219512195122,
          95.1219512195122,
          95.1219512195122,
          95.1219512195122,
          95.1219512195122,
          95.1219512195122,
          95.1219512195122,
          95.1219512195122,
          95.1219512195122,
          95.1219512195122,
          95.1219512195122,
          95.1219512195122,
          95.1219512195122,
          95.1219512195122,
          95.1219512195122,
          95.1219512195122,
          95.1219512195122,
          95.1219512195122,
          95.1219512195122,
          95.1219512195122,
          95.1219512195122,
          95.1219512195122,
          95.1219512195122,
          95.1219512195122,
          95.1219512195122,
          95.1219512195122,
          95.1219512195122,
          95.1219512195122,
          98.78048780487805,
          98.78048780487805,
          98.78048780487805,
          98.78048780487805,
          98.78048780487805,
          98.78048780487805,
          98.78048780487805,
          98.78048780487805,
          98.78048780487805,
          98.78048780487805,
          98.78048780487805,
          98.78048780487805,
          98.78048780487805,
          98.78048780487805,
          98.78048780487805,
          98.78048780487805,
          98.78048780487805,
          98.78048780487805,
          98.78048780487805,
          98.78048780487805,
          98.78048780487805,
          98.78048780487805,
          98.78048780487805,
          98.78048780487805,
          98.78048780487805,
          98.78048780487805,
          98.78048780487805,
          98.78048780487805,
          98.78048780487805,
          98.78048780487805,
          98.78048780487805,
          98.78048780487805,
          102.4390243902439,
          102.4390243902439,
          102.4390243902439,
          102.4390243902439,
          102.4390243902439,
          102.4390243902439,
          102.4390243902439,
          102.4390243902439,
          102.4390243902439,
          102.4390243902439,
          102.4390243902439,
          102.4390243902439,
          102.4390243902439,
          102.4390243902439,
          102.4390243902439,
          102.4390243902439,
          102.4390243902439,
          102.4390243902439,
          102.4390243902439,
          102.4390243902439,
          102.4390243902439,
          102.4390243902439,
          102.4390243902439,
          102.4390243902439,
          102.4390243902439,
          102.4390243902439,
          102.4390243902439,
          102.4390243902439,
          102.4390243902439,
          102.4390243902439,
          102.4390243902439,
          102.4390243902439,
          106.09756097560977,
          106.09756097560977,
          106.09756097560977,
          106.09756097560977,
          106.09756097560977,
          106.09756097560977,
          106.09756097560977,
          106.09756097560977,
          106.09756097560977,
          106.09756097560977,
          106.09756097560977,
          106.09756097560977,
          106.09756097560977,
          106.09756097560977,
          106.09756097560977,
          106.09756097560977,
          106.09756097560977,
          106.09756097560977,
          106.09756097560977,
          106.09756097560977,
          106.09756097560977,
          106.09756097560977,
          106.09756097560977,
          106.09756097560977,
          106.09756097560977,
          106.09756097560977,
          106.09756097560977,
          106.09756097560977,
          106.09756097560977,
          106.09756097560977,
          106.09756097560977,
          106.09756097560977,
          109.75609756097562,
          109.75609756097562,
          109.75609756097562,
          109.75609756097562,
          109.75609756097562,
          109.75609756097562,
          109.75609756097562,
          109.75609756097562,
          109.75609756097562,
          109.75609756097562,
          109.75609756097562,
          109.75609756097562,
          109.75609756097562,
          109.75609756097562,
          109.75609756097562,
          109.75609756097562,
          109.75609756097562,
          109.75609756097562,
          109.75609756097562,
          109.75609756097562,
          109.75609756097562,
          109.75609756097562,
          109.75609756097562,
          109.75609756097562,
          109.75609756097562,
          109.75609756097562,
          109.75609756097562,
          109.75609756097562,
          109.75609756097562,
          109.75609756097562,
          109.75609756097562,
          109.75609756097562,
          113.41463414634147,
          113.41463414634147,
          113.41463414634147,
          113.41463414634147,
          113.41463414634147,
          113.41463414634147,
          113.41463414634147,
          113.41463414634147,
          113.41463414634147,
          113.41463414634147,
          113.41463414634147,
          113.41463414634147,
          113.41463414634147,
          113.41463414634147,
          113.41463414634147,
          113.41463414634147,
          113.41463414634147,
          113.41463414634147,
          113.41463414634147,
          113.41463414634147,
          113.41463414634147,
          113.41463414634147,
          113.41463414634147,
          113.41463414634147,
          113.41463414634147,
          113.41463414634147,
          113.41463414634147,
          113.41463414634147,
          113.41463414634147,
          113.41463414634147,
          113.41463414634147,
          113.41463414634147,
          117.07317073170732,
          117.07317073170732,
          117.07317073170732,
          117.07317073170732,
          117.07317073170732,
          117.07317073170732,
          117.07317073170732,
          117.07317073170732,
          117.07317073170732,
          117.07317073170732,
          117.07317073170732,
          117.07317073170732,
          117.07317073170732,
          117.07317073170732,
          117.07317073170732,
          117.07317073170732,
          117.07317073170732,
          117.07317073170732,
          117.07317073170732,
          117.07317073170732,
          117.07317073170732,
          117.07317073170732,
          117.07317073170732,
          117.07317073170732,
          117.07317073170732,
          117.07317073170732,
          117.07317073170732,
          117.07317073170732,
          117.07317073170732,
          117.07317073170732,
          117.07317073170732,
          117.07317073170732,
          120.73170731707317,
          120.73170731707317,
          120.73170731707317,
          120.73170731707317,
          120.73170731707317,
          120.73170731707317,
          120.73170731707317,
          120.73170731707317,
          120.73170731707317,
          120.73170731707317,
          120.73170731707317,
          120.73170731707317,
          120.73170731707317,
          120.73170731707317,
          120.73170731707317,
          120.73170731707317,
          120.73170731707317,
          120.73170731707317,
          120.73170731707317,
          120.73170731707317,
          120.73170731707317,
          120.73170731707317,
          120.73170731707317,
          120.73170731707317,
          120.73170731707317,
          120.73170731707317,
          120.73170731707317,
          120.73170731707317,
          120.73170731707317,
          120.73170731707317,
          120.73170731707317,
          120.73170731707317,
          124.39024390243902,
          124.39024390243902,
          124.39024390243902,
          124.39024390243902,
          124.39024390243902,
          124.39024390243902,
          124.39024390243902,
          124.39024390243902,
          124.39024390243902,
          124.39024390243902,
          124.39024390243902,
          124.39024390243902,
          124.39024390243902,
          124.39024390243902,
          124.39024390243902,
          124.39024390243902,
          124.39024390243902,
          124.39024390243902,
          124.39024390243902,
          124.39024390243902,
          124.39024390243902,
          124.39024390243902,
          124.39024390243902,
          124.39024390243902,
          124.39024390243902,
          124.39024390243902,
          124.39024390243902,
          124.39024390243902,
          124.39024390243902,
          124.39024390243902,
          124.39024390243902,
          124.39024390243902,
          128.0487804878049,
          128.0487804878049,
          128.0487804878049,
          128.0487804878049,
          128.0487804878049,
          128.0487804878049,
          128.0487804878049,
          128.0487804878049,
          128.0487804878049,
          128.0487804878049,
          128.0487804878049,
          128.0487804878049,
          128.0487804878049,
          128.0487804878049,
          128.0487804878049,
          128.0487804878049,
          128.0487804878049,
          128.0487804878049,
          128.0487804878049,
          128.0487804878049,
          128.0487804878049,
          128.0487804878049,
          128.0487804878049,
          128.0487804878049,
          128.0487804878049,
          128.0487804878049,
          128.0487804878049,
          128.0487804878049,
          128.0487804878049,
          128.0487804878049,
          128.0487804878049,
          128.0487804878049,
          131.70731707317074,
          131.70731707317074,
          131.70731707317074,
          131.70731707317074,
          131.70731707317074,
          131.70731707317074,
          131.70731707317074,
          131.70731707317074,
          131.70731707317074,
          131.70731707317074,
          131.70731707317074,
          131.70731707317074,
          131.70731707317074,
          131.70731707317074,
          131.70731707317074,
          131.70731707317074,
          131.70731707317074,
          131.70731707317074,
          131.70731707317074,
          131.70731707317074,
          131.70731707317074,
          131.70731707317074,
          131.70731707317074,
          131.70731707317074,
          131.70731707317074,
          131.70731707317074,
          131.70731707317074,
          131.70731707317074,
          131.70731707317074,
          131.70731707317074,
          131.70731707317074,
          131.70731707317074,
          135.3658536585366,
          135.3658536585366,
          135.3658536585366,
          135.3658536585366,
          135.3658536585366,
          135.3658536585366,
          135.3658536585366,
          135.3658536585366,
          135.3658536585366,
          135.3658536585366,
          135.3658536585366,
          135.3658536585366,
          135.3658536585366,
          135.3658536585366,
          135.3658536585366,
          135.3658536585366,
          135.3658536585366,
          135.3658536585366,
          135.3658536585366,
          135.3658536585366,
          135.3658536585366,
          135.3658536585366,
          135.3658536585366,
          135.3658536585366,
          135.3658536585366,
          135.3658536585366,
          135.3658536585366,
          135.3658536585366,
          135.3658536585366,
          135.3658536585366,
          135.3658536585366,
          135.3658536585366,
          139.02439024390245,
          139.02439024390245,
          139.02439024390245,
          139.02439024390245,
          139.02439024390245,
          139.02439024390245,
          139.02439024390245,
          139.02439024390245,
          139.02439024390245,
          139.02439024390245,
          139.02439024390245,
          139.02439024390245,
          139.02439024390245,
          139.02439024390245,
          139.02439024390245,
          139.02439024390245,
          139.02439024390245,
          139.02439024390245,
          139.02439024390245,
          139.02439024390245,
          139.02439024390245,
          139.02439024390245,
          139.02439024390245,
          139.02439024390245,
          139.02439024390245,
          139.02439024390245,
          139.02439024390245,
          139.02439024390245,
          139.02439024390245,
          139.02439024390245,
          139.02439024390245,
          139.02439024390245,
          142.6829268292683,
          142.6829268292683,
          142.6829268292683,
          142.6829268292683,
          142.6829268292683,
          142.6829268292683,
          142.6829268292683,
          142.6829268292683,
          142.6829268292683,
          142.6829268292683,
          142.6829268292683,
          142.6829268292683,
          142.6829268292683,
          142.6829268292683,
          142.6829268292683,
          142.6829268292683,
          142.6829268292683,
          142.6829268292683,
          142.6829268292683,
          142.6829268292683,
          142.6829268292683,
          142.6829268292683,
          142.6829268292683,
          142.6829268292683,
          142.6829268292683,
          142.6829268292683,
          142.6829268292683,
          142.6829268292683,
          142.6829268292683,
          142.6829268292683,
          142.6829268292683,
          142.6829268292683,
          146.34146341463415,
          146.34146341463415,
          146.34146341463415,
          146.34146341463415,
          146.34146341463415,
          146.34146341463415,
          146.34146341463415,
          146.34146341463415,
          146.34146341463415,
          146.34146341463415,
          146.34146341463415,
          146.34146341463415,
          146.34146341463415,
          146.34146341463415,
          146.34146341463415,
          146.34146341463415,
          146.34146341463415,
          146.34146341463415,
          146.34146341463415,
          146.34146341463415,
          146.34146341463415,
          146.34146341463415,
          146.34146341463415,
          146.34146341463415,
          146.34146341463415,
          146.34146341463415,
          146.34146341463415,
          146.34146341463415,
          146.34146341463415,
          146.34146341463415,
          146.34146341463415,
          146.34146341463415,
          150,
          150,
          150,
          150,
          150,
          150,
          150,
          150,
          150,
          150,
          150,
          150,
          150,
          150,
          150,
          150,
          150,
          150,
          150,
          150,
          150,
          150,
          150,
          150,
          150,
          150,
          150,
          150,
          150,
          150,
          150,
          150
         ]
        },
        {
         "marker": {
          "color": "blue",
          "size": 20,
          "symbol": "x-dot"
         },
         "mode": "markers",
         "name": "drone ground midpoint",
         "text": [
          "1.0124408734529904",
          "1.0124408734529904",
          "1.0124408734529904",
          "1.0124408734529904",
          "1.0124408734529904",
          "1.0124408734529904",
          "1.0124408734529904",
          "1.0124408734529904",
          "1.0124408734529904",
          "1.0124408734529904",
          "1.0124408734529904",
          "1.0124408734529904",
          "1.0124408734529904",
          "1.0124408734529904",
          "1.0124408734529904",
          "1.0124408734529904",
          "1.0124408734529904",
          "1.0124408734529904",
          "1.0124408734529904",
          "1.0124408734529904",
          "1.0124408734529904",
          "1.0124408734529904",
          "1.0124408734529904",
          "1.0124408734529904",
          "1.0124408734529904",
          "1.0124408734529904",
          "1.0124408734529904",
          "1.0124408734529904",
          "1.0124408734529904",
          "1.0124408734529904",
          "1.0124408734529904",
          "1.0124408734529904",
          "1.0124408734529904",
          "1.0124408734529904",
          "1.0124408734529904",
          "1.0124408734529904",
          "1.0124408734529904",
          "1.0124408734529904",
          "1.0124408734529904",
          "1.0124408734529904",
          "1.0124408734529904",
          "1.0124408734529904",
          "1.0124408734529904",
          "1.0124408734529904",
          "1.0124408734529904",
          "1.0124408734529904",
          "1.0124408734529904",
          "1.0124408734529904",
          "1.0124408734529904",
          "1.0124408734529904",
          "1.0124408734529904",
          "1.0124408734529904",
          "1.0124408734529904",
          "1.0124408734529904",
          "1.0124408734529904",
          "1.0124408734529904",
          "1.0124408734529904",
          "1.0124408734529904",
          "1.0124408734529904",
          "1.0124408734529904",
          "1.0124408734529904",
          "1.0124408734529904",
          "1.0124408734529904",
          "1.0124408734529904",
          "1.0124408734529904",
          "1.0124408734529904",
          "1.0124408734529904",
          "1.0124408734529904",
          "1.0124408734529904",
          "1.0124408734529904",
          "1.0124408734529904",
          "1.0124408734529904",
          "1.0124408734529904",
          "1.0124408734529904",
          "1.0124408734529904",
          "1.0124408734529904",
          "1.0124408734529904",
          "1.0124408734529904",
          "1.0124408734529904",
          "1.0124408734529904",
          "1.0124408734529904",
          "1.0124408734529904",
          "1.0124408734529904",
          "1.0124408734529904",
          "1.0124408734529904",
          "1.0124408734529904",
          "1.0124408734529904",
          "1.0124408734529904",
          "1.0124408734529904",
          "1.0124408734529904",
          "1.0124408734529904",
          "1.0124408734529904",
          "1.0124408734529904",
          "1.0124408734529904",
          "1.0124408734529904",
          "1.0124408734529904",
          "1.0124408734529904",
          "1.0124408734529904",
          "1.0124408734529904",
          "1.0124408734529904",
          "1.0124408734529904",
          "1.0124408734529904",
          "1.0124408734529904",
          "1.0124408734529904",
          "1.0124408734529904",
          "1.0124408734529904",
          "1.0124408734529904",
          "1.0124408734529904",
          "1.0124408734529904",
          "1.0124408734529904",
          "1.0124408734529904",
          "1.0124408734529904",
          "1.0124408734529904",
          "1.0124408734529904",
          "1.0124408734529904",
          "1.0124408734529904",
          "1.0124408734529904",
          "1.0124408734529904",
          "1.0124408734529904",
          "1.0124408734529904",
          "1.0124408734529904",
          "1.0124408734529904",
          "1.0124408734529904",
          "1.0124408734529904",
          "1.0124408734529904",
          "1.0124408734529904",
          "1.0124408734529904",
          "1.0124408734529904",
          "1.0124408734529904",
          "1.0124408734529904",
          "1.0124408734529904",
          "1.0124408734529904",
          "1.0124408734529904",
          "1.0124408734529904",
          "1.0124408734529904",
          "1.0124408734529904",
          "1.0124408734529904",
          "1.0124408734529904",
          "1.0124408734529904",
          "1.0124408734529904",
          "1.0124408734529904",
          "1.0124408734529904",
          "1.0124408734529904",
          "1.0124408734529904",
          "1.0124408734529904",
          "1.0124408734529904",
          "1.0124408734529904",
          "1.0124408734529904",
          "1.0124408734529904",
          "1.0124408734529904",
          "1.0124408734529904",
          "1.0124408734529904",
          "1.0124408734529904",
          "1.0124408734529904",
          "1.0124408734529904",
          "1.0124408734529904",
          "1.0124408734529904",
          "1.0124408734529904",
          "1.0124408734529904",
          "1.0124408734529904",
          "1.0124408734529904",
          "1.0124408734529904",
          "1.0124408734529904",
          "1.0124408734529904",
          "1.0124408734529904",
          "1.0124408734529904",
          "1.0124408734529904",
          "1.0124408734529904",
          "1.0124408734529904",
          "1.0124408734529904",
          "1.0124408734529904",
          "1.0124408734529904",
          "1.0124408734529904",
          "1.0124408734529904",
          "1.0124408734529904",
          "1.0124408734529904",
          "1.0124408734529904",
          "1.0124408734529904",
          "1.0124408734529904",
          "1.0124408734529904",
          "1.0124408734529904",
          "1.0124408734529904",
          "1.0124408734529904",
          "1.0124408734529904",
          "1.0124408734529904",
          "1.0124408734529904",
          "1.0124408734529904",
          "1.0124408734529904",
          "1.0124408734529904",
          "1.0124408734529904",
          "1.0124408734529904",
          "1.0124408734529904",
          "1.0124408734529904",
          "1.0124408734529904",
          "1.0124408734529904",
          "1.0124408734529904",
          "1.0124408734529904",
          "1.0124408734529904",
          "1.0124408734529904",
          "1.0124408734529904",
          "1.0124408734529904",
          "1.0124408734529904",
          "1.0124408734529904",
          "1.0124408734529904",
          "1.0124408734529904",
          "1.0124408734529904",
          "1.0124408734529904",
          "1.0124408734529904",
          "1.0124408734529904",
          "1.0124408734529904",
          "1.0124408734529904",
          "1.0124408734529904",
          "1.0124408734529904",
          "1.0124408734529904",
          "1.0124408734529904",
          "1.0124408734529904",
          "1.0124408734529904",
          "1.0124408734529904",
          "1.0124408734529904",
          "1.0124408734529904",
          "1.0124408734529904",
          "1.0124408734529904",
          "1.0124408734529904",
          "1.0124408734529904",
          "1.0124408734529904",
          "1.0124408734529904",
          "1.0124408734529904",
          "1.0124408734529904",
          "1.0124408734529904",
          "1.0124408734529904",
          "1.0124408734529904",
          "1.0124408734529904",
          "1.0124408734529904",
          "1.0124408734529904",
          "1.0124408734529904",
          "1.0124408734529904",
          "1.0124408734529904",
          "1.0124408734529904",
          "1.0124408734529904",
          "1.0124408734529904",
          "1.0124408734529904",
          "1.0124408734529904",
          "1.0124408734529904",
          "1.0124408734529904",
          "1.0124408734529904",
          "1.0124408734529904",
          "1.0124408734529904",
          "1.0124408734529904",
          "1.0124408734529904",
          "1.0124408734529904",
          "1.0124408734529904",
          "1.0124408734529904",
          "1.0124408734529904",
          "1.0124408734529904",
          "1.0124408734529904",
          "1.0124408734529904",
          "1.0124408734529904",
          "1.0124408734529904",
          "1.0124408734529904",
          "1.0124408734529904",
          "1.0124408734529904",
          "1.0124408734529904",
          "1.0124408734529904",
          "1.0124408734529904",
          "1.0124408734529904",
          "1.0124408734529904",
          "1.0124408734529904",
          "1.0124408734529904",
          "1.0124408734529904",
          "1.0124408734529904",
          "1.0124408734529904",
          "1.0124408734529904",
          "1.0124408734529904",
          "1.0124408734529904",
          "1.0124408734529904",
          "1.0124408734529904",
          "1.0124408734529904",
          "1.0124408734529904",
          "1.0124408734529904",
          "1.0124408734529904",
          "1.0124408734529904",
          "1.0124408734529904",
          "1.0124408734529904",
          "1.0124408734529904",
          "1.0124408734529904",
          "1.0124408734529904",
          "1.0124408734529904",
          "1.0124408734529904",
          "1.0124408734529904",
          "1.0124408734529904",
          "1.0124408734529904",
          "1.0124408734529904",
          "1.0124408734529904",
          "1.0124408734529904",
          "1.0124408734529904",
          "1.0124408734529904",
          "1.0124408734529904",
          "1.0124408734529904",
          "1.0124408734529904",
          "1.0124408734529904",
          "1.0124408734529904",
          "1.0124408734529904",
          "1.0124408734529904",
          "1.0124408734529904",
          "1.0124408734529904",
          "1.0124408734529904",
          "1.0124408734529904",
          "1.0124408734529904",
          "1.0124408734529904",
          "1.0124408734529904",
          "1.0124408734529904",
          "1.0124408734529904",
          "1.0124408734529904",
          "1.0124408734529904",
          "1.0124408734529904",
          "1.0124408734529904",
          "1.0124408734529904",
          "1.0124408734529904",
          "1.0124408734529904",
          "1.0124408734529904",
          "1.0124408734529904",
          "1.0124408734529904",
          "1.0124408734529904",
          "1.0124408734529904",
          "1.0124408734529904",
          "1.0124408734529904",
          "1.0124408734529904",
          "1.0124408734529904",
          "1.0124408734529904",
          "1.0124408734529904",
          "1.0124408734529904",
          "1.0124408734529904",
          "1.0124408734529904",
          "1.0124408734529904",
          "1.0124408734529904",
          "1.0124408734529904",
          "1.0124408734529904",
          "1.0124408734529904",
          "1.0124408734529904",
          "1.0124408734529904",
          "1.0124408734529904",
          "1.0124408734529904",
          "1.0124408734529904",
          "1.0124408734529904",
          "1.0124408734529904",
          "1.0124408734529904",
          "1.0124408734529904",
          "1.0124408734529904",
          "1.0124408734529904",
          "1.0124408734529904",
          "1.0124408734529904",
          "1.0124408734529904",
          "1.0124408734529904",
          "1.0124408734529904",
          "1.0124408734529904",
          "1.0124408734529904",
          "1.0124408734529904",
          "1.0124408734529904",
          "1.0124408734529904",
          "1.0124408734529904",
          "1.0124408734529904",
          "1.0124408734529904",
          "1.0124408734529904",
          "1.0124408734529904",
          "1.0124408734529904",
          "1.0124408734529904",
          "1.0124408734529904",
          "1.0124408734529904",
          "1.0124408734529904",
          "1.0124408734529904",
          "1.0124408734529904",
          "1.0124408734529904",
          "1.0124408734529904",
          "1.0124408734529904",
          "1.0124408734529904",
          "1.0124408734529904",
          "1.0124408734529904",
          "1.0124408734529904",
          "1.0124408734529904",
          "1.0124408734529904",
          "1.0124408734529904",
          "1.0124408734529904",
          "1.0124408734529904",
          "1.0124408734529904",
          "1.0124408734529904",
          "1.0124408734529904",
          "1.0124408734529904",
          "1.0124408734529904",
          "1.0124408734529904",
          "1.0124408734529904",
          "1.0124408734529904",
          "1.0124408734529904",
          "1.0124408734529904",
          "1.0124408734529904",
          "1.0124408734529904",
          "1.0124408734529904",
          "1.0124408734529904",
          "1.0124408734529904",
          "1.0124408734529904",
          "1.0124408734529904",
          "1.0124408734529904",
          "1.0124408734529904",
          "1.0124408734529904",
          "1.0124408734529904",
          "1.0124408734529904",
          "1.0124408734529904",
          "1.0124408734529904",
          "1.0124408734529904",
          "1.0124408734529904",
          "1.0124408734529904",
          "1.0124408734529904",
          "1.0124408734529904",
          "1.0124408734529904",
          "1.0124408734529904",
          "1.0124408734529904",
          "1.0124408734529904",
          "1.0124408734529904",
          "1.0124408734529904",
          "1.0124408734529904",
          "1.0124408734529904",
          "1.0124408734529904",
          "1.0124408734529904",
          "1.0124408734529904",
          "1.0124408734529904",
          "1.0124408734529904",
          "1.0124408734529904",
          "1.0124408734529904",
          "1.0124408734529904",
          "1.0124408734529904",
          "1.0124408734529904",
          "1.0124408734529904",
          "1.0124408734529904",
          "1.0124408734529904",
          "1.0124408734529904",
          "1.0124408734529904",
          "1.0124408734529904",
          "1.0124408734529904",
          "1.0124408734529904",
          "1.0124408734529904",
          "1.0124408734529904",
          "1.0124408734529904",
          "1.0124408734529904",
          "1.0124408734529904",
          "1.0124408734529904",
          "1.0124408734529904",
          "1.0124408734529904",
          "1.0124408734529904",
          "1.0124408734529904",
          "1.0124408734529904",
          "1.0124408734529904",
          "1.0124408734529904",
          "1.0124408734529904",
          "1.0124408734529904",
          "1.0124408734529904",
          "1.0124408734529904",
          "1.0124408734529904",
          "1.0124408734529904",
          "1.0124408734529904",
          "1.0124408734529904",
          "1.0124408734529904",
          "1.0124408734529904",
          "1.0124408734529904",
          "1.0124408734529904",
          "1.0124408734529904",
          "1.0124408734529904",
          "1.0124408734529904",
          "1.0124408734529904",
          "1.0124408734529904",
          "1.0124408734529904",
          "1.0124408734529904",
          "1.0124408734529904",
          "1.0124408734529904",
          "1.0124408734529904",
          "1.0124408734529904",
          "1.0124408734529904",
          "1.0124408734529904",
          "1.0124408734529904",
          "1.0124408734529904",
          "1.0124408734529904",
          "1.0124408734529904",
          "1.0124408734529904",
          "1.0124408734529904",
          "1.0124408734529904",
          "1.0124408734529904",
          "1.0124408734529904",
          "1.0124408734529904",
          "1.0124408734529904",
          "1.0124408734529904",
          "1.0124408734529904",
          "1.0124408734529904",
          "1.0124408734529904",
          "1.0124408734529904",
          "1.0124408734529904",
          "1.0124408734529904",
          "1.0124408734529904",
          "1.0124408734529904",
          "1.0124408734529904",
          "1.0124408734529904",
          "1.0124408734529904",
          "1.0124408734529904",
          "1.0124408734529904",
          "1.0124408734529904",
          "1.0124408734529904",
          "1.0124408734529904",
          "1.0124408734529904",
          "1.0124408734529904",
          "1.0124408734529904",
          "1.0124408734529904",
          "1.0124408734529904",
          "1.0124408734529904",
          "1.0124408734529904",
          "1.0124408734529904",
          "1.0124408734529904",
          "1.0124408734529904",
          "1.0124408734529904",
          "1.0124408734529904",
          "1.0124408734529904",
          "1.0124408734529904",
          "1.0124408734529904",
          "1.0124408734529904",
          "1.0124408734529904",
          "1.0124408734529904",
          "1.0124408734529904",
          "1.0124408734529904",
          "1.0124408734529904",
          "1.0124408734529904",
          "1.0124408734529904",
          "1.0124408734529904",
          "1.0124408734529904",
          "1.0124408734529904",
          "1.0124408734529904",
          "1.0124408734529904",
          "1.0124408734529904",
          "1.0124408734529904",
          "1.0124408734529904",
          "1.0124408734529904",
          "1.0124408734529904",
          "1.0124408734529904",
          "1.0124408734529904",
          "1.0124408734529904",
          "1.0124408734529904",
          "1.0124408734529904",
          "1.0124408734529904",
          "1.0124408734529904",
          "1.0124408734529904",
          "1.0124408734529904",
          "1.0124408734529904",
          "1.0124408734529904",
          "1.0124408734529904",
          "1.0124408734529904",
          "1.0124408734529904",
          "1.0124408734529904",
          "1.0124408734529904",
          "1.0124408734529904",
          "1.0124408734529904",
          "1.0124408734529904",
          "1.0124408734529904",
          "1.0124408734529904",
          "1.0124408734529904",
          "1.0124408734529904",
          "1.0124408734529904",
          "1.0124408734529904",
          "1.0124408734529904",
          "1.0124408734529904",
          "1.0124408734529904",
          "1.0124408734529904",
          "1.0124408734529904",
          "1.0124408734529904",
          "1.0124408734529904",
          "1.0124408734529904",
          "1.0124408734529904",
          "1.0124408734529904",
          "1.0124408734529904",
          "1.0124408734529904",
          "1.0124408734529904",
          "1.0124408734529904",
          "1.0124408734529904",
          "1.0124408734529904",
          "1.0124408734529904",
          "1.0124408734529904",
          "1.0124408734529904",
          "1.0124408734529904",
          "1.0124408734529904",
          "1.0124408734529904",
          "1.0124408734529904",
          "1.0124408734529904",
          "1.0124408734529904",
          "1.0124408734529904",
          "1.0124408734529904",
          "1.0124408734529904",
          "1.0124408734529904",
          "1.0124408734529904",
          "1.0124408734529904",
          "1.0124408734529904",
          "1.0124408734529904",
          "1.0124408734529904",
          "1.0124408734529904",
          "1.0124408734529904",
          "1.0124408734529904",
          "1.0124408734529904",
          "1.0124408734529904",
          "1.0124408734529904",
          "1.0124408734529904",
          "1.0124408734529904",
          "1.0124408734529904",
          "1.0124408734529904",
          "1.0124408734529904",
          "1.0124408734529904",
          "1.0124408734529904",
          "1.0124408734529904",
          "1.0124408734529904",
          "1.0124408734529904",
          "1.0124408734529904",
          "1.0124408734529904",
          "1.0124408734529904",
          "1.0124408734529904",
          "1.0124408734529904",
          "1.0124408734529904",
          "1.0124408734529904",
          "1.0124408734529904",
          "1.0124408734529904",
          "1.0124408734529904",
          "1.0124408734529904",
          "1.0124408734529904",
          "1.0124408734529904",
          "1.0124408734529904",
          "1.0124408734529904",
          "1.0124408734529904",
          "1.0124408734529904",
          "1.0124408734529904",
          "1.0124408734529904",
          "1.0124408734529904",
          "1.0124408734529904",
          "1.0124408734529904",
          "1.0124408734529904",
          "1.0124408734529904",
          "1.0124408734529904",
          "1.0124408734529904",
          "1.0124408734529904",
          "1.0124408734529904",
          "1.0124408734529904",
          "1.0124408734529904",
          "1.0124408734529904",
          "1.0124408734529904",
          "1.0124408734529904",
          "1.0124408734529904",
          "1.0124408734529904",
          "1.0124408734529904",
          "1.0124408734529904",
          "1.0124408734529904",
          "1.0124408734529904",
          "1.0124408734529904",
          "1.0124408734529904",
          "1.0124408734529904",
          "1.0124408734529904",
          "1.0124408734529904",
          "1.0124408734529904",
          "1.0124408734529904",
          "1.0124408734529904",
          "1.0124408734529904",
          "1.0124408734529904",
          "1.0124408734529904",
          "1.0124408734529904",
          "1.0124408734529904",
          "1.0124408734529904",
          "1.0124408734529904",
          "1.0124408734529904",
          "1.0124408734529904",
          "1.0124408734529904",
          "1.0124408734529904",
          "1.0124408734529904",
          "1.0124408734529904",
          "1.0124408734529904",
          "1.0124408734529904",
          "1.0124408734529904",
          "1.0124408734529904",
          "1.0124408734529904",
          "1.0124408734529904",
          "1.0124408734529904",
          "1.0124408734529904",
          "1.0124408734529904",
          "1.0124408734529904",
          "1.0124408734529904",
          "1.0124408734529904",
          "1.0124408734529904",
          "1.0124408734529904",
          "1.0124408734529904",
          "1.0124408734529904",
          "1.0124408734529904",
          "1.0124408734529904",
          "1.0124408734529904",
          "1.0124408734529904",
          "1.0124408734529904",
          "1.0124408734529904",
          "1.0124408734529904",
          "1.0124408734529904",
          "1.0124408734529904",
          "1.0124408734529904",
          "1.0124408734529904",
          "1.0124408734529904",
          "1.0124408734529904",
          "1.0124408734529904",
          "1.0124408734529904",
          "1.0124408734529904",
          "1.0124408734529904",
          "1.0124408734529904",
          "1.0124408734529904",
          "1.0124408734529904",
          "1.0124408734529904",
          "1.0124408734529904",
          "1.0124408734529904",
          "1.0124408734529904",
          "1.0124408734529904",
          "1.0124408734529904",
          "1.0124408734529904",
          "1.0124408734529904",
          "1.0124408734529904",
          "1.0124408734529904",
          "1.0124408734529904",
          "1.0124408734529904",
          "1.0124408734529904",
          "1.0124408734529904",
          "1.0124408734529904",
          "1.0124408734529904",
          "1.0124408734529904",
          "1.0124408734529904",
          "1.0124408734529904",
          "1.0124408734529904",
          "1.0124408734529904",
          "1.0124408734529904",
          "1.0124408734529904",
          "1.0124408734529904",
          "1.0124408734529904",
          "1.0124408734529904",
          "1.0124408734529904",
          "1.0124408734529904",
          "1.0124408734529904",
          "1.0124408734529904",
          "1.0124408734529904",
          "1.0124408734529904",
          "1.0124408734529904",
          "1.0124408734529904",
          "1.0124408734529904",
          "1.0124408734529904",
          "1.0124408734529904",
          "1.0124408734529904",
          "1.0124408734529904",
          "1.0124408734529904",
          "1.0124408734529904",
          "1.0124408734529904",
          "1.0124408734529904",
          "1.0124408734529904",
          "1.0124408734529904",
          "1.0124408734529904",
          "1.0124408734529904",
          "1.0124408734529904",
          "1.0124408734529904",
          "1.0124408734529904",
          "1.0124408734529904",
          "1.0124408734529904",
          "1.0124408734529904",
          "1.0124408734529904",
          "1.0124408734529904",
          "1.0124408734529904",
          "1.0124408734529904",
          "1.0124408734529904",
          "1.0124408734529904",
          "1.0124408734529904",
          "1.0124408734529904",
          "1.0124408734529904",
          "1.0124408734529904",
          "1.0124408734529904",
          "1.0124408734529904",
          "1.0124408734529904",
          "1.0124408734529904",
          "1.0124408734529904",
          "1.0124408734529904",
          "1.0124408734529904",
          "1.0124408734529904",
          "1.0124408734529904",
          "1.0124408734529904",
          "1.0124408734529904",
          "1.0124408734529904",
          "1.0124408734529904",
          "1.0124408734529904",
          "1.0124408734529904",
          "1.0124408734529904",
          "1.0124408734529904",
          "1.0124408734529904",
          "1.0124408734529904",
          "1.0124408734529904",
          "1.0124408734529904",
          "1.0124408734529904",
          "1.0124408734529904",
          "1.0124408734529904",
          "1.0124408734529904",
          "1.0124408734529904",
          "1.0124408734529904",
          "1.0124408734529904",
          "1.0124408734529904",
          "1.0124408734529904",
          "1.0124408734529904",
          "1.0124408734529904",
          "1.0124408734529904",
          "1.0124408734529904",
          "1.0124408734529904",
          "1.0124408734529904",
          "1.0124408734529904",
          "1.0124408734529904",
          "1.0124408734529904",
          "1.0124408734529904",
          "1.0124408734529904",
          "1.0124408734529904",
          "1.0124408734529904",
          "1.0124408734529904",
          "1.0124408734529904",
          "1.0124408734529904",
          "1.0124408734529904",
          "1.0124408734529904",
          "1.0124408734529904",
          "1.0124408734529904",
          "1.0124408734529904",
          "1.0124408734529904",
          "1.0124408734529904",
          "1.0124408734529904",
          "1.0124408734529904",
          "1.0124408734529904",
          "1.0124408734529904",
          "1.0124408734529904",
          "1.0124408734529904",
          "1.0124408734529904",
          "1.0124408734529904",
          "1.0124408734529904",
          "1.0124408734529904",
          "1.0124408734529904",
          "1.0124408734529904",
          "1.0124408734529904",
          "1.0124408734529904",
          "1.0124408734529904",
          "1.0124408734529904",
          "1.0124408734529904",
          "1.0124408734529904",
          "1.0124408734529904",
          "1.0124408734529904",
          "1.0124408734529904",
          "1.0124408734529904",
          "1.0124408734529904",
          "1.0124408734529904",
          "1.0124408734529904",
          "1.0124408734529904",
          "1.0124408734529904",
          "1.0124408734529904",
          "1.0124408734529904",
          "1.0124408734529904",
          "1.0124408734529904",
          "1.0124408734529904",
          "1.0124408734529904",
          "1.0124408734529904",
          "1.0124408734529904",
          "1.0124408734529904",
          "1.0124408734529904",
          "1.0124408734529904",
          "1.0124408734529904",
          "1.0124408734529904",
          "1.0124408734529904",
          "1.0124408734529904",
          "1.0124408734529904",
          "1.0124408734529904",
          "1.0124408734529904",
          "1.0124408734529904",
          "1.0124408734529904",
          "1.0124408734529904",
          "1.0124408734529904",
          "1.0124408734529904",
          "1.0124408734529904",
          "1.0124408734529904",
          "1.0124408734529904",
          "1.0124408734529904",
          "1.0124408734529904",
          "1.0124408734529904",
          "1.0124408734529904",
          "1.0124408734529904",
          "1.0124408734529904",
          "1.0124408734529904",
          "1.0124408734529904",
          "1.0124408734529904",
          "1.0124408734529904",
          "1.0124408734529904",
          "1.0124408734529904",
          "1.0124408734529904",
          "1.0124408734529904",
          "1.0124408734529904",
          "1.0124408734529904",
          "1.0124408734529904",
          "1.0124408734529904",
          "1.0124408734529904",
          "1.0124408734529904",
          "1.0124408734529904",
          "1.0124408734529904",
          "1.0124408734529904",
          "1.0124408734529904",
          "1.0124408734529904",
          "1.0124408734529904",
          "1.0124408734529904",
          "1.0124408734529904",
          "1.0124408734529904",
          "1.0124408734529904",
          "1.0124408734529904",
          "1.0124408734529904",
          "1.0124408734529904",
          "1.0124408734529904",
          "1.0124408734529904",
          "1.0124408734529904",
          "1.0124408734529904",
          "1.0124408734529904",
          "1.0124408734529904",
          "1.0124408734529904",
          "1.0124408734529904",
          "1.0124408734529904",
          "1.0124408734529904",
          "1.0124408734529904",
          "1.0124408734529904",
          "1.0124408734529904",
          "1.0124408734529904",
          "1.0124408734529904",
          "1.0124408734529904",
          "1.0124408734529904",
          "1.0124408734529904",
          "1.0124408734529904",
          "1.0124408734529904",
          "1.0124408734529904",
          "1.0124408734529904",
          "1.0124408734529904",
          "1.0124408734529904",
          "1.0124408734529904",
          "1.0124408734529904",
          "1.0124408734529904",
          "1.0124408734529904",
          "1.0124408734529904",
          "1.0124408734529904",
          "1.0124408734529904",
          "1.0124408734529904",
          "1.0124408734529904",
          "1.0124408734529904",
          "1.0124408734529904",
          "1.0124408734529904",
          "1.0124408734529904",
          "1.0124408734529904",
          "1.0124408734529904",
          "1.0124408734529904",
          "1.0124408734529904",
          "1.0124408734529904",
          "1.0124408734529904",
          "1.0124408734529904",
          "1.0124408734529904",
          "1.0124408734529904",
          "1.0124408734529904",
          "1.0124408734529904",
          "1.0124408734529904",
          "1.0124408734529904",
          "1.0124408734529904",
          "1.0124408734529904",
          "1.0124408734529904",
          "1.0124408734529904",
          "1.0124408734529904",
          "1.0124408734529904",
          "1.0124408734529904",
          "1.0124408734529904",
          "1.0124408734529904",
          "1.0124408734529904",
          "1.0124408734529904",
          "1.0124408734529904",
          "1.0124408734529904",
          "1.0124408734529904",
          "1.0124408734529904",
          "1.0124408734529904",
          "1.0124408734529904",
          "1.0124408734529904",
          "1.0124408734529904",
          "1.0124408734529904",
          "1.0124408734529904",
          "1.0124408734529904",
          "1.0124408734529904",
          "1.0124408734529904",
          "1.0124408734529904",
          "1.0124408734529904",
          "1.0124408734529904",
          "1.0124408734529904",
          "1.0124408734529904",
          "1.0124408734529904",
          "1.0124408734529904",
          "1.0124408734529904",
          "1.0124408734529904",
          "1.0124408734529904",
          "1.0124408734529904",
          "1.0124408734529904",
          "1.0124408734529904",
          "1.0124408734529904",
          "1.0124408734529904",
          "1.0124408734529904",
          "1.0124408734529904",
          "1.0124408734529904",
          "1.0124408734529904",
          "1.0124408734529904",
          "1.0124408734529904",
          "1.0124408734529904",
          "1.0124408734529904",
          "1.0124408734529904",
          "1.0124408734529904",
          "1.0124408734529904",
          "1.0124408734529904",
          "1.0124408734529904",
          "1.0124408734529904",
          "1.0124408734529904",
          "1.0124408734529904",
          "1.0124408734529904",
          "1.0124408734529904",
          "1.0124408734529904",
          "1.0124408734529904",
          "1.0124408734529904",
          "1.0124408734529904",
          "1.0124408734529904",
          "1.0124408734529904",
          "1.0124408734529904",
          "1.0124408734529904",
          "1.0124408734529904",
          "1.0124408734529904",
          "1.0124408734529904",
          "1.0124408734529904",
          "1.0124408734529904",
          "1.0124408734529904",
          "1.0124408734529904",
          "1.0124408734529904",
          "1.0124408734529904",
          "1.0124408734529904",
          "1.0124408734529904",
          "1.0124408734529904",
          "1.0124408734529904",
          "1.0124408734529904",
          "1.0124408734529904",
          "1.0124408734529904",
          "1.0124408734529904",
          "1.0124408734529904",
          "1.0124408734529904",
          "1.0124408734529904",
          "1.0124408734529904",
          "1.0124408734529904",
          "1.0124408734529904",
          "1.0124408734529904",
          "1.0124408734529904",
          "1.0124408734529904",
          "1.0124408734529904",
          "1.0124408734529904",
          "1.0124408734529904",
          "1.0124408734529904",
          "1.0124408734529904",
          "1.0124408734529904",
          "1.0124408734529904",
          "1.0124408734529904",
          "1.0124408734529904",
          "1.0124408734529904",
          "1.0124408734529904",
          "1.0124408734529904",
          "1.0124408734529904",
          "1.0124408734529904",
          "1.0124408734529904",
          "1.0124408734529904",
          "1.0124408734529904",
          "1.0124408734529904",
          "1.0124408734529904",
          "1.0124408734529904",
          "1.0124408734529904",
          "1.0124408734529904",
          "1.0124408734529904",
          "1.0124408734529904",
          "1.0124408734529904",
          "1.0124408734529904",
          "1.0124408734529904",
          "1.0124408734529904",
          "1.0124408734529904",
          "1.0124408734529904",
          "1.0124408734529904",
          "1.0124408734529904",
          "1.0124408734529904",
          "1.0124408734529904",
          "1.0124408734529904",
          "1.0124408734529904",
          "1.0124408734529904",
          "1.0124408734529904",
          "1.0124408734529904",
          "1.0124408734529904",
          "1.0124408734529904",
          "1.0124408734529904",
          "1.0124408734529904",
          "1.0124408734529904",
          "1.0124408734529904",
          "1.0124408734529904",
          "1.0124408734529904",
          "1.0124408734529904",
          "1.0124408734529904",
          "1.0124408734529904",
          "1.0124408734529904",
          "1.0124408734529904",
          "1.0124408734529904",
          "1.0124408734529904",
          "1.0124408734529904",
          "1.0124408734529904",
          "1.0124408734529904",
          "1.0124408734529904",
          "1.0124408734529904",
          "1.0124408734529904",
          "1.0124408734529904",
          "1.0124408734529904",
          "1.0124408734529904",
          "1.0124408734529904",
          "1.0124408734529904",
          "1.0124408734529904",
          "1.0124408734529904",
          "1.0124408734529904",
          "1.0124408734529904",
          "1.0124408734529904",
          "1.0124408734529904",
          "1.0124408734529904",
          "1.0124408734529904",
          "1.0124408734529904",
          "1.0124408734529904",
          "1.0124408734529904",
          "1.0124408734529904",
          "1.0124408734529904",
          "1.0124408734529904",
          "1.0124408734529904",
          "1.0124408734529904",
          "1.0124408734529904",
          "1.0124408734529904",
          "1.0124408734529904",
          "1.0124408734529904",
          "1.0124408734529904",
          "1.0124408734529904",
          "1.0124408734529904",
          "1.0124408734529904",
          "1.0124408734529904",
          "1.0124408734529904",
          "1.0124408734529904",
          "1.0124408734529904",
          "1.0124408734529904",
          "1.0124408734529904",
          "1.0124408734529904",
          "1.0124408734529904",
          "1.0124408734529904",
          "1.0124408734529904",
          "1.0124408734529904",
          "1.0124408734529904",
          "1.0124408734529904",
          "1.0124408734529904",
          "1.0124408734529904",
          "1.0124408734529904",
          "1.0124408734529904",
          "1.0124408734529904",
          "1.0124408734529904",
          "1.0124408734529904",
          "1.0124408734529904",
          "1.0124408734529904",
          "1.0124408734529904",
          "1.0124408734529904",
          "1.0124408734529904",
          "1.0124408734529904",
          "1.0124408734529904",
          "1.0124408734529904",
          "1.0124408734529904",
          "1.0124408734529904",
          "1.0124408734529904",
          "1.0124408734529904",
          "1.0124408734529904",
          "1.0124408734529904",
          "1.0124408734529904",
          "1.0124408734529904",
          "1.0124408734529904",
          "1.0124408734529904",
          "1.0124408734529904",
          "1.0124408734529904",
          "1.0124408734529904",
          "1.0124408734529904",
          "1.0124408734529904",
          "1.0124408734529904",
          "1.0124408734529904",
          "1.0124408734529904",
          "1.0124408734529904",
          "1.0124408734529904",
          "1.0124408734529904",
          "1.0124408734529904",
          "1.0124408734529904",
          "1.0124408734529904",
          "1.0124408734529904",
          "1.0124408734529904",
          "1.0124408734529904",
          "1.0124408734529904",
          "1.0124408734529904",
          "1.0124408734529904",
          "1.0124408734529904",
          "1.0124408734529904",
          "1.0124408734529904",
          "1.0124408734529904",
          "1.0124408734529904",
          "1.0124408734529904",
          "1.0124408734529904",
          "1.0124408734529904",
          "1.0124408734529904",
          "1.0124408734529904",
          "1.0124408734529904",
          "1.0124408734529904",
          "1.0124408734529904",
          "1.0124408734529904",
          "1.0124408734529904",
          "1.0124408734529904",
          "1.0124408734529904",
          "1.0124408734529904",
          "1.0124408734529904",
          "1.0124408734529904",
          "1.0124408734529904",
          "1.0124408734529904",
          "1.0124408734529904",
          "1.0124408734529904",
          "1.0124408734529904",
          "1.0124408734529904",
          "1.0124408734529904",
          "1.0124408734529904",
          "1.0124408734529904",
          "1.0124408734529904",
          "1.0124408734529904",
          "1.0124408734529904",
          "1.0124408734529904",
          "1.0124408734529904",
          "1.0124408734529904",
          "1.0124408734529904",
          "1.0124408734529904",
          "1.0124408734529904",
          "1.0124408734529904",
          "1.0124408734529904",
          "1.0124408734529904",
          "1.0124408734529904",
          "1.0124408734529904",
          "1.0124408734529904",
          "1.0124408734529904",
          "1.0124408734529904",
          "1.0124408734529904",
          "1.0124408734529904",
          "1.0124408734529904",
          "1.0124408734529904",
          "1.0124408734529904",
          "1.0124408734529904",
          "1.0124408734529904",
          "1.0124408734529904",
          "1.0124408734529904",
          "1.0124408734529904",
          "1.0124408734529904",
          "1.0124408734529904",
          "1.0124408734529904",
          "1.0124408734529904",
          "1.0124408734529904",
          "1.0124408734529904",
          "1.0124408734529904",
          "1.0124408734529904",
          "1.0124408734529904",
          "1.0124408734529904",
          "1.0124408734529904",
          "1.0124408734529904",
          "1.0124408734529904",
          "1.0124408734529904",
          "1.0124408734529904",
          "1.0124408734529904",
          "1.0124408734529904",
          "1.0124408734529904",
          "1.0124408734529904",
          "1.0124408734529904",
          "1.0124408734529904",
          "1.0124408734529904",
          "1.0124408734529904",
          "1.0124408734529904",
          "1.0124408734529904",
          "1.0124408734529904",
          "1.0124408734529904",
          "1.0124408734529904",
          "1.0124408734529904",
          "1.0124408734529904",
          "1.0124408734529904",
          "1.0124408734529904",
          "1.0124408734529904",
          "1.0124408734529904",
          "1.0124408734529904",
          "1.0124408734529904",
          "1.0124408734529904",
          "1.0124408734529904",
          "1.0124408734529904",
          "1.0124408734529904",
          "1.0124408734529904",
          "1.0124408734529904",
          "1.0124408734529904",
          "1.0124408734529904",
          "1.0124408734529904",
          "1.0124408734529904",
          "1.0124408734529904",
          "1.0124408734529904",
          "1.0124408734529904",
          "1.0124408734529904",
          "1.0124408734529904",
          "1.0124408734529904",
          "1.0124408734529904",
          "1.0124408734529904",
          "1.0124408734529904",
          "1.0124408734529904",
          "1.0124408734529904",
          "1.0124408734529904",
          "1.0124408734529904",
          "1.0124408734529904",
          "1.0124408734529904",
          "1.0124408734529904",
          "1.0124408734529904",
          "1.0124408734529904",
          "1.0124408734529904",
          "1.0124408734529904",
          "1.0124408734529904",
          "1.0124408734529904",
          "1.0124408734529904",
          "1.0124408734529904",
          "1.0124408734529904",
          "1.0124408734529904",
          "1.0124408734529904",
          "1.0124408734529904",
          "1.0124408734529904",
          "1.0124408734529904",
          "1.0124408734529904",
          "1.0124408734529904",
          "1.0124408734529904",
          "1.0124408734529904",
          "1.0124408734529904",
          "1.0124408734529904",
          "1.0124408734529904",
          "1.0124408734529904",
          "1.0124408734529904",
          "1.0124408734529904",
          "1.0124408734529904",
          "1.0124408734529904",
          "1.0124408734529904",
          "1.0124408734529904"
         ],
         "type": "scatter",
         "x": [
          0
         ],
         "y": [
          0
         ]
        }
       ],
       "frames": [
        {
         "data": [
          {
           "type": "scatter",
           "x": [
            0
           ],
           "y": [
            0
           ]
          }
         ],
         "traces": [
          1
         ]
        },
        {
         "data": [
          {
           "type": "scatter",
           "x": [
            4.838709677419355
           ],
           "y": [
            0
           ]
          }
         ],
         "traces": [
          1
         ]
        },
        {
         "data": [
          {
           "type": "scatter",
           "x": [
            9.67741935483871
           ],
           "y": [
            0
           ]
          }
         ],
         "traces": [
          1
         ]
        },
        {
         "data": [
          {
           "type": "scatter",
           "x": [
            14.516129032258064
           ],
           "y": [
            0
           ]
          }
         ],
         "traces": [
          1
         ]
        },
        {
         "data": [
          {
           "type": "scatter",
           "x": [
            19.35483870967742
           ],
           "y": [
            0
           ]
          }
         ],
         "traces": [
          1
         ]
        },
        {
         "data": [
          {
           "type": "scatter",
           "x": [
            24.193548387096776
           ],
           "y": [
            0
           ]
          }
         ],
         "traces": [
          1
         ]
        },
        {
         "data": [
          {
           "type": "scatter",
           "x": [
            29.032258064516128
           ],
           "y": [
            0
           ]
          }
         ],
         "traces": [
          1
         ]
        },
        {
         "data": [
          {
           "type": "scatter",
           "x": [
            33.87096774193549
           ],
           "y": [
            0
           ]
          }
         ],
         "traces": [
          1
         ]
        },
        {
         "data": [
          {
           "type": "scatter",
           "x": [
            38.70967741935484
           ],
           "y": [
            0
           ]
          }
         ],
         "traces": [
          1
         ]
        },
        {
         "data": [
          {
           "type": "scatter",
           "x": [
            43.54838709677419
           ],
           "y": [
            0
           ]
          }
         ],
         "traces": [
          1
         ]
        },
        {
         "data": [
          {
           "type": "scatter",
           "x": [
            48.38709677419355
           ],
           "y": [
            0
           ]
          }
         ],
         "traces": [
          1
         ]
        },
        {
         "data": [
          {
           "type": "scatter",
           "x": [
            53.225806451612904
           ],
           "y": [
            0
           ]
          }
         ],
         "traces": [
          1
         ]
        },
        {
         "data": [
          {
           "type": "scatter",
           "x": [
            58.064516129032256
           ],
           "y": [
            0
           ]
          }
         ],
         "traces": [
          1
         ]
        },
        {
         "data": [
          {
           "type": "scatter",
           "x": [
            62.903225806451616
           ],
           "y": [
            0
           ]
          }
         ],
         "traces": [
          1
         ]
        },
        {
         "data": [
          {
           "type": "scatter",
           "x": [
            67.74193548387098
           ],
           "y": [
            0
           ]
          }
         ],
         "traces": [
          1
         ]
        },
        {
         "data": [
          {
           "type": "scatter",
           "x": [
            72.58064516129032
           ],
           "y": [
            0
           ]
          }
         ],
         "traces": [
          1
         ]
        },
        {
         "data": [
          {
           "type": "scatter",
           "x": [
            77.41935483870968
           ],
           "y": [
            0
           ]
          }
         ],
         "traces": [
          1
         ]
        },
        {
         "data": [
          {
           "type": "scatter",
           "x": [
            82.25806451612904
           ],
           "y": [
            0
           ]
          }
         ],
         "traces": [
          1
         ]
        },
        {
         "data": [
          {
           "type": "scatter",
           "x": [
            87.09677419354838
           ],
           "y": [
            0
           ]
          }
         ],
         "traces": [
          1
         ]
        },
        {
         "data": [
          {
           "type": "scatter",
           "x": [
            91.93548387096774
           ],
           "y": [
            0
           ]
          }
         ],
         "traces": [
          1
         ]
        },
        {
         "data": [
          {
           "type": "scatter",
           "x": [
            96.7741935483871
           ],
           "y": [
            0
           ]
          }
         ],
         "traces": [
          1
         ]
        },
        {
         "data": [
          {
           "type": "scatter",
           "x": [
            101.61290322580645
           ],
           "y": [
            0
           ]
          }
         ],
         "traces": [
          1
         ]
        },
        {
         "data": [
          {
           "type": "scatter",
           "x": [
            106.45161290322581
           ],
           "y": [
            0
           ]
          }
         ],
         "traces": [
          1
         ]
        },
        {
         "data": [
          {
           "type": "scatter",
           "x": [
            111.29032258064517
           ],
           "y": [
            0
           ]
          }
         ],
         "traces": [
          1
         ]
        },
        {
         "data": [
          {
           "type": "scatter",
           "x": [
            116.12903225806451
           ],
           "y": [
            0
           ]
          }
         ],
         "traces": [
          1
         ]
        },
        {
         "data": [
          {
           "type": "scatter",
           "x": [
            120.96774193548387
           ],
           "y": [
            0
           ]
          }
         ],
         "traces": [
          1
         ]
        },
        {
         "data": [
          {
           "type": "scatter",
           "x": [
            125.80645161290323
           ],
           "y": [
            0
           ]
          }
         ],
         "traces": [
          1
         ]
        },
        {
         "data": [
          {
           "type": "scatter",
           "x": [
            130.6451612903226
           ],
           "y": [
            0
           ]
          }
         ],
         "traces": [
          1
         ]
        },
        {
         "data": [
          {
           "type": "scatter",
           "x": [
            135.48387096774195
           ],
           "y": [
            0
           ]
          }
         ],
         "traces": [
          1
         ]
        },
        {
         "data": [
          {
           "type": "scatter",
           "x": [
            140.32258064516128
           ],
           "y": [
            0
           ]
          }
         ],
         "traces": [
          1
         ]
        },
        {
         "data": [
          {
           "type": "scatter",
           "x": [
            145.16129032258064
           ],
           "y": [
            0
           ]
          }
         ],
         "traces": [
          1
         ]
        },
        {
         "data": [
          {
           "type": "scatter",
           "x": [
            150
           ],
           "y": [
            0
           ]
          }
         ],
         "traces": [
          1
         ]
        },
        {
         "data": [
          {
           "type": "scatter",
           "x": [
            150
           ],
           "y": [
            3.658536585365854
           ]
          }
         ],
         "traces": [
          1
         ]
        },
        {
         "data": [
          {
           "type": "scatter",
           "x": [
            145.16129032258064
           ],
           "y": [
            3.658536585365854
           ]
          }
         ],
         "traces": [
          1
         ]
        },
        {
         "data": [
          {
           "type": "scatter",
           "x": [
            140.32258064516128
           ],
           "y": [
            3.658536585365854
           ]
          }
         ],
         "traces": [
          1
         ]
        },
        {
         "data": [
          {
           "type": "scatter",
           "x": [
            135.48387096774195
           ],
           "y": [
            3.658536585365854
           ]
          }
         ],
         "traces": [
          1
         ]
        },
        {
         "data": [
          {
           "type": "scatter",
           "x": [
            130.6451612903226
           ],
           "y": [
            3.658536585365854
           ]
          }
         ],
         "traces": [
          1
         ]
        },
        {
         "data": [
          {
           "type": "scatter",
           "x": [
            125.80645161290323
           ],
           "y": [
            3.658536585365854
           ]
          }
         ],
         "traces": [
          1
         ]
        },
        {
         "data": [
          {
           "type": "scatter",
           "x": [
            120.96774193548387
           ],
           "y": [
            3.658536585365854
           ]
          }
         ],
         "traces": [
          1
         ]
        },
        {
         "data": [
          {
           "type": "scatter",
           "x": [
            116.12903225806451
           ],
           "y": [
            3.658536585365854
           ]
          }
         ],
         "traces": [
          1
         ]
        },
        {
         "data": [
          {
           "type": "scatter",
           "x": [
            111.29032258064517
           ],
           "y": [
            3.658536585365854
           ]
          }
         ],
         "traces": [
          1
         ]
        },
        {
         "data": [
          {
           "type": "scatter",
           "x": [
            106.45161290322581
           ],
           "y": [
            3.658536585365854
           ]
          }
         ],
         "traces": [
          1
         ]
        },
        {
         "data": [
          {
           "type": "scatter",
           "x": [
            101.61290322580645
           ],
           "y": [
            3.658536585365854
           ]
          }
         ],
         "traces": [
          1
         ]
        },
        {
         "data": [
          {
           "type": "scatter",
           "x": [
            96.7741935483871
           ],
           "y": [
            3.658536585365854
           ]
          }
         ],
         "traces": [
          1
         ]
        },
        {
         "data": [
          {
           "type": "scatter",
           "x": [
            91.93548387096774
           ],
           "y": [
            3.658536585365854
           ]
          }
         ],
         "traces": [
          1
         ]
        },
        {
         "data": [
          {
           "type": "scatter",
           "x": [
            87.09677419354838
           ],
           "y": [
            3.658536585365854
           ]
          }
         ],
         "traces": [
          1
         ]
        },
        {
         "data": [
          {
           "type": "scatter",
           "x": [
            82.25806451612904
           ],
           "y": [
            3.658536585365854
           ]
          }
         ],
         "traces": [
          1
         ]
        },
        {
         "data": [
          {
           "type": "scatter",
           "x": [
            77.41935483870968
           ],
           "y": [
            3.658536585365854
           ]
          }
         ],
         "traces": [
          1
         ]
        },
        {
         "data": [
          {
           "type": "scatter",
           "x": [
            72.58064516129032
           ],
           "y": [
            3.658536585365854
           ]
          }
         ],
         "traces": [
          1
         ]
        },
        {
         "data": [
          {
           "type": "scatter",
           "x": [
            67.74193548387098
           ],
           "y": [
            3.658536585365854
           ]
          }
         ],
         "traces": [
          1
         ]
        },
        {
         "data": [
          {
           "type": "scatter",
           "x": [
            62.903225806451616
           ],
           "y": [
            3.658536585365854
           ]
          }
         ],
         "traces": [
          1
         ]
        },
        {
         "data": [
          {
           "type": "scatter",
           "x": [
            58.064516129032256
           ],
           "y": [
            3.658536585365854
           ]
          }
         ],
         "traces": [
          1
         ]
        },
        {
         "data": [
          {
           "type": "scatter",
           "x": [
            53.225806451612904
           ],
           "y": [
            3.658536585365854
           ]
          }
         ],
         "traces": [
          1
         ]
        },
        {
         "data": [
          {
           "type": "scatter",
           "x": [
            48.38709677419355
           ],
           "y": [
            3.658536585365854
           ]
          }
         ],
         "traces": [
          1
         ]
        },
        {
         "data": [
          {
           "type": "scatter",
           "x": [
            43.54838709677419
           ],
           "y": [
            3.658536585365854
           ]
          }
         ],
         "traces": [
          1
         ]
        },
        {
         "data": [
          {
           "type": "scatter",
           "x": [
            38.70967741935484
           ],
           "y": [
            3.658536585365854
           ]
          }
         ],
         "traces": [
          1
         ]
        },
        {
         "data": [
          {
           "type": "scatter",
           "x": [
            33.87096774193549
           ],
           "y": [
            3.658536585365854
           ]
          }
         ],
         "traces": [
          1
         ]
        },
        {
         "data": [
          {
           "type": "scatter",
           "x": [
            29.032258064516128
           ],
           "y": [
            3.658536585365854
           ]
          }
         ],
         "traces": [
          1
         ]
        },
        {
         "data": [
          {
           "type": "scatter",
           "x": [
            24.193548387096776
           ],
           "y": [
            3.658536585365854
           ]
          }
         ],
         "traces": [
          1
         ]
        },
        {
         "data": [
          {
           "type": "scatter",
           "x": [
            19.35483870967742
           ],
           "y": [
            3.658536585365854
           ]
          }
         ],
         "traces": [
          1
         ]
        },
        {
         "data": [
          {
           "type": "scatter",
           "x": [
            14.516129032258064
           ],
           "y": [
            3.658536585365854
           ]
          }
         ],
         "traces": [
          1
         ]
        },
        {
         "data": [
          {
           "type": "scatter",
           "x": [
            9.67741935483871
           ],
           "y": [
            3.658536585365854
           ]
          }
         ],
         "traces": [
          1
         ]
        },
        {
         "data": [
          {
           "type": "scatter",
           "x": [
            4.838709677419355
           ],
           "y": [
            3.658536585365854
           ]
          }
         ],
         "traces": [
          1
         ]
        },
        {
         "data": [
          {
           "type": "scatter",
           "x": [
            0
           ],
           "y": [
            3.658536585365854
           ]
          }
         ],
         "traces": [
          1
         ]
        },
        {
         "data": [
          {
           "type": "scatter",
           "x": [
            0
           ],
           "y": [
            7.317073170731708
           ]
          }
         ],
         "traces": [
          1
         ]
        },
        {
         "data": [
          {
           "type": "scatter",
           "x": [
            4.838709677419355
           ],
           "y": [
            7.317073170731708
           ]
          }
         ],
         "traces": [
          1
         ]
        },
        {
         "data": [
          {
           "type": "scatter",
           "x": [
            9.67741935483871
           ],
           "y": [
            7.317073170731708
           ]
          }
         ],
         "traces": [
          1
         ]
        },
        {
         "data": [
          {
           "type": "scatter",
           "x": [
            14.516129032258064
           ],
           "y": [
            7.317073170731708
           ]
          }
         ],
         "traces": [
          1
         ]
        },
        {
         "data": [
          {
           "type": "scatter",
           "x": [
            19.35483870967742
           ],
           "y": [
            7.317073170731708
           ]
          }
         ],
         "traces": [
          1
         ]
        },
        {
         "data": [
          {
           "type": "scatter",
           "x": [
            24.193548387096776
           ],
           "y": [
            7.317073170731708
           ]
          }
         ],
         "traces": [
          1
         ]
        },
        {
         "data": [
          {
           "type": "scatter",
           "x": [
            29.032258064516128
           ],
           "y": [
            7.317073170731708
           ]
          }
         ],
         "traces": [
          1
         ]
        },
        {
         "data": [
          {
           "type": "scatter",
           "x": [
            33.87096774193549
           ],
           "y": [
            7.317073170731708
           ]
          }
         ],
         "traces": [
          1
         ]
        },
        {
         "data": [
          {
           "type": "scatter",
           "x": [
            38.70967741935484
           ],
           "y": [
            7.317073170731708
           ]
          }
         ],
         "traces": [
          1
         ]
        },
        {
         "data": [
          {
           "type": "scatter",
           "x": [
            43.54838709677419
           ],
           "y": [
            7.317073170731708
           ]
          }
         ],
         "traces": [
          1
         ]
        },
        {
         "data": [
          {
           "type": "scatter",
           "x": [
            48.38709677419355
           ],
           "y": [
            7.317073170731708
           ]
          }
         ],
         "traces": [
          1
         ]
        },
        {
         "data": [
          {
           "type": "scatter",
           "x": [
            53.225806451612904
           ],
           "y": [
            7.317073170731708
           ]
          }
         ],
         "traces": [
          1
         ]
        },
        {
         "data": [
          {
           "type": "scatter",
           "x": [
            58.064516129032256
           ],
           "y": [
            7.317073170731708
           ]
          }
         ],
         "traces": [
          1
         ]
        },
        {
         "data": [
          {
           "type": "scatter",
           "x": [
            62.903225806451616
           ],
           "y": [
            7.317073170731708
           ]
          }
         ],
         "traces": [
          1
         ]
        },
        {
         "data": [
          {
           "type": "scatter",
           "x": [
            67.74193548387098
           ],
           "y": [
            7.317073170731708
           ]
          }
         ],
         "traces": [
          1
         ]
        },
        {
         "data": [
          {
           "type": "scatter",
           "x": [
            72.58064516129032
           ],
           "y": [
            7.317073170731708
           ]
          }
         ],
         "traces": [
          1
         ]
        },
        {
         "data": [
          {
           "type": "scatter",
           "x": [
            77.41935483870968
           ],
           "y": [
            7.317073170731708
           ]
          }
         ],
         "traces": [
          1
         ]
        },
        {
         "data": [
          {
           "type": "scatter",
           "x": [
            82.25806451612904
           ],
           "y": [
            7.317073170731708
           ]
          }
         ],
         "traces": [
          1
         ]
        },
        {
         "data": [
          {
           "type": "scatter",
           "x": [
            87.09677419354838
           ],
           "y": [
            7.317073170731708
           ]
          }
         ],
         "traces": [
          1
         ]
        },
        {
         "data": [
          {
           "type": "scatter",
           "x": [
            91.93548387096774
           ],
           "y": [
            7.317073170731708
           ]
          }
         ],
         "traces": [
          1
         ]
        },
        {
         "data": [
          {
           "type": "scatter",
           "x": [
            96.7741935483871
           ],
           "y": [
            7.317073170731708
           ]
          }
         ],
         "traces": [
          1
         ]
        },
        {
         "data": [
          {
           "type": "scatter",
           "x": [
            101.61290322580645
           ],
           "y": [
            7.317073170731708
           ]
          }
         ],
         "traces": [
          1
         ]
        },
        {
         "data": [
          {
           "type": "scatter",
           "x": [
            106.45161290322581
           ],
           "y": [
            7.317073170731708
           ]
          }
         ],
         "traces": [
          1
         ]
        },
        {
         "data": [
          {
           "type": "scatter",
           "x": [
            111.29032258064517
           ],
           "y": [
            7.317073170731708
           ]
          }
         ],
         "traces": [
          1
         ]
        },
        {
         "data": [
          {
           "type": "scatter",
           "x": [
            116.12903225806451
           ],
           "y": [
            7.317073170731708
           ]
          }
         ],
         "traces": [
          1
         ]
        },
        {
         "data": [
          {
           "type": "scatter",
           "x": [
            120.96774193548387
           ],
           "y": [
            7.317073170731708
           ]
          }
         ],
         "traces": [
          1
         ]
        },
        {
         "data": [
          {
           "type": "scatter",
           "x": [
            125.80645161290323
           ],
           "y": [
            7.317073170731708
           ]
          }
         ],
         "traces": [
          1
         ]
        },
        {
         "data": [
          {
           "type": "scatter",
           "x": [
            130.6451612903226
           ],
           "y": [
            7.317073170731708
           ]
          }
         ],
         "traces": [
          1
         ]
        },
        {
         "data": [
          {
           "type": "scatter",
           "x": [
            135.48387096774195
           ],
           "y": [
            7.317073170731708
           ]
          }
         ],
         "traces": [
          1
         ]
        },
        {
         "data": [
          {
           "type": "scatter",
           "x": [
            140.32258064516128
           ],
           "y": [
            7.317073170731708
           ]
          }
         ],
         "traces": [
          1
         ]
        },
        {
         "data": [
          {
           "type": "scatter",
           "x": [
            145.16129032258064
           ],
           "y": [
            7.317073170731708
           ]
          }
         ],
         "traces": [
          1
         ]
        },
        {
         "data": [
          {
           "type": "scatter",
           "x": [
            150
           ],
           "y": [
            7.317073170731708
           ]
          }
         ],
         "traces": [
          1
         ]
        },
        {
         "data": [
          {
           "type": "scatter",
           "x": [
            150
           ],
           "y": [
            10.975609756097562
           ]
          }
         ],
         "traces": [
          1
         ]
        },
        {
         "data": [
          {
           "type": "scatter",
           "x": [
            145.16129032258064
           ],
           "y": [
            10.975609756097562
           ]
          }
         ],
         "traces": [
          1
         ]
        },
        {
         "data": [
          {
           "type": "scatter",
           "x": [
            140.32258064516128
           ],
           "y": [
            10.975609756097562
           ]
          }
         ],
         "traces": [
          1
         ]
        },
        {
         "data": [
          {
           "type": "scatter",
           "x": [
            135.48387096774195
           ],
           "y": [
            10.975609756097562
           ]
          }
         ],
         "traces": [
          1
         ]
        },
        {
         "data": [
          {
           "type": "scatter",
           "x": [
            130.6451612903226
           ],
           "y": [
            10.975609756097562
           ]
          }
         ],
         "traces": [
          1
         ]
        },
        {
         "data": [
          {
           "type": "scatter",
           "x": [
            125.80645161290323
           ],
           "y": [
            10.975609756097562
           ]
          }
         ],
         "traces": [
          1
         ]
        },
        {
         "data": [
          {
           "type": "scatter",
           "x": [
            120.96774193548387
           ],
           "y": [
            10.975609756097562
           ]
          }
         ],
         "traces": [
          1
         ]
        },
        {
         "data": [
          {
           "type": "scatter",
           "x": [
            116.12903225806451
           ],
           "y": [
            10.975609756097562
           ]
          }
         ],
         "traces": [
          1
         ]
        },
        {
         "data": [
          {
           "type": "scatter",
           "x": [
            111.29032258064517
           ],
           "y": [
            10.975609756097562
           ]
          }
         ],
         "traces": [
          1
         ]
        },
        {
         "data": [
          {
           "type": "scatter",
           "x": [
            106.45161290322581
           ],
           "y": [
            10.975609756097562
           ]
          }
         ],
         "traces": [
          1
         ]
        },
        {
         "data": [
          {
           "type": "scatter",
           "x": [
            101.61290322580645
           ],
           "y": [
            10.975609756097562
           ]
          }
         ],
         "traces": [
          1
         ]
        },
        {
         "data": [
          {
           "type": "scatter",
           "x": [
            96.7741935483871
           ],
           "y": [
            10.975609756097562
           ]
          }
         ],
         "traces": [
          1
         ]
        },
        {
         "data": [
          {
           "type": "scatter",
           "x": [
            91.93548387096774
           ],
           "y": [
            10.975609756097562
           ]
          }
         ],
         "traces": [
          1
         ]
        },
        {
         "data": [
          {
           "type": "scatter",
           "x": [
            87.09677419354838
           ],
           "y": [
            10.975609756097562
           ]
          }
         ],
         "traces": [
          1
         ]
        },
        {
         "data": [
          {
           "type": "scatter",
           "x": [
            82.25806451612904
           ],
           "y": [
            10.975609756097562
           ]
          }
         ],
         "traces": [
          1
         ]
        },
        {
         "data": [
          {
           "type": "scatter",
           "x": [
            77.41935483870968
           ],
           "y": [
            10.975609756097562
           ]
          }
         ],
         "traces": [
          1
         ]
        },
        {
         "data": [
          {
           "type": "scatter",
           "x": [
            72.58064516129032
           ],
           "y": [
            10.975609756097562
           ]
          }
         ],
         "traces": [
          1
         ]
        },
        {
         "data": [
          {
           "type": "scatter",
           "x": [
            67.74193548387098
           ],
           "y": [
            10.975609756097562
           ]
          }
         ],
         "traces": [
          1
         ]
        },
        {
         "data": [
          {
           "type": "scatter",
           "x": [
            62.903225806451616
           ],
           "y": [
            10.975609756097562
           ]
          }
         ],
         "traces": [
          1
         ]
        },
        {
         "data": [
          {
           "type": "scatter",
           "x": [
            58.064516129032256
           ],
           "y": [
            10.975609756097562
           ]
          }
         ],
         "traces": [
          1
         ]
        },
        {
         "data": [
          {
           "type": "scatter",
           "x": [
            53.225806451612904
           ],
           "y": [
            10.975609756097562
           ]
          }
         ],
         "traces": [
          1
         ]
        },
        {
         "data": [
          {
           "type": "scatter",
           "x": [
            48.38709677419355
           ],
           "y": [
            10.975609756097562
           ]
          }
         ],
         "traces": [
          1
         ]
        },
        {
         "data": [
          {
           "type": "scatter",
           "x": [
            43.54838709677419
           ],
           "y": [
            10.975609756097562
           ]
          }
         ],
         "traces": [
          1
         ]
        },
        {
         "data": [
          {
           "type": "scatter",
           "x": [
            38.70967741935484
           ],
           "y": [
            10.975609756097562
           ]
          }
         ],
         "traces": [
          1
         ]
        },
        {
         "data": [
          {
           "type": "scatter",
           "x": [
            33.87096774193549
           ],
           "y": [
            10.975609756097562
           ]
          }
         ],
         "traces": [
          1
         ]
        },
        {
         "data": [
          {
           "type": "scatter",
           "x": [
            29.032258064516128
           ],
           "y": [
            10.975609756097562
           ]
          }
         ],
         "traces": [
          1
         ]
        },
        {
         "data": [
          {
           "type": "scatter",
           "x": [
            24.193548387096776
           ],
           "y": [
            10.975609756097562
           ]
          }
         ],
         "traces": [
          1
         ]
        },
        {
         "data": [
          {
           "type": "scatter",
           "x": [
            19.35483870967742
           ],
           "y": [
            10.975609756097562
           ]
          }
         ],
         "traces": [
          1
         ]
        },
        {
         "data": [
          {
           "type": "scatter",
           "x": [
            14.516129032258064
           ],
           "y": [
            10.975609756097562
           ]
          }
         ],
         "traces": [
          1
         ]
        },
        {
         "data": [
          {
           "type": "scatter",
           "x": [
            9.67741935483871
           ],
           "y": [
            10.975609756097562
           ]
          }
         ],
         "traces": [
          1
         ]
        },
        {
         "data": [
          {
           "type": "scatter",
           "x": [
            4.838709677419355
           ],
           "y": [
            10.975609756097562
           ]
          }
         ],
         "traces": [
          1
         ]
        },
        {
         "data": [
          {
           "type": "scatter",
           "x": [
            0
           ],
           "y": [
            10.975609756097562
           ]
          }
         ],
         "traces": [
          1
         ]
        },
        {
         "data": [
          {
           "type": "scatter",
           "x": [
            0
           ],
           "y": [
            14.634146341463415
           ]
          }
         ],
         "traces": [
          1
         ]
        },
        {
         "data": [
          {
           "type": "scatter",
           "x": [
            4.838709677419355
           ],
           "y": [
            14.634146341463415
           ]
          }
         ],
         "traces": [
          1
         ]
        },
        {
         "data": [
          {
           "type": "scatter",
           "x": [
            9.67741935483871
           ],
           "y": [
            14.634146341463415
           ]
          }
         ],
         "traces": [
          1
         ]
        },
        {
         "data": [
          {
           "type": "scatter",
           "x": [
            14.516129032258064
           ],
           "y": [
            14.634146341463415
           ]
          }
         ],
         "traces": [
          1
         ]
        },
        {
         "data": [
          {
           "type": "scatter",
           "x": [
            19.35483870967742
           ],
           "y": [
            14.634146341463415
           ]
          }
         ],
         "traces": [
          1
         ]
        },
        {
         "data": [
          {
           "type": "scatter",
           "x": [
            24.193548387096776
           ],
           "y": [
            14.634146341463415
           ]
          }
         ],
         "traces": [
          1
         ]
        },
        {
         "data": [
          {
           "type": "scatter",
           "x": [
            29.032258064516128
           ],
           "y": [
            14.634146341463415
           ]
          }
         ],
         "traces": [
          1
         ]
        },
        {
         "data": [
          {
           "type": "scatter",
           "x": [
            33.87096774193549
           ],
           "y": [
            14.634146341463415
           ]
          }
         ],
         "traces": [
          1
         ]
        },
        {
         "data": [
          {
           "type": "scatter",
           "x": [
            38.70967741935484
           ],
           "y": [
            14.634146341463415
           ]
          }
         ],
         "traces": [
          1
         ]
        },
        {
         "data": [
          {
           "type": "scatter",
           "x": [
            43.54838709677419
           ],
           "y": [
            14.634146341463415
           ]
          }
         ],
         "traces": [
          1
         ]
        },
        {
         "data": [
          {
           "type": "scatter",
           "x": [
            48.38709677419355
           ],
           "y": [
            14.634146341463415
           ]
          }
         ],
         "traces": [
          1
         ]
        },
        {
         "data": [
          {
           "type": "scatter",
           "x": [
            53.225806451612904
           ],
           "y": [
            14.634146341463415
           ]
          }
         ],
         "traces": [
          1
         ]
        },
        {
         "data": [
          {
           "type": "scatter",
           "x": [
            58.064516129032256
           ],
           "y": [
            14.634146341463415
           ]
          }
         ],
         "traces": [
          1
         ]
        },
        {
         "data": [
          {
           "type": "scatter",
           "x": [
            62.903225806451616
           ],
           "y": [
            14.634146341463415
           ]
          }
         ],
         "traces": [
          1
         ]
        },
        {
         "data": [
          {
           "type": "scatter",
           "x": [
            67.74193548387098
           ],
           "y": [
            14.634146341463415
           ]
          }
         ],
         "traces": [
          1
         ]
        },
        {
         "data": [
          {
           "type": "scatter",
           "x": [
            72.58064516129032
           ],
           "y": [
            14.634146341463415
           ]
          }
         ],
         "traces": [
          1
         ]
        },
        {
         "data": [
          {
           "type": "scatter",
           "x": [
            77.41935483870968
           ],
           "y": [
            14.634146341463415
           ]
          }
         ],
         "traces": [
          1
         ]
        },
        {
         "data": [
          {
           "type": "scatter",
           "x": [
            82.25806451612904
           ],
           "y": [
            14.634146341463415
           ]
          }
         ],
         "traces": [
          1
         ]
        },
        {
         "data": [
          {
           "type": "scatter",
           "x": [
            87.09677419354838
           ],
           "y": [
            14.634146341463415
           ]
          }
         ],
         "traces": [
          1
         ]
        },
        {
         "data": [
          {
           "type": "scatter",
           "x": [
            91.93548387096774
           ],
           "y": [
            14.634146341463415
           ]
          }
         ],
         "traces": [
          1
         ]
        },
        {
         "data": [
          {
           "type": "scatter",
           "x": [
            96.7741935483871
           ],
           "y": [
            14.634146341463415
           ]
          }
         ],
         "traces": [
          1
         ]
        },
        {
         "data": [
          {
           "type": "scatter",
           "x": [
            101.61290322580645
           ],
           "y": [
            14.634146341463415
           ]
          }
         ],
         "traces": [
          1
         ]
        },
        {
         "data": [
          {
           "type": "scatter",
           "x": [
            106.45161290322581
           ],
           "y": [
            14.634146341463415
           ]
          }
         ],
         "traces": [
          1
         ]
        },
        {
         "data": [
          {
           "type": "scatter",
           "x": [
            111.29032258064517
           ],
           "y": [
            14.634146341463415
           ]
          }
         ],
         "traces": [
          1
         ]
        },
        {
         "data": [
          {
           "type": "scatter",
           "x": [
            116.12903225806451
           ],
           "y": [
            14.634146341463415
           ]
          }
         ],
         "traces": [
          1
         ]
        },
        {
         "data": [
          {
           "type": "scatter",
           "x": [
            120.96774193548387
           ],
           "y": [
            14.634146341463415
           ]
          }
         ],
         "traces": [
          1
         ]
        },
        {
         "data": [
          {
           "type": "scatter",
           "x": [
            125.80645161290323
           ],
           "y": [
            14.634146341463415
           ]
          }
         ],
         "traces": [
          1
         ]
        },
        {
         "data": [
          {
           "type": "scatter",
           "x": [
            130.6451612903226
           ],
           "y": [
            14.634146341463415
           ]
          }
         ],
         "traces": [
          1
         ]
        },
        {
         "data": [
          {
           "type": "scatter",
           "x": [
            135.48387096774195
           ],
           "y": [
            14.634146341463415
           ]
          }
         ],
         "traces": [
          1
         ]
        },
        {
         "data": [
          {
           "type": "scatter",
           "x": [
            140.32258064516128
           ],
           "y": [
            14.634146341463415
           ]
          }
         ],
         "traces": [
          1
         ]
        },
        {
         "data": [
          {
           "type": "scatter",
           "x": [
            145.16129032258064
           ],
           "y": [
            14.634146341463415
           ]
          }
         ],
         "traces": [
          1
         ]
        },
        {
         "data": [
          {
           "type": "scatter",
           "x": [
            150
           ],
           "y": [
            14.634146341463415
           ]
          }
         ],
         "traces": [
          1
         ]
        },
        {
         "data": [
          {
           "type": "scatter",
           "x": [
            150
           ],
           "y": [
            18.29268292682927
           ]
          }
         ],
         "traces": [
          1
         ]
        },
        {
         "data": [
          {
           "type": "scatter",
           "x": [
            145.16129032258064
           ],
           "y": [
            18.29268292682927
           ]
          }
         ],
         "traces": [
          1
         ]
        },
        {
         "data": [
          {
           "type": "scatter",
           "x": [
            140.32258064516128
           ],
           "y": [
            18.29268292682927
           ]
          }
         ],
         "traces": [
          1
         ]
        },
        {
         "data": [
          {
           "type": "scatter",
           "x": [
            135.48387096774195
           ],
           "y": [
            18.29268292682927
           ]
          }
         ],
         "traces": [
          1
         ]
        },
        {
         "data": [
          {
           "type": "scatter",
           "x": [
            130.6451612903226
           ],
           "y": [
            18.29268292682927
           ]
          }
         ],
         "traces": [
          1
         ]
        },
        {
         "data": [
          {
           "type": "scatter",
           "x": [
            125.80645161290323
           ],
           "y": [
            18.29268292682927
           ]
          }
         ],
         "traces": [
          1
         ]
        },
        {
         "data": [
          {
           "type": "scatter",
           "x": [
            120.96774193548387
           ],
           "y": [
            18.29268292682927
           ]
          }
         ],
         "traces": [
          1
         ]
        },
        {
         "data": [
          {
           "type": "scatter",
           "x": [
            116.12903225806451
           ],
           "y": [
            18.29268292682927
           ]
          }
         ],
         "traces": [
          1
         ]
        },
        {
         "data": [
          {
           "type": "scatter",
           "x": [
            111.29032258064517
           ],
           "y": [
            18.29268292682927
           ]
          }
         ],
         "traces": [
          1
         ]
        },
        {
         "data": [
          {
           "type": "scatter",
           "x": [
            106.45161290322581
           ],
           "y": [
            18.29268292682927
           ]
          }
         ],
         "traces": [
          1
         ]
        },
        {
         "data": [
          {
           "type": "scatter",
           "x": [
            101.61290322580645
           ],
           "y": [
            18.29268292682927
           ]
          }
         ],
         "traces": [
          1
         ]
        },
        {
         "data": [
          {
           "type": "scatter",
           "x": [
            96.7741935483871
           ],
           "y": [
            18.29268292682927
           ]
          }
         ],
         "traces": [
          1
         ]
        },
        {
         "data": [
          {
           "type": "scatter",
           "x": [
            91.93548387096774
           ],
           "y": [
            18.29268292682927
           ]
          }
         ],
         "traces": [
          1
         ]
        },
        {
         "data": [
          {
           "type": "scatter",
           "x": [
            87.09677419354838
           ],
           "y": [
            18.29268292682927
           ]
          }
         ],
         "traces": [
          1
         ]
        },
        {
         "data": [
          {
           "type": "scatter",
           "x": [
            82.25806451612904
           ],
           "y": [
            18.29268292682927
           ]
          }
         ],
         "traces": [
          1
         ]
        },
        {
         "data": [
          {
           "type": "scatter",
           "x": [
            77.41935483870968
           ],
           "y": [
            18.29268292682927
           ]
          }
         ],
         "traces": [
          1
         ]
        },
        {
         "data": [
          {
           "type": "scatter",
           "x": [
            72.58064516129032
           ],
           "y": [
            18.29268292682927
           ]
          }
         ],
         "traces": [
          1
         ]
        },
        {
         "data": [
          {
           "type": "scatter",
           "x": [
            67.74193548387098
           ],
           "y": [
            18.29268292682927
           ]
          }
         ],
         "traces": [
          1
         ]
        },
        {
         "data": [
          {
           "type": "scatter",
           "x": [
            62.903225806451616
           ],
           "y": [
            18.29268292682927
           ]
          }
         ],
         "traces": [
          1
         ]
        },
        {
         "data": [
          {
           "type": "scatter",
           "x": [
            58.064516129032256
           ],
           "y": [
            18.29268292682927
           ]
          }
         ],
         "traces": [
          1
         ]
        },
        {
         "data": [
          {
           "type": "scatter",
           "x": [
            53.225806451612904
           ],
           "y": [
            18.29268292682927
           ]
          }
         ],
         "traces": [
          1
         ]
        },
        {
         "data": [
          {
           "type": "scatter",
           "x": [
            48.38709677419355
           ],
           "y": [
            18.29268292682927
           ]
          }
         ],
         "traces": [
          1
         ]
        },
        {
         "data": [
          {
           "type": "scatter",
           "x": [
            43.54838709677419
           ],
           "y": [
            18.29268292682927
           ]
          }
         ],
         "traces": [
          1
         ]
        },
        {
         "data": [
          {
           "type": "scatter",
           "x": [
            38.70967741935484
           ],
           "y": [
            18.29268292682927
           ]
          }
         ],
         "traces": [
          1
         ]
        },
        {
         "data": [
          {
           "type": "scatter",
           "x": [
            33.87096774193549
           ],
           "y": [
            18.29268292682927
           ]
          }
         ],
         "traces": [
          1
         ]
        },
        {
         "data": [
          {
           "type": "scatter",
           "x": [
            29.032258064516128
           ],
           "y": [
            18.29268292682927
           ]
          }
         ],
         "traces": [
          1
         ]
        },
        {
         "data": [
          {
           "type": "scatter",
           "x": [
            24.193548387096776
           ],
           "y": [
            18.29268292682927
           ]
          }
         ],
         "traces": [
          1
         ]
        },
        {
         "data": [
          {
           "type": "scatter",
           "x": [
            19.35483870967742
           ],
           "y": [
            18.29268292682927
           ]
          }
         ],
         "traces": [
          1
         ]
        },
        {
         "data": [
          {
           "type": "scatter",
           "x": [
            14.516129032258064
           ],
           "y": [
            18.29268292682927
           ]
          }
         ],
         "traces": [
          1
         ]
        },
        {
         "data": [
          {
           "type": "scatter",
           "x": [
            9.67741935483871
           ],
           "y": [
            18.29268292682927
           ]
          }
         ],
         "traces": [
          1
         ]
        },
        {
         "data": [
          {
           "type": "scatter",
           "x": [
            4.838709677419355
           ],
           "y": [
            18.29268292682927
           ]
          }
         ],
         "traces": [
          1
         ]
        },
        {
         "data": [
          {
           "type": "scatter",
           "x": [
            0
           ],
           "y": [
            18.29268292682927
           ]
          }
         ],
         "traces": [
          1
         ]
        },
        {
         "data": [
          {
           "type": "scatter",
           "x": [
            0
           ],
           "y": [
            21.951219512195124
           ]
          }
         ],
         "traces": [
          1
         ]
        },
        {
         "data": [
          {
           "type": "scatter",
           "x": [
            4.838709677419355
           ],
           "y": [
            21.951219512195124
           ]
          }
         ],
         "traces": [
          1
         ]
        },
        {
         "data": [
          {
           "type": "scatter",
           "x": [
            9.67741935483871
           ],
           "y": [
            21.951219512195124
           ]
          }
         ],
         "traces": [
          1
         ]
        },
        {
         "data": [
          {
           "type": "scatter",
           "x": [
            14.516129032258064
           ],
           "y": [
            21.951219512195124
           ]
          }
         ],
         "traces": [
          1
         ]
        },
        {
         "data": [
          {
           "type": "scatter",
           "x": [
            19.35483870967742
           ],
           "y": [
            21.951219512195124
           ]
          }
         ],
         "traces": [
          1
         ]
        },
        {
         "data": [
          {
           "type": "scatter",
           "x": [
            24.193548387096776
           ],
           "y": [
            21.951219512195124
           ]
          }
         ],
         "traces": [
          1
         ]
        },
        {
         "data": [
          {
           "type": "scatter",
           "x": [
            29.032258064516128
           ],
           "y": [
            21.951219512195124
           ]
          }
         ],
         "traces": [
          1
         ]
        },
        {
         "data": [
          {
           "type": "scatter",
           "x": [
            33.87096774193549
           ],
           "y": [
            21.951219512195124
           ]
          }
         ],
         "traces": [
          1
         ]
        },
        {
         "data": [
          {
           "type": "scatter",
           "x": [
            38.70967741935484
           ],
           "y": [
            21.951219512195124
           ]
          }
         ],
         "traces": [
          1
         ]
        },
        {
         "data": [
          {
           "type": "scatter",
           "x": [
            43.54838709677419
           ],
           "y": [
            21.951219512195124
           ]
          }
         ],
         "traces": [
          1
         ]
        },
        {
         "data": [
          {
           "type": "scatter",
           "x": [
            48.38709677419355
           ],
           "y": [
            21.951219512195124
           ]
          }
         ],
         "traces": [
          1
         ]
        },
        {
         "data": [
          {
           "type": "scatter",
           "x": [
            53.225806451612904
           ],
           "y": [
            21.951219512195124
           ]
          }
         ],
         "traces": [
          1
         ]
        },
        {
         "data": [
          {
           "type": "scatter",
           "x": [
            58.064516129032256
           ],
           "y": [
            21.951219512195124
           ]
          }
         ],
         "traces": [
          1
         ]
        },
        {
         "data": [
          {
           "type": "scatter",
           "x": [
            62.903225806451616
           ],
           "y": [
            21.951219512195124
           ]
          }
         ],
         "traces": [
          1
         ]
        },
        {
         "data": [
          {
           "type": "scatter",
           "x": [
            67.74193548387098
           ],
           "y": [
            21.951219512195124
           ]
          }
         ],
         "traces": [
          1
         ]
        },
        {
         "data": [
          {
           "type": "scatter",
           "x": [
            72.58064516129032
           ],
           "y": [
            21.951219512195124
           ]
          }
         ],
         "traces": [
          1
         ]
        },
        {
         "data": [
          {
           "type": "scatter",
           "x": [
            77.41935483870968
           ],
           "y": [
            21.951219512195124
           ]
          }
         ],
         "traces": [
          1
         ]
        },
        {
         "data": [
          {
           "type": "scatter",
           "x": [
            82.25806451612904
           ],
           "y": [
            21.951219512195124
           ]
          }
         ],
         "traces": [
          1
         ]
        },
        {
         "data": [
          {
           "type": "scatter",
           "x": [
            87.09677419354838
           ],
           "y": [
            21.951219512195124
           ]
          }
         ],
         "traces": [
          1
         ]
        },
        {
         "data": [
          {
           "type": "scatter",
           "x": [
            91.93548387096774
           ],
           "y": [
            21.951219512195124
           ]
          }
         ],
         "traces": [
          1
         ]
        },
        {
         "data": [
          {
           "type": "scatter",
           "x": [
            96.7741935483871
           ],
           "y": [
            21.951219512195124
           ]
          }
         ],
         "traces": [
          1
         ]
        },
        {
         "data": [
          {
           "type": "scatter",
           "x": [
            101.61290322580645
           ],
           "y": [
            21.951219512195124
           ]
          }
         ],
         "traces": [
          1
         ]
        },
        {
         "data": [
          {
           "type": "scatter",
           "x": [
            106.45161290322581
           ],
           "y": [
            21.951219512195124
           ]
          }
         ],
         "traces": [
          1
         ]
        },
        {
         "data": [
          {
           "type": "scatter",
           "x": [
            111.29032258064517
           ],
           "y": [
            21.951219512195124
           ]
          }
         ],
         "traces": [
          1
         ]
        },
        {
         "data": [
          {
           "type": "scatter",
           "x": [
            116.12903225806451
           ],
           "y": [
            21.951219512195124
           ]
          }
         ],
         "traces": [
          1
         ]
        },
        {
         "data": [
          {
           "type": "scatter",
           "x": [
            120.96774193548387
           ],
           "y": [
            21.951219512195124
           ]
          }
         ],
         "traces": [
          1
         ]
        },
        {
         "data": [
          {
           "type": "scatter",
           "x": [
            125.80645161290323
           ],
           "y": [
            21.951219512195124
           ]
          }
         ],
         "traces": [
          1
         ]
        },
        {
         "data": [
          {
           "type": "scatter",
           "x": [
            130.6451612903226
           ],
           "y": [
            21.951219512195124
           ]
          }
         ],
         "traces": [
          1
         ]
        },
        {
         "data": [
          {
           "type": "scatter",
           "x": [
            135.48387096774195
           ],
           "y": [
            21.951219512195124
           ]
          }
         ],
         "traces": [
          1
         ]
        },
        {
         "data": [
          {
           "type": "scatter",
           "x": [
            140.32258064516128
           ],
           "y": [
            21.951219512195124
           ]
          }
         ],
         "traces": [
          1
         ]
        },
        {
         "data": [
          {
           "type": "scatter",
           "x": [
            145.16129032258064
           ],
           "y": [
            21.951219512195124
           ]
          }
         ],
         "traces": [
          1
         ]
        },
        {
         "data": [
          {
           "type": "scatter",
           "x": [
            150
           ],
           "y": [
            21.951219512195124
           ]
          }
         ],
         "traces": [
          1
         ]
        },
        {
         "data": [
          {
           "type": "scatter",
           "x": [
            150
           ],
           "y": [
            25.609756097560975
           ]
          }
         ],
         "traces": [
          1
         ]
        },
        {
         "data": [
          {
           "type": "scatter",
           "x": [
            145.16129032258064
           ],
           "y": [
            25.609756097560975
           ]
          }
         ],
         "traces": [
          1
         ]
        },
        {
         "data": [
          {
           "type": "scatter",
           "x": [
            140.32258064516128
           ],
           "y": [
            25.609756097560975
           ]
          }
         ],
         "traces": [
          1
         ]
        },
        {
         "data": [
          {
           "type": "scatter",
           "x": [
            135.48387096774195
           ],
           "y": [
            25.609756097560975
           ]
          }
         ],
         "traces": [
          1
         ]
        },
        {
         "data": [
          {
           "type": "scatter",
           "x": [
            130.6451612903226
           ],
           "y": [
            25.609756097560975
           ]
          }
         ],
         "traces": [
          1
         ]
        },
        {
         "data": [
          {
           "type": "scatter",
           "x": [
            125.80645161290323
           ],
           "y": [
            25.609756097560975
           ]
          }
         ],
         "traces": [
          1
         ]
        },
        {
         "data": [
          {
           "type": "scatter",
           "x": [
            120.96774193548387
           ],
           "y": [
            25.609756097560975
           ]
          }
         ],
         "traces": [
          1
         ]
        },
        {
         "data": [
          {
           "type": "scatter",
           "x": [
            116.12903225806451
           ],
           "y": [
            25.609756097560975
           ]
          }
         ],
         "traces": [
          1
         ]
        },
        {
         "data": [
          {
           "type": "scatter",
           "x": [
            111.29032258064517
           ],
           "y": [
            25.609756097560975
           ]
          }
         ],
         "traces": [
          1
         ]
        },
        {
         "data": [
          {
           "type": "scatter",
           "x": [
            106.45161290322581
           ],
           "y": [
            25.609756097560975
           ]
          }
         ],
         "traces": [
          1
         ]
        },
        {
         "data": [
          {
           "type": "scatter",
           "x": [
            101.61290322580645
           ],
           "y": [
            25.609756097560975
           ]
          }
         ],
         "traces": [
          1
         ]
        },
        {
         "data": [
          {
           "type": "scatter",
           "x": [
            96.7741935483871
           ],
           "y": [
            25.609756097560975
           ]
          }
         ],
         "traces": [
          1
         ]
        },
        {
         "data": [
          {
           "type": "scatter",
           "x": [
            91.93548387096774
           ],
           "y": [
            25.609756097560975
           ]
          }
         ],
         "traces": [
          1
         ]
        },
        {
         "data": [
          {
           "type": "scatter",
           "x": [
            87.09677419354838
           ],
           "y": [
            25.609756097560975
           ]
          }
         ],
         "traces": [
          1
         ]
        },
        {
         "data": [
          {
           "type": "scatter",
           "x": [
            82.25806451612904
           ],
           "y": [
            25.609756097560975
           ]
          }
         ],
         "traces": [
          1
         ]
        },
        {
         "data": [
          {
           "type": "scatter",
           "x": [
            77.41935483870968
           ],
           "y": [
            25.609756097560975
           ]
          }
         ],
         "traces": [
          1
         ]
        },
        {
         "data": [
          {
           "type": "scatter",
           "x": [
            72.58064516129032
           ],
           "y": [
            25.609756097560975
           ]
          }
         ],
         "traces": [
          1
         ]
        },
        {
         "data": [
          {
           "type": "scatter",
           "x": [
            67.74193548387098
           ],
           "y": [
            25.609756097560975
           ]
          }
         ],
         "traces": [
          1
         ]
        },
        {
         "data": [
          {
           "type": "scatter",
           "x": [
            62.903225806451616
           ],
           "y": [
            25.609756097560975
           ]
          }
         ],
         "traces": [
          1
         ]
        },
        {
         "data": [
          {
           "type": "scatter",
           "x": [
            58.064516129032256
           ],
           "y": [
            25.609756097560975
           ]
          }
         ],
         "traces": [
          1
         ]
        },
        {
         "data": [
          {
           "type": "scatter",
           "x": [
            53.225806451612904
           ],
           "y": [
            25.609756097560975
           ]
          }
         ],
         "traces": [
          1
         ]
        },
        {
         "data": [
          {
           "type": "scatter",
           "x": [
            48.38709677419355
           ],
           "y": [
            25.609756097560975
           ]
          }
         ],
         "traces": [
          1
         ]
        },
        {
         "data": [
          {
           "type": "scatter",
           "x": [
            43.54838709677419
           ],
           "y": [
            25.609756097560975
           ]
          }
         ],
         "traces": [
          1
         ]
        },
        {
         "data": [
          {
           "type": "scatter",
           "x": [
            38.70967741935484
           ],
           "y": [
            25.609756097560975
           ]
          }
         ],
         "traces": [
          1
         ]
        },
        {
         "data": [
          {
           "type": "scatter",
           "x": [
            33.87096774193549
           ],
           "y": [
            25.609756097560975
           ]
          }
         ],
         "traces": [
          1
         ]
        },
        {
         "data": [
          {
           "type": "scatter",
           "x": [
            29.032258064516128
           ],
           "y": [
            25.609756097560975
           ]
          }
         ],
         "traces": [
          1
         ]
        },
        {
         "data": [
          {
           "type": "scatter",
           "x": [
            24.193548387096776
           ],
           "y": [
            25.609756097560975
           ]
          }
         ],
         "traces": [
          1
         ]
        },
        {
         "data": [
          {
           "type": "scatter",
           "x": [
            19.35483870967742
           ],
           "y": [
            25.609756097560975
           ]
          }
         ],
         "traces": [
          1
         ]
        },
        {
         "data": [
          {
           "type": "scatter",
           "x": [
            14.516129032258064
           ],
           "y": [
            25.609756097560975
           ]
          }
         ],
         "traces": [
          1
         ]
        },
        {
         "data": [
          {
           "type": "scatter",
           "x": [
            9.67741935483871
           ],
           "y": [
            25.609756097560975
           ]
          }
         ],
         "traces": [
          1
         ]
        },
        {
         "data": [
          {
           "type": "scatter",
           "x": [
            4.838709677419355
           ],
           "y": [
            25.609756097560975
           ]
          }
         ],
         "traces": [
          1
         ]
        },
        {
         "data": [
          {
           "type": "scatter",
           "x": [
            0
           ],
           "y": [
            25.609756097560975
           ]
          }
         ],
         "traces": [
          1
         ]
        },
        {
         "data": [
          {
           "type": "scatter",
           "x": [
            0
           ],
           "y": [
            29.26829268292683
           ]
          }
         ],
         "traces": [
          1
         ]
        },
        {
         "data": [
          {
           "type": "scatter",
           "x": [
            4.838709677419355
           ],
           "y": [
            29.26829268292683
           ]
          }
         ],
         "traces": [
          1
         ]
        },
        {
         "data": [
          {
           "type": "scatter",
           "x": [
            9.67741935483871
           ],
           "y": [
            29.26829268292683
           ]
          }
         ],
         "traces": [
          1
         ]
        },
        {
         "data": [
          {
           "type": "scatter",
           "x": [
            14.516129032258064
           ],
           "y": [
            29.26829268292683
           ]
          }
         ],
         "traces": [
          1
         ]
        },
        {
         "data": [
          {
           "type": "scatter",
           "x": [
            19.35483870967742
           ],
           "y": [
            29.26829268292683
           ]
          }
         ],
         "traces": [
          1
         ]
        },
        {
         "data": [
          {
           "type": "scatter",
           "x": [
            24.193548387096776
           ],
           "y": [
            29.26829268292683
           ]
          }
         ],
         "traces": [
          1
         ]
        },
        {
         "data": [
          {
           "type": "scatter",
           "x": [
            29.032258064516128
           ],
           "y": [
            29.26829268292683
           ]
          }
         ],
         "traces": [
          1
         ]
        },
        {
         "data": [
          {
           "type": "scatter",
           "x": [
            33.87096774193549
           ],
           "y": [
            29.26829268292683
           ]
          }
         ],
         "traces": [
          1
         ]
        },
        {
         "data": [
          {
           "type": "scatter",
           "x": [
            38.70967741935484
           ],
           "y": [
            29.26829268292683
           ]
          }
         ],
         "traces": [
          1
         ]
        },
        {
         "data": [
          {
           "type": "scatter",
           "x": [
            43.54838709677419
           ],
           "y": [
            29.26829268292683
           ]
          }
         ],
         "traces": [
          1
         ]
        },
        {
         "data": [
          {
           "type": "scatter",
           "x": [
            48.38709677419355
           ],
           "y": [
            29.26829268292683
           ]
          }
         ],
         "traces": [
          1
         ]
        },
        {
         "data": [
          {
           "type": "scatter",
           "x": [
            53.225806451612904
           ],
           "y": [
            29.26829268292683
           ]
          }
         ],
         "traces": [
          1
         ]
        },
        {
         "data": [
          {
           "type": "scatter",
           "x": [
            58.064516129032256
           ],
           "y": [
            29.26829268292683
           ]
          }
         ],
         "traces": [
          1
         ]
        },
        {
         "data": [
          {
           "type": "scatter",
           "x": [
            62.903225806451616
           ],
           "y": [
            29.26829268292683
           ]
          }
         ],
         "traces": [
          1
         ]
        },
        {
         "data": [
          {
           "type": "scatter",
           "x": [
            67.74193548387098
           ],
           "y": [
            29.26829268292683
           ]
          }
         ],
         "traces": [
          1
         ]
        },
        {
         "data": [
          {
           "type": "scatter",
           "x": [
            72.58064516129032
           ],
           "y": [
            29.26829268292683
           ]
          }
         ],
         "traces": [
          1
         ]
        },
        {
         "data": [
          {
           "type": "scatter",
           "x": [
            77.41935483870968
           ],
           "y": [
            29.26829268292683
           ]
          }
         ],
         "traces": [
          1
         ]
        },
        {
         "data": [
          {
           "type": "scatter",
           "x": [
            82.25806451612904
           ],
           "y": [
            29.26829268292683
           ]
          }
         ],
         "traces": [
          1
         ]
        },
        {
         "data": [
          {
           "type": "scatter",
           "x": [
            87.09677419354838
           ],
           "y": [
            29.26829268292683
           ]
          }
         ],
         "traces": [
          1
         ]
        },
        {
         "data": [
          {
           "type": "scatter",
           "x": [
            91.93548387096774
           ],
           "y": [
            29.26829268292683
           ]
          }
         ],
         "traces": [
          1
         ]
        },
        {
         "data": [
          {
           "type": "scatter",
           "x": [
            96.7741935483871
           ],
           "y": [
            29.26829268292683
           ]
          }
         ],
         "traces": [
          1
         ]
        },
        {
         "data": [
          {
           "type": "scatter",
           "x": [
            101.61290322580645
           ],
           "y": [
            29.26829268292683
           ]
          }
         ],
         "traces": [
          1
         ]
        },
        {
         "data": [
          {
           "type": "scatter",
           "x": [
            106.45161290322581
           ],
           "y": [
            29.26829268292683
           ]
          }
         ],
         "traces": [
          1
         ]
        },
        {
         "data": [
          {
           "type": "scatter",
           "x": [
            111.29032258064517
           ],
           "y": [
            29.26829268292683
           ]
          }
         ],
         "traces": [
          1
         ]
        },
        {
         "data": [
          {
           "type": "scatter",
           "x": [
            116.12903225806451
           ],
           "y": [
            29.26829268292683
           ]
          }
         ],
         "traces": [
          1
         ]
        },
        {
         "data": [
          {
           "type": "scatter",
           "x": [
            120.96774193548387
           ],
           "y": [
            29.26829268292683
           ]
          }
         ],
         "traces": [
          1
         ]
        },
        {
         "data": [
          {
           "type": "scatter",
           "x": [
            125.80645161290323
           ],
           "y": [
            29.26829268292683
           ]
          }
         ],
         "traces": [
          1
         ]
        },
        {
         "data": [
          {
           "type": "scatter",
           "x": [
            130.6451612903226
           ],
           "y": [
            29.26829268292683
           ]
          }
         ],
         "traces": [
          1
         ]
        },
        {
         "data": [
          {
           "type": "scatter",
           "x": [
            135.48387096774195
           ],
           "y": [
            29.26829268292683
           ]
          }
         ],
         "traces": [
          1
         ]
        },
        {
         "data": [
          {
           "type": "scatter",
           "x": [
            140.32258064516128
           ],
           "y": [
            29.26829268292683
           ]
          }
         ],
         "traces": [
          1
         ]
        },
        {
         "data": [
          {
           "type": "scatter",
           "x": [
            145.16129032258064
           ],
           "y": [
            29.26829268292683
           ]
          }
         ],
         "traces": [
          1
         ]
        },
        {
         "data": [
          {
           "type": "scatter",
           "x": [
            150
           ],
           "y": [
            29.26829268292683
           ]
          }
         ],
         "traces": [
          1
         ]
        },
        {
         "data": [
          {
           "type": "scatter",
           "x": [
            150
           ],
           "y": [
            32.926829268292686
           ]
          }
         ],
         "traces": [
          1
         ]
        },
        {
         "data": [
          {
           "type": "scatter",
           "x": [
            145.16129032258064
           ],
           "y": [
            32.926829268292686
           ]
          }
         ],
         "traces": [
          1
         ]
        },
        {
         "data": [
          {
           "type": "scatter",
           "x": [
            140.32258064516128
           ],
           "y": [
            32.926829268292686
           ]
          }
         ],
         "traces": [
          1
         ]
        },
        {
         "data": [
          {
           "type": "scatter",
           "x": [
            135.48387096774195
           ],
           "y": [
            32.926829268292686
           ]
          }
         ],
         "traces": [
          1
         ]
        },
        {
         "data": [
          {
           "type": "scatter",
           "x": [
            130.6451612903226
           ],
           "y": [
            32.926829268292686
           ]
          }
         ],
         "traces": [
          1
         ]
        },
        {
         "data": [
          {
           "type": "scatter",
           "x": [
            125.80645161290323
           ],
           "y": [
            32.926829268292686
           ]
          }
         ],
         "traces": [
          1
         ]
        },
        {
         "data": [
          {
           "type": "scatter",
           "x": [
            120.96774193548387
           ],
           "y": [
            32.926829268292686
           ]
          }
         ],
         "traces": [
          1
         ]
        },
        {
         "data": [
          {
           "type": "scatter",
           "x": [
            116.12903225806451
           ],
           "y": [
            32.926829268292686
           ]
          }
         ],
         "traces": [
          1
         ]
        },
        {
         "data": [
          {
           "type": "scatter",
           "x": [
            111.29032258064517
           ],
           "y": [
            32.926829268292686
           ]
          }
         ],
         "traces": [
          1
         ]
        },
        {
         "data": [
          {
           "type": "scatter",
           "x": [
            106.45161290322581
           ],
           "y": [
            32.926829268292686
           ]
          }
         ],
         "traces": [
          1
         ]
        },
        {
         "data": [
          {
           "type": "scatter",
           "x": [
            101.61290322580645
           ],
           "y": [
            32.926829268292686
           ]
          }
         ],
         "traces": [
          1
         ]
        },
        {
         "data": [
          {
           "type": "scatter",
           "x": [
            96.7741935483871
           ],
           "y": [
            32.926829268292686
           ]
          }
         ],
         "traces": [
          1
         ]
        },
        {
         "data": [
          {
           "type": "scatter",
           "x": [
            91.93548387096774
           ],
           "y": [
            32.926829268292686
           ]
          }
         ],
         "traces": [
          1
         ]
        },
        {
         "data": [
          {
           "type": "scatter",
           "x": [
            87.09677419354838
           ],
           "y": [
            32.926829268292686
           ]
          }
         ],
         "traces": [
          1
         ]
        },
        {
         "data": [
          {
           "type": "scatter",
           "x": [
            82.25806451612904
           ],
           "y": [
            32.926829268292686
           ]
          }
         ],
         "traces": [
          1
         ]
        },
        {
         "data": [
          {
           "type": "scatter",
           "x": [
            77.41935483870968
           ],
           "y": [
            32.926829268292686
           ]
          }
         ],
         "traces": [
          1
         ]
        },
        {
         "data": [
          {
           "type": "scatter",
           "x": [
            72.58064516129032
           ],
           "y": [
            32.926829268292686
           ]
          }
         ],
         "traces": [
          1
         ]
        },
        {
         "data": [
          {
           "type": "scatter",
           "x": [
            67.74193548387098
           ],
           "y": [
            32.926829268292686
           ]
          }
         ],
         "traces": [
          1
         ]
        },
        {
         "data": [
          {
           "type": "scatter",
           "x": [
            62.903225806451616
           ],
           "y": [
            32.926829268292686
           ]
          }
         ],
         "traces": [
          1
         ]
        },
        {
         "data": [
          {
           "type": "scatter",
           "x": [
            58.064516129032256
           ],
           "y": [
            32.926829268292686
           ]
          }
         ],
         "traces": [
          1
         ]
        },
        {
         "data": [
          {
           "type": "scatter",
           "x": [
            53.225806451612904
           ],
           "y": [
            32.926829268292686
           ]
          }
         ],
         "traces": [
          1
         ]
        },
        {
         "data": [
          {
           "type": "scatter",
           "x": [
            48.38709677419355
           ],
           "y": [
            32.926829268292686
           ]
          }
         ],
         "traces": [
          1
         ]
        },
        {
         "data": [
          {
           "type": "scatter",
           "x": [
            43.54838709677419
           ],
           "y": [
            32.926829268292686
           ]
          }
         ],
         "traces": [
          1
         ]
        },
        {
         "data": [
          {
           "type": "scatter",
           "x": [
            38.70967741935484
           ],
           "y": [
            32.926829268292686
           ]
          }
         ],
         "traces": [
          1
         ]
        },
        {
         "data": [
          {
           "type": "scatter",
           "x": [
            33.87096774193549
           ],
           "y": [
            32.926829268292686
           ]
          }
         ],
         "traces": [
          1
         ]
        },
        {
         "data": [
          {
           "type": "scatter",
           "x": [
            29.032258064516128
           ],
           "y": [
            32.926829268292686
           ]
          }
         ],
         "traces": [
          1
         ]
        },
        {
         "data": [
          {
           "type": "scatter",
           "x": [
            24.193548387096776
           ],
           "y": [
            32.926829268292686
           ]
          }
         ],
         "traces": [
          1
         ]
        },
        {
         "data": [
          {
           "type": "scatter",
           "x": [
            19.35483870967742
           ],
           "y": [
            32.926829268292686
           ]
          }
         ],
         "traces": [
          1
         ]
        },
        {
         "data": [
          {
           "type": "scatter",
           "x": [
            14.516129032258064
           ],
           "y": [
            32.926829268292686
           ]
          }
         ],
         "traces": [
          1
         ]
        },
        {
         "data": [
          {
           "type": "scatter",
           "x": [
            9.67741935483871
           ],
           "y": [
            32.926829268292686
           ]
          }
         ],
         "traces": [
          1
         ]
        },
        {
         "data": [
          {
           "type": "scatter",
           "x": [
            4.838709677419355
           ],
           "y": [
            32.926829268292686
           ]
          }
         ],
         "traces": [
          1
         ]
        },
        {
         "data": [
          {
           "type": "scatter",
           "x": [
            0
           ],
           "y": [
            32.926829268292686
           ]
          }
         ],
         "traces": [
          1
         ]
        },
        {
         "data": [
          {
           "type": "scatter",
           "x": [
            0
           ],
           "y": [
            36.58536585365854
           ]
          }
         ],
         "traces": [
          1
         ]
        },
        {
         "data": [
          {
           "type": "scatter",
           "x": [
            4.838709677419355
           ],
           "y": [
            36.58536585365854
           ]
          }
         ],
         "traces": [
          1
         ]
        },
        {
         "data": [
          {
           "type": "scatter",
           "x": [
            9.67741935483871
           ],
           "y": [
            36.58536585365854
           ]
          }
         ],
         "traces": [
          1
         ]
        },
        {
         "data": [
          {
           "type": "scatter",
           "x": [
            14.516129032258064
           ],
           "y": [
            36.58536585365854
           ]
          }
         ],
         "traces": [
          1
         ]
        },
        {
         "data": [
          {
           "type": "scatter",
           "x": [
            19.35483870967742
           ],
           "y": [
            36.58536585365854
           ]
          }
         ],
         "traces": [
          1
         ]
        },
        {
         "data": [
          {
           "type": "scatter",
           "x": [
            24.193548387096776
           ],
           "y": [
            36.58536585365854
           ]
          }
         ],
         "traces": [
          1
         ]
        },
        {
         "data": [
          {
           "type": "scatter",
           "x": [
            29.032258064516128
           ],
           "y": [
            36.58536585365854
           ]
          }
         ],
         "traces": [
          1
         ]
        },
        {
         "data": [
          {
           "type": "scatter",
           "x": [
            33.87096774193549
           ],
           "y": [
            36.58536585365854
           ]
          }
         ],
         "traces": [
          1
         ]
        },
        {
         "data": [
          {
           "type": "scatter",
           "x": [
            38.70967741935484
           ],
           "y": [
            36.58536585365854
           ]
          }
         ],
         "traces": [
          1
         ]
        },
        {
         "data": [
          {
           "type": "scatter",
           "x": [
            43.54838709677419
           ],
           "y": [
            36.58536585365854
           ]
          }
         ],
         "traces": [
          1
         ]
        },
        {
         "data": [
          {
           "type": "scatter",
           "x": [
            48.38709677419355
           ],
           "y": [
            36.58536585365854
           ]
          }
         ],
         "traces": [
          1
         ]
        },
        {
         "data": [
          {
           "type": "scatter",
           "x": [
            53.225806451612904
           ],
           "y": [
            36.58536585365854
           ]
          }
         ],
         "traces": [
          1
         ]
        },
        {
         "data": [
          {
           "type": "scatter",
           "x": [
            58.064516129032256
           ],
           "y": [
            36.58536585365854
           ]
          }
         ],
         "traces": [
          1
         ]
        },
        {
         "data": [
          {
           "type": "scatter",
           "x": [
            62.903225806451616
           ],
           "y": [
            36.58536585365854
           ]
          }
         ],
         "traces": [
          1
         ]
        },
        {
         "data": [
          {
           "type": "scatter",
           "x": [
            67.74193548387098
           ],
           "y": [
            36.58536585365854
           ]
          }
         ],
         "traces": [
          1
         ]
        },
        {
         "data": [
          {
           "type": "scatter",
           "x": [
            72.58064516129032
           ],
           "y": [
            36.58536585365854
           ]
          }
         ],
         "traces": [
          1
         ]
        },
        {
         "data": [
          {
           "type": "scatter",
           "x": [
            77.41935483870968
           ],
           "y": [
            36.58536585365854
           ]
          }
         ],
         "traces": [
          1
         ]
        },
        {
         "data": [
          {
           "type": "scatter",
           "x": [
            82.25806451612904
           ],
           "y": [
            36.58536585365854
           ]
          }
         ],
         "traces": [
          1
         ]
        },
        {
         "data": [
          {
           "type": "scatter",
           "x": [
            87.09677419354838
           ],
           "y": [
            36.58536585365854
           ]
          }
         ],
         "traces": [
          1
         ]
        },
        {
         "data": [
          {
           "type": "scatter",
           "x": [
            91.93548387096774
           ],
           "y": [
            36.58536585365854
           ]
          }
         ],
         "traces": [
          1
         ]
        },
        {
         "data": [
          {
           "type": "scatter",
           "x": [
            96.7741935483871
           ],
           "y": [
            36.58536585365854
           ]
          }
         ],
         "traces": [
          1
         ]
        },
        {
         "data": [
          {
           "type": "scatter",
           "x": [
            101.61290322580645
           ],
           "y": [
            36.58536585365854
           ]
          }
         ],
         "traces": [
          1
         ]
        },
        {
         "data": [
          {
           "type": "scatter",
           "x": [
            106.45161290322581
           ],
           "y": [
            36.58536585365854
           ]
          }
         ],
         "traces": [
          1
         ]
        },
        {
         "data": [
          {
           "type": "scatter",
           "x": [
            111.29032258064517
           ],
           "y": [
            36.58536585365854
           ]
          }
         ],
         "traces": [
          1
         ]
        },
        {
         "data": [
          {
           "type": "scatter",
           "x": [
            116.12903225806451
           ],
           "y": [
            36.58536585365854
           ]
          }
         ],
         "traces": [
          1
         ]
        },
        {
         "data": [
          {
           "type": "scatter",
           "x": [
            120.96774193548387
           ],
           "y": [
            36.58536585365854
           ]
          }
         ],
         "traces": [
          1
         ]
        },
        {
         "data": [
          {
           "type": "scatter",
           "x": [
            125.80645161290323
           ],
           "y": [
            36.58536585365854
           ]
          }
         ],
         "traces": [
          1
         ]
        },
        {
         "data": [
          {
           "type": "scatter",
           "x": [
            130.6451612903226
           ],
           "y": [
            36.58536585365854
           ]
          }
         ],
         "traces": [
          1
         ]
        },
        {
         "data": [
          {
           "type": "scatter",
           "x": [
            135.48387096774195
           ],
           "y": [
            36.58536585365854
           ]
          }
         ],
         "traces": [
          1
         ]
        },
        {
         "data": [
          {
           "type": "scatter",
           "x": [
            140.32258064516128
           ],
           "y": [
            36.58536585365854
           ]
          }
         ],
         "traces": [
          1
         ]
        },
        {
         "data": [
          {
           "type": "scatter",
           "x": [
            145.16129032258064
           ],
           "y": [
            36.58536585365854
           ]
          }
         ],
         "traces": [
          1
         ]
        },
        {
         "data": [
          {
           "type": "scatter",
           "x": [
            150
           ],
           "y": [
            36.58536585365854
           ]
          }
         ],
         "traces": [
          1
         ]
        },
        {
         "data": [
          {
           "type": "scatter",
           "x": [
            150
           ],
           "y": [
            40.24390243902439
           ]
          }
         ],
         "traces": [
          1
         ]
        },
        {
         "data": [
          {
           "type": "scatter",
           "x": [
            145.16129032258064
           ],
           "y": [
            40.24390243902439
           ]
          }
         ],
         "traces": [
          1
         ]
        },
        {
         "data": [
          {
           "type": "scatter",
           "x": [
            140.32258064516128
           ],
           "y": [
            40.24390243902439
           ]
          }
         ],
         "traces": [
          1
         ]
        },
        {
         "data": [
          {
           "type": "scatter",
           "x": [
            135.48387096774195
           ],
           "y": [
            40.24390243902439
           ]
          }
         ],
         "traces": [
          1
         ]
        },
        {
         "data": [
          {
           "type": "scatter",
           "x": [
            130.6451612903226
           ],
           "y": [
            40.24390243902439
           ]
          }
         ],
         "traces": [
          1
         ]
        },
        {
         "data": [
          {
           "type": "scatter",
           "x": [
            125.80645161290323
           ],
           "y": [
            40.24390243902439
           ]
          }
         ],
         "traces": [
          1
         ]
        },
        {
         "data": [
          {
           "type": "scatter",
           "x": [
            120.96774193548387
           ],
           "y": [
            40.24390243902439
           ]
          }
         ],
         "traces": [
          1
         ]
        },
        {
         "data": [
          {
           "type": "scatter",
           "x": [
            116.12903225806451
           ],
           "y": [
            40.24390243902439
           ]
          }
         ],
         "traces": [
          1
         ]
        },
        {
         "data": [
          {
           "type": "scatter",
           "x": [
            111.29032258064517
           ],
           "y": [
            40.24390243902439
           ]
          }
         ],
         "traces": [
          1
         ]
        },
        {
         "data": [
          {
           "type": "scatter",
           "x": [
            106.45161290322581
           ],
           "y": [
            40.24390243902439
           ]
          }
         ],
         "traces": [
          1
         ]
        },
        {
         "data": [
          {
           "type": "scatter",
           "x": [
            101.61290322580645
           ],
           "y": [
            40.24390243902439
           ]
          }
         ],
         "traces": [
          1
         ]
        },
        {
         "data": [
          {
           "type": "scatter",
           "x": [
            96.7741935483871
           ],
           "y": [
            40.24390243902439
           ]
          }
         ],
         "traces": [
          1
         ]
        },
        {
         "data": [
          {
           "type": "scatter",
           "x": [
            91.93548387096774
           ],
           "y": [
            40.24390243902439
           ]
          }
         ],
         "traces": [
          1
         ]
        },
        {
         "data": [
          {
           "type": "scatter",
           "x": [
            87.09677419354838
           ],
           "y": [
            40.24390243902439
           ]
          }
         ],
         "traces": [
          1
         ]
        },
        {
         "data": [
          {
           "type": "scatter",
           "x": [
            82.25806451612904
           ],
           "y": [
            40.24390243902439
           ]
          }
         ],
         "traces": [
          1
         ]
        },
        {
         "data": [
          {
           "type": "scatter",
           "x": [
            77.41935483870968
           ],
           "y": [
            40.24390243902439
           ]
          }
         ],
         "traces": [
          1
         ]
        },
        {
         "data": [
          {
           "type": "scatter",
           "x": [
            72.58064516129032
           ],
           "y": [
            40.24390243902439
           ]
          }
         ],
         "traces": [
          1
         ]
        },
        {
         "data": [
          {
           "type": "scatter",
           "x": [
            67.74193548387098
           ],
           "y": [
            40.24390243902439
           ]
          }
         ],
         "traces": [
          1
         ]
        },
        {
         "data": [
          {
           "type": "scatter",
           "x": [
            62.903225806451616
           ],
           "y": [
            40.24390243902439
           ]
          }
         ],
         "traces": [
          1
         ]
        },
        {
         "data": [
          {
           "type": "scatter",
           "x": [
            58.064516129032256
           ],
           "y": [
            40.24390243902439
           ]
          }
         ],
         "traces": [
          1
         ]
        },
        {
         "data": [
          {
           "type": "scatter",
           "x": [
            53.225806451612904
           ],
           "y": [
            40.24390243902439
           ]
          }
         ],
         "traces": [
          1
         ]
        },
        {
         "data": [
          {
           "type": "scatter",
           "x": [
            48.38709677419355
           ],
           "y": [
            40.24390243902439
           ]
          }
         ],
         "traces": [
          1
         ]
        },
        {
         "data": [
          {
           "type": "scatter",
           "x": [
            43.54838709677419
           ],
           "y": [
            40.24390243902439
           ]
          }
         ],
         "traces": [
          1
         ]
        },
        {
         "data": [
          {
           "type": "scatter",
           "x": [
            38.70967741935484
           ],
           "y": [
            40.24390243902439
           ]
          }
         ],
         "traces": [
          1
         ]
        },
        {
         "data": [
          {
           "type": "scatter",
           "x": [
            33.87096774193549
           ],
           "y": [
            40.24390243902439
           ]
          }
         ],
         "traces": [
          1
         ]
        },
        {
         "data": [
          {
           "type": "scatter",
           "x": [
            29.032258064516128
           ],
           "y": [
            40.24390243902439
           ]
          }
         ],
         "traces": [
          1
         ]
        },
        {
         "data": [
          {
           "type": "scatter",
           "x": [
            24.193548387096776
           ],
           "y": [
            40.24390243902439
           ]
          }
         ],
         "traces": [
          1
         ]
        },
        {
         "data": [
          {
           "type": "scatter",
           "x": [
            19.35483870967742
           ],
           "y": [
            40.24390243902439
           ]
          }
         ],
         "traces": [
          1
         ]
        },
        {
         "data": [
          {
           "type": "scatter",
           "x": [
            14.516129032258064
           ],
           "y": [
            40.24390243902439
           ]
          }
         ],
         "traces": [
          1
         ]
        },
        {
         "data": [
          {
           "type": "scatter",
           "x": [
            9.67741935483871
           ],
           "y": [
            40.24390243902439
           ]
          }
         ],
         "traces": [
          1
         ]
        },
        {
         "data": [
          {
           "type": "scatter",
           "x": [
            4.838709677419355
           ],
           "y": [
            40.24390243902439
           ]
          }
         ],
         "traces": [
          1
         ]
        },
        {
         "data": [
          {
           "type": "scatter",
           "x": [
            0
           ],
           "y": [
            40.24390243902439
           ]
          }
         ],
         "traces": [
          1
         ]
        },
        {
         "data": [
          {
           "type": "scatter",
           "x": [
            0
           ],
           "y": [
            43.90243902439025
           ]
          }
         ],
         "traces": [
          1
         ]
        },
        {
         "data": [
          {
           "type": "scatter",
           "x": [
            4.838709677419355
           ],
           "y": [
            43.90243902439025
           ]
          }
         ],
         "traces": [
          1
         ]
        },
        {
         "data": [
          {
           "type": "scatter",
           "x": [
            9.67741935483871
           ],
           "y": [
            43.90243902439025
           ]
          }
         ],
         "traces": [
          1
         ]
        },
        {
         "data": [
          {
           "type": "scatter",
           "x": [
            14.516129032258064
           ],
           "y": [
            43.90243902439025
           ]
          }
         ],
         "traces": [
          1
         ]
        },
        {
         "data": [
          {
           "type": "scatter",
           "x": [
            19.35483870967742
           ],
           "y": [
            43.90243902439025
           ]
          }
         ],
         "traces": [
          1
         ]
        },
        {
         "data": [
          {
           "type": "scatter",
           "x": [
            24.193548387096776
           ],
           "y": [
            43.90243902439025
           ]
          }
         ],
         "traces": [
          1
         ]
        },
        {
         "data": [
          {
           "type": "scatter",
           "x": [
            29.032258064516128
           ],
           "y": [
            43.90243902439025
           ]
          }
         ],
         "traces": [
          1
         ]
        },
        {
         "data": [
          {
           "type": "scatter",
           "x": [
            33.87096774193549
           ],
           "y": [
            43.90243902439025
           ]
          }
         ],
         "traces": [
          1
         ]
        },
        {
         "data": [
          {
           "type": "scatter",
           "x": [
            38.70967741935484
           ],
           "y": [
            43.90243902439025
           ]
          }
         ],
         "traces": [
          1
         ]
        },
        {
         "data": [
          {
           "type": "scatter",
           "x": [
            43.54838709677419
           ],
           "y": [
            43.90243902439025
           ]
          }
         ],
         "traces": [
          1
         ]
        },
        {
         "data": [
          {
           "type": "scatter",
           "x": [
            48.38709677419355
           ],
           "y": [
            43.90243902439025
           ]
          }
         ],
         "traces": [
          1
         ]
        },
        {
         "data": [
          {
           "type": "scatter",
           "x": [
            53.225806451612904
           ],
           "y": [
            43.90243902439025
           ]
          }
         ],
         "traces": [
          1
         ]
        },
        {
         "data": [
          {
           "type": "scatter",
           "x": [
            58.064516129032256
           ],
           "y": [
            43.90243902439025
           ]
          }
         ],
         "traces": [
          1
         ]
        },
        {
         "data": [
          {
           "type": "scatter",
           "x": [
            62.903225806451616
           ],
           "y": [
            43.90243902439025
           ]
          }
         ],
         "traces": [
          1
         ]
        },
        {
         "data": [
          {
           "type": "scatter",
           "x": [
            67.74193548387098
           ],
           "y": [
            43.90243902439025
           ]
          }
         ],
         "traces": [
          1
         ]
        },
        {
         "data": [
          {
           "type": "scatter",
           "x": [
            72.58064516129032
           ],
           "y": [
            43.90243902439025
           ]
          }
         ],
         "traces": [
          1
         ]
        },
        {
         "data": [
          {
           "type": "scatter",
           "x": [
            77.41935483870968
           ],
           "y": [
            43.90243902439025
           ]
          }
         ],
         "traces": [
          1
         ]
        },
        {
         "data": [
          {
           "type": "scatter",
           "x": [
            82.25806451612904
           ],
           "y": [
            43.90243902439025
           ]
          }
         ],
         "traces": [
          1
         ]
        },
        {
         "data": [
          {
           "type": "scatter",
           "x": [
            87.09677419354838
           ],
           "y": [
            43.90243902439025
           ]
          }
         ],
         "traces": [
          1
         ]
        },
        {
         "data": [
          {
           "type": "scatter",
           "x": [
            91.93548387096774
           ],
           "y": [
            43.90243902439025
           ]
          }
         ],
         "traces": [
          1
         ]
        },
        {
         "data": [
          {
           "type": "scatter",
           "x": [
            96.7741935483871
           ],
           "y": [
            43.90243902439025
           ]
          }
         ],
         "traces": [
          1
         ]
        },
        {
         "data": [
          {
           "type": "scatter",
           "x": [
            101.61290322580645
           ],
           "y": [
            43.90243902439025
           ]
          }
         ],
         "traces": [
          1
         ]
        },
        {
         "data": [
          {
           "type": "scatter",
           "x": [
            106.45161290322581
           ],
           "y": [
            43.90243902439025
           ]
          }
         ],
         "traces": [
          1
         ]
        },
        {
         "data": [
          {
           "type": "scatter",
           "x": [
            111.29032258064517
           ],
           "y": [
            43.90243902439025
           ]
          }
         ],
         "traces": [
          1
         ]
        },
        {
         "data": [
          {
           "type": "scatter",
           "x": [
            116.12903225806451
           ],
           "y": [
            43.90243902439025
           ]
          }
         ],
         "traces": [
          1
         ]
        },
        {
         "data": [
          {
           "type": "scatter",
           "x": [
            120.96774193548387
           ],
           "y": [
            43.90243902439025
           ]
          }
         ],
         "traces": [
          1
         ]
        },
        {
         "data": [
          {
           "type": "scatter",
           "x": [
            125.80645161290323
           ],
           "y": [
            43.90243902439025
           ]
          }
         ],
         "traces": [
          1
         ]
        },
        {
         "data": [
          {
           "type": "scatter",
           "x": [
            130.6451612903226
           ],
           "y": [
            43.90243902439025
           ]
          }
         ],
         "traces": [
          1
         ]
        },
        {
         "data": [
          {
           "type": "scatter",
           "x": [
            135.48387096774195
           ],
           "y": [
            43.90243902439025
           ]
          }
         ],
         "traces": [
          1
         ]
        },
        {
         "data": [
          {
           "type": "scatter",
           "x": [
            140.32258064516128
           ],
           "y": [
            43.90243902439025
           ]
          }
         ],
         "traces": [
          1
         ]
        },
        {
         "data": [
          {
           "type": "scatter",
           "x": [
            145.16129032258064
           ],
           "y": [
            43.90243902439025
           ]
          }
         ],
         "traces": [
          1
         ]
        },
        {
         "data": [
          {
           "type": "scatter",
           "x": [
            150
           ],
           "y": [
            43.90243902439025
           ]
          }
         ],
         "traces": [
          1
         ]
        },
        {
         "data": [
          {
           "type": "scatter",
           "x": [
            150
           ],
           "y": [
            47.5609756097561
           ]
          }
         ],
         "traces": [
          1
         ]
        },
        {
         "data": [
          {
           "type": "scatter",
           "x": [
            145.16129032258064
           ],
           "y": [
            47.5609756097561
           ]
          }
         ],
         "traces": [
          1
         ]
        },
        {
         "data": [
          {
           "type": "scatter",
           "x": [
            140.32258064516128
           ],
           "y": [
            47.5609756097561
           ]
          }
         ],
         "traces": [
          1
         ]
        },
        {
         "data": [
          {
           "type": "scatter",
           "x": [
            135.48387096774195
           ],
           "y": [
            47.5609756097561
           ]
          }
         ],
         "traces": [
          1
         ]
        },
        {
         "data": [
          {
           "type": "scatter",
           "x": [
            130.6451612903226
           ],
           "y": [
            47.5609756097561
           ]
          }
         ],
         "traces": [
          1
         ]
        },
        {
         "data": [
          {
           "type": "scatter",
           "x": [
            125.80645161290323
           ],
           "y": [
            47.5609756097561
           ]
          }
         ],
         "traces": [
          1
         ]
        },
        {
         "data": [
          {
           "type": "scatter",
           "x": [
            120.96774193548387
           ],
           "y": [
            47.5609756097561
           ]
          }
         ],
         "traces": [
          1
         ]
        },
        {
         "data": [
          {
           "type": "scatter",
           "x": [
            116.12903225806451
           ],
           "y": [
            47.5609756097561
           ]
          }
         ],
         "traces": [
          1
         ]
        },
        {
         "data": [
          {
           "type": "scatter",
           "x": [
            111.29032258064517
           ],
           "y": [
            47.5609756097561
           ]
          }
         ],
         "traces": [
          1
         ]
        },
        {
         "data": [
          {
           "type": "scatter",
           "x": [
            106.45161290322581
           ],
           "y": [
            47.5609756097561
           ]
          }
         ],
         "traces": [
          1
         ]
        },
        {
         "data": [
          {
           "type": "scatter",
           "x": [
            101.61290322580645
           ],
           "y": [
            47.5609756097561
           ]
          }
         ],
         "traces": [
          1
         ]
        },
        {
         "data": [
          {
           "type": "scatter",
           "x": [
            96.7741935483871
           ],
           "y": [
            47.5609756097561
           ]
          }
         ],
         "traces": [
          1
         ]
        },
        {
         "data": [
          {
           "type": "scatter",
           "x": [
            91.93548387096774
           ],
           "y": [
            47.5609756097561
           ]
          }
         ],
         "traces": [
          1
         ]
        },
        {
         "data": [
          {
           "type": "scatter",
           "x": [
            87.09677419354838
           ],
           "y": [
            47.5609756097561
           ]
          }
         ],
         "traces": [
          1
         ]
        },
        {
         "data": [
          {
           "type": "scatter",
           "x": [
            82.25806451612904
           ],
           "y": [
            47.5609756097561
           ]
          }
         ],
         "traces": [
          1
         ]
        },
        {
         "data": [
          {
           "type": "scatter",
           "x": [
            77.41935483870968
           ],
           "y": [
            47.5609756097561
           ]
          }
         ],
         "traces": [
          1
         ]
        },
        {
         "data": [
          {
           "type": "scatter",
           "x": [
            72.58064516129032
           ],
           "y": [
            47.5609756097561
           ]
          }
         ],
         "traces": [
          1
         ]
        },
        {
         "data": [
          {
           "type": "scatter",
           "x": [
            67.74193548387098
           ],
           "y": [
            47.5609756097561
           ]
          }
         ],
         "traces": [
          1
         ]
        },
        {
         "data": [
          {
           "type": "scatter",
           "x": [
            62.903225806451616
           ],
           "y": [
            47.5609756097561
           ]
          }
         ],
         "traces": [
          1
         ]
        },
        {
         "data": [
          {
           "type": "scatter",
           "x": [
            58.064516129032256
           ],
           "y": [
            47.5609756097561
           ]
          }
         ],
         "traces": [
          1
         ]
        },
        {
         "data": [
          {
           "type": "scatter",
           "x": [
            53.225806451612904
           ],
           "y": [
            47.5609756097561
           ]
          }
         ],
         "traces": [
          1
         ]
        },
        {
         "data": [
          {
           "type": "scatter",
           "x": [
            48.38709677419355
           ],
           "y": [
            47.5609756097561
           ]
          }
         ],
         "traces": [
          1
         ]
        },
        {
         "data": [
          {
           "type": "scatter",
           "x": [
            43.54838709677419
           ],
           "y": [
            47.5609756097561
           ]
          }
         ],
         "traces": [
          1
         ]
        },
        {
         "data": [
          {
           "type": "scatter",
           "x": [
            38.70967741935484
           ],
           "y": [
            47.5609756097561
           ]
          }
         ],
         "traces": [
          1
         ]
        },
        {
         "data": [
          {
           "type": "scatter",
           "x": [
            33.87096774193549
           ],
           "y": [
            47.5609756097561
           ]
          }
         ],
         "traces": [
          1
         ]
        },
        {
         "data": [
          {
           "type": "scatter",
           "x": [
            29.032258064516128
           ],
           "y": [
            47.5609756097561
           ]
          }
         ],
         "traces": [
          1
         ]
        },
        {
         "data": [
          {
           "type": "scatter",
           "x": [
            24.193548387096776
           ],
           "y": [
            47.5609756097561
           ]
          }
         ],
         "traces": [
          1
         ]
        },
        {
         "data": [
          {
           "type": "scatter",
           "x": [
            19.35483870967742
           ],
           "y": [
            47.5609756097561
           ]
          }
         ],
         "traces": [
          1
         ]
        },
        {
         "data": [
          {
           "type": "scatter",
           "x": [
            14.516129032258064
           ],
           "y": [
            47.5609756097561
           ]
          }
         ],
         "traces": [
          1
         ]
        },
        {
         "data": [
          {
           "type": "scatter",
           "x": [
            9.67741935483871
           ],
           "y": [
            47.5609756097561
           ]
          }
         ],
         "traces": [
          1
         ]
        },
        {
         "data": [
          {
           "type": "scatter",
           "x": [
            4.838709677419355
           ],
           "y": [
            47.5609756097561
           ]
          }
         ],
         "traces": [
          1
         ]
        },
        {
         "data": [
          {
           "type": "scatter",
           "x": [
            0
           ],
           "y": [
            47.5609756097561
           ]
          }
         ],
         "traces": [
          1
         ]
        },
        {
         "data": [
          {
           "type": "scatter",
           "x": [
            0
           ],
           "y": [
            51.21951219512195
           ]
          }
         ],
         "traces": [
          1
         ]
        },
        {
         "data": [
          {
           "type": "scatter",
           "x": [
            4.838709677419355
           ],
           "y": [
            51.21951219512195
           ]
          }
         ],
         "traces": [
          1
         ]
        },
        {
         "data": [
          {
           "type": "scatter",
           "x": [
            9.67741935483871
           ],
           "y": [
            51.21951219512195
           ]
          }
         ],
         "traces": [
          1
         ]
        },
        {
         "data": [
          {
           "type": "scatter",
           "x": [
            14.516129032258064
           ],
           "y": [
            51.21951219512195
           ]
          }
         ],
         "traces": [
          1
         ]
        },
        {
         "data": [
          {
           "type": "scatter",
           "x": [
            19.35483870967742
           ],
           "y": [
            51.21951219512195
           ]
          }
         ],
         "traces": [
          1
         ]
        },
        {
         "data": [
          {
           "type": "scatter",
           "x": [
            24.193548387096776
           ],
           "y": [
            51.21951219512195
           ]
          }
         ],
         "traces": [
          1
         ]
        },
        {
         "data": [
          {
           "type": "scatter",
           "x": [
            29.032258064516128
           ],
           "y": [
            51.21951219512195
           ]
          }
         ],
         "traces": [
          1
         ]
        },
        {
         "data": [
          {
           "type": "scatter",
           "x": [
            33.87096774193549
           ],
           "y": [
            51.21951219512195
           ]
          }
         ],
         "traces": [
          1
         ]
        },
        {
         "data": [
          {
           "type": "scatter",
           "x": [
            38.70967741935484
           ],
           "y": [
            51.21951219512195
           ]
          }
         ],
         "traces": [
          1
         ]
        },
        {
         "data": [
          {
           "type": "scatter",
           "x": [
            43.54838709677419
           ],
           "y": [
            51.21951219512195
           ]
          }
         ],
         "traces": [
          1
         ]
        },
        {
         "data": [
          {
           "type": "scatter",
           "x": [
            48.38709677419355
           ],
           "y": [
            51.21951219512195
           ]
          }
         ],
         "traces": [
          1
         ]
        },
        {
         "data": [
          {
           "type": "scatter",
           "x": [
            53.225806451612904
           ],
           "y": [
            51.21951219512195
           ]
          }
         ],
         "traces": [
          1
         ]
        },
        {
         "data": [
          {
           "type": "scatter",
           "x": [
            58.064516129032256
           ],
           "y": [
            51.21951219512195
           ]
          }
         ],
         "traces": [
          1
         ]
        },
        {
         "data": [
          {
           "type": "scatter",
           "x": [
            62.903225806451616
           ],
           "y": [
            51.21951219512195
           ]
          }
         ],
         "traces": [
          1
         ]
        },
        {
         "data": [
          {
           "type": "scatter",
           "x": [
            67.74193548387098
           ],
           "y": [
            51.21951219512195
           ]
          }
         ],
         "traces": [
          1
         ]
        },
        {
         "data": [
          {
           "type": "scatter",
           "x": [
            72.58064516129032
           ],
           "y": [
            51.21951219512195
           ]
          }
         ],
         "traces": [
          1
         ]
        },
        {
         "data": [
          {
           "type": "scatter",
           "x": [
            77.41935483870968
           ],
           "y": [
            51.21951219512195
           ]
          }
         ],
         "traces": [
          1
         ]
        },
        {
         "data": [
          {
           "type": "scatter",
           "x": [
            82.25806451612904
           ],
           "y": [
            51.21951219512195
           ]
          }
         ],
         "traces": [
          1
         ]
        },
        {
         "data": [
          {
           "type": "scatter",
           "x": [
            87.09677419354838
           ],
           "y": [
            51.21951219512195
           ]
          }
         ],
         "traces": [
          1
         ]
        },
        {
         "data": [
          {
           "type": "scatter",
           "x": [
            91.93548387096774
           ],
           "y": [
            51.21951219512195
           ]
          }
         ],
         "traces": [
          1
         ]
        },
        {
         "data": [
          {
           "type": "scatter",
           "x": [
            96.7741935483871
           ],
           "y": [
            51.21951219512195
           ]
          }
         ],
         "traces": [
          1
         ]
        },
        {
         "data": [
          {
           "type": "scatter",
           "x": [
            101.61290322580645
           ],
           "y": [
            51.21951219512195
           ]
          }
         ],
         "traces": [
          1
         ]
        },
        {
         "data": [
          {
           "type": "scatter",
           "x": [
            106.45161290322581
           ],
           "y": [
            51.21951219512195
           ]
          }
         ],
         "traces": [
          1
         ]
        },
        {
         "data": [
          {
           "type": "scatter",
           "x": [
            111.29032258064517
           ],
           "y": [
            51.21951219512195
           ]
          }
         ],
         "traces": [
          1
         ]
        },
        {
         "data": [
          {
           "type": "scatter",
           "x": [
            116.12903225806451
           ],
           "y": [
            51.21951219512195
           ]
          }
         ],
         "traces": [
          1
         ]
        },
        {
         "data": [
          {
           "type": "scatter",
           "x": [
            120.96774193548387
           ],
           "y": [
            51.21951219512195
           ]
          }
         ],
         "traces": [
          1
         ]
        },
        {
         "data": [
          {
           "type": "scatter",
           "x": [
            125.80645161290323
           ],
           "y": [
            51.21951219512195
           ]
          }
         ],
         "traces": [
          1
         ]
        },
        {
         "data": [
          {
           "type": "scatter",
           "x": [
            130.6451612903226
           ],
           "y": [
            51.21951219512195
           ]
          }
         ],
         "traces": [
          1
         ]
        },
        {
         "data": [
          {
           "type": "scatter",
           "x": [
            135.48387096774195
           ],
           "y": [
            51.21951219512195
           ]
          }
         ],
         "traces": [
          1
         ]
        },
        {
         "data": [
          {
           "type": "scatter",
           "x": [
            140.32258064516128
           ],
           "y": [
            51.21951219512195
           ]
          }
         ],
         "traces": [
          1
         ]
        },
        {
         "data": [
          {
           "type": "scatter",
           "x": [
            145.16129032258064
           ],
           "y": [
            51.21951219512195
           ]
          }
         ],
         "traces": [
          1
         ]
        },
        {
         "data": [
          {
           "type": "scatter",
           "x": [
            150
           ],
           "y": [
            51.21951219512195
           ]
          }
         ],
         "traces": [
          1
         ]
        },
        {
         "data": [
          {
           "type": "scatter",
           "x": [
            150
           ],
           "y": [
            54.87804878048781
           ]
          }
         ],
         "traces": [
          1
         ]
        },
        {
         "data": [
          {
           "type": "scatter",
           "x": [
            145.16129032258064
           ],
           "y": [
            54.87804878048781
           ]
          }
         ],
         "traces": [
          1
         ]
        },
        {
         "data": [
          {
           "type": "scatter",
           "x": [
            140.32258064516128
           ],
           "y": [
            54.87804878048781
           ]
          }
         ],
         "traces": [
          1
         ]
        },
        {
         "data": [
          {
           "type": "scatter",
           "x": [
            135.48387096774195
           ],
           "y": [
            54.87804878048781
           ]
          }
         ],
         "traces": [
          1
         ]
        },
        {
         "data": [
          {
           "type": "scatter",
           "x": [
            130.6451612903226
           ],
           "y": [
            54.87804878048781
           ]
          }
         ],
         "traces": [
          1
         ]
        },
        {
         "data": [
          {
           "type": "scatter",
           "x": [
            125.80645161290323
           ],
           "y": [
            54.87804878048781
           ]
          }
         ],
         "traces": [
          1
         ]
        },
        {
         "data": [
          {
           "type": "scatter",
           "x": [
            120.96774193548387
           ],
           "y": [
            54.87804878048781
           ]
          }
         ],
         "traces": [
          1
         ]
        },
        {
         "data": [
          {
           "type": "scatter",
           "x": [
            116.12903225806451
           ],
           "y": [
            54.87804878048781
           ]
          }
         ],
         "traces": [
          1
         ]
        },
        {
         "data": [
          {
           "type": "scatter",
           "x": [
            111.29032258064517
           ],
           "y": [
            54.87804878048781
           ]
          }
         ],
         "traces": [
          1
         ]
        },
        {
         "data": [
          {
           "type": "scatter",
           "x": [
            106.45161290322581
           ],
           "y": [
            54.87804878048781
           ]
          }
         ],
         "traces": [
          1
         ]
        },
        {
         "data": [
          {
           "type": "scatter",
           "x": [
            101.61290322580645
           ],
           "y": [
            54.87804878048781
           ]
          }
         ],
         "traces": [
          1
         ]
        },
        {
         "data": [
          {
           "type": "scatter",
           "x": [
            96.7741935483871
           ],
           "y": [
            54.87804878048781
           ]
          }
         ],
         "traces": [
          1
         ]
        },
        {
         "data": [
          {
           "type": "scatter",
           "x": [
            91.93548387096774
           ],
           "y": [
            54.87804878048781
           ]
          }
         ],
         "traces": [
          1
         ]
        },
        {
         "data": [
          {
           "type": "scatter",
           "x": [
            87.09677419354838
           ],
           "y": [
            54.87804878048781
           ]
          }
         ],
         "traces": [
          1
         ]
        },
        {
         "data": [
          {
           "type": "scatter",
           "x": [
            82.25806451612904
           ],
           "y": [
            54.87804878048781
           ]
          }
         ],
         "traces": [
          1
         ]
        },
        {
         "data": [
          {
           "type": "scatter",
           "x": [
            77.41935483870968
           ],
           "y": [
            54.87804878048781
           ]
          }
         ],
         "traces": [
          1
         ]
        },
        {
         "data": [
          {
           "type": "scatter",
           "x": [
            72.58064516129032
           ],
           "y": [
            54.87804878048781
           ]
          }
         ],
         "traces": [
          1
         ]
        },
        {
         "data": [
          {
           "type": "scatter",
           "x": [
            67.74193548387098
           ],
           "y": [
            54.87804878048781
           ]
          }
         ],
         "traces": [
          1
         ]
        },
        {
         "data": [
          {
           "type": "scatter",
           "x": [
            62.903225806451616
           ],
           "y": [
            54.87804878048781
           ]
          }
         ],
         "traces": [
          1
         ]
        },
        {
         "data": [
          {
           "type": "scatter",
           "x": [
            58.064516129032256
           ],
           "y": [
            54.87804878048781
           ]
          }
         ],
         "traces": [
          1
         ]
        },
        {
         "data": [
          {
           "type": "scatter",
           "x": [
            53.225806451612904
           ],
           "y": [
            54.87804878048781
           ]
          }
         ],
         "traces": [
          1
         ]
        },
        {
         "data": [
          {
           "type": "scatter",
           "x": [
            48.38709677419355
           ],
           "y": [
            54.87804878048781
           ]
          }
         ],
         "traces": [
          1
         ]
        },
        {
         "data": [
          {
           "type": "scatter",
           "x": [
            43.54838709677419
           ],
           "y": [
            54.87804878048781
           ]
          }
         ],
         "traces": [
          1
         ]
        },
        {
         "data": [
          {
           "type": "scatter",
           "x": [
            38.70967741935484
           ],
           "y": [
            54.87804878048781
           ]
          }
         ],
         "traces": [
          1
         ]
        },
        {
         "data": [
          {
           "type": "scatter",
           "x": [
            33.87096774193549
           ],
           "y": [
            54.87804878048781
           ]
          }
         ],
         "traces": [
          1
         ]
        },
        {
         "data": [
          {
           "type": "scatter",
           "x": [
            29.032258064516128
           ],
           "y": [
            54.87804878048781
           ]
          }
         ],
         "traces": [
          1
         ]
        },
        {
         "data": [
          {
           "type": "scatter",
           "x": [
            24.193548387096776
           ],
           "y": [
            54.87804878048781
           ]
          }
         ],
         "traces": [
          1
         ]
        },
        {
         "data": [
          {
           "type": "scatter",
           "x": [
            19.35483870967742
           ],
           "y": [
            54.87804878048781
           ]
          }
         ],
         "traces": [
          1
         ]
        },
        {
         "data": [
          {
           "type": "scatter",
           "x": [
            14.516129032258064
           ],
           "y": [
            54.87804878048781
           ]
          }
         ],
         "traces": [
          1
         ]
        },
        {
         "data": [
          {
           "type": "scatter",
           "x": [
            9.67741935483871
           ],
           "y": [
            54.87804878048781
           ]
          }
         ],
         "traces": [
          1
         ]
        },
        {
         "data": [
          {
           "type": "scatter",
           "x": [
            4.838709677419355
           ],
           "y": [
            54.87804878048781
           ]
          }
         ],
         "traces": [
          1
         ]
        },
        {
         "data": [
          {
           "type": "scatter",
           "x": [
            0
           ],
           "y": [
            54.87804878048781
           ]
          }
         ],
         "traces": [
          1
         ]
        },
        {
         "data": [
          {
           "type": "scatter",
           "x": [
            0
           ],
           "y": [
            58.53658536585366
           ]
          }
         ],
         "traces": [
          1
         ]
        },
        {
         "data": [
          {
           "type": "scatter",
           "x": [
            4.838709677419355
           ],
           "y": [
            58.53658536585366
           ]
          }
         ],
         "traces": [
          1
         ]
        },
        {
         "data": [
          {
           "type": "scatter",
           "x": [
            9.67741935483871
           ],
           "y": [
            58.53658536585366
           ]
          }
         ],
         "traces": [
          1
         ]
        },
        {
         "data": [
          {
           "type": "scatter",
           "x": [
            14.516129032258064
           ],
           "y": [
            58.53658536585366
           ]
          }
         ],
         "traces": [
          1
         ]
        },
        {
         "data": [
          {
           "type": "scatter",
           "x": [
            19.35483870967742
           ],
           "y": [
            58.53658536585366
           ]
          }
         ],
         "traces": [
          1
         ]
        },
        {
         "data": [
          {
           "type": "scatter",
           "x": [
            24.193548387096776
           ],
           "y": [
            58.53658536585366
           ]
          }
         ],
         "traces": [
          1
         ]
        },
        {
         "data": [
          {
           "type": "scatter",
           "x": [
            29.032258064516128
           ],
           "y": [
            58.53658536585366
           ]
          }
         ],
         "traces": [
          1
         ]
        },
        {
         "data": [
          {
           "type": "scatter",
           "x": [
            33.87096774193549
           ],
           "y": [
            58.53658536585366
           ]
          }
         ],
         "traces": [
          1
         ]
        },
        {
         "data": [
          {
           "type": "scatter",
           "x": [
            38.70967741935484
           ],
           "y": [
            58.53658536585366
           ]
          }
         ],
         "traces": [
          1
         ]
        },
        {
         "data": [
          {
           "type": "scatter",
           "x": [
            43.54838709677419
           ],
           "y": [
            58.53658536585366
           ]
          }
         ],
         "traces": [
          1
         ]
        },
        {
         "data": [
          {
           "type": "scatter",
           "x": [
            48.38709677419355
           ],
           "y": [
            58.53658536585366
           ]
          }
         ],
         "traces": [
          1
         ]
        },
        {
         "data": [
          {
           "type": "scatter",
           "x": [
            53.225806451612904
           ],
           "y": [
            58.53658536585366
           ]
          }
         ],
         "traces": [
          1
         ]
        },
        {
         "data": [
          {
           "type": "scatter",
           "x": [
            58.064516129032256
           ],
           "y": [
            58.53658536585366
           ]
          }
         ],
         "traces": [
          1
         ]
        },
        {
         "data": [
          {
           "type": "scatter",
           "x": [
            62.903225806451616
           ],
           "y": [
            58.53658536585366
           ]
          }
         ],
         "traces": [
          1
         ]
        },
        {
         "data": [
          {
           "type": "scatter",
           "x": [
            67.74193548387098
           ],
           "y": [
            58.53658536585366
           ]
          }
         ],
         "traces": [
          1
         ]
        },
        {
         "data": [
          {
           "type": "scatter",
           "x": [
            72.58064516129032
           ],
           "y": [
            58.53658536585366
           ]
          }
         ],
         "traces": [
          1
         ]
        },
        {
         "data": [
          {
           "type": "scatter",
           "x": [
            77.41935483870968
           ],
           "y": [
            58.53658536585366
           ]
          }
         ],
         "traces": [
          1
         ]
        },
        {
         "data": [
          {
           "type": "scatter",
           "x": [
            82.25806451612904
           ],
           "y": [
            58.53658536585366
           ]
          }
         ],
         "traces": [
          1
         ]
        },
        {
         "data": [
          {
           "type": "scatter",
           "x": [
            87.09677419354838
           ],
           "y": [
            58.53658536585366
           ]
          }
         ],
         "traces": [
          1
         ]
        },
        {
         "data": [
          {
           "type": "scatter",
           "x": [
            91.93548387096774
           ],
           "y": [
            58.53658536585366
           ]
          }
         ],
         "traces": [
          1
         ]
        },
        {
         "data": [
          {
           "type": "scatter",
           "x": [
            96.7741935483871
           ],
           "y": [
            58.53658536585366
           ]
          }
         ],
         "traces": [
          1
         ]
        },
        {
         "data": [
          {
           "type": "scatter",
           "x": [
            101.61290322580645
           ],
           "y": [
            58.53658536585366
           ]
          }
         ],
         "traces": [
          1
         ]
        },
        {
         "data": [
          {
           "type": "scatter",
           "x": [
            106.45161290322581
           ],
           "y": [
            58.53658536585366
           ]
          }
         ],
         "traces": [
          1
         ]
        },
        {
         "data": [
          {
           "type": "scatter",
           "x": [
            111.29032258064517
           ],
           "y": [
            58.53658536585366
           ]
          }
         ],
         "traces": [
          1
         ]
        },
        {
         "data": [
          {
           "type": "scatter",
           "x": [
            116.12903225806451
           ],
           "y": [
            58.53658536585366
           ]
          }
         ],
         "traces": [
          1
         ]
        },
        {
         "data": [
          {
           "type": "scatter",
           "x": [
            120.96774193548387
           ],
           "y": [
            58.53658536585366
           ]
          }
         ],
         "traces": [
          1
         ]
        },
        {
         "data": [
          {
           "type": "scatter",
           "x": [
            125.80645161290323
           ],
           "y": [
            58.53658536585366
           ]
          }
         ],
         "traces": [
          1
         ]
        },
        {
         "data": [
          {
           "type": "scatter",
           "x": [
            130.6451612903226
           ],
           "y": [
            58.53658536585366
           ]
          }
         ],
         "traces": [
          1
         ]
        },
        {
         "data": [
          {
           "type": "scatter",
           "x": [
            135.48387096774195
           ],
           "y": [
            58.53658536585366
           ]
          }
         ],
         "traces": [
          1
         ]
        },
        {
         "data": [
          {
           "type": "scatter",
           "x": [
            140.32258064516128
           ],
           "y": [
            58.53658536585366
           ]
          }
         ],
         "traces": [
          1
         ]
        },
        {
         "data": [
          {
           "type": "scatter",
           "x": [
            145.16129032258064
           ],
           "y": [
            58.53658536585366
           ]
          }
         ],
         "traces": [
          1
         ]
        },
        {
         "data": [
          {
           "type": "scatter",
           "x": [
            150
           ],
           "y": [
            58.53658536585366
           ]
          }
         ],
         "traces": [
          1
         ]
        },
        {
         "data": [
          {
           "type": "scatter",
           "x": [
            150
           ],
           "y": [
            62.19512195121951
           ]
          }
         ],
         "traces": [
          1
         ]
        },
        {
         "data": [
          {
           "type": "scatter",
           "x": [
            145.16129032258064
           ],
           "y": [
            62.19512195121951
           ]
          }
         ],
         "traces": [
          1
         ]
        },
        {
         "data": [
          {
           "type": "scatter",
           "x": [
            140.32258064516128
           ],
           "y": [
            62.19512195121951
           ]
          }
         ],
         "traces": [
          1
         ]
        },
        {
         "data": [
          {
           "type": "scatter",
           "x": [
            135.48387096774195
           ],
           "y": [
            62.19512195121951
           ]
          }
         ],
         "traces": [
          1
         ]
        },
        {
         "data": [
          {
           "type": "scatter",
           "x": [
            130.6451612903226
           ],
           "y": [
            62.19512195121951
           ]
          }
         ],
         "traces": [
          1
         ]
        },
        {
         "data": [
          {
           "type": "scatter",
           "x": [
            125.80645161290323
           ],
           "y": [
            62.19512195121951
           ]
          }
         ],
         "traces": [
          1
         ]
        },
        {
         "data": [
          {
           "type": "scatter",
           "x": [
            120.96774193548387
           ],
           "y": [
            62.19512195121951
           ]
          }
         ],
         "traces": [
          1
         ]
        },
        {
         "data": [
          {
           "type": "scatter",
           "x": [
            116.12903225806451
           ],
           "y": [
            62.19512195121951
           ]
          }
         ],
         "traces": [
          1
         ]
        },
        {
         "data": [
          {
           "type": "scatter",
           "x": [
            111.29032258064517
           ],
           "y": [
            62.19512195121951
           ]
          }
         ],
         "traces": [
          1
         ]
        },
        {
         "data": [
          {
           "type": "scatter",
           "x": [
            106.45161290322581
           ],
           "y": [
            62.19512195121951
           ]
          }
         ],
         "traces": [
          1
         ]
        },
        {
         "data": [
          {
           "type": "scatter",
           "x": [
            101.61290322580645
           ],
           "y": [
            62.19512195121951
           ]
          }
         ],
         "traces": [
          1
         ]
        },
        {
         "data": [
          {
           "type": "scatter",
           "x": [
            96.7741935483871
           ],
           "y": [
            62.19512195121951
           ]
          }
         ],
         "traces": [
          1
         ]
        },
        {
         "data": [
          {
           "type": "scatter",
           "x": [
            91.93548387096774
           ],
           "y": [
            62.19512195121951
           ]
          }
         ],
         "traces": [
          1
         ]
        },
        {
         "data": [
          {
           "type": "scatter",
           "x": [
            87.09677419354838
           ],
           "y": [
            62.19512195121951
           ]
          }
         ],
         "traces": [
          1
         ]
        },
        {
         "data": [
          {
           "type": "scatter",
           "x": [
            82.25806451612904
           ],
           "y": [
            62.19512195121951
           ]
          }
         ],
         "traces": [
          1
         ]
        },
        {
         "data": [
          {
           "type": "scatter",
           "x": [
            77.41935483870968
           ],
           "y": [
            62.19512195121951
           ]
          }
         ],
         "traces": [
          1
         ]
        },
        {
         "data": [
          {
           "type": "scatter",
           "x": [
            72.58064516129032
           ],
           "y": [
            62.19512195121951
           ]
          }
         ],
         "traces": [
          1
         ]
        },
        {
         "data": [
          {
           "type": "scatter",
           "x": [
            67.74193548387098
           ],
           "y": [
            62.19512195121951
           ]
          }
         ],
         "traces": [
          1
         ]
        },
        {
         "data": [
          {
           "type": "scatter",
           "x": [
            62.903225806451616
           ],
           "y": [
            62.19512195121951
           ]
          }
         ],
         "traces": [
          1
         ]
        },
        {
         "data": [
          {
           "type": "scatter",
           "x": [
            58.064516129032256
           ],
           "y": [
            62.19512195121951
           ]
          }
         ],
         "traces": [
          1
         ]
        },
        {
         "data": [
          {
           "type": "scatter",
           "x": [
            53.225806451612904
           ],
           "y": [
            62.19512195121951
           ]
          }
         ],
         "traces": [
          1
         ]
        },
        {
         "data": [
          {
           "type": "scatter",
           "x": [
            48.38709677419355
           ],
           "y": [
            62.19512195121951
           ]
          }
         ],
         "traces": [
          1
         ]
        },
        {
         "data": [
          {
           "type": "scatter",
           "x": [
            43.54838709677419
           ],
           "y": [
            62.19512195121951
           ]
          }
         ],
         "traces": [
          1
         ]
        },
        {
         "data": [
          {
           "type": "scatter",
           "x": [
            38.70967741935484
           ],
           "y": [
            62.19512195121951
           ]
          }
         ],
         "traces": [
          1
         ]
        },
        {
         "data": [
          {
           "type": "scatter",
           "x": [
            33.87096774193549
           ],
           "y": [
            62.19512195121951
           ]
          }
         ],
         "traces": [
          1
         ]
        },
        {
         "data": [
          {
           "type": "scatter",
           "x": [
            29.032258064516128
           ],
           "y": [
            62.19512195121951
           ]
          }
         ],
         "traces": [
          1
         ]
        },
        {
         "data": [
          {
           "type": "scatter",
           "x": [
            24.193548387096776
           ],
           "y": [
            62.19512195121951
           ]
          }
         ],
         "traces": [
          1
         ]
        },
        {
         "data": [
          {
           "type": "scatter",
           "x": [
            19.35483870967742
           ],
           "y": [
            62.19512195121951
           ]
          }
         ],
         "traces": [
          1
         ]
        },
        {
         "data": [
          {
           "type": "scatter",
           "x": [
            14.516129032258064
           ],
           "y": [
            62.19512195121951
           ]
          }
         ],
         "traces": [
          1
         ]
        },
        {
         "data": [
          {
           "type": "scatter",
           "x": [
            9.67741935483871
           ],
           "y": [
            62.19512195121951
           ]
          }
         ],
         "traces": [
          1
         ]
        },
        {
         "data": [
          {
           "type": "scatter",
           "x": [
            4.838709677419355
           ],
           "y": [
            62.19512195121951
           ]
          }
         ],
         "traces": [
          1
         ]
        },
        {
         "data": [
          {
           "type": "scatter",
           "x": [
            0
           ],
           "y": [
            62.19512195121951
           ]
          }
         ],
         "traces": [
          1
         ]
        },
        {
         "data": [
          {
           "type": "scatter",
           "x": [
            0
           ],
           "y": [
            65.85365853658537
           ]
          }
         ],
         "traces": [
          1
         ]
        },
        {
         "data": [
          {
           "type": "scatter",
           "x": [
            4.838709677419355
           ],
           "y": [
            65.85365853658537
           ]
          }
         ],
         "traces": [
          1
         ]
        },
        {
         "data": [
          {
           "type": "scatter",
           "x": [
            9.67741935483871
           ],
           "y": [
            65.85365853658537
           ]
          }
         ],
         "traces": [
          1
         ]
        },
        {
         "data": [
          {
           "type": "scatter",
           "x": [
            14.516129032258064
           ],
           "y": [
            65.85365853658537
           ]
          }
         ],
         "traces": [
          1
         ]
        },
        {
         "data": [
          {
           "type": "scatter",
           "x": [
            19.35483870967742
           ],
           "y": [
            65.85365853658537
           ]
          }
         ],
         "traces": [
          1
         ]
        },
        {
         "data": [
          {
           "type": "scatter",
           "x": [
            24.193548387096776
           ],
           "y": [
            65.85365853658537
           ]
          }
         ],
         "traces": [
          1
         ]
        },
        {
         "data": [
          {
           "type": "scatter",
           "x": [
            29.032258064516128
           ],
           "y": [
            65.85365853658537
           ]
          }
         ],
         "traces": [
          1
         ]
        },
        {
         "data": [
          {
           "type": "scatter",
           "x": [
            33.87096774193549
           ],
           "y": [
            65.85365853658537
           ]
          }
         ],
         "traces": [
          1
         ]
        },
        {
         "data": [
          {
           "type": "scatter",
           "x": [
            38.70967741935484
           ],
           "y": [
            65.85365853658537
           ]
          }
         ],
         "traces": [
          1
         ]
        },
        {
         "data": [
          {
           "type": "scatter",
           "x": [
            43.54838709677419
           ],
           "y": [
            65.85365853658537
           ]
          }
         ],
         "traces": [
          1
         ]
        },
        {
         "data": [
          {
           "type": "scatter",
           "x": [
            48.38709677419355
           ],
           "y": [
            65.85365853658537
           ]
          }
         ],
         "traces": [
          1
         ]
        },
        {
         "data": [
          {
           "type": "scatter",
           "x": [
            53.225806451612904
           ],
           "y": [
            65.85365853658537
           ]
          }
         ],
         "traces": [
          1
         ]
        },
        {
         "data": [
          {
           "type": "scatter",
           "x": [
            58.064516129032256
           ],
           "y": [
            65.85365853658537
           ]
          }
         ],
         "traces": [
          1
         ]
        },
        {
         "data": [
          {
           "type": "scatter",
           "x": [
            62.903225806451616
           ],
           "y": [
            65.85365853658537
           ]
          }
         ],
         "traces": [
          1
         ]
        },
        {
         "data": [
          {
           "type": "scatter",
           "x": [
            67.74193548387098
           ],
           "y": [
            65.85365853658537
           ]
          }
         ],
         "traces": [
          1
         ]
        },
        {
         "data": [
          {
           "type": "scatter",
           "x": [
            72.58064516129032
           ],
           "y": [
            65.85365853658537
           ]
          }
         ],
         "traces": [
          1
         ]
        },
        {
         "data": [
          {
           "type": "scatter",
           "x": [
            77.41935483870968
           ],
           "y": [
            65.85365853658537
           ]
          }
         ],
         "traces": [
          1
         ]
        },
        {
         "data": [
          {
           "type": "scatter",
           "x": [
            82.25806451612904
           ],
           "y": [
            65.85365853658537
           ]
          }
         ],
         "traces": [
          1
         ]
        },
        {
         "data": [
          {
           "type": "scatter",
           "x": [
            87.09677419354838
           ],
           "y": [
            65.85365853658537
           ]
          }
         ],
         "traces": [
          1
         ]
        },
        {
         "data": [
          {
           "type": "scatter",
           "x": [
            91.93548387096774
           ],
           "y": [
            65.85365853658537
           ]
          }
         ],
         "traces": [
          1
         ]
        },
        {
         "data": [
          {
           "type": "scatter",
           "x": [
            96.7741935483871
           ],
           "y": [
            65.85365853658537
           ]
          }
         ],
         "traces": [
          1
         ]
        },
        {
         "data": [
          {
           "type": "scatter",
           "x": [
            101.61290322580645
           ],
           "y": [
            65.85365853658537
           ]
          }
         ],
         "traces": [
          1
         ]
        },
        {
         "data": [
          {
           "type": "scatter",
           "x": [
            106.45161290322581
           ],
           "y": [
            65.85365853658537
           ]
          }
         ],
         "traces": [
          1
         ]
        },
        {
         "data": [
          {
           "type": "scatter",
           "x": [
            111.29032258064517
           ],
           "y": [
            65.85365853658537
           ]
          }
         ],
         "traces": [
          1
         ]
        },
        {
         "data": [
          {
           "type": "scatter",
           "x": [
            116.12903225806451
           ],
           "y": [
            65.85365853658537
           ]
          }
         ],
         "traces": [
          1
         ]
        },
        {
         "data": [
          {
           "type": "scatter",
           "x": [
            120.96774193548387
           ],
           "y": [
            65.85365853658537
           ]
          }
         ],
         "traces": [
          1
         ]
        },
        {
         "data": [
          {
           "type": "scatter",
           "x": [
            125.80645161290323
           ],
           "y": [
            65.85365853658537
           ]
          }
         ],
         "traces": [
          1
         ]
        },
        {
         "data": [
          {
           "type": "scatter",
           "x": [
            130.6451612903226
           ],
           "y": [
            65.85365853658537
           ]
          }
         ],
         "traces": [
          1
         ]
        },
        {
         "data": [
          {
           "type": "scatter",
           "x": [
            135.48387096774195
           ],
           "y": [
            65.85365853658537
           ]
          }
         ],
         "traces": [
          1
         ]
        },
        {
         "data": [
          {
           "type": "scatter",
           "x": [
            140.32258064516128
           ],
           "y": [
            65.85365853658537
           ]
          }
         ],
         "traces": [
          1
         ]
        },
        {
         "data": [
          {
           "type": "scatter",
           "x": [
            145.16129032258064
           ],
           "y": [
            65.85365853658537
           ]
          }
         ],
         "traces": [
          1
         ]
        },
        {
         "data": [
          {
           "type": "scatter",
           "x": [
            150
           ],
           "y": [
            65.85365853658537
           ]
          }
         ],
         "traces": [
          1
         ]
        },
        {
         "data": [
          {
           "type": "scatter",
           "x": [
            150
           ],
           "y": [
            69.51219512195122
           ]
          }
         ],
         "traces": [
          1
         ]
        },
        {
         "data": [
          {
           "type": "scatter",
           "x": [
            145.16129032258064
           ],
           "y": [
            69.51219512195122
           ]
          }
         ],
         "traces": [
          1
         ]
        },
        {
         "data": [
          {
           "type": "scatter",
           "x": [
            140.32258064516128
           ],
           "y": [
            69.51219512195122
           ]
          }
         ],
         "traces": [
          1
         ]
        },
        {
         "data": [
          {
           "type": "scatter",
           "x": [
            135.48387096774195
           ],
           "y": [
            69.51219512195122
           ]
          }
         ],
         "traces": [
          1
         ]
        },
        {
         "data": [
          {
           "type": "scatter",
           "x": [
            130.6451612903226
           ],
           "y": [
            69.51219512195122
           ]
          }
         ],
         "traces": [
          1
         ]
        },
        {
         "data": [
          {
           "type": "scatter",
           "x": [
            125.80645161290323
           ],
           "y": [
            69.51219512195122
           ]
          }
         ],
         "traces": [
          1
         ]
        },
        {
         "data": [
          {
           "type": "scatter",
           "x": [
            120.96774193548387
           ],
           "y": [
            69.51219512195122
           ]
          }
         ],
         "traces": [
          1
         ]
        },
        {
         "data": [
          {
           "type": "scatter",
           "x": [
            116.12903225806451
           ],
           "y": [
            69.51219512195122
           ]
          }
         ],
         "traces": [
          1
         ]
        },
        {
         "data": [
          {
           "type": "scatter",
           "x": [
            111.29032258064517
           ],
           "y": [
            69.51219512195122
           ]
          }
         ],
         "traces": [
          1
         ]
        },
        {
         "data": [
          {
           "type": "scatter",
           "x": [
            106.45161290322581
           ],
           "y": [
            69.51219512195122
           ]
          }
         ],
         "traces": [
          1
         ]
        },
        {
         "data": [
          {
           "type": "scatter",
           "x": [
            101.61290322580645
           ],
           "y": [
            69.51219512195122
           ]
          }
         ],
         "traces": [
          1
         ]
        },
        {
         "data": [
          {
           "type": "scatter",
           "x": [
            96.7741935483871
           ],
           "y": [
            69.51219512195122
           ]
          }
         ],
         "traces": [
          1
         ]
        },
        {
         "data": [
          {
           "type": "scatter",
           "x": [
            91.93548387096774
           ],
           "y": [
            69.51219512195122
           ]
          }
         ],
         "traces": [
          1
         ]
        },
        {
         "data": [
          {
           "type": "scatter",
           "x": [
            87.09677419354838
           ],
           "y": [
            69.51219512195122
           ]
          }
         ],
         "traces": [
          1
         ]
        },
        {
         "data": [
          {
           "type": "scatter",
           "x": [
            82.25806451612904
           ],
           "y": [
            69.51219512195122
           ]
          }
         ],
         "traces": [
          1
         ]
        },
        {
         "data": [
          {
           "type": "scatter",
           "x": [
            77.41935483870968
           ],
           "y": [
            69.51219512195122
           ]
          }
         ],
         "traces": [
          1
         ]
        },
        {
         "data": [
          {
           "type": "scatter",
           "x": [
            72.58064516129032
           ],
           "y": [
            69.51219512195122
           ]
          }
         ],
         "traces": [
          1
         ]
        },
        {
         "data": [
          {
           "type": "scatter",
           "x": [
            67.74193548387098
           ],
           "y": [
            69.51219512195122
           ]
          }
         ],
         "traces": [
          1
         ]
        },
        {
         "data": [
          {
           "type": "scatter",
           "x": [
            62.903225806451616
           ],
           "y": [
            69.51219512195122
           ]
          }
         ],
         "traces": [
          1
         ]
        },
        {
         "data": [
          {
           "type": "scatter",
           "x": [
            58.064516129032256
           ],
           "y": [
            69.51219512195122
           ]
          }
         ],
         "traces": [
          1
         ]
        },
        {
         "data": [
          {
           "type": "scatter",
           "x": [
            53.225806451612904
           ],
           "y": [
            69.51219512195122
           ]
          }
         ],
         "traces": [
          1
         ]
        },
        {
         "data": [
          {
           "type": "scatter",
           "x": [
            48.38709677419355
           ],
           "y": [
            69.51219512195122
           ]
          }
         ],
         "traces": [
          1
         ]
        },
        {
         "data": [
          {
           "type": "scatter",
           "x": [
            43.54838709677419
           ],
           "y": [
            69.51219512195122
           ]
          }
         ],
         "traces": [
          1
         ]
        },
        {
         "data": [
          {
           "type": "scatter",
           "x": [
            38.70967741935484
           ],
           "y": [
            69.51219512195122
           ]
          }
         ],
         "traces": [
          1
         ]
        },
        {
         "data": [
          {
           "type": "scatter",
           "x": [
            33.87096774193549
           ],
           "y": [
            69.51219512195122
           ]
          }
         ],
         "traces": [
          1
         ]
        },
        {
         "data": [
          {
           "type": "scatter",
           "x": [
            29.032258064516128
           ],
           "y": [
            69.51219512195122
           ]
          }
         ],
         "traces": [
          1
         ]
        },
        {
         "data": [
          {
           "type": "scatter",
           "x": [
            24.193548387096776
           ],
           "y": [
            69.51219512195122
           ]
          }
         ],
         "traces": [
          1
         ]
        },
        {
         "data": [
          {
           "type": "scatter",
           "x": [
            19.35483870967742
           ],
           "y": [
            69.51219512195122
           ]
          }
         ],
         "traces": [
          1
         ]
        },
        {
         "data": [
          {
           "type": "scatter",
           "x": [
            14.516129032258064
           ],
           "y": [
            69.51219512195122
           ]
          }
         ],
         "traces": [
          1
         ]
        },
        {
         "data": [
          {
           "type": "scatter",
           "x": [
            9.67741935483871
           ],
           "y": [
            69.51219512195122
           ]
          }
         ],
         "traces": [
          1
         ]
        },
        {
         "data": [
          {
           "type": "scatter",
           "x": [
            4.838709677419355
           ],
           "y": [
            69.51219512195122
           ]
          }
         ],
         "traces": [
          1
         ]
        },
        {
         "data": [
          {
           "type": "scatter",
           "x": [
            0
           ],
           "y": [
            69.51219512195122
           ]
          }
         ],
         "traces": [
          1
         ]
        },
        {
         "data": [
          {
           "type": "scatter",
           "x": [
            0
           ],
           "y": [
            73.17073170731707
           ]
          }
         ],
         "traces": [
          1
         ]
        },
        {
         "data": [
          {
           "type": "scatter",
           "x": [
            4.838709677419355
           ],
           "y": [
            73.17073170731707
           ]
          }
         ],
         "traces": [
          1
         ]
        },
        {
         "data": [
          {
           "type": "scatter",
           "x": [
            9.67741935483871
           ],
           "y": [
            73.17073170731707
           ]
          }
         ],
         "traces": [
          1
         ]
        },
        {
         "data": [
          {
           "type": "scatter",
           "x": [
            14.516129032258064
           ],
           "y": [
            73.17073170731707
           ]
          }
         ],
         "traces": [
          1
         ]
        },
        {
         "data": [
          {
           "type": "scatter",
           "x": [
            19.35483870967742
           ],
           "y": [
            73.17073170731707
           ]
          }
         ],
         "traces": [
          1
         ]
        },
        {
         "data": [
          {
           "type": "scatter",
           "x": [
            24.193548387096776
           ],
           "y": [
            73.17073170731707
           ]
          }
         ],
         "traces": [
          1
         ]
        },
        {
         "data": [
          {
           "type": "scatter",
           "x": [
            29.032258064516128
           ],
           "y": [
            73.17073170731707
           ]
          }
         ],
         "traces": [
          1
         ]
        },
        {
         "data": [
          {
           "type": "scatter",
           "x": [
            33.87096774193549
           ],
           "y": [
            73.17073170731707
           ]
          }
         ],
         "traces": [
          1
         ]
        },
        {
         "data": [
          {
           "type": "scatter",
           "x": [
            38.70967741935484
           ],
           "y": [
            73.17073170731707
           ]
          }
         ],
         "traces": [
          1
         ]
        },
        {
         "data": [
          {
           "type": "scatter",
           "x": [
            43.54838709677419
           ],
           "y": [
            73.17073170731707
           ]
          }
         ],
         "traces": [
          1
         ]
        },
        {
         "data": [
          {
           "type": "scatter",
           "x": [
            48.38709677419355
           ],
           "y": [
            73.17073170731707
           ]
          }
         ],
         "traces": [
          1
         ]
        },
        {
         "data": [
          {
           "type": "scatter",
           "x": [
            53.225806451612904
           ],
           "y": [
            73.17073170731707
           ]
          }
         ],
         "traces": [
          1
         ]
        },
        {
         "data": [
          {
           "type": "scatter",
           "x": [
            58.064516129032256
           ],
           "y": [
            73.17073170731707
           ]
          }
         ],
         "traces": [
          1
         ]
        },
        {
         "data": [
          {
           "type": "scatter",
           "x": [
            62.903225806451616
           ],
           "y": [
            73.17073170731707
           ]
          }
         ],
         "traces": [
          1
         ]
        },
        {
         "data": [
          {
           "type": "scatter",
           "x": [
            67.74193548387098
           ],
           "y": [
            73.17073170731707
           ]
          }
         ],
         "traces": [
          1
         ]
        },
        {
         "data": [
          {
           "type": "scatter",
           "x": [
            72.58064516129032
           ],
           "y": [
            73.17073170731707
           ]
          }
         ],
         "traces": [
          1
         ]
        },
        {
         "data": [
          {
           "type": "scatter",
           "x": [
            77.41935483870968
           ],
           "y": [
            73.17073170731707
           ]
          }
         ],
         "traces": [
          1
         ]
        },
        {
         "data": [
          {
           "type": "scatter",
           "x": [
            82.25806451612904
           ],
           "y": [
            73.17073170731707
           ]
          }
         ],
         "traces": [
          1
         ]
        },
        {
         "data": [
          {
           "type": "scatter",
           "x": [
            87.09677419354838
           ],
           "y": [
            73.17073170731707
           ]
          }
         ],
         "traces": [
          1
         ]
        },
        {
         "data": [
          {
           "type": "scatter",
           "x": [
            91.93548387096774
           ],
           "y": [
            73.17073170731707
           ]
          }
         ],
         "traces": [
          1
         ]
        },
        {
         "data": [
          {
           "type": "scatter",
           "x": [
            96.7741935483871
           ],
           "y": [
            73.17073170731707
           ]
          }
         ],
         "traces": [
          1
         ]
        },
        {
         "data": [
          {
           "type": "scatter",
           "x": [
            101.61290322580645
           ],
           "y": [
            73.17073170731707
           ]
          }
         ],
         "traces": [
          1
         ]
        },
        {
         "data": [
          {
           "type": "scatter",
           "x": [
            106.45161290322581
           ],
           "y": [
            73.17073170731707
           ]
          }
         ],
         "traces": [
          1
         ]
        },
        {
         "data": [
          {
           "type": "scatter",
           "x": [
            111.29032258064517
           ],
           "y": [
            73.17073170731707
           ]
          }
         ],
         "traces": [
          1
         ]
        },
        {
         "data": [
          {
           "type": "scatter",
           "x": [
            116.12903225806451
           ],
           "y": [
            73.17073170731707
           ]
          }
         ],
         "traces": [
          1
         ]
        },
        {
         "data": [
          {
           "type": "scatter",
           "x": [
            120.96774193548387
           ],
           "y": [
            73.17073170731707
           ]
          }
         ],
         "traces": [
          1
         ]
        },
        {
         "data": [
          {
           "type": "scatter",
           "x": [
            125.80645161290323
           ],
           "y": [
            73.17073170731707
           ]
          }
         ],
         "traces": [
          1
         ]
        },
        {
         "data": [
          {
           "type": "scatter",
           "x": [
            130.6451612903226
           ],
           "y": [
            73.17073170731707
           ]
          }
         ],
         "traces": [
          1
         ]
        },
        {
         "data": [
          {
           "type": "scatter",
           "x": [
            135.48387096774195
           ],
           "y": [
            73.17073170731707
           ]
          }
         ],
         "traces": [
          1
         ]
        },
        {
         "data": [
          {
           "type": "scatter",
           "x": [
            140.32258064516128
           ],
           "y": [
            73.17073170731707
           ]
          }
         ],
         "traces": [
          1
         ]
        },
        {
         "data": [
          {
           "type": "scatter",
           "x": [
            145.16129032258064
           ],
           "y": [
            73.17073170731707
           ]
          }
         ],
         "traces": [
          1
         ]
        },
        {
         "data": [
          {
           "type": "scatter",
           "x": [
            150
           ],
           "y": [
            73.17073170731707
           ]
          }
         ],
         "traces": [
          1
         ]
        },
        {
         "data": [
          {
           "type": "scatter",
           "x": [
            150
           ],
           "y": [
            76.82926829268293
           ]
          }
         ],
         "traces": [
          1
         ]
        },
        {
         "data": [
          {
           "type": "scatter",
           "x": [
            145.16129032258064
           ],
           "y": [
            76.82926829268293
           ]
          }
         ],
         "traces": [
          1
         ]
        },
        {
         "data": [
          {
           "type": "scatter",
           "x": [
            140.32258064516128
           ],
           "y": [
            76.82926829268293
           ]
          }
         ],
         "traces": [
          1
         ]
        },
        {
         "data": [
          {
           "type": "scatter",
           "x": [
            135.48387096774195
           ],
           "y": [
            76.82926829268293
           ]
          }
         ],
         "traces": [
          1
         ]
        },
        {
         "data": [
          {
           "type": "scatter",
           "x": [
            130.6451612903226
           ],
           "y": [
            76.82926829268293
           ]
          }
         ],
         "traces": [
          1
         ]
        },
        {
         "data": [
          {
           "type": "scatter",
           "x": [
            125.80645161290323
           ],
           "y": [
            76.82926829268293
           ]
          }
         ],
         "traces": [
          1
         ]
        },
        {
         "data": [
          {
           "type": "scatter",
           "x": [
            120.96774193548387
           ],
           "y": [
            76.82926829268293
           ]
          }
         ],
         "traces": [
          1
         ]
        },
        {
         "data": [
          {
           "type": "scatter",
           "x": [
            116.12903225806451
           ],
           "y": [
            76.82926829268293
           ]
          }
         ],
         "traces": [
          1
         ]
        },
        {
         "data": [
          {
           "type": "scatter",
           "x": [
            111.29032258064517
           ],
           "y": [
            76.82926829268293
           ]
          }
         ],
         "traces": [
          1
         ]
        },
        {
         "data": [
          {
           "type": "scatter",
           "x": [
            106.45161290322581
           ],
           "y": [
            76.82926829268293
           ]
          }
         ],
         "traces": [
          1
         ]
        },
        {
         "data": [
          {
           "type": "scatter",
           "x": [
            101.61290322580645
           ],
           "y": [
            76.82926829268293
           ]
          }
         ],
         "traces": [
          1
         ]
        },
        {
         "data": [
          {
           "type": "scatter",
           "x": [
            96.7741935483871
           ],
           "y": [
            76.82926829268293
           ]
          }
         ],
         "traces": [
          1
         ]
        },
        {
         "data": [
          {
           "type": "scatter",
           "x": [
            91.93548387096774
           ],
           "y": [
            76.82926829268293
           ]
          }
         ],
         "traces": [
          1
         ]
        },
        {
         "data": [
          {
           "type": "scatter",
           "x": [
            87.09677419354838
           ],
           "y": [
            76.82926829268293
           ]
          }
         ],
         "traces": [
          1
         ]
        },
        {
         "data": [
          {
           "type": "scatter",
           "x": [
            82.25806451612904
           ],
           "y": [
            76.82926829268293
           ]
          }
         ],
         "traces": [
          1
         ]
        },
        {
         "data": [
          {
           "type": "scatter",
           "x": [
            77.41935483870968
           ],
           "y": [
            76.82926829268293
           ]
          }
         ],
         "traces": [
          1
         ]
        },
        {
         "data": [
          {
           "type": "scatter",
           "x": [
            72.58064516129032
           ],
           "y": [
            76.82926829268293
           ]
          }
         ],
         "traces": [
          1
         ]
        },
        {
         "data": [
          {
           "type": "scatter",
           "x": [
            67.74193548387098
           ],
           "y": [
            76.82926829268293
           ]
          }
         ],
         "traces": [
          1
         ]
        },
        {
         "data": [
          {
           "type": "scatter",
           "x": [
            62.903225806451616
           ],
           "y": [
            76.82926829268293
           ]
          }
         ],
         "traces": [
          1
         ]
        },
        {
         "data": [
          {
           "type": "scatter",
           "x": [
            58.064516129032256
           ],
           "y": [
            76.82926829268293
           ]
          }
         ],
         "traces": [
          1
         ]
        },
        {
         "data": [
          {
           "type": "scatter",
           "x": [
            53.225806451612904
           ],
           "y": [
            76.82926829268293
           ]
          }
         ],
         "traces": [
          1
         ]
        },
        {
         "data": [
          {
           "type": "scatter",
           "x": [
            48.38709677419355
           ],
           "y": [
            76.82926829268293
           ]
          }
         ],
         "traces": [
          1
         ]
        },
        {
         "data": [
          {
           "type": "scatter",
           "x": [
            43.54838709677419
           ],
           "y": [
            76.82926829268293
           ]
          }
         ],
         "traces": [
          1
         ]
        },
        {
         "data": [
          {
           "type": "scatter",
           "x": [
            38.70967741935484
           ],
           "y": [
            76.82926829268293
           ]
          }
         ],
         "traces": [
          1
         ]
        },
        {
         "data": [
          {
           "type": "scatter",
           "x": [
            33.87096774193549
           ],
           "y": [
            76.82926829268293
           ]
          }
         ],
         "traces": [
          1
         ]
        },
        {
         "data": [
          {
           "type": "scatter",
           "x": [
            29.032258064516128
           ],
           "y": [
            76.82926829268293
           ]
          }
         ],
         "traces": [
          1
         ]
        },
        {
         "data": [
          {
           "type": "scatter",
           "x": [
            24.193548387096776
           ],
           "y": [
            76.82926829268293
           ]
          }
         ],
         "traces": [
          1
         ]
        },
        {
         "data": [
          {
           "type": "scatter",
           "x": [
            19.35483870967742
           ],
           "y": [
            76.82926829268293
           ]
          }
         ],
         "traces": [
          1
         ]
        },
        {
         "data": [
          {
           "type": "scatter",
           "x": [
            14.516129032258064
           ],
           "y": [
            76.82926829268293
           ]
          }
         ],
         "traces": [
          1
         ]
        },
        {
         "data": [
          {
           "type": "scatter",
           "x": [
            9.67741935483871
           ],
           "y": [
            76.82926829268293
           ]
          }
         ],
         "traces": [
          1
         ]
        },
        {
         "data": [
          {
           "type": "scatter",
           "x": [
            4.838709677419355
           ],
           "y": [
            76.82926829268293
           ]
          }
         ],
         "traces": [
          1
         ]
        },
        {
         "data": [
          {
           "type": "scatter",
           "x": [
            0
           ],
           "y": [
            76.82926829268293
           ]
          }
         ],
         "traces": [
          1
         ]
        },
        {
         "data": [
          {
           "type": "scatter",
           "x": [
            0
           ],
           "y": [
            80.48780487804878
           ]
          }
         ],
         "traces": [
          1
         ]
        },
        {
         "data": [
          {
           "type": "scatter",
           "x": [
            4.838709677419355
           ],
           "y": [
            80.48780487804878
           ]
          }
         ],
         "traces": [
          1
         ]
        },
        {
         "data": [
          {
           "type": "scatter",
           "x": [
            9.67741935483871
           ],
           "y": [
            80.48780487804878
           ]
          }
         ],
         "traces": [
          1
         ]
        },
        {
         "data": [
          {
           "type": "scatter",
           "x": [
            14.516129032258064
           ],
           "y": [
            80.48780487804878
           ]
          }
         ],
         "traces": [
          1
         ]
        },
        {
         "data": [
          {
           "type": "scatter",
           "x": [
            19.35483870967742
           ],
           "y": [
            80.48780487804878
           ]
          }
         ],
         "traces": [
          1
         ]
        },
        {
         "data": [
          {
           "type": "scatter",
           "x": [
            24.193548387096776
           ],
           "y": [
            80.48780487804878
           ]
          }
         ],
         "traces": [
          1
         ]
        },
        {
         "data": [
          {
           "type": "scatter",
           "x": [
            29.032258064516128
           ],
           "y": [
            80.48780487804878
           ]
          }
         ],
         "traces": [
          1
         ]
        },
        {
         "data": [
          {
           "type": "scatter",
           "x": [
            33.87096774193549
           ],
           "y": [
            80.48780487804878
           ]
          }
         ],
         "traces": [
          1
         ]
        },
        {
         "data": [
          {
           "type": "scatter",
           "x": [
            38.70967741935484
           ],
           "y": [
            80.48780487804878
           ]
          }
         ],
         "traces": [
          1
         ]
        },
        {
         "data": [
          {
           "type": "scatter",
           "x": [
            43.54838709677419
           ],
           "y": [
            80.48780487804878
           ]
          }
         ],
         "traces": [
          1
         ]
        },
        {
         "data": [
          {
           "type": "scatter",
           "x": [
            48.38709677419355
           ],
           "y": [
            80.48780487804878
           ]
          }
         ],
         "traces": [
          1
         ]
        },
        {
         "data": [
          {
           "type": "scatter",
           "x": [
            53.225806451612904
           ],
           "y": [
            80.48780487804878
           ]
          }
         ],
         "traces": [
          1
         ]
        },
        {
         "data": [
          {
           "type": "scatter",
           "x": [
            58.064516129032256
           ],
           "y": [
            80.48780487804878
           ]
          }
         ],
         "traces": [
          1
         ]
        },
        {
         "data": [
          {
           "type": "scatter",
           "x": [
            62.903225806451616
           ],
           "y": [
            80.48780487804878
           ]
          }
         ],
         "traces": [
          1
         ]
        },
        {
         "data": [
          {
           "type": "scatter",
           "x": [
            67.74193548387098
           ],
           "y": [
            80.48780487804878
           ]
          }
         ],
         "traces": [
          1
         ]
        },
        {
         "data": [
          {
           "type": "scatter",
           "x": [
            72.58064516129032
           ],
           "y": [
            80.48780487804878
           ]
          }
         ],
         "traces": [
          1
         ]
        },
        {
         "data": [
          {
           "type": "scatter",
           "x": [
            77.41935483870968
           ],
           "y": [
            80.48780487804878
           ]
          }
         ],
         "traces": [
          1
         ]
        },
        {
         "data": [
          {
           "type": "scatter",
           "x": [
            82.25806451612904
           ],
           "y": [
            80.48780487804878
           ]
          }
         ],
         "traces": [
          1
         ]
        },
        {
         "data": [
          {
           "type": "scatter",
           "x": [
            87.09677419354838
           ],
           "y": [
            80.48780487804878
           ]
          }
         ],
         "traces": [
          1
         ]
        },
        {
         "data": [
          {
           "type": "scatter",
           "x": [
            91.93548387096774
           ],
           "y": [
            80.48780487804878
           ]
          }
         ],
         "traces": [
          1
         ]
        },
        {
         "data": [
          {
           "type": "scatter",
           "x": [
            96.7741935483871
           ],
           "y": [
            80.48780487804878
           ]
          }
         ],
         "traces": [
          1
         ]
        },
        {
         "data": [
          {
           "type": "scatter",
           "x": [
            101.61290322580645
           ],
           "y": [
            80.48780487804878
           ]
          }
         ],
         "traces": [
          1
         ]
        },
        {
         "data": [
          {
           "type": "scatter",
           "x": [
            106.45161290322581
           ],
           "y": [
            80.48780487804878
           ]
          }
         ],
         "traces": [
          1
         ]
        },
        {
         "data": [
          {
           "type": "scatter",
           "x": [
            111.29032258064517
           ],
           "y": [
            80.48780487804878
           ]
          }
         ],
         "traces": [
          1
         ]
        },
        {
         "data": [
          {
           "type": "scatter",
           "x": [
            116.12903225806451
           ],
           "y": [
            80.48780487804878
           ]
          }
         ],
         "traces": [
          1
         ]
        },
        {
         "data": [
          {
           "type": "scatter",
           "x": [
            120.96774193548387
           ],
           "y": [
            80.48780487804878
           ]
          }
         ],
         "traces": [
          1
         ]
        },
        {
         "data": [
          {
           "type": "scatter",
           "x": [
            125.80645161290323
           ],
           "y": [
            80.48780487804878
           ]
          }
         ],
         "traces": [
          1
         ]
        },
        {
         "data": [
          {
           "type": "scatter",
           "x": [
            130.6451612903226
           ],
           "y": [
            80.48780487804878
           ]
          }
         ],
         "traces": [
          1
         ]
        },
        {
         "data": [
          {
           "type": "scatter",
           "x": [
            135.48387096774195
           ],
           "y": [
            80.48780487804878
           ]
          }
         ],
         "traces": [
          1
         ]
        },
        {
         "data": [
          {
           "type": "scatter",
           "x": [
            140.32258064516128
           ],
           "y": [
            80.48780487804878
           ]
          }
         ],
         "traces": [
          1
         ]
        },
        {
         "data": [
          {
           "type": "scatter",
           "x": [
            145.16129032258064
           ],
           "y": [
            80.48780487804878
           ]
          }
         ],
         "traces": [
          1
         ]
        },
        {
         "data": [
          {
           "type": "scatter",
           "x": [
            150
           ],
           "y": [
            80.48780487804878
           ]
          }
         ],
         "traces": [
          1
         ]
        },
        {
         "data": [
          {
           "type": "scatter",
           "x": [
            150
           ],
           "y": [
            84.14634146341464
           ]
          }
         ],
         "traces": [
          1
         ]
        },
        {
         "data": [
          {
           "type": "scatter",
           "x": [
            145.16129032258064
           ],
           "y": [
            84.14634146341464
           ]
          }
         ],
         "traces": [
          1
         ]
        },
        {
         "data": [
          {
           "type": "scatter",
           "x": [
            140.32258064516128
           ],
           "y": [
            84.14634146341464
           ]
          }
         ],
         "traces": [
          1
         ]
        },
        {
         "data": [
          {
           "type": "scatter",
           "x": [
            135.48387096774195
           ],
           "y": [
            84.14634146341464
           ]
          }
         ],
         "traces": [
          1
         ]
        },
        {
         "data": [
          {
           "type": "scatter",
           "x": [
            130.6451612903226
           ],
           "y": [
            84.14634146341464
           ]
          }
         ],
         "traces": [
          1
         ]
        },
        {
         "data": [
          {
           "type": "scatter",
           "x": [
            125.80645161290323
           ],
           "y": [
            84.14634146341464
           ]
          }
         ],
         "traces": [
          1
         ]
        },
        {
         "data": [
          {
           "type": "scatter",
           "x": [
            120.96774193548387
           ],
           "y": [
            84.14634146341464
           ]
          }
         ],
         "traces": [
          1
         ]
        },
        {
         "data": [
          {
           "type": "scatter",
           "x": [
            116.12903225806451
           ],
           "y": [
            84.14634146341464
           ]
          }
         ],
         "traces": [
          1
         ]
        },
        {
         "data": [
          {
           "type": "scatter",
           "x": [
            111.29032258064517
           ],
           "y": [
            84.14634146341464
           ]
          }
         ],
         "traces": [
          1
         ]
        },
        {
         "data": [
          {
           "type": "scatter",
           "x": [
            106.45161290322581
           ],
           "y": [
            84.14634146341464
           ]
          }
         ],
         "traces": [
          1
         ]
        },
        {
         "data": [
          {
           "type": "scatter",
           "x": [
            101.61290322580645
           ],
           "y": [
            84.14634146341464
           ]
          }
         ],
         "traces": [
          1
         ]
        },
        {
         "data": [
          {
           "type": "scatter",
           "x": [
            96.7741935483871
           ],
           "y": [
            84.14634146341464
           ]
          }
         ],
         "traces": [
          1
         ]
        },
        {
         "data": [
          {
           "type": "scatter",
           "x": [
            91.93548387096774
           ],
           "y": [
            84.14634146341464
           ]
          }
         ],
         "traces": [
          1
         ]
        },
        {
         "data": [
          {
           "type": "scatter",
           "x": [
            87.09677419354838
           ],
           "y": [
            84.14634146341464
           ]
          }
         ],
         "traces": [
          1
         ]
        },
        {
         "data": [
          {
           "type": "scatter",
           "x": [
            82.25806451612904
           ],
           "y": [
            84.14634146341464
           ]
          }
         ],
         "traces": [
          1
         ]
        },
        {
         "data": [
          {
           "type": "scatter",
           "x": [
            77.41935483870968
           ],
           "y": [
            84.14634146341464
           ]
          }
         ],
         "traces": [
          1
         ]
        },
        {
         "data": [
          {
           "type": "scatter",
           "x": [
            72.58064516129032
           ],
           "y": [
            84.14634146341464
           ]
          }
         ],
         "traces": [
          1
         ]
        },
        {
         "data": [
          {
           "type": "scatter",
           "x": [
            67.74193548387098
           ],
           "y": [
            84.14634146341464
           ]
          }
         ],
         "traces": [
          1
         ]
        },
        {
         "data": [
          {
           "type": "scatter",
           "x": [
            62.903225806451616
           ],
           "y": [
            84.14634146341464
           ]
          }
         ],
         "traces": [
          1
         ]
        },
        {
         "data": [
          {
           "type": "scatter",
           "x": [
            58.064516129032256
           ],
           "y": [
            84.14634146341464
           ]
          }
         ],
         "traces": [
          1
         ]
        },
        {
         "data": [
          {
           "type": "scatter",
           "x": [
            53.225806451612904
           ],
           "y": [
            84.14634146341464
           ]
          }
         ],
         "traces": [
          1
         ]
        },
        {
         "data": [
          {
           "type": "scatter",
           "x": [
            48.38709677419355
           ],
           "y": [
            84.14634146341464
           ]
          }
         ],
         "traces": [
          1
         ]
        },
        {
         "data": [
          {
           "type": "scatter",
           "x": [
            43.54838709677419
           ],
           "y": [
            84.14634146341464
           ]
          }
         ],
         "traces": [
          1
         ]
        },
        {
         "data": [
          {
           "type": "scatter",
           "x": [
            38.70967741935484
           ],
           "y": [
            84.14634146341464
           ]
          }
         ],
         "traces": [
          1
         ]
        },
        {
         "data": [
          {
           "type": "scatter",
           "x": [
            33.87096774193549
           ],
           "y": [
            84.14634146341464
           ]
          }
         ],
         "traces": [
          1
         ]
        },
        {
         "data": [
          {
           "type": "scatter",
           "x": [
            29.032258064516128
           ],
           "y": [
            84.14634146341464
           ]
          }
         ],
         "traces": [
          1
         ]
        },
        {
         "data": [
          {
           "type": "scatter",
           "x": [
            24.193548387096776
           ],
           "y": [
            84.14634146341464
           ]
          }
         ],
         "traces": [
          1
         ]
        },
        {
         "data": [
          {
           "type": "scatter",
           "x": [
            19.35483870967742
           ],
           "y": [
            84.14634146341464
           ]
          }
         ],
         "traces": [
          1
         ]
        },
        {
         "data": [
          {
           "type": "scatter",
           "x": [
            14.516129032258064
           ],
           "y": [
            84.14634146341464
           ]
          }
         ],
         "traces": [
          1
         ]
        },
        {
         "data": [
          {
           "type": "scatter",
           "x": [
            9.67741935483871
           ],
           "y": [
            84.14634146341464
           ]
          }
         ],
         "traces": [
          1
         ]
        },
        {
         "data": [
          {
           "type": "scatter",
           "x": [
            4.838709677419355
           ],
           "y": [
            84.14634146341464
           ]
          }
         ],
         "traces": [
          1
         ]
        },
        {
         "data": [
          {
           "type": "scatter",
           "x": [
            0
           ],
           "y": [
            84.14634146341464
           ]
          }
         ],
         "traces": [
          1
         ]
        },
        {
         "data": [
          {
           "type": "scatter",
           "x": [
            0
           ],
           "y": [
            87.8048780487805
           ]
          }
         ],
         "traces": [
          1
         ]
        },
        {
         "data": [
          {
           "type": "scatter",
           "x": [
            4.838709677419355
           ],
           "y": [
            87.8048780487805
           ]
          }
         ],
         "traces": [
          1
         ]
        },
        {
         "data": [
          {
           "type": "scatter",
           "x": [
            9.67741935483871
           ],
           "y": [
            87.8048780487805
           ]
          }
         ],
         "traces": [
          1
         ]
        },
        {
         "data": [
          {
           "type": "scatter",
           "x": [
            14.516129032258064
           ],
           "y": [
            87.8048780487805
           ]
          }
         ],
         "traces": [
          1
         ]
        },
        {
         "data": [
          {
           "type": "scatter",
           "x": [
            19.35483870967742
           ],
           "y": [
            87.8048780487805
           ]
          }
         ],
         "traces": [
          1
         ]
        },
        {
         "data": [
          {
           "type": "scatter",
           "x": [
            24.193548387096776
           ],
           "y": [
            87.8048780487805
           ]
          }
         ],
         "traces": [
          1
         ]
        },
        {
         "data": [
          {
           "type": "scatter",
           "x": [
            29.032258064516128
           ],
           "y": [
            87.8048780487805
           ]
          }
         ],
         "traces": [
          1
         ]
        },
        {
         "data": [
          {
           "type": "scatter",
           "x": [
            33.87096774193549
           ],
           "y": [
            87.8048780487805
           ]
          }
         ],
         "traces": [
          1
         ]
        },
        {
         "data": [
          {
           "type": "scatter",
           "x": [
            38.70967741935484
           ],
           "y": [
            87.8048780487805
           ]
          }
         ],
         "traces": [
          1
         ]
        },
        {
         "data": [
          {
           "type": "scatter",
           "x": [
            43.54838709677419
           ],
           "y": [
            87.8048780487805
           ]
          }
         ],
         "traces": [
          1
         ]
        },
        {
         "data": [
          {
           "type": "scatter",
           "x": [
            48.38709677419355
           ],
           "y": [
            87.8048780487805
           ]
          }
         ],
         "traces": [
          1
         ]
        },
        {
         "data": [
          {
           "type": "scatter",
           "x": [
            53.225806451612904
           ],
           "y": [
            87.8048780487805
           ]
          }
         ],
         "traces": [
          1
         ]
        },
        {
         "data": [
          {
           "type": "scatter",
           "x": [
            58.064516129032256
           ],
           "y": [
            87.8048780487805
           ]
          }
         ],
         "traces": [
          1
         ]
        },
        {
         "data": [
          {
           "type": "scatter",
           "x": [
            62.903225806451616
           ],
           "y": [
            87.8048780487805
           ]
          }
         ],
         "traces": [
          1
         ]
        },
        {
         "data": [
          {
           "type": "scatter",
           "x": [
            67.74193548387098
           ],
           "y": [
            87.8048780487805
           ]
          }
         ],
         "traces": [
          1
         ]
        },
        {
         "data": [
          {
           "type": "scatter",
           "x": [
            72.58064516129032
           ],
           "y": [
            87.8048780487805
           ]
          }
         ],
         "traces": [
          1
         ]
        },
        {
         "data": [
          {
           "type": "scatter",
           "x": [
            77.41935483870968
           ],
           "y": [
            87.8048780487805
           ]
          }
         ],
         "traces": [
          1
         ]
        },
        {
         "data": [
          {
           "type": "scatter",
           "x": [
            82.25806451612904
           ],
           "y": [
            87.8048780487805
           ]
          }
         ],
         "traces": [
          1
         ]
        },
        {
         "data": [
          {
           "type": "scatter",
           "x": [
            87.09677419354838
           ],
           "y": [
            87.8048780487805
           ]
          }
         ],
         "traces": [
          1
         ]
        },
        {
         "data": [
          {
           "type": "scatter",
           "x": [
            91.93548387096774
           ],
           "y": [
            87.8048780487805
           ]
          }
         ],
         "traces": [
          1
         ]
        },
        {
         "data": [
          {
           "type": "scatter",
           "x": [
            96.7741935483871
           ],
           "y": [
            87.8048780487805
           ]
          }
         ],
         "traces": [
          1
         ]
        },
        {
         "data": [
          {
           "type": "scatter",
           "x": [
            101.61290322580645
           ],
           "y": [
            87.8048780487805
           ]
          }
         ],
         "traces": [
          1
         ]
        },
        {
         "data": [
          {
           "type": "scatter",
           "x": [
            106.45161290322581
           ],
           "y": [
            87.8048780487805
           ]
          }
         ],
         "traces": [
          1
         ]
        },
        {
         "data": [
          {
           "type": "scatter",
           "x": [
            111.29032258064517
           ],
           "y": [
            87.8048780487805
           ]
          }
         ],
         "traces": [
          1
         ]
        },
        {
         "data": [
          {
           "type": "scatter",
           "x": [
            116.12903225806451
           ],
           "y": [
            87.8048780487805
           ]
          }
         ],
         "traces": [
          1
         ]
        },
        {
         "data": [
          {
           "type": "scatter",
           "x": [
            120.96774193548387
           ],
           "y": [
            87.8048780487805
           ]
          }
         ],
         "traces": [
          1
         ]
        },
        {
         "data": [
          {
           "type": "scatter",
           "x": [
            125.80645161290323
           ],
           "y": [
            87.8048780487805
           ]
          }
         ],
         "traces": [
          1
         ]
        },
        {
         "data": [
          {
           "type": "scatter",
           "x": [
            130.6451612903226
           ],
           "y": [
            87.8048780487805
           ]
          }
         ],
         "traces": [
          1
         ]
        },
        {
         "data": [
          {
           "type": "scatter",
           "x": [
            135.48387096774195
           ],
           "y": [
            87.8048780487805
           ]
          }
         ],
         "traces": [
          1
         ]
        },
        {
         "data": [
          {
           "type": "scatter",
           "x": [
            140.32258064516128
           ],
           "y": [
            87.8048780487805
           ]
          }
         ],
         "traces": [
          1
         ]
        },
        {
         "data": [
          {
           "type": "scatter",
           "x": [
            145.16129032258064
           ],
           "y": [
            87.8048780487805
           ]
          }
         ],
         "traces": [
          1
         ]
        },
        {
         "data": [
          {
           "type": "scatter",
           "x": [
            150
           ],
           "y": [
            87.8048780487805
           ]
          }
         ],
         "traces": [
          1
         ]
        },
        {
         "data": [
          {
           "type": "scatter",
           "x": [
            150
           ],
           "y": [
            91.46341463414635
           ]
          }
         ],
         "traces": [
          1
         ]
        },
        {
         "data": [
          {
           "type": "scatter",
           "x": [
            145.16129032258064
           ],
           "y": [
            91.46341463414635
           ]
          }
         ],
         "traces": [
          1
         ]
        },
        {
         "data": [
          {
           "type": "scatter",
           "x": [
            140.32258064516128
           ],
           "y": [
            91.46341463414635
           ]
          }
         ],
         "traces": [
          1
         ]
        },
        {
         "data": [
          {
           "type": "scatter",
           "x": [
            135.48387096774195
           ],
           "y": [
            91.46341463414635
           ]
          }
         ],
         "traces": [
          1
         ]
        },
        {
         "data": [
          {
           "type": "scatter",
           "x": [
            130.6451612903226
           ],
           "y": [
            91.46341463414635
           ]
          }
         ],
         "traces": [
          1
         ]
        },
        {
         "data": [
          {
           "type": "scatter",
           "x": [
            125.80645161290323
           ],
           "y": [
            91.46341463414635
           ]
          }
         ],
         "traces": [
          1
         ]
        },
        {
         "data": [
          {
           "type": "scatter",
           "x": [
            120.96774193548387
           ],
           "y": [
            91.46341463414635
           ]
          }
         ],
         "traces": [
          1
         ]
        },
        {
         "data": [
          {
           "type": "scatter",
           "x": [
            116.12903225806451
           ],
           "y": [
            91.46341463414635
           ]
          }
         ],
         "traces": [
          1
         ]
        },
        {
         "data": [
          {
           "type": "scatter",
           "x": [
            111.29032258064517
           ],
           "y": [
            91.46341463414635
           ]
          }
         ],
         "traces": [
          1
         ]
        },
        {
         "data": [
          {
           "type": "scatter",
           "x": [
            106.45161290322581
           ],
           "y": [
            91.46341463414635
           ]
          }
         ],
         "traces": [
          1
         ]
        },
        {
         "data": [
          {
           "type": "scatter",
           "x": [
            101.61290322580645
           ],
           "y": [
            91.46341463414635
           ]
          }
         ],
         "traces": [
          1
         ]
        },
        {
         "data": [
          {
           "type": "scatter",
           "x": [
            96.7741935483871
           ],
           "y": [
            91.46341463414635
           ]
          }
         ],
         "traces": [
          1
         ]
        },
        {
         "data": [
          {
           "type": "scatter",
           "x": [
            91.93548387096774
           ],
           "y": [
            91.46341463414635
           ]
          }
         ],
         "traces": [
          1
         ]
        },
        {
         "data": [
          {
           "type": "scatter",
           "x": [
            87.09677419354838
           ],
           "y": [
            91.46341463414635
           ]
          }
         ],
         "traces": [
          1
         ]
        },
        {
         "data": [
          {
           "type": "scatter",
           "x": [
            82.25806451612904
           ],
           "y": [
            91.46341463414635
           ]
          }
         ],
         "traces": [
          1
         ]
        },
        {
         "data": [
          {
           "type": "scatter",
           "x": [
            77.41935483870968
           ],
           "y": [
            91.46341463414635
           ]
          }
         ],
         "traces": [
          1
         ]
        },
        {
         "data": [
          {
           "type": "scatter",
           "x": [
            72.58064516129032
           ],
           "y": [
            91.46341463414635
           ]
          }
         ],
         "traces": [
          1
         ]
        },
        {
         "data": [
          {
           "type": "scatter",
           "x": [
            67.74193548387098
           ],
           "y": [
            91.46341463414635
           ]
          }
         ],
         "traces": [
          1
         ]
        },
        {
         "data": [
          {
           "type": "scatter",
           "x": [
            62.903225806451616
           ],
           "y": [
            91.46341463414635
           ]
          }
         ],
         "traces": [
          1
         ]
        },
        {
         "data": [
          {
           "type": "scatter",
           "x": [
            58.064516129032256
           ],
           "y": [
            91.46341463414635
           ]
          }
         ],
         "traces": [
          1
         ]
        },
        {
         "data": [
          {
           "type": "scatter",
           "x": [
            53.225806451612904
           ],
           "y": [
            91.46341463414635
           ]
          }
         ],
         "traces": [
          1
         ]
        },
        {
         "data": [
          {
           "type": "scatter",
           "x": [
            48.38709677419355
           ],
           "y": [
            91.46341463414635
           ]
          }
         ],
         "traces": [
          1
         ]
        },
        {
         "data": [
          {
           "type": "scatter",
           "x": [
            43.54838709677419
           ],
           "y": [
            91.46341463414635
           ]
          }
         ],
         "traces": [
          1
         ]
        },
        {
         "data": [
          {
           "type": "scatter",
           "x": [
            38.70967741935484
           ],
           "y": [
            91.46341463414635
           ]
          }
         ],
         "traces": [
          1
         ]
        },
        {
         "data": [
          {
           "type": "scatter",
           "x": [
            33.87096774193549
           ],
           "y": [
            91.46341463414635
           ]
          }
         ],
         "traces": [
          1
         ]
        },
        {
         "data": [
          {
           "type": "scatter",
           "x": [
            29.032258064516128
           ],
           "y": [
            91.46341463414635
           ]
          }
         ],
         "traces": [
          1
         ]
        },
        {
         "data": [
          {
           "type": "scatter",
           "x": [
            24.193548387096776
           ],
           "y": [
            91.46341463414635
           ]
          }
         ],
         "traces": [
          1
         ]
        },
        {
         "data": [
          {
           "type": "scatter",
           "x": [
            19.35483870967742
           ],
           "y": [
            91.46341463414635
           ]
          }
         ],
         "traces": [
          1
         ]
        },
        {
         "data": [
          {
           "type": "scatter",
           "x": [
            14.516129032258064
           ],
           "y": [
            91.46341463414635
           ]
          }
         ],
         "traces": [
          1
         ]
        },
        {
         "data": [
          {
           "type": "scatter",
           "x": [
            9.67741935483871
           ],
           "y": [
            91.46341463414635
           ]
          }
         ],
         "traces": [
          1
         ]
        },
        {
         "data": [
          {
           "type": "scatter",
           "x": [
            4.838709677419355
           ],
           "y": [
            91.46341463414635
           ]
          }
         ],
         "traces": [
          1
         ]
        },
        {
         "data": [
          {
           "type": "scatter",
           "x": [
            0
           ],
           "y": [
            91.46341463414635
           ]
          }
         ],
         "traces": [
          1
         ]
        },
        {
         "data": [
          {
           "type": "scatter",
           "x": [
            0
           ],
           "y": [
            95.1219512195122
           ]
          }
         ],
         "traces": [
          1
         ]
        },
        {
         "data": [
          {
           "type": "scatter",
           "x": [
            4.838709677419355
           ],
           "y": [
            95.1219512195122
           ]
          }
         ],
         "traces": [
          1
         ]
        },
        {
         "data": [
          {
           "type": "scatter",
           "x": [
            9.67741935483871
           ],
           "y": [
            95.1219512195122
           ]
          }
         ],
         "traces": [
          1
         ]
        },
        {
         "data": [
          {
           "type": "scatter",
           "x": [
            14.516129032258064
           ],
           "y": [
            95.1219512195122
           ]
          }
         ],
         "traces": [
          1
         ]
        },
        {
         "data": [
          {
           "type": "scatter",
           "x": [
            19.35483870967742
           ],
           "y": [
            95.1219512195122
           ]
          }
         ],
         "traces": [
          1
         ]
        },
        {
         "data": [
          {
           "type": "scatter",
           "x": [
            24.193548387096776
           ],
           "y": [
            95.1219512195122
           ]
          }
         ],
         "traces": [
          1
         ]
        },
        {
         "data": [
          {
           "type": "scatter",
           "x": [
            29.032258064516128
           ],
           "y": [
            95.1219512195122
           ]
          }
         ],
         "traces": [
          1
         ]
        },
        {
         "data": [
          {
           "type": "scatter",
           "x": [
            33.87096774193549
           ],
           "y": [
            95.1219512195122
           ]
          }
         ],
         "traces": [
          1
         ]
        },
        {
         "data": [
          {
           "type": "scatter",
           "x": [
            38.70967741935484
           ],
           "y": [
            95.1219512195122
           ]
          }
         ],
         "traces": [
          1
         ]
        },
        {
         "data": [
          {
           "type": "scatter",
           "x": [
            43.54838709677419
           ],
           "y": [
            95.1219512195122
           ]
          }
         ],
         "traces": [
          1
         ]
        },
        {
         "data": [
          {
           "type": "scatter",
           "x": [
            48.38709677419355
           ],
           "y": [
            95.1219512195122
           ]
          }
         ],
         "traces": [
          1
         ]
        },
        {
         "data": [
          {
           "type": "scatter",
           "x": [
            53.225806451612904
           ],
           "y": [
            95.1219512195122
           ]
          }
         ],
         "traces": [
          1
         ]
        },
        {
         "data": [
          {
           "type": "scatter",
           "x": [
            58.064516129032256
           ],
           "y": [
            95.1219512195122
           ]
          }
         ],
         "traces": [
          1
         ]
        },
        {
         "data": [
          {
           "type": "scatter",
           "x": [
            62.903225806451616
           ],
           "y": [
            95.1219512195122
           ]
          }
         ],
         "traces": [
          1
         ]
        },
        {
         "data": [
          {
           "type": "scatter",
           "x": [
            67.74193548387098
           ],
           "y": [
            95.1219512195122
           ]
          }
         ],
         "traces": [
          1
         ]
        },
        {
         "data": [
          {
           "type": "scatter",
           "x": [
            72.58064516129032
           ],
           "y": [
            95.1219512195122
           ]
          }
         ],
         "traces": [
          1
         ]
        },
        {
         "data": [
          {
           "type": "scatter",
           "x": [
            77.41935483870968
           ],
           "y": [
            95.1219512195122
           ]
          }
         ],
         "traces": [
          1
         ]
        },
        {
         "data": [
          {
           "type": "scatter",
           "x": [
            82.25806451612904
           ],
           "y": [
            95.1219512195122
           ]
          }
         ],
         "traces": [
          1
         ]
        },
        {
         "data": [
          {
           "type": "scatter",
           "x": [
            87.09677419354838
           ],
           "y": [
            95.1219512195122
           ]
          }
         ],
         "traces": [
          1
         ]
        },
        {
         "data": [
          {
           "type": "scatter",
           "x": [
            91.93548387096774
           ],
           "y": [
            95.1219512195122
           ]
          }
         ],
         "traces": [
          1
         ]
        },
        {
         "data": [
          {
           "type": "scatter",
           "x": [
            96.7741935483871
           ],
           "y": [
            95.1219512195122
           ]
          }
         ],
         "traces": [
          1
         ]
        },
        {
         "data": [
          {
           "type": "scatter",
           "x": [
            101.61290322580645
           ],
           "y": [
            95.1219512195122
           ]
          }
         ],
         "traces": [
          1
         ]
        },
        {
         "data": [
          {
           "type": "scatter",
           "x": [
            106.45161290322581
           ],
           "y": [
            95.1219512195122
           ]
          }
         ],
         "traces": [
          1
         ]
        },
        {
         "data": [
          {
           "type": "scatter",
           "x": [
            111.29032258064517
           ],
           "y": [
            95.1219512195122
           ]
          }
         ],
         "traces": [
          1
         ]
        },
        {
         "data": [
          {
           "type": "scatter",
           "x": [
            116.12903225806451
           ],
           "y": [
            95.1219512195122
           ]
          }
         ],
         "traces": [
          1
         ]
        },
        {
         "data": [
          {
           "type": "scatter",
           "x": [
            120.96774193548387
           ],
           "y": [
            95.1219512195122
           ]
          }
         ],
         "traces": [
          1
         ]
        },
        {
         "data": [
          {
           "type": "scatter",
           "x": [
            125.80645161290323
           ],
           "y": [
            95.1219512195122
           ]
          }
         ],
         "traces": [
          1
         ]
        },
        {
         "data": [
          {
           "type": "scatter",
           "x": [
            130.6451612903226
           ],
           "y": [
            95.1219512195122
           ]
          }
         ],
         "traces": [
          1
         ]
        },
        {
         "data": [
          {
           "type": "scatter",
           "x": [
            135.48387096774195
           ],
           "y": [
            95.1219512195122
           ]
          }
         ],
         "traces": [
          1
         ]
        },
        {
         "data": [
          {
           "type": "scatter",
           "x": [
            140.32258064516128
           ],
           "y": [
            95.1219512195122
           ]
          }
         ],
         "traces": [
          1
         ]
        },
        {
         "data": [
          {
           "type": "scatter",
           "x": [
            145.16129032258064
           ],
           "y": [
            95.1219512195122
           ]
          }
         ],
         "traces": [
          1
         ]
        },
        {
         "data": [
          {
           "type": "scatter",
           "x": [
            150
           ],
           "y": [
            95.1219512195122
           ]
          }
         ],
         "traces": [
          1
         ]
        },
        {
         "data": [
          {
           "type": "scatter",
           "x": [
            150
           ],
           "y": [
            98.78048780487805
           ]
          }
         ],
         "traces": [
          1
         ]
        },
        {
         "data": [
          {
           "type": "scatter",
           "x": [
            145.16129032258064
           ],
           "y": [
            98.78048780487805
           ]
          }
         ],
         "traces": [
          1
         ]
        },
        {
         "data": [
          {
           "type": "scatter",
           "x": [
            140.32258064516128
           ],
           "y": [
            98.78048780487805
           ]
          }
         ],
         "traces": [
          1
         ]
        },
        {
         "data": [
          {
           "type": "scatter",
           "x": [
            135.48387096774195
           ],
           "y": [
            98.78048780487805
           ]
          }
         ],
         "traces": [
          1
         ]
        },
        {
         "data": [
          {
           "type": "scatter",
           "x": [
            130.6451612903226
           ],
           "y": [
            98.78048780487805
           ]
          }
         ],
         "traces": [
          1
         ]
        },
        {
         "data": [
          {
           "type": "scatter",
           "x": [
            125.80645161290323
           ],
           "y": [
            98.78048780487805
           ]
          }
         ],
         "traces": [
          1
         ]
        },
        {
         "data": [
          {
           "type": "scatter",
           "x": [
            120.96774193548387
           ],
           "y": [
            98.78048780487805
           ]
          }
         ],
         "traces": [
          1
         ]
        },
        {
         "data": [
          {
           "type": "scatter",
           "x": [
            116.12903225806451
           ],
           "y": [
            98.78048780487805
           ]
          }
         ],
         "traces": [
          1
         ]
        },
        {
         "data": [
          {
           "type": "scatter",
           "x": [
            111.29032258064517
           ],
           "y": [
            98.78048780487805
           ]
          }
         ],
         "traces": [
          1
         ]
        },
        {
         "data": [
          {
           "type": "scatter",
           "x": [
            106.45161290322581
           ],
           "y": [
            98.78048780487805
           ]
          }
         ],
         "traces": [
          1
         ]
        },
        {
         "data": [
          {
           "type": "scatter",
           "x": [
            101.61290322580645
           ],
           "y": [
            98.78048780487805
           ]
          }
         ],
         "traces": [
          1
         ]
        },
        {
         "data": [
          {
           "type": "scatter",
           "x": [
            96.7741935483871
           ],
           "y": [
            98.78048780487805
           ]
          }
         ],
         "traces": [
          1
         ]
        },
        {
         "data": [
          {
           "type": "scatter",
           "x": [
            91.93548387096774
           ],
           "y": [
            98.78048780487805
           ]
          }
         ],
         "traces": [
          1
         ]
        },
        {
         "data": [
          {
           "type": "scatter",
           "x": [
            87.09677419354838
           ],
           "y": [
            98.78048780487805
           ]
          }
         ],
         "traces": [
          1
         ]
        },
        {
         "data": [
          {
           "type": "scatter",
           "x": [
            82.25806451612904
           ],
           "y": [
            98.78048780487805
           ]
          }
         ],
         "traces": [
          1
         ]
        },
        {
         "data": [
          {
           "type": "scatter",
           "x": [
            77.41935483870968
           ],
           "y": [
            98.78048780487805
           ]
          }
         ],
         "traces": [
          1
         ]
        },
        {
         "data": [
          {
           "type": "scatter",
           "x": [
            72.58064516129032
           ],
           "y": [
            98.78048780487805
           ]
          }
         ],
         "traces": [
          1
         ]
        },
        {
         "data": [
          {
           "type": "scatter",
           "x": [
            67.74193548387098
           ],
           "y": [
            98.78048780487805
           ]
          }
         ],
         "traces": [
          1
         ]
        },
        {
         "data": [
          {
           "type": "scatter",
           "x": [
            62.903225806451616
           ],
           "y": [
            98.78048780487805
           ]
          }
         ],
         "traces": [
          1
         ]
        },
        {
         "data": [
          {
           "type": "scatter",
           "x": [
            58.064516129032256
           ],
           "y": [
            98.78048780487805
           ]
          }
         ],
         "traces": [
          1
         ]
        },
        {
         "data": [
          {
           "type": "scatter",
           "x": [
            53.225806451612904
           ],
           "y": [
            98.78048780487805
           ]
          }
         ],
         "traces": [
          1
         ]
        },
        {
         "data": [
          {
           "type": "scatter",
           "x": [
            48.38709677419355
           ],
           "y": [
            98.78048780487805
           ]
          }
         ],
         "traces": [
          1
         ]
        },
        {
         "data": [
          {
           "type": "scatter",
           "x": [
            43.54838709677419
           ],
           "y": [
            98.78048780487805
           ]
          }
         ],
         "traces": [
          1
         ]
        },
        {
         "data": [
          {
           "type": "scatter",
           "x": [
            38.70967741935484
           ],
           "y": [
            98.78048780487805
           ]
          }
         ],
         "traces": [
          1
         ]
        },
        {
         "data": [
          {
           "type": "scatter",
           "x": [
            33.87096774193549
           ],
           "y": [
            98.78048780487805
           ]
          }
         ],
         "traces": [
          1
         ]
        },
        {
         "data": [
          {
           "type": "scatter",
           "x": [
            29.032258064516128
           ],
           "y": [
            98.78048780487805
           ]
          }
         ],
         "traces": [
          1
         ]
        },
        {
         "data": [
          {
           "type": "scatter",
           "x": [
            24.193548387096776
           ],
           "y": [
            98.78048780487805
           ]
          }
         ],
         "traces": [
          1
         ]
        },
        {
         "data": [
          {
           "type": "scatter",
           "x": [
            19.35483870967742
           ],
           "y": [
            98.78048780487805
           ]
          }
         ],
         "traces": [
          1
         ]
        },
        {
         "data": [
          {
           "type": "scatter",
           "x": [
            14.516129032258064
           ],
           "y": [
            98.78048780487805
           ]
          }
         ],
         "traces": [
          1
         ]
        },
        {
         "data": [
          {
           "type": "scatter",
           "x": [
            9.67741935483871
           ],
           "y": [
            98.78048780487805
           ]
          }
         ],
         "traces": [
          1
         ]
        },
        {
         "data": [
          {
           "type": "scatter",
           "x": [
            4.838709677419355
           ],
           "y": [
            98.78048780487805
           ]
          }
         ],
         "traces": [
          1
         ]
        },
        {
         "data": [
          {
           "type": "scatter",
           "x": [
            0
           ],
           "y": [
            98.78048780487805
           ]
          }
         ],
         "traces": [
          1
         ]
        },
        {
         "data": [
          {
           "type": "scatter",
           "x": [
            0
           ],
           "y": [
            102.4390243902439
           ]
          }
         ],
         "traces": [
          1
         ]
        },
        {
         "data": [
          {
           "type": "scatter",
           "x": [
            4.838709677419355
           ],
           "y": [
            102.4390243902439
           ]
          }
         ],
         "traces": [
          1
         ]
        },
        {
         "data": [
          {
           "type": "scatter",
           "x": [
            9.67741935483871
           ],
           "y": [
            102.4390243902439
           ]
          }
         ],
         "traces": [
          1
         ]
        },
        {
         "data": [
          {
           "type": "scatter",
           "x": [
            14.516129032258064
           ],
           "y": [
            102.4390243902439
           ]
          }
         ],
         "traces": [
          1
         ]
        },
        {
         "data": [
          {
           "type": "scatter",
           "x": [
            19.35483870967742
           ],
           "y": [
            102.4390243902439
           ]
          }
         ],
         "traces": [
          1
         ]
        },
        {
         "data": [
          {
           "type": "scatter",
           "x": [
            24.193548387096776
           ],
           "y": [
            102.4390243902439
           ]
          }
         ],
         "traces": [
          1
         ]
        },
        {
         "data": [
          {
           "type": "scatter",
           "x": [
            29.032258064516128
           ],
           "y": [
            102.4390243902439
           ]
          }
         ],
         "traces": [
          1
         ]
        },
        {
         "data": [
          {
           "type": "scatter",
           "x": [
            33.87096774193549
           ],
           "y": [
            102.4390243902439
           ]
          }
         ],
         "traces": [
          1
         ]
        },
        {
         "data": [
          {
           "type": "scatter",
           "x": [
            38.70967741935484
           ],
           "y": [
            102.4390243902439
           ]
          }
         ],
         "traces": [
          1
         ]
        },
        {
         "data": [
          {
           "type": "scatter",
           "x": [
            43.54838709677419
           ],
           "y": [
            102.4390243902439
           ]
          }
         ],
         "traces": [
          1
         ]
        },
        {
         "data": [
          {
           "type": "scatter",
           "x": [
            48.38709677419355
           ],
           "y": [
            102.4390243902439
           ]
          }
         ],
         "traces": [
          1
         ]
        },
        {
         "data": [
          {
           "type": "scatter",
           "x": [
            53.225806451612904
           ],
           "y": [
            102.4390243902439
           ]
          }
         ],
         "traces": [
          1
         ]
        },
        {
         "data": [
          {
           "type": "scatter",
           "x": [
            58.064516129032256
           ],
           "y": [
            102.4390243902439
           ]
          }
         ],
         "traces": [
          1
         ]
        },
        {
         "data": [
          {
           "type": "scatter",
           "x": [
            62.903225806451616
           ],
           "y": [
            102.4390243902439
           ]
          }
         ],
         "traces": [
          1
         ]
        },
        {
         "data": [
          {
           "type": "scatter",
           "x": [
            67.74193548387098
           ],
           "y": [
            102.4390243902439
           ]
          }
         ],
         "traces": [
          1
         ]
        },
        {
         "data": [
          {
           "type": "scatter",
           "x": [
            72.58064516129032
           ],
           "y": [
            102.4390243902439
           ]
          }
         ],
         "traces": [
          1
         ]
        },
        {
         "data": [
          {
           "type": "scatter",
           "x": [
            77.41935483870968
           ],
           "y": [
            102.4390243902439
           ]
          }
         ],
         "traces": [
          1
         ]
        },
        {
         "data": [
          {
           "type": "scatter",
           "x": [
            82.25806451612904
           ],
           "y": [
            102.4390243902439
           ]
          }
         ],
         "traces": [
          1
         ]
        },
        {
         "data": [
          {
           "type": "scatter",
           "x": [
            87.09677419354838
           ],
           "y": [
            102.4390243902439
           ]
          }
         ],
         "traces": [
          1
         ]
        },
        {
         "data": [
          {
           "type": "scatter",
           "x": [
            91.93548387096774
           ],
           "y": [
            102.4390243902439
           ]
          }
         ],
         "traces": [
          1
         ]
        },
        {
         "data": [
          {
           "type": "scatter",
           "x": [
            96.7741935483871
           ],
           "y": [
            102.4390243902439
           ]
          }
         ],
         "traces": [
          1
         ]
        },
        {
         "data": [
          {
           "type": "scatter",
           "x": [
            101.61290322580645
           ],
           "y": [
            102.4390243902439
           ]
          }
         ],
         "traces": [
          1
         ]
        },
        {
         "data": [
          {
           "type": "scatter",
           "x": [
            106.45161290322581
           ],
           "y": [
            102.4390243902439
           ]
          }
         ],
         "traces": [
          1
         ]
        },
        {
         "data": [
          {
           "type": "scatter",
           "x": [
            111.29032258064517
           ],
           "y": [
            102.4390243902439
           ]
          }
         ],
         "traces": [
          1
         ]
        },
        {
         "data": [
          {
           "type": "scatter",
           "x": [
            116.12903225806451
           ],
           "y": [
            102.4390243902439
           ]
          }
         ],
         "traces": [
          1
         ]
        },
        {
         "data": [
          {
           "type": "scatter",
           "x": [
            120.96774193548387
           ],
           "y": [
            102.4390243902439
           ]
          }
         ],
         "traces": [
          1
         ]
        },
        {
         "data": [
          {
           "type": "scatter",
           "x": [
            125.80645161290323
           ],
           "y": [
            102.4390243902439
           ]
          }
         ],
         "traces": [
          1
         ]
        },
        {
         "data": [
          {
           "type": "scatter",
           "x": [
            130.6451612903226
           ],
           "y": [
            102.4390243902439
           ]
          }
         ],
         "traces": [
          1
         ]
        },
        {
         "data": [
          {
           "type": "scatter",
           "x": [
            135.48387096774195
           ],
           "y": [
            102.4390243902439
           ]
          }
         ],
         "traces": [
          1
         ]
        },
        {
         "data": [
          {
           "type": "scatter",
           "x": [
            140.32258064516128
           ],
           "y": [
            102.4390243902439
           ]
          }
         ],
         "traces": [
          1
         ]
        },
        {
         "data": [
          {
           "type": "scatter",
           "x": [
            145.16129032258064
           ],
           "y": [
            102.4390243902439
           ]
          }
         ],
         "traces": [
          1
         ]
        },
        {
         "data": [
          {
           "type": "scatter",
           "x": [
            150
           ],
           "y": [
            102.4390243902439
           ]
          }
         ],
         "traces": [
          1
         ]
        },
        {
         "data": [
          {
           "type": "scatter",
           "x": [
            150
           ],
           "y": [
            106.09756097560977
           ]
          }
         ],
         "traces": [
          1
         ]
        },
        {
         "data": [
          {
           "type": "scatter",
           "x": [
            145.16129032258064
           ],
           "y": [
            106.09756097560977
           ]
          }
         ],
         "traces": [
          1
         ]
        },
        {
         "data": [
          {
           "type": "scatter",
           "x": [
            140.32258064516128
           ],
           "y": [
            106.09756097560977
           ]
          }
         ],
         "traces": [
          1
         ]
        },
        {
         "data": [
          {
           "type": "scatter",
           "x": [
            135.48387096774195
           ],
           "y": [
            106.09756097560977
           ]
          }
         ],
         "traces": [
          1
         ]
        },
        {
         "data": [
          {
           "type": "scatter",
           "x": [
            130.6451612903226
           ],
           "y": [
            106.09756097560977
           ]
          }
         ],
         "traces": [
          1
         ]
        },
        {
         "data": [
          {
           "type": "scatter",
           "x": [
            125.80645161290323
           ],
           "y": [
            106.09756097560977
           ]
          }
         ],
         "traces": [
          1
         ]
        },
        {
         "data": [
          {
           "type": "scatter",
           "x": [
            120.96774193548387
           ],
           "y": [
            106.09756097560977
           ]
          }
         ],
         "traces": [
          1
         ]
        },
        {
         "data": [
          {
           "type": "scatter",
           "x": [
            116.12903225806451
           ],
           "y": [
            106.09756097560977
           ]
          }
         ],
         "traces": [
          1
         ]
        },
        {
         "data": [
          {
           "type": "scatter",
           "x": [
            111.29032258064517
           ],
           "y": [
            106.09756097560977
           ]
          }
         ],
         "traces": [
          1
         ]
        },
        {
         "data": [
          {
           "type": "scatter",
           "x": [
            106.45161290322581
           ],
           "y": [
            106.09756097560977
           ]
          }
         ],
         "traces": [
          1
         ]
        },
        {
         "data": [
          {
           "type": "scatter",
           "x": [
            101.61290322580645
           ],
           "y": [
            106.09756097560977
           ]
          }
         ],
         "traces": [
          1
         ]
        },
        {
         "data": [
          {
           "type": "scatter",
           "x": [
            96.7741935483871
           ],
           "y": [
            106.09756097560977
           ]
          }
         ],
         "traces": [
          1
         ]
        },
        {
         "data": [
          {
           "type": "scatter",
           "x": [
            91.93548387096774
           ],
           "y": [
            106.09756097560977
           ]
          }
         ],
         "traces": [
          1
         ]
        },
        {
         "data": [
          {
           "type": "scatter",
           "x": [
            87.09677419354838
           ],
           "y": [
            106.09756097560977
           ]
          }
         ],
         "traces": [
          1
         ]
        },
        {
         "data": [
          {
           "type": "scatter",
           "x": [
            82.25806451612904
           ],
           "y": [
            106.09756097560977
           ]
          }
         ],
         "traces": [
          1
         ]
        },
        {
         "data": [
          {
           "type": "scatter",
           "x": [
            77.41935483870968
           ],
           "y": [
            106.09756097560977
           ]
          }
         ],
         "traces": [
          1
         ]
        },
        {
         "data": [
          {
           "type": "scatter",
           "x": [
            72.58064516129032
           ],
           "y": [
            106.09756097560977
           ]
          }
         ],
         "traces": [
          1
         ]
        },
        {
         "data": [
          {
           "type": "scatter",
           "x": [
            67.74193548387098
           ],
           "y": [
            106.09756097560977
           ]
          }
         ],
         "traces": [
          1
         ]
        },
        {
         "data": [
          {
           "type": "scatter",
           "x": [
            62.903225806451616
           ],
           "y": [
            106.09756097560977
           ]
          }
         ],
         "traces": [
          1
         ]
        },
        {
         "data": [
          {
           "type": "scatter",
           "x": [
            58.064516129032256
           ],
           "y": [
            106.09756097560977
           ]
          }
         ],
         "traces": [
          1
         ]
        },
        {
         "data": [
          {
           "type": "scatter",
           "x": [
            53.225806451612904
           ],
           "y": [
            106.09756097560977
           ]
          }
         ],
         "traces": [
          1
         ]
        },
        {
         "data": [
          {
           "type": "scatter",
           "x": [
            48.38709677419355
           ],
           "y": [
            106.09756097560977
           ]
          }
         ],
         "traces": [
          1
         ]
        },
        {
         "data": [
          {
           "type": "scatter",
           "x": [
            43.54838709677419
           ],
           "y": [
            106.09756097560977
           ]
          }
         ],
         "traces": [
          1
         ]
        },
        {
         "data": [
          {
           "type": "scatter",
           "x": [
            38.70967741935484
           ],
           "y": [
            106.09756097560977
           ]
          }
         ],
         "traces": [
          1
         ]
        },
        {
         "data": [
          {
           "type": "scatter",
           "x": [
            33.87096774193549
           ],
           "y": [
            106.09756097560977
           ]
          }
         ],
         "traces": [
          1
         ]
        },
        {
         "data": [
          {
           "type": "scatter",
           "x": [
            29.032258064516128
           ],
           "y": [
            106.09756097560977
           ]
          }
         ],
         "traces": [
          1
         ]
        },
        {
         "data": [
          {
           "type": "scatter",
           "x": [
            24.193548387096776
           ],
           "y": [
            106.09756097560977
           ]
          }
         ],
         "traces": [
          1
         ]
        },
        {
         "data": [
          {
           "type": "scatter",
           "x": [
            19.35483870967742
           ],
           "y": [
            106.09756097560977
           ]
          }
         ],
         "traces": [
          1
         ]
        },
        {
         "data": [
          {
           "type": "scatter",
           "x": [
            14.516129032258064
           ],
           "y": [
            106.09756097560977
           ]
          }
         ],
         "traces": [
          1
         ]
        },
        {
         "data": [
          {
           "type": "scatter",
           "x": [
            9.67741935483871
           ],
           "y": [
            106.09756097560977
           ]
          }
         ],
         "traces": [
          1
         ]
        },
        {
         "data": [
          {
           "type": "scatter",
           "x": [
            4.838709677419355
           ],
           "y": [
            106.09756097560977
           ]
          }
         ],
         "traces": [
          1
         ]
        },
        {
         "data": [
          {
           "type": "scatter",
           "x": [
            0
           ],
           "y": [
            106.09756097560977
           ]
          }
         ],
         "traces": [
          1
         ]
        },
        {
         "data": [
          {
           "type": "scatter",
           "x": [
            0
           ],
           "y": [
            109.75609756097562
           ]
          }
         ],
         "traces": [
          1
         ]
        },
        {
         "data": [
          {
           "type": "scatter",
           "x": [
            4.838709677419355
           ],
           "y": [
            109.75609756097562
           ]
          }
         ],
         "traces": [
          1
         ]
        },
        {
         "data": [
          {
           "type": "scatter",
           "x": [
            9.67741935483871
           ],
           "y": [
            109.75609756097562
           ]
          }
         ],
         "traces": [
          1
         ]
        },
        {
         "data": [
          {
           "type": "scatter",
           "x": [
            14.516129032258064
           ],
           "y": [
            109.75609756097562
           ]
          }
         ],
         "traces": [
          1
         ]
        },
        {
         "data": [
          {
           "type": "scatter",
           "x": [
            19.35483870967742
           ],
           "y": [
            109.75609756097562
           ]
          }
         ],
         "traces": [
          1
         ]
        },
        {
         "data": [
          {
           "type": "scatter",
           "x": [
            24.193548387096776
           ],
           "y": [
            109.75609756097562
           ]
          }
         ],
         "traces": [
          1
         ]
        },
        {
         "data": [
          {
           "type": "scatter",
           "x": [
            29.032258064516128
           ],
           "y": [
            109.75609756097562
           ]
          }
         ],
         "traces": [
          1
         ]
        },
        {
         "data": [
          {
           "type": "scatter",
           "x": [
            33.87096774193549
           ],
           "y": [
            109.75609756097562
           ]
          }
         ],
         "traces": [
          1
         ]
        },
        {
         "data": [
          {
           "type": "scatter",
           "x": [
            38.70967741935484
           ],
           "y": [
            109.75609756097562
           ]
          }
         ],
         "traces": [
          1
         ]
        },
        {
         "data": [
          {
           "type": "scatter",
           "x": [
            43.54838709677419
           ],
           "y": [
            109.75609756097562
           ]
          }
         ],
         "traces": [
          1
         ]
        },
        {
         "data": [
          {
           "type": "scatter",
           "x": [
            48.38709677419355
           ],
           "y": [
            109.75609756097562
           ]
          }
         ],
         "traces": [
          1
         ]
        },
        {
         "data": [
          {
           "type": "scatter",
           "x": [
            53.225806451612904
           ],
           "y": [
            109.75609756097562
           ]
          }
         ],
         "traces": [
          1
         ]
        },
        {
         "data": [
          {
           "type": "scatter",
           "x": [
            58.064516129032256
           ],
           "y": [
            109.75609756097562
           ]
          }
         ],
         "traces": [
          1
         ]
        },
        {
         "data": [
          {
           "type": "scatter",
           "x": [
            62.903225806451616
           ],
           "y": [
            109.75609756097562
           ]
          }
         ],
         "traces": [
          1
         ]
        },
        {
         "data": [
          {
           "type": "scatter",
           "x": [
            67.74193548387098
           ],
           "y": [
            109.75609756097562
           ]
          }
         ],
         "traces": [
          1
         ]
        },
        {
         "data": [
          {
           "type": "scatter",
           "x": [
            72.58064516129032
           ],
           "y": [
            109.75609756097562
           ]
          }
         ],
         "traces": [
          1
         ]
        },
        {
         "data": [
          {
           "type": "scatter",
           "x": [
            77.41935483870968
           ],
           "y": [
            109.75609756097562
           ]
          }
         ],
         "traces": [
          1
         ]
        },
        {
         "data": [
          {
           "type": "scatter",
           "x": [
            82.25806451612904
           ],
           "y": [
            109.75609756097562
           ]
          }
         ],
         "traces": [
          1
         ]
        },
        {
         "data": [
          {
           "type": "scatter",
           "x": [
            87.09677419354838
           ],
           "y": [
            109.75609756097562
           ]
          }
         ],
         "traces": [
          1
         ]
        },
        {
         "data": [
          {
           "type": "scatter",
           "x": [
            91.93548387096774
           ],
           "y": [
            109.75609756097562
           ]
          }
         ],
         "traces": [
          1
         ]
        },
        {
         "data": [
          {
           "type": "scatter",
           "x": [
            96.7741935483871
           ],
           "y": [
            109.75609756097562
           ]
          }
         ],
         "traces": [
          1
         ]
        },
        {
         "data": [
          {
           "type": "scatter",
           "x": [
            101.61290322580645
           ],
           "y": [
            109.75609756097562
           ]
          }
         ],
         "traces": [
          1
         ]
        },
        {
         "data": [
          {
           "type": "scatter",
           "x": [
            106.45161290322581
           ],
           "y": [
            109.75609756097562
           ]
          }
         ],
         "traces": [
          1
         ]
        },
        {
         "data": [
          {
           "type": "scatter",
           "x": [
            111.29032258064517
           ],
           "y": [
            109.75609756097562
           ]
          }
         ],
         "traces": [
          1
         ]
        },
        {
         "data": [
          {
           "type": "scatter",
           "x": [
            116.12903225806451
           ],
           "y": [
            109.75609756097562
           ]
          }
         ],
         "traces": [
          1
         ]
        },
        {
         "data": [
          {
           "type": "scatter",
           "x": [
            120.96774193548387
           ],
           "y": [
            109.75609756097562
           ]
          }
         ],
         "traces": [
          1
         ]
        },
        {
         "data": [
          {
           "type": "scatter",
           "x": [
            125.80645161290323
           ],
           "y": [
            109.75609756097562
           ]
          }
         ],
         "traces": [
          1
         ]
        },
        {
         "data": [
          {
           "type": "scatter",
           "x": [
            130.6451612903226
           ],
           "y": [
            109.75609756097562
           ]
          }
         ],
         "traces": [
          1
         ]
        },
        {
         "data": [
          {
           "type": "scatter",
           "x": [
            135.48387096774195
           ],
           "y": [
            109.75609756097562
           ]
          }
         ],
         "traces": [
          1
         ]
        },
        {
         "data": [
          {
           "type": "scatter",
           "x": [
            140.32258064516128
           ],
           "y": [
            109.75609756097562
           ]
          }
         ],
         "traces": [
          1
         ]
        },
        {
         "data": [
          {
           "type": "scatter",
           "x": [
            145.16129032258064
           ],
           "y": [
            109.75609756097562
           ]
          }
         ],
         "traces": [
          1
         ]
        },
        {
         "data": [
          {
           "type": "scatter",
           "x": [
            150
           ],
           "y": [
            109.75609756097562
           ]
          }
         ],
         "traces": [
          1
         ]
        },
        {
         "data": [
          {
           "type": "scatter",
           "x": [
            150
           ],
           "y": [
            113.41463414634147
           ]
          }
         ],
         "traces": [
          1
         ]
        },
        {
         "data": [
          {
           "type": "scatter",
           "x": [
            145.16129032258064
           ],
           "y": [
            113.41463414634147
           ]
          }
         ],
         "traces": [
          1
         ]
        },
        {
         "data": [
          {
           "type": "scatter",
           "x": [
            140.32258064516128
           ],
           "y": [
            113.41463414634147
           ]
          }
         ],
         "traces": [
          1
         ]
        },
        {
         "data": [
          {
           "type": "scatter",
           "x": [
            135.48387096774195
           ],
           "y": [
            113.41463414634147
           ]
          }
         ],
         "traces": [
          1
         ]
        },
        {
         "data": [
          {
           "type": "scatter",
           "x": [
            130.6451612903226
           ],
           "y": [
            113.41463414634147
           ]
          }
         ],
         "traces": [
          1
         ]
        },
        {
         "data": [
          {
           "type": "scatter",
           "x": [
            125.80645161290323
           ],
           "y": [
            113.41463414634147
           ]
          }
         ],
         "traces": [
          1
         ]
        },
        {
         "data": [
          {
           "type": "scatter",
           "x": [
            120.96774193548387
           ],
           "y": [
            113.41463414634147
           ]
          }
         ],
         "traces": [
          1
         ]
        },
        {
         "data": [
          {
           "type": "scatter",
           "x": [
            116.12903225806451
           ],
           "y": [
            113.41463414634147
           ]
          }
         ],
         "traces": [
          1
         ]
        },
        {
         "data": [
          {
           "type": "scatter",
           "x": [
            111.29032258064517
           ],
           "y": [
            113.41463414634147
           ]
          }
         ],
         "traces": [
          1
         ]
        },
        {
         "data": [
          {
           "type": "scatter",
           "x": [
            106.45161290322581
           ],
           "y": [
            113.41463414634147
           ]
          }
         ],
         "traces": [
          1
         ]
        },
        {
         "data": [
          {
           "type": "scatter",
           "x": [
            101.61290322580645
           ],
           "y": [
            113.41463414634147
           ]
          }
         ],
         "traces": [
          1
         ]
        },
        {
         "data": [
          {
           "type": "scatter",
           "x": [
            96.7741935483871
           ],
           "y": [
            113.41463414634147
           ]
          }
         ],
         "traces": [
          1
         ]
        },
        {
         "data": [
          {
           "type": "scatter",
           "x": [
            91.93548387096774
           ],
           "y": [
            113.41463414634147
           ]
          }
         ],
         "traces": [
          1
         ]
        },
        {
         "data": [
          {
           "type": "scatter",
           "x": [
            87.09677419354838
           ],
           "y": [
            113.41463414634147
           ]
          }
         ],
         "traces": [
          1
         ]
        },
        {
         "data": [
          {
           "type": "scatter",
           "x": [
            82.25806451612904
           ],
           "y": [
            113.41463414634147
           ]
          }
         ],
         "traces": [
          1
         ]
        },
        {
         "data": [
          {
           "type": "scatter",
           "x": [
            77.41935483870968
           ],
           "y": [
            113.41463414634147
           ]
          }
         ],
         "traces": [
          1
         ]
        },
        {
         "data": [
          {
           "type": "scatter",
           "x": [
            72.58064516129032
           ],
           "y": [
            113.41463414634147
           ]
          }
         ],
         "traces": [
          1
         ]
        },
        {
         "data": [
          {
           "type": "scatter",
           "x": [
            67.74193548387098
           ],
           "y": [
            113.41463414634147
           ]
          }
         ],
         "traces": [
          1
         ]
        },
        {
         "data": [
          {
           "type": "scatter",
           "x": [
            62.903225806451616
           ],
           "y": [
            113.41463414634147
           ]
          }
         ],
         "traces": [
          1
         ]
        },
        {
         "data": [
          {
           "type": "scatter",
           "x": [
            58.064516129032256
           ],
           "y": [
            113.41463414634147
           ]
          }
         ],
         "traces": [
          1
         ]
        },
        {
         "data": [
          {
           "type": "scatter",
           "x": [
            53.225806451612904
           ],
           "y": [
            113.41463414634147
           ]
          }
         ],
         "traces": [
          1
         ]
        },
        {
         "data": [
          {
           "type": "scatter",
           "x": [
            48.38709677419355
           ],
           "y": [
            113.41463414634147
           ]
          }
         ],
         "traces": [
          1
         ]
        },
        {
         "data": [
          {
           "type": "scatter",
           "x": [
            43.54838709677419
           ],
           "y": [
            113.41463414634147
           ]
          }
         ],
         "traces": [
          1
         ]
        },
        {
         "data": [
          {
           "type": "scatter",
           "x": [
            38.70967741935484
           ],
           "y": [
            113.41463414634147
           ]
          }
         ],
         "traces": [
          1
         ]
        },
        {
         "data": [
          {
           "type": "scatter",
           "x": [
            33.87096774193549
           ],
           "y": [
            113.41463414634147
           ]
          }
         ],
         "traces": [
          1
         ]
        },
        {
         "data": [
          {
           "type": "scatter",
           "x": [
            29.032258064516128
           ],
           "y": [
            113.41463414634147
           ]
          }
         ],
         "traces": [
          1
         ]
        },
        {
         "data": [
          {
           "type": "scatter",
           "x": [
            24.193548387096776
           ],
           "y": [
            113.41463414634147
           ]
          }
         ],
         "traces": [
          1
         ]
        },
        {
         "data": [
          {
           "type": "scatter",
           "x": [
            19.35483870967742
           ],
           "y": [
            113.41463414634147
           ]
          }
         ],
         "traces": [
          1
         ]
        },
        {
         "data": [
          {
           "type": "scatter",
           "x": [
            14.516129032258064
           ],
           "y": [
            113.41463414634147
           ]
          }
         ],
         "traces": [
          1
         ]
        },
        {
         "data": [
          {
           "type": "scatter",
           "x": [
            9.67741935483871
           ],
           "y": [
            113.41463414634147
           ]
          }
         ],
         "traces": [
          1
         ]
        },
        {
         "data": [
          {
           "type": "scatter",
           "x": [
            4.838709677419355
           ],
           "y": [
            113.41463414634147
           ]
          }
         ],
         "traces": [
          1
         ]
        },
        {
         "data": [
          {
           "type": "scatter",
           "x": [
            0
           ],
           "y": [
            113.41463414634147
           ]
          }
         ],
         "traces": [
          1
         ]
        },
        {
         "data": [
          {
           "type": "scatter",
           "x": [
            0
           ],
           "y": [
            117.07317073170732
           ]
          }
         ],
         "traces": [
          1
         ]
        },
        {
         "data": [
          {
           "type": "scatter",
           "x": [
            4.838709677419355
           ],
           "y": [
            117.07317073170732
           ]
          }
         ],
         "traces": [
          1
         ]
        },
        {
         "data": [
          {
           "type": "scatter",
           "x": [
            9.67741935483871
           ],
           "y": [
            117.07317073170732
           ]
          }
         ],
         "traces": [
          1
         ]
        },
        {
         "data": [
          {
           "type": "scatter",
           "x": [
            14.516129032258064
           ],
           "y": [
            117.07317073170732
           ]
          }
         ],
         "traces": [
          1
         ]
        },
        {
         "data": [
          {
           "type": "scatter",
           "x": [
            19.35483870967742
           ],
           "y": [
            117.07317073170732
           ]
          }
         ],
         "traces": [
          1
         ]
        },
        {
         "data": [
          {
           "type": "scatter",
           "x": [
            24.193548387096776
           ],
           "y": [
            117.07317073170732
           ]
          }
         ],
         "traces": [
          1
         ]
        },
        {
         "data": [
          {
           "type": "scatter",
           "x": [
            29.032258064516128
           ],
           "y": [
            117.07317073170732
           ]
          }
         ],
         "traces": [
          1
         ]
        },
        {
         "data": [
          {
           "type": "scatter",
           "x": [
            33.87096774193549
           ],
           "y": [
            117.07317073170732
           ]
          }
         ],
         "traces": [
          1
         ]
        },
        {
         "data": [
          {
           "type": "scatter",
           "x": [
            38.70967741935484
           ],
           "y": [
            117.07317073170732
           ]
          }
         ],
         "traces": [
          1
         ]
        },
        {
         "data": [
          {
           "type": "scatter",
           "x": [
            43.54838709677419
           ],
           "y": [
            117.07317073170732
           ]
          }
         ],
         "traces": [
          1
         ]
        },
        {
         "data": [
          {
           "type": "scatter",
           "x": [
            48.38709677419355
           ],
           "y": [
            117.07317073170732
           ]
          }
         ],
         "traces": [
          1
         ]
        },
        {
         "data": [
          {
           "type": "scatter",
           "x": [
            53.225806451612904
           ],
           "y": [
            117.07317073170732
           ]
          }
         ],
         "traces": [
          1
         ]
        },
        {
         "data": [
          {
           "type": "scatter",
           "x": [
            58.064516129032256
           ],
           "y": [
            117.07317073170732
           ]
          }
         ],
         "traces": [
          1
         ]
        },
        {
         "data": [
          {
           "type": "scatter",
           "x": [
            62.903225806451616
           ],
           "y": [
            117.07317073170732
           ]
          }
         ],
         "traces": [
          1
         ]
        },
        {
         "data": [
          {
           "type": "scatter",
           "x": [
            67.74193548387098
           ],
           "y": [
            117.07317073170732
           ]
          }
         ],
         "traces": [
          1
         ]
        },
        {
         "data": [
          {
           "type": "scatter",
           "x": [
            72.58064516129032
           ],
           "y": [
            117.07317073170732
           ]
          }
         ],
         "traces": [
          1
         ]
        },
        {
         "data": [
          {
           "type": "scatter",
           "x": [
            77.41935483870968
           ],
           "y": [
            117.07317073170732
           ]
          }
         ],
         "traces": [
          1
         ]
        },
        {
         "data": [
          {
           "type": "scatter",
           "x": [
            82.25806451612904
           ],
           "y": [
            117.07317073170732
           ]
          }
         ],
         "traces": [
          1
         ]
        },
        {
         "data": [
          {
           "type": "scatter",
           "x": [
            87.09677419354838
           ],
           "y": [
            117.07317073170732
           ]
          }
         ],
         "traces": [
          1
         ]
        },
        {
         "data": [
          {
           "type": "scatter",
           "x": [
            91.93548387096774
           ],
           "y": [
            117.07317073170732
           ]
          }
         ],
         "traces": [
          1
         ]
        },
        {
         "data": [
          {
           "type": "scatter",
           "x": [
            96.7741935483871
           ],
           "y": [
            117.07317073170732
           ]
          }
         ],
         "traces": [
          1
         ]
        },
        {
         "data": [
          {
           "type": "scatter",
           "x": [
            101.61290322580645
           ],
           "y": [
            117.07317073170732
           ]
          }
         ],
         "traces": [
          1
         ]
        },
        {
         "data": [
          {
           "type": "scatter",
           "x": [
            106.45161290322581
           ],
           "y": [
            117.07317073170732
           ]
          }
         ],
         "traces": [
          1
         ]
        },
        {
         "data": [
          {
           "type": "scatter",
           "x": [
            111.29032258064517
           ],
           "y": [
            117.07317073170732
           ]
          }
         ],
         "traces": [
          1
         ]
        },
        {
         "data": [
          {
           "type": "scatter",
           "x": [
            116.12903225806451
           ],
           "y": [
            117.07317073170732
           ]
          }
         ],
         "traces": [
          1
         ]
        },
        {
         "data": [
          {
           "type": "scatter",
           "x": [
            120.96774193548387
           ],
           "y": [
            117.07317073170732
           ]
          }
         ],
         "traces": [
          1
         ]
        },
        {
         "data": [
          {
           "type": "scatter",
           "x": [
            125.80645161290323
           ],
           "y": [
            117.07317073170732
           ]
          }
         ],
         "traces": [
          1
         ]
        },
        {
         "data": [
          {
           "type": "scatter",
           "x": [
            130.6451612903226
           ],
           "y": [
            117.07317073170732
           ]
          }
         ],
         "traces": [
          1
         ]
        },
        {
         "data": [
          {
           "type": "scatter",
           "x": [
            135.48387096774195
           ],
           "y": [
            117.07317073170732
           ]
          }
         ],
         "traces": [
          1
         ]
        },
        {
         "data": [
          {
           "type": "scatter",
           "x": [
            140.32258064516128
           ],
           "y": [
            117.07317073170732
           ]
          }
         ],
         "traces": [
          1
         ]
        },
        {
         "data": [
          {
           "type": "scatter",
           "x": [
            145.16129032258064
           ],
           "y": [
            117.07317073170732
           ]
          }
         ],
         "traces": [
          1
         ]
        },
        {
         "data": [
          {
           "type": "scatter",
           "x": [
            150
           ],
           "y": [
            117.07317073170732
           ]
          }
         ],
         "traces": [
          1
         ]
        },
        {
         "data": [
          {
           "type": "scatter",
           "x": [
            150
           ],
           "y": [
            120.73170731707317
           ]
          }
         ],
         "traces": [
          1
         ]
        },
        {
         "data": [
          {
           "type": "scatter",
           "x": [
            145.16129032258064
           ],
           "y": [
            120.73170731707317
           ]
          }
         ],
         "traces": [
          1
         ]
        },
        {
         "data": [
          {
           "type": "scatter",
           "x": [
            140.32258064516128
           ],
           "y": [
            120.73170731707317
           ]
          }
         ],
         "traces": [
          1
         ]
        },
        {
         "data": [
          {
           "type": "scatter",
           "x": [
            135.48387096774195
           ],
           "y": [
            120.73170731707317
           ]
          }
         ],
         "traces": [
          1
         ]
        },
        {
         "data": [
          {
           "type": "scatter",
           "x": [
            130.6451612903226
           ],
           "y": [
            120.73170731707317
           ]
          }
         ],
         "traces": [
          1
         ]
        },
        {
         "data": [
          {
           "type": "scatter",
           "x": [
            125.80645161290323
           ],
           "y": [
            120.73170731707317
           ]
          }
         ],
         "traces": [
          1
         ]
        },
        {
         "data": [
          {
           "type": "scatter",
           "x": [
            120.96774193548387
           ],
           "y": [
            120.73170731707317
           ]
          }
         ],
         "traces": [
          1
         ]
        },
        {
         "data": [
          {
           "type": "scatter",
           "x": [
            116.12903225806451
           ],
           "y": [
            120.73170731707317
           ]
          }
         ],
         "traces": [
          1
         ]
        },
        {
         "data": [
          {
           "type": "scatter",
           "x": [
            111.29032258064517
           ],
           "y": [
            120.73170731707317
           ]
          }
         ],
         "traces": [
          1
         ]
        },
        {
         "data": [
          {
           "type": "scatter",
           "x": [
            106.45161290322581
           ],
           "y": [
            120.73170731707317
           ]
          }
         ],
         "traces": [
          1
         ]
        },
        {
         "data": [
          {
           "type": "scatter",
           "x": [
            101.61290322580645
           ],
           "y": [
            120.73170731707317
           ]
          }
         ],
         "traces": [
          1
         ]
        },
        {
         "data": [
          {
           "type": "scatter",
           "x": [
            96.7741935483871
           ],
           "y": [
            120.73170731707317
           ]
          }
         ],
         "traces": [
          1
         ]
        },
        {
         "data": [
          {
           "type": "scatter",
           "x": [
            91.93548387096774
           ],
           "y": [
            120.73170731707317
           ]
          }
         ],
         "traces": [
          1
         ]
        },
        {
         "data": [
          {
           "type": "scatter",
           "x": [
            87.09677419354838
           ],
           "y": [
            120.73170731707317
           ]
          }
         ],
         "traces": [
          1
         ]
        },
        {
         "data": [
          {
           "type": "scatter",
           "x": [
            82.25806451612904
           ],
           "y": [
            120.73170731707317
           ]
          }
         ],
         "traces": [
          1
         ]
        },
        {
         "data": [
          {
           "type": "scatter",
           "x": [
            77.41935483870968
           ],
           "y": [
            120.73170731707317
           ]
          }
         ],
         "traces": [
          1
         ]
        },
        {
         "data": [
          {
           "type": "scatter",
           "x": [
            72.58064516129032
           ],
           "y": [
            120.73170731707317
           ]
          }
         ],
         "traces": [
          1
         ]
        },
        {
         "data": [
          {
           "type": "scatter",
           "x": [
            67.74193548387098
           ],
           "y": [
            120.73170731707317
           ]
          }
         ],
         "traces": [
          1
         ]
        },
        {
         "data": [
          {
           "type": "scatter",
           "x": [
            62.903225806451616
           ],
           "y": [
            120.73170731707317
           ]
          }
         ],
         "traces": [
          1
         ]
        },
        {
         "data": [
          {
           "type": "scatter",
           "x": [
            58.064516129032256
           ],
           "y": [
            120.73170731707317
           ]
          }
         ],
         "traces": [
          1
         ]
        },
        {
         "data": [
          {
           "type": "scatter",
           "x": [
            53.225806451612904
           ],
           "y": [
            120.73170731707317
           ]
          }
         ],
         "traces": [
          1
         ]
        },
        {
         "data": [
          {
           "type": "scatter",
           "x": [
            48.38709677419355
           ],
           "y": [
            120.73170731707317
           ]
          }
         ],
         "traces": [
          1
         ]
        },
        {
         "data": [
          {
           "type": "scatter",
           "x": [
            43.54838709677419
           ],
           "y": [
            120.73170731707317
           ]
          }
         ],
         "traces": [
          1
         ]
        },
        {
         "data": [
          {
           "type": "scatter",
           "x": [
            38.70967741935484
           ],
           "y": [
            120.73170731707317
           ]
          }
         ],
         "traces": [
          1
         ]
        },
        {
         "data": [
          {
           "type": "scatter",
           "x": [
            33.87096774193549
           ],
           "y": [
            120.73170731707317
           ]
          }
         ],
         "traces": [
          1
         ]
        },
        {
         "data": [
          {
           "type": "scatter",
           "x": [
            29.032258064516128
           ],
           "y": [
            120.73170731707317
           ]
          }
         ],
         "traces": [
          1
         ]
        },
        {
         "data": [
          {
           "type": "scatter",
           "x": [
            24.193548387096776
           ],
           "y": [
            120.73170731707317
           ]
          }
         ],
         "traces": [
          1
         ]
        },
        {
         "data": [
          {
           "type": "scatter",
           "x": [
            19.35483870967742
           ],
           "y": [
            120.73170731707317
           ]
          }
         ],
         "traces": [
          1
         ]
        },
        {
         "data": [
          {
           "type": "scatter",
           "x": [
            14.516129032258064
           ],
           "y": [
            120.73170731707317
           ]
          }
         ],
         "traces": [
          1
         ]
        },
        {
         "data": [
          {
           "type": "scatter",
           "x": [
            9.67741935483871
           ],
           "y": [
            120.73170731707317
           ]
          }
         ],
         "traces": [
          1
         ]
        },
        {
         "data": [
          {
           "type": "scatter",
           "x": [
            4.838709677419355
           ],
           "y": [
            120.73170731707317
           ]
          }
         ],
         "traces": [
          1
         ]
        },
        {
         "data": [
          {
           "type": "scatter",
           "x": [
            0
           ],
           "y": [
            120.73170731707317
           ]
          }
         ],
         "traces": [
          1
         ]
        },
        {
         "data": [
          {
           "type": "scatter",
           "x": [
            0
           ],
           "y": [
            124.39024390243902
           ]
          }
         ],
         "traces": [
          1
         ]
        },
        {
         "data": [
          {
           "type": "scatter",
           "x": [
            4.838709677419355
           ],
           "y": [
            124.39024390243902
           ]
          }
         ],
         "traces": [
          1
         ]
        },
        {
         "data": [
          {
           "type": "scatter",
           "x": [
            9.67741935483871
           ],
           "y": [
            124.39024390243902
           ]
          }
         ],
         "traces": [
          1
         ]
        },
        {
         "data": [
          {
           "type": "scatter",
           "x": [
            14.516129032258064
           ],
           "y": [
            124.39024390243902
           ]
          }
         ],
         "traces": [
          1
         ]
        },
        {
         "data": [
          {
           "type": "scatter",
           "x": [
            19.35483870967742
           ],
           "y": [
            124.39024390243902
           ]
          }
         ],
         "traces": [
          1
         ]
        },
        {
         "data": [
          {
           "type": "scatter",
           "x": [
            24.193548387096776
           ],
           "y": [
            124.39024390243902
           ]
          }
         ],
         "traces": [
          1
         ]
        },
        {
         "data": [
          {
           "type": "scatter",
           "x": [
            29.032258064516128
           ],
           "y": [
            124.39024390243902
           ]
          }
         ],
         "traces": [
          1
         ]
        },
        {
         "data": [
          {
           "type": "scatter",
           "x": [
            33.87096774193549
           ],
           "y": [
            124.39024390243902
           ]
          }
         ],
         "traces": [
          1
         ]
        },
        {
         "data": [
          {
           "type": "scatter",
           "x": [
            38.70967741935484
           ],
           "y": [
            124.39024390243902
           ]
          }
         ],
         "traces": [
          1
         ]
        },
        {
         "data": [
          {
           "type": "scatter",
           "x": [
            43.54838709677419
           ],
           "y": [
            124.39024390243902
           ]
          }
         ],
         "traces": [
          1
         ]
        },
        {
         "data": [
          {
           "type": "scatter",
           "x": [
            48.38709677419355
           ],
           "y": [
            124.39024390243902
           ]
          }
         ],
         "traces": [
          1
         ]
        },
        {
         "data": [
          {
           "type": "scatter",
           "x": [
            53.225806451612904
           ],
           "y": [
            124.39024390243902
           ]
          }
         ],
         "traces": [
          1
         ]
        },
        {
         "data": [
          {
           "type": "scatter",
           "x": [
            58.064516129032256
           ],
           "y": [
            124.39024390243902
           ]
          }
         ],
         "traces": [
          1
         ]
        },
        {
         "data": [
          {
           "type": "scatter",
           "x": [
            62.903225806451616
           ],
           "y": [
            124.39024390243902
           ]
          }
         ],
         "traces": [
          1
         ]
        },
        {
         "data": [
          {
           "type": "scatter",
           "x": [
            67.74193548387098
           ],
           "y": [
            124.39024390243902
           ]
          }
         ],
         "traces": [
          1
         ]
        },
        {
         "data": [
          {
           "type": "scatter",
           "x": [
            72.58064516129032
           ],
           "y": [
            124.39024390243902
           ]
          }
         ],
         "traces": [
          1
         ]
        },
        {
         "data": [
          {
           "type": "scatter",
           "x": [
            77.41935483870968
           ],
           "y": [
            124.39024390243902
           ]
          }
         ],
         "traces": [
          1
         ]
        },
        {
         "data": [
          {
           "type": "scatter",
           "x": [
            82.25806451612904
           ],
           "y": [
            124.39024390243902
           ]
          }
         ],
         "traces": [
          1
         ]
        },
        {
         "data": [
          {
           "type": "scatter",
           "x": [
            87.09677419354838
           ],
           "y": [
            124.39024390243902
           ]
          }
         ],
         "traces": [
          1
         ]
        },
        {
         "data": [
          {
           "type": "scatter",
           "x": [
            91.93548387096774
           ],
           "y": [
            124.39024390243902
           ]
          }
         ],
         "traces": [
          1
         ]
        },
        {
         "data": [
          {
           "type": "scatter",
           "x": [
            96.7741935483871
           ],
           "y": [
            124.39024390243902
           ]
          }
         ],
         "traces": [
          1
         ]
        },
        {
         "data": [
          {
           "type": "scatter",
           "x": [
            101.61290322580645
           ],
           "y": [
            124.39024390243902
           ]
          }
         ],
         "traces": [
          1
         ]
        },
        {
         "data": [
          {
           "type": "scatter",
           "x": [
            106.45161290322581
           ],
           "y": [
            124.39024390243902
           ]
          }
         ],
         "traces": [
          1
         ]
        },
        {
         "data": [
          {
           "type": "scatter",
           "x": [
            111.29032258064517
           ],
           "y": [
            124.39024390243902
           ]
          }
         ],
         "traces": [
          1
         ]
        },
        {
         "data": [
          {
           "type": "scatter",
           "x": [
            116.12903225806451
           ],
           "y": [
            124.39024390243902
           ]
          }
         ],
         "traces": [
          1
         ]
        },
        {
         "data": [
          {
           "type": "scatter",
           "x": [
            120.96774193548387
           ],
           "y": [
            124.39024390243902
           ]
          }
         ],
         "traces": [
          1
         ]
        },
        {
         "data": [
          {
           "type": "scatter",
           "x": [
            125.80645161290323
           ],
           "y": [
            124.39024390243902
           ]
          }
         ],
         "traces": [
          1
         ]
        },
        {
         "data": [
          {
           "type": "scatter",
           "x": [
            130.6451612903226
           ],
           "y": [
            124.39024390243902
           ]
          }
         ],
         "traces": [
          1
         ]
        },
        {
         "data": [
          {
           "type": "scatter",
           "x": [
            135.48387096774195
           ],
           "y": [
            124.39024390243902
           ]
          }
         ],
         "traces": [
          1
         ]
        },
        {
         "data": [
          {
           "type": "scatter",
           "x": [
            140.32258064516128
           ],
           "y": [
            124.39024390243902
           ]
          }
         ],
         "traces": [
          1
         ]
        },
        {
         "data": [
          {
           "type": "scatter",
           "x": [
            145.16129032258064
           ],
           "y": [
            124.39024390243902
           ]
          }
         ],
         "traces": [
          1
         ]
        },
        {
         "data": [
          {
           "type": "scatter",
           "x": [
            150
           ],
           "y": [
            124.39024390243902
           ]
          }
         ],
         "traces": [
          1
         ]
        },
        {
         "data": [
          {
           "type": "scatter",
           "x": [
            150
           ],
           "y": [
            128.0487804878049
           ]
          }
         ],
         "traces": [
          1
         ]
        },
        {
         "data": [
          {
           "type": "scatter",
           "x": [
            145.16129032258064
           ],
           "y": [
            128.0487804878049
           ]
          }
         ],
         "traces": [
          1
         ]
        },
        {
         "data": [
          {
           "type": "scatter",
           "x": [
            140.32258064516128
           ],
           "y": [
            128.0487804878049
           ]
          }
         ],
         "traces": [
          1
         ]
        },
        {
         "data": [
          {
           "type": "scatter",
           "x": [
            135.48387096774195
           ],
           "y": [
            128.0487804878049
           ]
          }
         ],
         "traces": [
          1
         ]
        },
        {
         "data": [
          {
           "type": "scatter",
           "x": [
            130.6451612903226
           ],
           "y": [
            128.0487804878049
           ]
          }
         ],
         "traces": [
          1
         ]
        },
        {
         "data": [
          {
           "type": "scatter",
           "x": [
            125.80645161290323
           ],
           "y": [
            128.0487804878049
           ]
          }
         ],
         "traces": [
          1
         ]
        },
        {
         "data": [
          {
           "type": "scatter",
           "x": [
            120.96774193548387
           ],
           "y": [
            128.0487804878049
           ]
          }
         ],
         "traces": [
          1
         ]
        },
        {
         "data": [
          {
           "type": "scatter",
           "x": [
            116.12903225806451
           ],
           "y": [
            128.0487804878049
           ]
          }
         ],
         "traces": [
          1
         ]
        },
        {
         "data": [
          {
           "type": "scatter",
           "x": [
            111.29032258064517
           ],
           "y": [
            128.0487804878049
           ]
          }
         ],
         "traces": [
          1
         ]
        },
        {
         "data": [
          {
           "type": "scatter",
           "x": [
            106.45161290322581
           ],
           "y": [
            128.0487804878049
           ]
          }
         ],
         "traces": [
          1
         ]
        },
        {
         "data": [
          {
           "type": "scatter",
           "x": [
            101.61290322580645
           ],
           "y": [
            128.0487804878049
           ]
          }
         ],
         "traces": [
          1
         ]
        },
        {
         "data": [
          {
           "type": "scatter",
           "x": [
            96.7741935483871
           ],
           "y": [
            128.0487804878049
           ]
          }
         ],
         "traces": [
          1
         ]
        },
        {
         "data": [
          {
           "type": "scatter",
           "x": [
            91.93548387096774
           ],
           "y": [
            128.0487804878049
           ]
          }
         ],
         "traces": [
          1
         ]
        },
        {
         "data": [
          {
           "type": "scatter",
           "x": [
            87.09677419354838
           ],
           "y": [
            128.0487804878049
           ]
          }
         ],
         "traces": [
          1
         ]
        },
        {
         "data": [
          {
           "type": "scatter",
           "x": [
            82.25806451612904
           ],
           "y": [
            128.0487804878049
           ]
          }
         ],
         "traces": [
          1
         ]
        },
        {
         "data": [
          {
           "type": "scatter",
           "x": [
            77.41935483870968
           ],
           "y": [
            128.0487804878049
           ]
          }
         ],
         "traces": [
          1
         ]
        },
        {
         "data": [
          {
           "type": "scatter",
           "x": [
            72.58064516129032
           ],
           "y": [
            128.0487804878049
           ]
          }
         ],
         "traces": [
          1
         ]
        },
        {
         "data": [
          {
           "type": "scatter",
           "x": [
            67.74193548387098
           ],
           "y": [
            128.0487804878049
           ]
          }
         ],
         "traces": [
          1
         ]
        },
        {
         "data": [
          {
           "type": "scatter",
           "x": [
            62.903225806451616
           ],
           "y": [
            128.0487804878049
           ]
          }
         ],
         "traces": [
          1
         ]
        },
        {
         "data": [
          {
           "type": "scatter",
           "x": [
            58.064516129032256
           ],
           "y": [
            128.0487804878049
           ]
          }
         ],
         "traces": [
          1
         ]
        },
        {
         "data": [
          {
           "type": "scatter",
           "x": [
            53.225806451612904
           ],
           "y": [
            128.0487804878049
           ]
          }
         ],
         "traces": [
          1
         ]
        },
        {
         "data": [
          {
           "type": "scatter",
           "x": [
            48.38709677419355
           ],
           "y": [
            128.0487804878049
           ]
          }
         ],
         "traces": [
          1
         ]
        },
        {
         "data": [
          {
           "type": "scatter",
           "x": [
            43.54838709677419
           ],
           "y": [
            128.0487804878049
           ]
          }
         ],
         "traces": [
          1
         ]
        },
        {
         "data": [
          {
           "type": "scatter",
           "x": [
            38.70967741935484
           ],
           "y": [
            128.0487804878049
           ]
          }
         ],
         "traces": [
          1
         ]
        },
        {
         "data": [
          {
           "type": "scatter",
           "x": [
            33.87096774193549
           ],
           "y": [
            128.0487804878049
           ]
          }
         ],
         "traces": [
          1
         ]
        },
        {
         "data": [
          {
           "type": "scatter",
           "x": [
            29.032258064516128
           ],
           "y": [
            128.0487804878049
           ]
          }
         ],
         "traces": [
          1
         ]
        },
        {
         "data": [
          {
           "type": "scatter",
           "x": [
            24.193548387096776
           ],
           "y": [
            128.0487804878049
           ]
          }
         ],
         "traces": [
          1
         ]
        },
        {
         "data": [
          {
           "type": "scatter",
           "x": [
            19.35483870967742
           ],
           "y": [
            128.0487804878049
           ]
          }
         ],
         "traces": [
          1
         ]
        },
        {
         "data": [
          {
           "type": "scatter",
           "x": [
            14.516129032258064
           ],
           "y": [
            128.0487804878049
           ]
          }
         ],
         "traces": [
          1
         ]
        },
        {
         "data": [
          {
           "type": "scatter",
           "x": [
            9.67741935483871
           ],
           "y": [
            128.0487804878049
           ]
          }
         ],
         "traces": [
          1
         ]
        },
        {
         "data": [
          {
           "type": "scatter",
           "x": [
            4.838709677419355
           ],
           "y": [
            128.0487804878049
           ]
          }
         ],
         "traces": [
          1
         ]
        },
        {
         "data": [
          {
           "type": "scatter",
           "x": [
            0
           ],
           "y": [
            128.0487804878049
           ]
          }
         ],
         "traces": [
          1
         ]
        },
        {
         "data": [
          {
           "type": "scatter",
           "x": [
            0
           ],
           "y": [
            131.70731707317074
           ]
          }
         ],
         "traces": [
          1
         ]
        },
        {
         "data": [
          {
           "type": "scatter",
           "x": [
            4.838709677419355
           ],
           "y": [
            131.70731707317074
           ]
          }
         ],
         "traces": [
          1
         ]
        },
        {
         "data": [
          {
           "type": "scatter",
           "x": [
            9.67741935483871
           ],
           "y": [
            131.70731707317074
           ]
          }
         ],
         "traces": [
          1
         ]
        },
        {
         "data": [
          {
           "type": "scatter",
           "x": [
            14.516129032258064
           ],
           "y": [
            131.70731707317074
           ]
          }
         ],
         "traces": [
          1
         ]
        },
        {
         "data": [
          {
           "type": "scatter",
           "x": [
            19.35483870967742
           ],
           "y": [
            131.70731707317074
           ]
          }
         ],
         "traces": [
          1
         ]
        },
        {
         "data": [
          {
           "type": "scatter",
           "x": [
            24.193548387096776
           ],
           "y": [
            131.70731707317074
           ]
          }
         ],
         "traces": [
          1
         ]
        },
        {
         "data": [
          {
           "type": "scatter",
           "x": [
            29.032258064516128
           ],
           "y": [
            131.70731707317074
           ]
          }
         ],
         "traces": [
          1
         ]
        },
        {
         "data": [
          {
           "type": "scatter",
           "x": [
            33.87096774193549
           ],
           "y": [
            131.70731707317074
           ]
          }
         ],
         "traces": [
          1
         ]
        },
        {
         "data": [
          {
           "type": "scatter",
           "x": [
            38.70967741935484
           ],
           "y": [
            131.70731707317074
           ]
          }
         ],
         "traces": [
          1
         ]
        },
        {
         "data": [
          {
           "type": "scatter",
           "x": [
            43.54838709677419
           ],
           "y": [
            131.70731707317074
           ]
          }
         ],
         "traces": [
          1
         ]
        },
        {
         "data": [
          {
           "type": "scatter",
           "x": [
            48.38709677419355
           ],
           "y": [
            131.70731707317074
           ]
          }
         ],
         "traces": [
          1
         ]
        },
        {
         "data": [
          {
           "type": "scatter",
           "x": [
            53.225806451612904
           ],
           "y": [
            131.70731707317074
           ]
          }
         ],
         "traces": [
          1
         ]
        },
        {
         "data": [
          {
           "type": "scatter",
           "x": [
            58.064516129032256
           ],
           "y": [
            131.70731707317074
           ]
          }
         ],
         "traces": [
          1
         ]
        },
        {
         "data": [
          {
           "type": "scatter",
           "x": [
            62.903225806451616
           ],
           "y": [
            131.70731707317074
           ]
          }
         ],
         "traces": [
          1
         ]
        },
        {
         "data": [
          {
           "type": "scatter",
           "x": [
            67.74193548387098
           ],
           "y": [
            131.70731707317074
           ]
          }
         ],
         "traces": [
          1
         ]
        },
        {
         "data": [
          {
           "type": "scatter",
           "x": [
            72.58064516129032
           ],
           "y": [
            131.70731707317074
           ]
          }
         ],
         "traces": [
          1
         ]
        },
        {
         "data": [
          {
           "type": "scatter",
           "x": [
            77.41935483870968
           ],
           "y": [
            131.70731707317074
           ]
          }
         ],
         "traces": [
          1
         ]
        },
        {
         "data": [
          {
           "type": "scatter",
           "x": [
            82.25806451612904
           ],
           "y": [
            131.70731707317074
           ]
          }
         ],
         "traces": [
          1
         ]
        },
        {
         "data": [
          {
           "type": "scatter",
           "x": [
            87.09677419354838
           ],
           "y": [
            131.70731707317074
           ]
          }
         ],
         "traces": [
          1
         ]
        },
        {
         "data": [
          {
           "type": "scatter",
           "x": [
            91.93548387096774
           ],
           "y": [
            131.70731707317074
           ]
          }
         ],
         "traces": [
          1
         ]
        },
        {
         "data": [
          {
           "type": "scatter",
           "x": [
            96.7741935483871
           ],
           "y": [
            131.70731707317074
           ]
          }
         ],
         "traces": [
          1
         ]
        },
        {
         "data": [
          {
           "type": "scatter",
           "x": [
            101.61290322580645
           ],
           "y": [
            131.70731707317074
           ]
          }
         ],
         "traces": [
          1
         ]
        },
        {
         "data": [
          {
           "type": "scatter",
           "x": [
            106.45161290322581
           ],
           "y": [
            131.70731707317074
           ]
          }
         ],
         "traces": [
          1
         ]
        },
        {
         "data": [
          {
           "type": "scatter",
           "x": [
            111.29032258064517
           ],
           "y": [
            131.70731707317074
           ]
          }
         ],
         "traces": [
          1
         ]
        },
        {
         "data": [
          {
           "type": "scatter",
           "x": [
            116.12903225806451
           ],
           "y": [
            131.70731707317074
           ]
          }
         ],
         "traces": [
          1
         ]
        },
        {
         "data": [
          {
           "type": "scatter",
           "x": [
            120.96774193548387
           ],
           "y": [
            131.70731707317074
           ]
          }
         ],
         "traces": [
          1
         ]
        },
        {
         "data": [
          {
           "type": "scatter",
           "x": [
            125.80645161290323
           ],
           "y": [
            131.70731707317074
           ]
          }
         ],
         "traces": [
          1
         ]
        },
        {
         "data": [
          {
           "type": "scatter",
           "x": [
            130.6451612903226
           ],
           "y": [
            131.70731707317074
           ]
          }
         ],
         "traces": [
          1
         ]
        },
        {
         "data": [
          {
           "type": "scatter",
           "x": [
            135.48387096774195
           ],
           "y": [
            131.70731707317074
           ]
          }
         ],
         "traces": [
          1
         ]
        },
        {
         "data": [
          {
           "type": "scatter",
           "x": [
            140.32258064516128
           ],
           "y": [
            131.70731707317074
           ]
          }
         ],
         "traces": [
          1
         ]
        },
        {
         "data": [
          {
           "type": "scatter",
           "x": [
            145.16129032258064
           ],
           "y": [
            131.70731707317074
           ]
          }
         ],
         "traces": [
          1
         ]
        },
        {
         "data": [
          {
           "type": "scatter",
           "x": [
            150
           ],
           "y": [
            131.70731707317074
           ]
          }
         ],
         "traces": [
          1
         ]
        },
        {
         "data": [
          {
           "type": "scatter",
           "x": [
            150
           ],
           "y": [
            135.3658536585366
           ]
          }
         ],
         "traces": [
          1
         ]
        },
        {
         "data": [
          {
           "type": "scatter",
           "x": [
            145.16129032258064
           ],
           "y": [
            135.3658536585366
           ]
          }
         ],
         "traces": [
          1
         ]
        },
        {
         "data": [
          {
           "type": "scatter",
           "x": [
            140.32258064516128
           ],
           "y": [
            135.3658536585366
           ]
          }
         ],
         "traces": [
          1
         ]
        },
        {
         "data": [
          {
           "type": "scatter",
           "x": [
            135.48387096774195
           ],
           "y": [
            135.3658536585366
           ]
          }
         ],
         "traces": [
          1
         ]
        },
        {
         "data": [
          {
           "type": "scatter",
           "x": [
            130.6451612903226
           ],
           "y": [
            135.3658536585366
           ]
          }
         ],
         "traces": [
          1
         ]
        },
        {
         "data": [
          {
           "type": "scatter",
           "x": [
            125.80645161290323
           ],
           "y": [
            135.3658536585366
           ]
          }
         ],
         "traces": [
          1
         ]
        },
        {
         "data": [
          {
           "type": "scatter",
           "x": [
            120.96774193548387
           ],
           "y": [
            135.3658536585366
           ]
          }
         ],
         "traces": [
          1
         ]
        },
        {
         "data": [
          {
           "type": "scatter",
           "x": [
            116.12903225806451
           ],
           "y": [
            135.3658536585366
           ]
          }
         ],
         "traces": [
          1
         ]
        },
        {
         "data": [
          {
           "type": "scatter",
           "x": [
            111.29032258064517
           ],
           "y": [
            135.3658536585366
           ]
          }
         ],
         "traces": [
          1
         ]
        },
        {
         "data": [
          {
           "type": "scatter",
           "x": [
            106.45161290322581
           ],
           "y": [
            135.3658536585366
           ]
          }
         ],
         "traces": [
          1
         ]
        },
        {
         "data": [
          {
           "type": "scatter",
           "x": [
            101.61290322580645
           ],
           "y": [
            135.3658536585366
           ]
          }
         ],
         "traces": [
          1
         ]
        },
        {
         "data": [
          {
           "type": "scatter",
           "x": [
            96.7741935483871
           ],
           "y": [
            135.3658536585366
           ]
          }
         ],
         "traces": [
          1
         ]
        },
        {
         "data": [
          {
           "type": "scatter",
           "x": [
            91.93548387096774
           ],
           "y": [
            135.3658536585366
           ]
          }
         ],
         "traces": [
          1
         ]
        },
        {
         "data": [
          {
           "type": "scatter",
           "x": [
            87.09677419354838
           ],
           "y": [
            135.3658536585366
           ]
          }
         ],
         "traces": [
          1
         ]
        },
        {
         "data": [
          {
           "type": "scatter",
           "x": [
            82.25806451612904
           ],
           "y": [
            135.3658536585366
           ]
          }
         ],
         "traces": [
          1
         ]
        },
        {
         "data": [
          {
           "type": "scatter",
           "x": [
            77.41935483870968
           ],
           "y": [
            135.3658536585366
           ]
          }
         ],
         "traces": [
          1
         ]
        },
        {
         "data": [
          {
           "type": "scatter",
           "x": [
            72.58064516129032
           ],
           "y": [
            135.3658536585366
           ]
          }
         ],
         "traces": [
          1
         ]
        },
        {
         "data": [
          {
           "type": "scatter",
           "x": [
            67.74193548387098
           ],
           "y": [
            135.3658536585366
           ]
          }
         ],
         "traces": [
          1
         ]
        },
        {
         "data": [
          {
           "type": "scatter",
           "x": [
            62.903225806451616
           ],
           "y": [
            135.3658536585366
           ]
          }
         ],
         "traces": [
          1
         ]
        },
        {
         "data": [
          {
           "type": "scatter",
           "x": [
            58.064516129032256
           ],
           "y": [
            135.3658536585366
           ]
          }
         ],
         "traces": [
          1
         ]
        },
        {
         "data": [
          {
           "type": "scatter",
           "x": [
            53.225806451612904
           ],
           "y": [
            135.3658536585366
           ]
          }
         ],
         "traces": [
          1
         ]
        },
        {
         "data": [
          {
           "type": "scatter",
           "x": [
            48.38709677419355
           ],
           "y": [
            135.3658536585366
           ]
          }
         ],
         "traces": [
          1
         ]
        },
        {
         "data": [
          {
           "type": "scatter",
           "x": [
            43.54838709677419
           ],
           "y": [
            135.3658536585366
           ]
          }
         ],
         "traces": [
          1
         ]
        },
        {
         "data": [
          {
           "type": "scatter",
           "x": [
            38.70967741935484
           ],
           "y": [
            135.3658536585366
           ]
          }
         ],
         "traces": [
          1
         ]
        },
        {
         "data": [
          {
           "type": "scatter",
           "x": [
            33.87096774193549
           ],
           "y": [
            135.3658536585366
           ]
          }
         ],
         "traces": [
          1
         ]
        },
        {
         "data": [
          {
           "type": "scatter",
           "x": [
            29.032258064516128
           ],
           "y": [
            135.3658536585366
           ]
          }
         ],
         "traces": [
          1
         ]
        },
        {
         "data": [
          {
           "type": "scatter",
           "x": [
            24.193548387096776
           ],
           "y": [
            135.3658536585366
           ]
          }
         ],
         "traces": [
          1
         ]
        },
        {
         "data": [
          {
           "type": "scatter",
           "x": [
            19.35483870967742
           ],
           "y": [
            135.3658536585366
           ]
          }
         ],
         "traces": [
          1
         ]
        },
        {
         "data": [
          {
           "type": "scatter",
           "x": [
            14.516129032258064
           ],
           "y": [
            135.3658536585366
           ]
          }
         ],
         "traces": [
          1
         ]
        },
        {
         "data": [
          {
           "type": "scatter",
           "x": [
            9.67741935483871
           ],
           "y": [
            135.3658536585366
           ]
          }
         ],
         "traces": [
          1
         ]
        },
        {
         "data": [
          {
           "type": "scatter",
           "x": [
            4.838709677419355
           ],
           "y": [
            135.3658536585366
           ]
          }
         ],
         "traces": [
          1
         ]
        },
        {
         "data": [
          {
           "type": "scatter",
           "x": [
            0
           ],
           "y": [
            135.3658536585366
           ]
          }
         ],
         "traces": [
          1
         ]
        },
        {
         "data": [
          {
           "type": "scatter",
           "x": [
            0
           ],
           "y": [
            139.02439024390245
           ]
          }
         ],
         "traces": [
          1
         ]
        },
        {
         "data": [
          {
           "type": "scatter",
           "x": [
            4.838709677419355
           ],
           "y": [
            139.02439024390245
           ]
          }
         ],
         "traces": [
          1
         ]
        },
        {
         "data": [
          {
           "type": "scatter",
           "x": [
            9.67741935483871
           ],
           "y": [
            139.02439024390245
           ]
          }
         ],
         "traces": [
          1
         ]
        },
        {
         "data": [
          {
           "type": "scatter",
           "x": [
            14.516129032258064
           ],
           "y": [
            139.02439024390245
           ]
          }
         ],
         "traces": [
          1
         ]
        },
        {
         "data": [
          {
           "type": "scatter",
           "x": [
            19.35483870967742
           ],
           "y": [
            139.02439024390245
           ]
          }
         ],
         "traces": [
          1
         ]
        },
        {
         "data": [
          {
           "type": "scatter",
           "x": [
            24.193548387096776
           ],
           "y": [
            139.02439024390245
           ]
          }
         ],
         "traces": [
          1
         ]
        },
        {
         "data": [
          {
           "type": "scatter",
           "x": [
            29.032258064516128
           ],
           "y": [
            139.02439024390245
           ]
          }
         ],
         "traces": [
          1
         ]
        },
        {
         "data": [
          {
           "type": "scatter",
           "x": [
            33.87096774193549
           ],
           "y": [
            139.02439024390245
           ]
          }
         ],
         "traces": [
          1
         ]
        },
        {
         "data": [
          {
           "type": "scatter",
           "x": [
            38.70967741935484
           ],
           "y": [
            139.02439024390245
           ]
          }
         ],
         "traces": [
          1
         ]
        },
        {
         "data": [
          {
           "type": "scatter",
           "x": [
            43.54838709677419
           ],
           "y": [
            139.02439024390245
           ]
          }
         ],
         "traces": [
          1
         ]
        },
        {
         "data": [
          {
           "type": "scatter",
           "x": [
            48.38709677419355
           ],
           "y": [
            139.02439024390245
           ]
          }
         ],
         "traces": [
          1
         ]
        },
        {
         "data": [
          {
           "type": "scatter",
           "x": [
            53.225806451612904
           ],
           "y": [
            139.02439024390245
           ]
          }
         ],
         "traces": [
          1
         ]
        },
        {
         "data": [
          {
           "type": "scatter",
           "x": [
            58.064516129032256
           ],
           "y": [
            139.02439024390245
           ]
          }
         ],
         "traces": [
          1
         ]
        },
        {
         "data": [
          {
           "type": "scatter",
           "x": [
            62.903225806451616
           ],
           "y": [
            139.02439024390245
           ]
          }
         ],
         "traces": [
          1
         ]
        },
        {
         "data": [
          {
           "type": "scatter",
           "x": [
            67.74193548387098
           ],
           "y": [
            139.02439024390245
           ]
          }
         ],
         "traces": [
          1
         ]
        },
        {
         "data": [
          {
           "type": "scatter",
           "x": [
            72.58064516129032
           ],
           "y": [
            139.02439024390245
           ]
          }
         ],
         "traces": [
          1
         ]
        },
        {
         "data": [
          {
           "type": "scatter",
           "x": [
            77.41935483870968
           ],
           "y": [
            139.02439024390245
           ]
          }
         ],
         "traces": [
          1
         ]
        },
        {
         "data": [
          {
           "type": "scatter",
           "x": [
            82.25806451612904
           ],
           "y": [
            139.02439024390245
           ]
          }
         ],
         "traces": [
          1
         ]
        },
        {
         "data": [
          {
           "type": "scatter",
           "x": [
            87.09677419354838
           ],
           "y": [
            139.02439024390245
           ]
          }
         ],
         "traces": [
          1
         ]
        },
        {
         "data": [
          {
           "type": "scatter",
           "x": [
            91.93548387096774
           ],
           "y": [
            139.02439024390245
           ]
          }
         ],
         "traces": [
          1
         ]
        },
        {
         "data": [
          {
           "type": "scatter",
           "x": [
            96.7741935483871
           ],
           "y": [
            139.02439024390245
           ]
          }
         ],
         "traces": [
          1
         ]
        },
        {
         "data": [
          {
           "type": "scatter",
           "x": [
            101.61290322580645
           ],
           "y": [
            139.02439024390245
           ]
          }
         ],
         "traces": [
          1
         ]
        },
        {
         "data": [
          {
           "type": "scatter",
           "x": [
            106.45161290322581
           ],
           "y": [
            139.02439024390245
           ]
          }
         ],
         "traces": [
          1
         ]
        },
        {
         "data": [
          {
           "type": "scatter",
           "x": [
            111.29032258064517
           ],
           "y": [
            139.02439024390245
           ]
          }
         ],
         "traces": [
          1
         ]
        },
        {
         "data": [
          {
           "type": "scatter",
           "x": [
            116.12903225806451
           ],
           "y": [
            139.02439024390245
           ]
          }
         ],
         "traces": [
          1
         ]
        },
        {
         "data": [
          {
           "type": "scatter",
           "x": [
            120.96774193548387
           ],
           "y": [
            139.02439024390245
           ]
          }
         ],
         "traces": [
          1
         ]
        },
        {
         "data": [
          {
           "type": "scatter",
           "x": [
            125.80645161290323
           ],
           "y": [
            139.02439024390245
           ]
          }
         ],
         "traces": [
          1
         ]
        },
        {
         "data": [
          {
           "type": "scatter",
           "x": [
            130.6451612903226
           ],
           "y": [
            139.02439024390245
           ]
          }
         ],
         "traces": [
          1
         ]
        },
        {
         "data": [
          {
           "type": "scatter",
           "x": [
            135.48387096774195
           ],
           "y": [
            139.02439024390245
           ]
          }
         ],
         "traces": [
          1
         ]
        },
        {
         "data": [
          {
           "type": "scatter",
           "x": [
            140.32258064516128
           ],
           "y": [
            139.02439024390245
           ]
          }
         ],
         "traces": [
          1
         ]
        },
        {
         "data": [
          {
           "type": "scatter",
           "x": [
            145.16129032258064
           ],
           "y": [
            139.02439024390245
           ]
          }
         ],
         "traces": [
          1
         ]
        },
        {
         "data": [
          {
           "type": "scatter",
           "x": [
            150
           ],
           "y": [
            139.02439024390245
           ]
          }
         ],
         "traces": [
          1
         ]
        },
        {
         "data": [
          {
           "type": "scatter",
           "x": [
            150
           ],
           "y": [
            142.6829268292683
           ]
          }
         ],
         "traces": [
          1
         ]
        },
        {
         "data": [
          {
           "type": "scatter",
           "x": [
            145.16129032258064
           ],
           "y": [
            142.6829268292683
           ]
          }
         ],
         "traces": [
          1
         ]
        },
        {
         "data": [
          {
           "type": "scatter",
           "x": [
            140.32258064516128
           ],
           "y": [
            142.6829268292683
           ]
          }
         ],
         "traces": [
          1
         ]
        },
        {
         "data": [
          {
           "type": "scatter",
           "x": [
            135.48387096774195
           ],
           "y": [
            142.6829268292683
           ]
          }
         ],
         "traces": [
          1
         ]
        },
        {
         "data": [
          {
           "type": "scatter",
           "x": [
            130.6451612903226
           ],
           "y": [
            142.6829268292683
           ]
          }
         ],
         "traces": [
          1
         ]
        },
        {
         "data": [
          {
           "type": "scatter",
           "x": [
            125.80645161290323
           ],
           "y": [
            142.6829268292683
           ]
          }
         ],
         "traces": [
          1
         ]
        },
        {
         "data": [
          {
           "type": "scatter",
           "x": [
            120.96774193548387
           ],
           "y": [
            142.6829268292683
           ]
          }
         ],
         "traces": [
          1
         ]
        },
        {
         "data": [
          {
           "type": "scatter",
           "x": [
            116.12903225806451
           ],
           "y": [
            142.6829268292683
           ]
          }
         ],
         "traces": [
          1
         ]
        },
        {
         "data": [
          {
           "type": "scatter",
           "x": [
            111.29032258064517
           ],
           "y": [
            142.6829268292683
           ]
          }
         ],
         "traces": [
          1
         ]
        },
        {
         "data": [
          {
           "type": "scatter",
           "x": [
            106.45161290322581
           ],
           "y": [
            142.6829268292683
           ]
          }
         ],
         "traces": [
          1
         ]
        },
        {
         "data": [
          {
           "type": "scatter",
           "x": [
            101.61290322580645
           ],
           "y": [
            142.6829268292683
           ]
          }
         ],
         "traces": [
          1
         ]
        },
        {
         "data": [
          {
           "type": "scatter",
           "x": [
            96.7741935483871
           ],
           "y": [
            142.6829268292683
           ]
          }
         ],
         "traces": [
          1
         ]
        },
        {
         "data": [
          {
           "type": "scatter",
           "x": [
            91.93548387096774
           ],
           "y": [
            142.6829268292683
           ]
          }
         ],
         "traces": [
          1
         ]
        },
        {
         "data": [
          {
           "type": "scatter",
           "x": [
            87.09677419354838
           ],
           "y": [
            142.6829268292683
           ]
          }
         ],
         "traces": [
          1
         ]
        },
        {
         "data": [
          {
           "type": "scatter",
           "x": [
            82.25806451612904
           ],
           "y": [
            142.6829268292683
           ]
          }
         ],
         "traces": [
          1
         ]
        },
        {
         "data": [
          {
           "type": "scatter",
           "x": [
            77.41935483870968
           ],
           "y": [
            142.6829268292683
           ]
          }
         ],
         "traces": [
          1
         ]
        },
        {
         "data": [
          {
           "type": "scatter",
           "x": [
            72.58064516129032
           ],
           "y": [
            142.6829268292683
           ]
          }
         ],
         "traces": [
          1
         ]
        },
        {
         "data": [
          {
           "type": "scatter",
           "x": [
            67.74193548387098
           ],
           "y": [
            142.6829268292683
           ]
          }
         ],
         "traces": [
          1
         ]
        },
        {
         "data": [
          {
           "type": "scatter",
           "x": [
            62.903225806451616
           ],
           "y": [
            142.6829268292683
           ]
          }
         ],
         "traces": [
          1
         ]
        },
        {
         "data": [
          {
           "type": "scatter",
           "x": [
            58.064516129032256
           ],
           "y": [
            142.6829268292683
           ]
          }
         ],
         "traces": [
          1
         ]
        },
        {
         "data": [
          {
           "type": "scatter",
           "x": [
            53.225806451612904
           ],
           "y": [
            142.6829268292683
           ]
          }
         ],
         "traces": [
          1
         ]
        },
        {
         "data": [
          {
           "type": "scatter",
           "x": [
            48.38709677419355
           ],
           "y": [
            142.6829268292683
           ]
          }
         ],
         "traces": [
          1
         ]
        },
        {
         "data": [
          {
           "type": "scatter",
           "x": [
            43.54838709677419
           ],
           "y": [
            142.6829268292683
           ]
          }
         ],
         "traces": [
          1
         ]
        },
        {
         "data": [
          {
           "type": "scatter",
           "x": [
            38.70967741935484
           ],
           "y": [
            142.6829268292683
           ]
          }
         ],
         "traces": [
          1
         ]
        },
        {
         "data": [
          {
           "type": "scatter",
           "x": [
            33.87096774193549
           ],
           "y": [
            142.6829268292683
           ]
          }
         ],
         "traces": [
          1
         ]
        },
        {
         "data": [
          {
           "type": "scatter",
           "x": [
            29.032258064516128
           ],
           "y": [
            142.6829268292683
           ]
          }
         ],
         "traces": [
          1
         ]
        },
        {
         "data": [
          {
           "type": "scatter",
           "x": [
            24.193548387096776
           ],
           "y": [
            142.6829268292683
           ]
          }
         ],
         "traces": [
          1
         ]
        },
        {
         "data": [
          {
           "type": "scatter",
           "x": [
            19.35483870967742
           ],
           "y": [
            142.6829268292683
           ]
          }
         ],
         "traces": [
          1
         ]
        },
        {
         "data": [
          {
           "type": "scatter",
           "x": [
            14.516129032258064
           ],
           "y": [
            142.6829268292683
           ]
          }
         ],
         "traces": [
          1
         ]
        },
        {
         "data": [
          {
           "type": "scatter",
           "x": [
            9.67741935483871
           ],
           "y": [
            142.6829268292683
           ]
          }
         ],
         "traces": [
          1
         ]
        },
        {
         "data": [
          {
           "type": "scatter",
           "x": [
            4.838709677419355
           ],
           "y": [
            142.6829268292683
           ]
          }
         ],
         "traces": [
          1
         ]
        },
        {
         "data": [
          {
           "type": "scatter",
           "x": [
            0
           ],
           "y": [
            142.6829268292683
           ]
          }
         ],
         "traces": [
          1
         ]
        },
        {
         "data": [
          {
           "type": "scatter",
           "x": [
            0
           ],
           "y": [
            146.34146341463415
           ]
          }
         ],
         "traces": [
          1
         ]
        },
        {
         "data": [
          {
           "type": "scatter",
           "x": [
            4.838709677419355
           ],
           "y": [
            146.34146341463415
           ]
          }
         ],
         "traces": [
          1
         ]
        },
        {
         "data": [
          {
           "type": "scatter",
           "x": [
            9.67741935483871
           ],
           "y": [
            146.34146341463415
           ]
          }
         ],
         "traces": [
          1
         ]
        },
        {
         "data": [
          {
           "type": "scatter",
           "x": [
            14.516129032258064
           ],
           "y": [
            146.34146341463415
           ]
          }
         ],
         "traces": [
          1
         ]
        },
        {
         "data": [
          {
           "type": "scatter",
           "x": [
            19.35483870967742
           ],
           "y": [
            146.34146341463415
           ]
          }
         ],
         "traces": [
          1
         ]
        },
        {
         "data": [
          {
           "type": "scatter",
           "x": [
            24.193548387096776
           ],
           "y": [
            146.34146341463415
           ]
          }
         ],
         "traces": [
          1
         ]
        },
        {
         "data": [
          {
           "type": "scatter",
           "x": [
            29.032258064516128
           ],
           "y": [
            146.34146341463415
           ]
          }
         ],
         "traces": [
          1
         ]
        },
        {
         "data": [
          {
           "type": "scatter",
           "x": [
            33.87096774193549
           ],
           "y": [
            146.34146341463415
           ]
          }
         ],
         "traces": [
          1
         ]
        },
        {
         "data": [
          {
           "type": "scatter",
           "x": [
            38.70967741935484
           ],
           "y": [
            146.34146341463415
           ]
          }
         ],
         "traces": [
          1
         ]
        },
        {
         "data": [
          {
           "type": "scatter",
           "x": [
            43.54838709677419
           ],
           "y": [
            146.34146341463415
           ]
          }
         ],
         "traces": [
          1
         ]
        },
        {
         "data": [
          {
           "type": "scatter",
           "x": [
            48.38709677419355
           ],
           "y": [
            146.34146341463415
           ]
          }
         ],
         "traces": [
          1
         ]
        },
        {
         "data": [
          {
           "type": "scatter",
           "x": [
            53.225806451612904
           ],
           "y": [
            146.34146341463415
           ]
          }
         ],
         "traces": [
          1
         ]
        },
        {
         "data": [
          {
           "type": "scatter",
           "x": [
            58.064516129032256
           ],
           "y": [
            146.34146341463415
           ]
          }
         ],
         "traces": [
          1
         ]
        },
        {
         "data": [
          {
           "type": "scatter",
           "x": [
            62.903225806451616
           ],
           "y": [
            146.34146341463415
           ]
          }
         ],
         "traces": [
          1
         ]
        },
        {
         "data": [
          {
           "type": "scatter",
           "x": [
            67.74193548387098
           ],
           "y": [
            146.34146341463415
           ]
          }
         ],
         "traces": [
          1
         ]
        },
        {
         "data": [
          {
           "type": "scatter",
           "x": [
            72.58064516129032
           ],
           "y": [
            146.34146341463415
           ]
          }
         ],
         "traces": [
          1
         ]
        },
        {
         "data": [
          {
           "type": "scatter",
           "x": [
            77.41935483870968
           ],
           "y": [
            146.34146341463415
           ]
          }
         ],
         "traces": [
          1
         ]
        },
        {
         "data": [
          {
           "type": "scatter",
           "x": [
            82.25806451612904
           ],
           "y": [
            146.34146341463415
           ]
          }
         ],
         "traces": [
          1
         ]
        },
        {
         "data": [
          {
           "type": "scatter",
           "x": [
            87.09677419354838
           ],
           "y": [
            146.34146341463415
           ]
          }
         ],
         "traces": [
          1
         ]
        },
        {
         "data": [
          {
           "type": "scatter",
           "x": [
            91.93548387096774
           ],
           "y": [
            146.34146341463415
           ]
          }
         ],
         "traces": [
          1
         ]
        },
        {
         "data": [
          {
           "type": "scatter",
           "x": [
            96.7741935483871
           ],
           "y": [
            146.34146341463415
           ]
          }
         ],
         "traces": [
          1
         ]
        },
        {
         "data": [
          {
           "type": "scatter",
           "x": [
            101.61290322580645
           ],
           "y": [
            146.34146341463415
           ]
          }
         ],
         "traces": [
          1
         ]
        },
        {
         "data": [
          {
           "type": "scatter",
           "x": [
            106.45161290322581
           ],
           "y": [
            146.34146341463415
           ]
          }
         ],
         "traces": [
          1
         ]
        },
        {
         "data": [
          {
           "type": "scatter",
           "x": [
            111.29032258064517
           ],
           "y": [
            146.34146341463415
           ]
          }
         ],
         "traces": [
          1
         ]
        },
        {
         "data": [
          {
           "type": "scatter",
           "x": [
            116.12903225806451
           ],
           "y": [
            146.34146341463415
           ]
          }
         ],
         "traces": [
          1
         ]
        },
        {
         "data": [
          {
           "type": "scatter",
           "x": [
            120.96774193548387
           ],
           "y": [
            146.34146341463415
           ]
          }
         ],
         "traces": [
          1
         ]
        },
        {
         "data": [
          {
           "type": "scatter",
           "x": [
            125.80645161290323
           ],
           "y": [
            146.34146341463415
           ]
          }
         ],
         "traces": [
          1
         ]
        },
        {
         "data": [
          {
           "type": "scatter",
           "x": [
            130.6451612903226
           ],
           "y": [
            146.34146341463415
           ]
          }
         ],
         "traces": [
          1
         ]
        },
        {
         "data": [
          {
           "type": "scatter",
           "x": [
            135.48387096774195
           ],
           "y": [
            146.34146341463415
           ]
          }
         ],
         "traces": [
          1
         ]
        },
        {
         "data": [
          {
           "type": "scatter",
           "x": [
            140.32258064516128
           ],
           "y": [
            146.34146341463415
           ]
          }
         ],
         "traces": [
          1
         ]
        },
        {
         "data": [
          {
           "type": "scatter",
           "x": [
            145.16129032258064
           ],
           "y": [
            146.34146341463415
           ]
          }
         ],
         "traces": [
          1
         ]
        },
        {
         "data": [
          {
           "type": "scatter",
           "x": [
            150
           ],
           "y": [
            146.34146341463415
           ]
          }
         ],
         "traces": [
          1
         ]
        },
        {
         "data": [
          {
           "type": "scatter",
           "x": [
            150
           ],
           "y": [
            150
           ]
          }
         ],
         "traces": [
          1
         ]
        },
        {
         "data": [
          {
           "type": "scatter",
           "x": [
            145.16129032258064
           ],
           "y": [
            150
           ]
          }
         ],
         "traces": [
          1
         ]
        },
        {
         "data": [
          {
           "type": "scatter",
           "x": [
            140.32258064516128
           ],
           "y": [
            150
           ]
          }
         ],
         "traces": [
          1
         ]
        },
        {
         "data": [
          {
           "type": "scatter",
           "x": [
            135.48387096774195
           ],
           "y": [
            150
           ]
          }
         ],
         "traces": [
          1
         ]
        },
        {
         "data": [
          {
           "type": "scatter",
           "x": [
            130.6451612903226
           ],
           "y": [
            150
           ]
          }
         ],
         "traces": [
          1
         ]
        },
        {
         "data": [
          {
           "type": "scatter",
           "x": [
            125.80645161290323
           ],
           "y": [
            150
           ]
          }
         ],
         "traces": [
          1
         ]
        },
        {
         "data": [
          {
           "type": "scatter",
           "x": [
            120.96774193548387
           ],
           "y": [
            150
           ]
          }
         ],
         "traces": [
          1
         ]
        },
        {
         "data": [
          {
           "type": "scatter",
           "x": [
            116.12903225806451
           ],
           "y": [
            150
           ]
          }
         ],
         "traces": [
          1
         ]
        },
        {
         "data": [
          {
           "type": "scatter",
           "x": [
            111.29032258064517
           ],
           "y": [
            150
           ]
          }
         ],
         "traces": [
          1
         ]
        },
        {
         "data": [
          {
           "type": "scatter",
           "x": [
            106.45161290322581
           ],
           "y": [
            150
           ]
          }
         ],
         "traces": [
          1
         ]
        },
        {
         "data": [
          {
           "type": "scatter",
           "x": [
            101.61290322580645
           ],
           "y": [
            150
           ]
          }
         ],
         "traces": [
          1
         ]
        },
        {
         "data": [
          {
           "type": "scatter",
           "x": [
            96.7741935483871
           ],
           "y": [
            150
           ]
          }
         ],
         "traces": [
          1
         ]
        },
        {
         "data": [
          {
           "type": "scatter",
           "x": [
            91.93548387096774
           ],
           "y": [
            150
           ]
          }
         ],
         "traces": [
          1
         ]
        },
        {
         "data": [
          {
           "type": "scatter",
           "x": [
            87.09677419354838
           ],
           "y": [
            150
           ]
          }
         ],
         "traces": [
          1
         ]
        },
        {
         "data": [
          {
           "type": "scatter",
           "x": [
            82.25806451612904
           ],
           "y": [
            150
           ]
          }
         ],
         "traces": [
          1
         ]
        },
        {
         "data": [
          {
           "type": "scatter",
           "x": [
            77.41935483870968
           ],
           "y": [
            150
           ]
          }
         ],
         "traces": [
          1
         ]
        },
        {
         "data": [
          {
           "type": "scatter",
           "x": [
            72.58064516129032
           ],
           "y": [
            150
           ]
          }
         ],
         "traces": [
          1
         ]
        },
        {
         "data": [
          {
           "type": "scatter",
           "x": [
            67.74193548387098
           ],
           "y": [
            150
           ]
          }
         ],
         "traces": [
          1
         ]
        },
        {
         "data": [
          {
           "type": "scatter",
           "x": [
            62.903225806451616
           ],
           "y": [
            150
           ]
          }
         ],
         "traces": [
          1
         ]
        },
        {
         "data": [
          {
           "type": "scatter",
           "x": [
            58.064516129032256
           ],
           "y": [
            150
           ]
          }
         ],
         "traces": [
          1
         ]
        },
        {
         "data": [
          {
           "type": "scatter",
           "x": [
            53.225806451612904
           ],
           "y": [
            150
           ]
          }
         ],
         "traces": [
          1
         ]
        },
        {
         "data": [
          {
           "type": "scatter",
           "x": [
            48.38709677419355
           ],
           "y": [
            150
           ]
          }
         ],
         "traces": [
          1
         ]
        },
        {
         "data": [
          {
           "type": "scatter",
           "x": [
            43.54838709677419
           ],
           "y": [
            150
           ]
          }
         ],
         "traces": [
          1
         ]
        },
        {
         "data": [
          {
           "type": "scatter",
           "x": [
            38.70967741935484
           ],
           "y": [
            150
           ]
          }
         ],
         "traces": [
          1
         ]
        },
        {
         "data": [
          {
           "type": "scatter",
           "x": [
            33.87096774193549
           ],
           "y": [
            150
           ]
          }
         ],
         "traces": [
          1
         ]
        },
        {
         "data": [
          {
           "type": "scatter",
           "x": [
            29.032258064516128
           ],
           "y": [
            150
           ]
          }
         ],
         "traces": [
          1
         ]
        },
        {
         "data": [
          {
           "type": "scatter",
           "x": [
            24.193548387096776
           ],
           "y": [
            150
           ]
          }
         ],
         "traces": [
          1
         ]
        },
        {
         "data": [
          {
           "type": "scatter",
           "x": [
            19.35483870967742
           ],
           "y": [
            150
           ]
          }
         ],
         "traces": [
          1
         ]
        },
        {
         "data": [
          {
           "type": "scatter",
           "x": [
            14.516129032258064
           ],
           "y": [
            150
           ]
          }
         ],
         "traces": [
          1
         ]
        },
        {
         "data": [
          {
           "type": "scatter",
           "x": [
            9.67741935483871
           ],
           "y": [
            150
           ]
          }
         ],
         "traces": [
          1
         ]
        },
        {
         "data": [
          {
           "type": "scatter",
           "x": [
            4.838709677419355
           ],
           "y": [
            150
           ]
          }
         ],
         "traces": [
          1
         ]
        },
        {
         "data": [
          {
           "type": "scatter",
           "x": [
            0
           ],
           "y": [
            150
           ]
          }
         ],
         "traces": [
          1
         ]
        }
       ],
       "layout": {
        "margin": {
         "b": 50,
         "l": 50,
         "r": 50,
         "t": 50
        },
        "template": {
         "data": {
          "bar": [
           {
            "error_x": {
             "color": "#2a3f5f"
            },
            "error_y": {
             "color": "#2a3f5f"
            },
            "marker": {
             "line": {
              "color": "#E5ECF6",
              "width": 0.5
             },
             "pattern": {
              "fillmode": "overlay",
              "size": 10,
              "solidity": 0.2
             }
            },
            "type": "bar"
           }
          ],
          "barpolar": [
           {
            "marker": {
             "line": {
              "color": "#E5ECF6",
              "width": 0.5
             },
             "pattern": {
              "fillmode": "overlay",
              "size": 10,
              "solidity": 0.2
             }
            },
            "type": "barpolar"
           }
          ],
          "carpet": [
           {
            "aaxis": {
             "endlinecolor": "#2a3f5f",
             "gridcolor": "white",
             "linecolor": "white",
             "minorgridcolor": "white",
             "startlinecolor": "#2a3f5f"
            },
            "baxis": {
             "endlinecolor": "#2a3f5f",
             "gridcolor": "white",
             "linecolor": "white",
             "minorgridcolor": "white",
             "startlinecolor": "#2a3f5f"
            },
            "type": "carpet"
           }
          ],
          "choropleth": [
           {
            "colorbar": {
             "outlinewidth": 0,
             "ticks": ""
            },
            "type": "choropleth"
           }
          ],
          "contour": [
           {
            "colorbar": {
             "outlinewidth": 0,
             "ticks": ""
            },
            "colorscale": [
             [
              0,
              "#0d0887"
             ],
             [
              0.1111111111111111,
              "#46039f"
             ],
             [
              0.2222222222222222,
              "#7201a8"
             ],
             [
              0.3333333333333333,
              "#9c179e"
             ],
             [
              0.4444444444444444,
              "#bd3786"
             ],
             [
              0.5555555555555556,
              "#d8576b"
             ],
             [
              0.6666666666666666,
              "#ed7953"
             ],
             [
              0.7777777777777778,
              "#fb9f3a"
             ],
             [
              0.8888888888888888,
              "#fdca26"
             ],
             [
              1,
              "#f0f921"
             ]
            ],
            "type": "contour"
           }
          ],
          "contourcarpet": [
           {
            "colorbar": {
             "outlinewidth": 0,
             "ticks": ""
            },
            "type": "contourcarpet"
           }
          ],
          "heatmap": [
           {
            "colorbar": {
             "outlinewidth": 0,
             "ticks": ""
            },
            "colorscale": [
             [
              0,
              "#0d0887"
             ],
             [
              0.1111111111111111,
              "#46039f"
             ],
             [
              0.2222222222222222,
              "#7201a8"
             ],
             [
              0.3333333333333333,
              "#9c179e"
             ],
             [
              0.4444444444444444,
              "#bd3786"
             ],
             [
              0.5555555555555556,
              "#d8576b"
             ],
             [
              0.6666666666666666,
              "#ed7953"
             ],
             [
              0.7777777777777778,
              "#fb9f3a"
             ],
             [
              0.8888888888888888,
              "#fdca26"
             ],
             [
              1,
              "#f0f921"
             ]
            ],
            "type": "heatmap"
           }
          ],
          "heatmapgl": [
           {
            "colorbar": {
             "outlinewidth": 0,
             "ticks": ""
            },
            "colorscale": [
             [
              0,
              "#0d0887"
             ],
             [
              0.1111111111111111,
              "#46039f"
             ],
             [
              0.2222222222222222,
              "#7201a8"
             ],
             [
              0.3333333333333333,
              "#9c179e"
             ],
             [
              0.4444444444444444,
              "#bd3786"
             ],
             [
              0.5555555555555556,
              "#d8576b"
             ],
             [
              0.6666666666666666,
              "#ed7953"
             ],
             [
              0.7777777777777778,
              "#fb9f3a"
             ],
             [
              0.8888888888888888,
              "#fdca26"
             ],
             [
              1,
              "#f0f921"
             ]
            ],
            "type": "heatmapgl"
           }
          ],
          "histogram": [
           {
            "marker": {
             "pattern": {
              "fillmode": "overlay",
              "size": 10,
              "solidity": 0.2
             }
            },
            "type": "histogram"
           }
          ],
          "histogram2d": [
           {
            "colorbar": {
             "outlinewidth": 0,
             "ticks": ""
            },
            "colorscale": [
             [
              0,
              "#0d0887"
             ],
             [
              0.1111111111111111,
              "#46039f"
             ],
             [
              0.2222222222222222,
              "#7201a8"
             ],
             [
              0.3333333333333333,
              "#9c179e"
             ],
             [
              0.4444444444444444,
              "#bd3786"
             ],
             [
              0.5555555555555556,
              "#d8576b"
             ],
             [
              0.6666666666666666,
              "#ed7953"
             ],
             [
              0.7777777777777778,
              "#fb9f3a"
             ],
             [
              0.8888888888888888,
              "#fdca26"
             ],
             [
              1,
              "#f0f921"
             ]
            ],
            "type": "histogram2d"
           }
          ],
          "histogram2dcontour": [
           {
            "colorbar": {
             "outlinewidth": 0,
             "ticks": ""
            },
            "colorscale": [
             [
              0,
              "#0d0887"
             ],
             [
              0.1111111111111111,
              "#46039f"
             ],
             [
              0.2222222222222222,
              "#7201a8"
             ],
             [
              0.3333333333333333,
              "#9c179e"
             ],
             [
              0.4444444444444444,
              "#bd3786"
             ],
             [
              0.5555555555555556,
              "#d8576b"
             ],
             [
              0.6666666666666666,
              "#ed7953"
             ],
             [
              0.7777777777777778,
              "#fb9f3a"
             ],
             [
              0.8888888888888888,
              "#fdca26"
             ],
             [
              1,
              "#f0f921"
             ]
            ],
            "type": "histogram2dcontour"
           }
          ],
          "mesh3d": [
           {
            "colorbar": {
             "outlinewidth": 0,
             "ticks": ""
            },
            "type": "mesh3d"
           }
          ],
          "parcoords": [
           {
            "line": {
             "colorbar": {
              "outlinewidth": 0,
              "ticks": ""
             }
            },
            "type": "parcoords"
           }
          ],
          "pie": [
           {
            "automargin": true,
            "type": "pie"
           }
          ],
          "scatter": [
           {
            "fillpattern": {
             "fillmode": "overlay",
             "size": 10,
             "solidity": 0.2
            },
            "type": "scatter"
           }
          ],
          "scatter3d": [
           {
            "line": {
             "colorbar": {
              "outlinewidth": 0,
              "ticks": ""
             }
            },
            "marker": {
             "colorbar": {
              "outlinewidth": 0,
              "ticks": ""
             }
            },
            "type": "scatter3d"
           }
          ],
          "scattercarpet": [
           {
            "marker": {
             "colorbar": {
              "outlinewidth": 0,
              "ticks": ""
             }
            },
            "type": "scattercarpet"
           }
          ],
          "scattergeo": [
           {
            "marker": {
             "colorbar": {
              "outlinewidth": 0,
              "ticks": ""
             }
            },
            "type": "scattergeo"
           }
          ],
          "scattergl": [
           {
            "marker": {
             "colorbar": {
              "outlinewidth": 0,
              "ticks": ""
             }
            },
            "type": "scattergl"
           }
          ],
          "scattermapbox": [
           {
            "marker": {
             "colorbar": {
              "outlinewidth": 0,
              "ticks": ""
             }
            },
            "type": "scattermapbox"
           }
          ],
          "scatterpolar": [
           {
            "marker": {
             "colorbar": {
              "outlinewidth": 0,
              "ticks": ""
             }
            },
            "type": "scatterpolar"
           }
          ],
          "scatterpolargl": [
           {
            "marker": {
             "colorbar": {
              "outlinewidth": 0,
              "ticks": ""
             }
            },
            "type": "scatterpolargl"
           }
          ],
          "scatterternary": [
           {
            "marker": {
             "colorbar": {
              "outlinewidth": 0,
              "ticks": ""
             }
            },
            "type": "scatterternary"
           }
          ],
          "surface": [
           {
            "colorbar": {
             "outlinewidth": 0,
             "ticks": ""
            },
            "colorscale": [
             [
              0,
              "#0d0887"
             ],
             [
              0.1111111111111111,
              "#46039f"
             ],
             [
              0.2222222222222222,
              "#7201a8"
             ],
             [
              0.3333333333333333,
              "#9c179e"
             ],
             [
              0.4444444444444444,
              "#bd3786"
             ],
             [
              0.5555555555555556,
              "#d8576b"
             ],
             [
              0.6666666666666666,
              "#ed7953"
             ],
             [
              0.7777777777777778,
              "#fb9f3a"
             ],
             [
              0.8888888888888888,
              "#fdca26"
             ],
             [
              1,
              "#f0f921"
             ]
            ],
            "type": "surface"
           }
          ],
          "table": [
           {
            "cells": {
             "fill": {
              "color": "#EBF0F8"
             },
             "line": {
              "color": "white"
             }
            },
            "header": {
             "fill": {
              "color": "#C8D4E3"
             },
             "line": {
              "color": "white"
             }
            },
            "type": "table"
           }
          ]
         },
         "layout": {
          "annotationdefaults": {
           "arrowcolor": "#2a3f5f",
           "arrowhead": 0,
           "arrowwidth": 1
          },
          "autotypenumbers": "strict",
          "coloraxis": {
           "colorbar": {
            "outlinewidth": 0,
            "ticks": ""
           }
          },
          "colorscale": {
           "diverging": [
            [
             0,
             "#8e0152"
            ],
            [
             0.1,
             "#c51b7d"
            ],
            [
             0.2,
             "#de77ae"
            ],
            [
             0.3,
             "#f1b6da"
            ],
            [
             0.4,
             "#fde0ef"
            ],
            [
             0.5,
             "#f7f7f7"
            ],
            [
             0.6,
             "#e6f5d0"
            ],
            [
             0.7,
             "#b8e186"
            ],
            [
             0.8,
             "#7fbc41"
            ],
            [
             0.9,
             "#4d9221"
            ],
            [
             1,
             "#276419"
            ]
           ],
           "sequential": [
            [
             0,
             "#0d0887"
            ],
            [
             0.1111111111111111,
             "#46039f"
            ],
            [
             0.2222222222222222,
             "#7201a8"
            ],
            [
             0.3333333333333333,
             "#9c179e"
            ],
            [
             0.4444444444444444,
             "#bd3786"
            ],
            [
             0.5555555555555556,
             "#d8576b"
            ],
            [
             0.6666666666666666,
             "#ed7953"
            ],
            [
             0.7777777777777778,
             "#fb9f3a"
            ],
            [
             0.8888888888888888,
             "#fdca26"
            ],
            [
             1,
             "#f0f921"
            ]
           ],
           "sequentialminus": [
            [
             0,
             "#0d0887"
            ],
            [
             0.1111111111111111,
             "#46039f"
            ],
            [
             0.2222222222222222,
             "#7201a8"
            ],
            [
             0.3333333333333333,
             "#9c179e"
            ],
            [
             0.4444444444444444,
             "#bd3786"
            ],
            [
             0.5555555555555556,
             "#d8576b"
            ],
            [
             0.6666666666666666,
             "#ed7953"
            ],
            [
             0.7777777777777778,
             "#fb9f3a"
            ],
            [
             0.8888888888888888,
             "#fdca26"
            ],
            [
             1,
             "#f0f921"
            ]
           ]
          },
          "colorway": [
           "#636efa",
           "#EF553B",
           "#00cc96",
           "#ab63fa",
           "#FFA15A",
           "#19d3f3",
           "#FF6692",
           "#B6E880",
           "#FF97FF",
           "#FECB52"
          ],
          "font": {
           "color": "#2a3f5f"
          },
          "geo": {
           "bgcolor": "white",
           "lakecolor": "white",
           "landcolor": "#E5ECF6",
           "showlakes": true,
           "showland": true,
           "subunitcolor": "white"
          },
          "hoverlabel": {
           "align": "left"
          },
          "hovermode": "closest",
          "mapbox": {
           "style": "light"
          },
          "paper_bgcolor": "white",
          "plot_bgcolor": "#E5ECF6",
          "polar": {
           "angularaxis": {
            "gridcolor": "white",
            "linecolor": "white",
            "ticks": ""
           },
           "bgcolor": "#E5ECF6",
           "radialaxis": {
            "gridcolor": "white",
            "linecolor": "white",
            "ticks": ""
           }
          },
          "scene": {
           "xaxis": {
            "backgroundcolor": "#E5ECF6",
            "gridcolor": "white",
            "gridwidth": 2,
            "linecolor": "white",
            "showbackground": true,
            "ticks": "",
            "zerolinecolor": "white"
           },
           "yaxis": {
            "backgroundcolor": "#E5ECF6",
            "gridcolor": "white",
            "gridwidth": 2,
            "linecolor": "white",
            "showbackground": true,
            "ticks": "",
            "zerolinecolor": "white"
           },
           "zaxis": {
            "backgroundcolor": "#E5ECF6",
            "gridcolor": "white",
            "gridwidth": 2,
            "linecolor": "white",
            "showbackground": true,
            "ticks": "",
            "zerolinecolor": "white"
           }
          },
          "shapedefaults": {
           "line": {
            "color": "#2a3f5f"
           }
          },
          "ternary": {
           "aaxis": {
            "gridcolor": "white",
            "linecolor": "white",
            "ticks": ""
           },
           "baxis": {
            "gridcolor": "white",
            "linecolor": "white",
            "ticks": ""
           },
           "bgcolor": "#E5ECF6",
           "caxis": {
            "gridcolor": "white",
            "linecolor": "white",
            "ticks": ""
           }
          },
          "title": {
           "x": 0.05
          },
          "xaxis": {
           "automargin": true,
           "gridcolor": "white",
           "linecolor": "white",
           "ticks": "",
           "title": {
            "standoff": 15
           },
           "zerolinecolor": "white",
           "zerolinewidth": 2
          },
          "yaxis": {
           "automargin": true,
           "gridcolor": "white",
           "linecolor": "white",
           "ticks": "",
           "title": {
            "standoff": 15
           },
           "zerolinecolor": "white",
           "zerolinewidth": 2
          }
         }
        },
        "title": {
         "text": "Drone Flight Plan",
         "x": 0.5
        },
        "updatemenus": [
         {
          "buttons": [
           {
            "args": [
             null,
             {
              "frame": {
               "duration": 1000,
               "redraw": false
              },
              "fromcurrent": true,
              "transition": {
               "duration": 1000
              }
             }
            ],
            "label": "Play",
            "method": "animate"
           }
          ],
          "type": "buttons"
         }
        ],
        "xaxis": {
         "autorange": true,
         "range": [
          0,
          0
         ],
         "zeroline": false
        },
        "yaxis": {
         "autorange": true,
         "range": [
          0,
          150
         ],
         "zeroline": false
        }
       }
      }
     },
     "metadata": {},
     "output_type": "display_data"
    }
   ],
   "source": [
    "camera_ = copy.deepcopy(camera_x10)\n",
    "dataset_spec_ = copy.deepcopy(dataset_spec)\n",
    "\n",
    "\n",
    "dataset_spec_.height = 10\n",
    "\n",
    "\n",
    "print(camera_, dataset_spec_)\n",
    "print(\"Original Speed\", compute_speed_during_photo_capture(camera_x10,dataset_spec))\n",
    "print(\"Reduced speed: \", compute_speed_during_photo_capture(camera_,dataset_spec_))\n",
    "print(\"Original Footprint\", compute_image_footprint_on_surface(camera_x10, dataset_spec.height))\n",
    "print(\"Reduced Footprint\", compute_image_footprint_on_surface(camera_, dataset_spec_.height))\n",
    "print(\"Original GSD\", compute_ground_sampling_distance(camera_x10, dataset_spec.height))\n",
    "print(\"Reduced GSD\", compute_ground_sampling_distance(camera_, dataset_spec_.height))\n",
    "print(\"Original Distance between images\", compute_distance_between_images(camera_x10, dataset_spec))\n",
    "print(\"Reduced Distance between images\", compute_distance_between_images(camera_, dataset_spec_))\n",
    "\n",
    "fig = plot_photo_plan(generate_photo_plan_on_grid(camera_, dataset_spec_))\n",
    "fig.show()"
   ]
  },
  {
   "cell_type": "code",
   "execution_count": 273,
   "id": "778d16c8",
   "metadata": {},
   "outputs": [
    {
     "name": "stdout",
     "output_type": "stream",
     "text": [
      "Camera(fx=4938.56, fy=4936.49, cx=4095.5, cy=3071.5, sensor_size_x_mm=13.107, sensor_size_y_mm=9.83, image_size_x_px=8192, image_size_y_px=6144) DatasetSpec(overlap=0.7, sidelap=0.7, height=100, scan_dimension_x=150, scan_dimension_y=150, exposure_time_ms=2)\n",
      "Original Speed 3.0859197822847144\n",
      "Increased speed:  10.1244087345299\n",
      "Original Footprint [50.55970971 37.93568305]\n",
      "Increased Footprint [165.87831271 124.46090238]\n",
      "Original GSD 0.006171839564569429\n",
      "Increased GSD 0.020248817469059804\n",
      "Original Distance between images [15.16791291 11.38070491]\n",
      "Increased Distance between images [49.76349381 37.33827071]\n"
     ]
    },
    {
     "data": {
      "application/vnd.plotly.v1+json": {
       "config": {
        "plotlyServerURL": "https://plot.ly"
       },
       "data": [
        {
         "line": {
          "dash": "dot"
         },
         "marker": {
          "color": "green"
         },
         "mode": "lines+markers",
         "name": "flight",
         "type": "scatter",
         "x": [
          0,
          37.5,
          75,
          112.5,
          150,
          150,
          112.5,
          75,
          37.5,
          0,
          0,
          37.5,
          75,
          112.5,
          150,
          150,
          112.5,
          75,
          37.5,
          0,
          0,
          37.5,
          75,
          112.5,
          150,
          150,
          112.5,
          75,
          37.5,
          0
         ],
         "y": [
          0,
          0,
          0,
          0,
          0,
          30,
          30,
          30,
          30,
          30,
          60,
          60,
          60,
          60,
          60,
          90,
          90,
          90,
          90,
          90,
          120,
          120,
          120,
          120,
          120,
          150,
          150,
          150,
          150,
          150
         ]
        },
        {
         "marker": {
          "color": "blue",
          "size": 20,
          "symbol": "x-dot"
         },
         "mode": "markers",
         "name": "drone ground midpoint",
         "text": [
          "10.1244087345299",
          "10.1244087345299",
          "10.1244087345299",
          "10.1244087345299",
          "10.1244087345299",
          "10.1244087345299",
          "10.1244087345299",
          "10.1244087345299",
          "10.1244087345299",
          "10.1244087345299",
          "10.1244087345299",
          "10.1244087345299",
          "10.1244087345299",
          "10.1244087345299",
          "10.1244087345299",
          "10.1244087345299",
          "10.1244087345299",
          "10.1244087345299",
          "10.1244087345299",
          "10.1244087345299",
          "10.1244087345299",
          "10.1244087345299",
          "10.1244087345299",
          "10.1244087345299",
          "10.1244087345299",
          "10.1244087345299",
          "10.1244087345299",
          "10.1244087345299",
          "10.1244087345299",
          "10.1244087345299"
         ],
         "type": "scatter",
         "x": [
          0
         ],
         "y": [
          0
         ]
        }
       ],
       "frames": [
        {
         "data": [
          {
           "type": "scatter",
           "x": [
            0
           ],
           "y": [
            0
           ]
          }
         ],
         "traces": [
          1
         ]
        },
        {
         "data": [
          {
           "type": "scatter",
           "x": [
            37.5
           ],
           "y": [
            0
           ]
          }
         ],
         "traces": [
          1
         ]
        },
        {
         "data": [
          {
           "type": "scatter",
           "x": [
            75
           ],
           "y": [
            0
           ]
          }
         ],
         "traces": [
          1
         ]
        },
        {
         "data": [
          {
           "type": "scatter",
           "x": [
            112.5
           ],
           "y": [
            0
           ]
          }
         ],
         "traces": [
          1
         ]
        },
        {
         "data": [
          {
           "type": "scatter",
           "x": [
            150
           ],
           "y": [
            0
           ]
          }
         ],
         "traces": [
          1
         ]
        },
        {
         "data": [
          {
           "type": "scatter",
           "x": [
            150
           ],
           "y": [
            30
           ]
          }
         ],
         "traces": [
          1
         ]
        },
        {
         "data": [
          {
           "type": "scatter",
           "x": [
            112.5
           ],
           "y": [
            30
           ]
          }
         ],
         "traces": [
          1
         ]
        },
        {
         "data": [
          {
           "type": "scatter",
           "x": [
            75
           ],
           "y": [
            30
           ]
          }
         ],
         "traces": [
          1
         ]
        },
        {
         "data": [
          {
           "type": "scatter",
           "x": [
            37.5
           ],
           "y": [
            30
           ]
          }
         ],
         "traces": [
          1
         ]
        },
        {
         "data": [
          {
           "type": "scatter",
           "x": [
            0
           ],
           "y": [
            30
           ]
          }
         ],
         "traces": [
          1
         ]
        },
        {
         "data": [
          {
           "type": "scatter",
           "x": [
            0
           ],
           "y": [
            60
           ]
          }
         ],
         "traces": [
          1
         ]
        },
        {
         "data": [
          {
           "type": "scatter",
           "x": [
            37.5
           ],
           "y": [
            60
           ]
          }
         ],
         "traces": [
          1
         ]
        },
        {
         "data": [
          {
           "type": "scatter",
           "x": [
            75
           ],
           "y": [
            60
           ]
          }
         ],
         "traces": [
          1
         ]
        },
        {
         "data": [
          {
           "type": "scatter",
           "x": [
            112.5
           ],
           "y": [
            60
           ]
          }
         ],
         "traces": [
          1
         ]
        },
        {
         "data": [
          {
           "type": "scatter",
           "x": [
            150
           ],
           "y": [
            60
           ]
          }
         ],
         "traces": [
          1
         ]
        },
        {
         "data": [
          {
           "type": "scatter",
           "x": [
            150
           ],
           "y": [
            90
           ]
          }
         ],
         "traces": [
          1
         ]
        },
        {
         "data": [
          {
           "type": "scatter",
           "x": [
            112.5
           ],
           "y": [
            90
           ]
          }
         ],
         "traces": [
          1
         ]
        },
        {
         "data": [
          {
           "type": "scatter",
           "x": [
            75
           ],
           "y": [
            90
           ]
          }
         ],
         "traces": [
          1
         ]
        },
        {
         "data": [
          {
           "type": "scatter",
           "x": [
            37.5
           ],
           "y": [
            90
           ]
          }
         ],
         "traces": [
          1
         ]
        },
        {
         "data": [
          {
           "type": "scatter",
           "x": [
            0
           ],
           "y": [
            90
           ]
          }
         ],
         "traces": [
          1
         ]
        },
        {
         "data": [
          {
           "type": "scatter",
           "x": [
            0
           ],
           "y": [
            120
           ]
          }
         ],
         "traces": [
          1
         ]
        },
        {
         "data": [
          {
           "type": "scatter",
           "x": [
            37.5
           ],
           "y": [
            120
           ]
          }
         ],
         "traces": [
          1
         ]
        },
        {
         "data": [
          {
           "type": "scatter",
           "x": [
            75
           ],
           "y": [
            120
           ]
          }
         ],
         "traces": [
          1
         ]
        },
        {
         "data": [
          {
           "type": "scatter",
           "x": [
            112.5
           ],
           "y": [
            120
           ]
          }
         ],
         "traces": [
          1
         ]
        },
        {
         "data": [
          {
           "type": "scatter",
           "x": [
            150
           ],
           "y": [
            120
           ]
          }
         ],
         "traces": [
          1
         ]
        },
        {
         "data": [
          {
           "type": "scatter",
           "x": [
            150
           ],
           "y": [
            150
           ]
          }
         ],
         "traces": [
          1
         ]
        },
        {
         "data": [
          {
           "type": "scatter",
           "x": [
            112.5
           ],
           "y": [
            150
           ]
          }
         ],
         "traces": [
          1
         ]
        },
        {
         "data": [
          {
           "type": "scatter",
           "x": [
            75
           ],
           "y": [
            150
           ]
          }
         ],
         "traces": [
          1
         ]
        },
        {
         "data": [
          {
           "type": "scatter",
           "x": [
            37.5
           ],
           "y": [
            150
           ]
          }
         ],
         "traces": [
          1
         ]
        },
        {
         "data": [
          {
           "type": "scatter",
           "x": [
            0
           ],
           "y": [
            150
           ]
          }
         ],
         "traces": [
          1
         ]
        }
       ],
       "layout": {
        "margin": {
         "b": 50,
         "l": 50,
         "r": 50,
         "t": 50
        },
        "template": {
         "data": {
          "bar": [
           {
            "error_x": {
             "color": "#2a3f5f"
            },
            "error_y": {
             "color": "#2a3f5f"
            },
            "marker": {
             "line": {
              "color": "#E5ECF6",
              "width": 0.5
             },
             "pattern": {
              "fillmode": "overlay",
              "size": 10,
              "solidity": 0.2
             }
            },
            "type": "bar"
           }
          ],
          "barpolar": [
           {
            "marker": {
             "line": {
              "color": "#E5ECF6",
              "width": 0.5
             },
             "pattern": {
              "fillmode": "overlay",
              "size": 10,
              "solidity": 0.2
             }
            },
            "type": "barpolar"
           }
          ],
          "carpet": [
           {
            "aaxis": {
             "endlinecolor": "#2a3f5f",
             "gridcolor": "white",
             "linecolor": "white",
             "minorgridcolor": "white",
             "startlinecolor": "#2a3f5f"
            },
            "baxis": {
             "endlinecolor": "#2a3f5f",
             "gridcolor": "white",
             "linecolor": "white",
             "minorgridcolor": "white",
             "startlinecolor": "#2a3f5f"
            },
            "type": "carpet"
           }
          ],
          "choropleth": [
           {
            "colorbar": {
             "outlinewidth": 0,
             "ticks": ""
            },
            "type": "choropleth"
           }
          ],
          "contour": [
           {
            "colorbar": {
             "outlinewidth": 0,
             "ticks": ""
            },
            "colorscale": [
             [
              0,
              "#0d0887"
             ],
             [
              0.1111111111111111,
              "#46039f"
             ],
             [
              0.2222222222222222,
              "#7201a8"
             ],
             [
              0.3333333333333333,
              "#9c179e"
             ],
             [
              0.4444444444444444,
              "#bd3786"
             ],
             [
              0.5555555555555556,
              "#d8576b"
             ],
             [
              0.6666666666666666,
              "#ed7953"
             ],
             [
              0.7777777777777778,
              "#fb9f3a"
             ],
             [
              0.8888888888888888,
              "#fdca26"
             ],
             [
              1,
              "#f0f921"
             ]
            ],
            "type": "contour"
           }
          ],
          "contourcarpet": [
           {
            "colorbar": {
             "outlinewidth": 0,
             "ticks": ""
            },
            "type": "contourcarpet"
           }
          ],
          "heatmap": [
           {
            "colorbar": {
             "outlinewidth": 0,
             "ticks": ""
            },
            "colorscale": [
             [
              0,
              "#0d0887"
             ],
             [
              0.1111111111111111,
              "#46039f"
             ],
             [
              0.2222222222222222,
              "#7201a8"
             ],
             [
              0.3333333333333333,
              "#9c179e"
             ],
             [
              0.4444444444444444,
              "#bd3786"
             ],
             [
              0.5555555555555556,
              "#d8576b"
             ],
             [
              0.6666666666666666,
              "#ed7953"
             ],
             [
              0.7777777777777778,
              "#fb9f3a"
             ],
             [
              0.8888888888888888,
              "#fdca26"
             ],
             [
              1,
              "#f0f921"
             ]
            ],
            "type": "heatmap"
           }
          ],
          "heatmapgl": [
           {
            "colorbar": {
             "outlinewidth": 0,
             "ticks": ""
            },
            "colorscale": [
             [
              0,
              "#0d0887"
             ],
             [
              0.1111111111111111,
              "#46039f"
             ],
             [
              0.2222222222222222,
              "#7201a8"
             ],
             [
              0.3333333333333333,
              "#9c179e"
             ],
             [
              0.4444444444444444,
              "#bd3786"
             ],
             [
              0.5555555555555556,
              "#d8576b"
             ],
             [
              0.6666666666666666,
              "#ed7953"
             ],
             [
              0.7777777777777778,
              "#fb9f3a"
             ],
             [
              0.8888888888888888,
              "#fdca26"
             ],
             [
              1,
              "#f0f921"
             ]
            ],
            "type": "heatmapgl"
           }
          ],
          "histogram": [
           {
            "marker": {
             "pattern": {
              "fillmode": "overlay",
              "size": 10,
              "solidity": 0.2
             }
            },
            "type": "histogram"
           }
          ],
          "histogram2d": [
           {
            "colorbar": {
             "outlinewidth": 0,
             "ticks": ""
            },
            "colorscale": [
             [
              0,
              "#0d0887"
             ],
             [
              0.1111111111111111,
              "#46039f"
             ],
             [
              0.2222222222222222,
              "#7201a8"
             ],
             [
              0.3333333333333333,
              "#9c179e"
             ],
             [
              0.4444444444444444,
              "#bd3786"
             ],
             [
              0.5555555555555556,
              "#d8576b"
             ],
             [
              0.6666666666666666,
              "#ed7953"
             ],
             [
              0.7777777777777778,
              "#fb9f3a"
             ],
             [
              0.8888888888888888,
              "#fdca26"
             ],
             [
              1,
              "#f0f921"
             ]
            ],
            "type": "histogram2d"
           }
          ],
          "histogram2dcontour": [
           {
            "colorbar": {
             "outlinewidth": 0,
             "ticks": ""
            },
            "colorscale": [
             [
              0,
              "#0d0887"
             ],
             [
              0.1111111111111111,
              "#46039f"
             ],
             [
              0.2222222222222222,
              "#7201a8"
             ],
             [
              0.3333333333333333,
              "#9c179e"
             ],
             [
              0.4444444444444444,
              "#bd3786"
             ],
             [
              0.5555555555555556,
              "#d8576b"
             ],
             [
              0.6666666666666666,
              "#ed7953"
             ],
             [
              0.7777777777777778,
              "#fb9f3a"
             ],
             [
              0.8888888888888888,
              "#fdca26"
             ],
             [
              1,
              "#f0f921"
             ]
            ],
            "type": "histogram2dcontour"
           }
          ],
          "mesh3d": [
           {
            "colorbar": {
             "outlinewidth": 0,
             "ticks": ""
            },
            "type": "mesh3d"
           }
          ],
          "parcoords": [
           {
            "line": {
             "colorbar": {
              "outlinewidth": 0,
              "ticks": ""
             }
            },
            "type": "parcoords"
           }
          ],
          "pie": [
           {
            "automargin": true,
            "type": "pie"
           }
          ],
          "scatter": [
           {
            "fillpattern": {
             "fillmode": "overlay",
             "size": 10,
             "solidity": 0.2
            },
            "type": "scatter"
           }
          ],
          "scatter3d": [
           {
            "line": {
             "colorbar": {
              "outlinewidth": 0,
              "ticks": ""
             }
            },
            "marker": {
             "colorbar": {
              "outlinewidth": 0,
              "ticks": ""
             }
            },
            "type": "scatter3d"
           }
          ],
          "scattercarpet": [
           {
            "marker": {
             "colorbar": {
              "outlinewidth": 0,
              "ticks": ""
             }
            },
            "type": "scattercarpet"
           }
          ],
          "scattergeo": [
           {
            "marker": {
             "colorbar": {
              "outlinewidth": 0,
              "ticks": ""
             }
            },
            "type": "scattergeo"
           }
          ],
          "scattergl": [
           {
            "marker": {
             "colorbar": {
              "outlinewidth": 0,
              "ticks": ""
             }
            },
            "type": "scattergl"
           }
          ],
          "scattermapbox": [
           {
            "marker": {
             "colorbar": {
              "outlinewidth": 0,
              "ticks": ""
             }
            },
            "type": "scattermapbox"
           }
          ],
          "scatterpolar": [
           {
            "marker": {
             "colorbar": {
              "outlinewidth": 0,
              "ticks": ""
             }
            },
            "type": "scatterpolar"
           }
          ],
          "scatterpolargl": [
           {
            "marker": {
             "colorbar": {
              "outlinewidth": 0,
              "ticks": ""
             }
            },
            "type": "scatterpolargl"
           }
          ],
          "scatterternary": [
           {
            "marker": {
             "colorbar": {
              "outlinewidth": 0,
              "ticks": ""
             }
            },
            "type": "scatterternary"
           }
          ],
          "surface": [
           {
            "colorbar": {
             "outlinewidth": 0,
             "ticks": ""
            },
            "colorscale": [
             [
              0,
              "#0d0887"
             ],
             [
              0.1111111111111111,
              "#46039f"
             ],
             [
              0.2222222222222222,
              "#7201a8"
             ],
             [
              0.3333333333333333,
              "#9c179e"
             ],
             [
              0.4444444444444444,
              "#bd3786"
             ],
             [
              0.5555555555555556,
              "#d8576b"
             ],
             [
              0.6666666666666666,
              "#ed7953"
             ],
             [
              0.7777777777777778,
              "#fb9f3a"
             ],
             [
              0.8888888888888888,
              "#fdca26"
             ],
             [
              1,
              "#f0f921"
             ]
            ],
            "type": "surface"
           }
          ],
          "table": [
           {
            "cells": {
             "fill": {
              "color": "#EBF0F8"
             },
             "line": {
              "color": "white"
             }
            },
            "header": {
             "fill": {
              "color": "#C8D4E3"
             },
             "line": {
              "color": "white"
             }
            },
            "type": "table"
           }
          ]
         },
         "layout": {
          "annotationdefaults": {
           "arrowcolor": "#2a3f5f",
           "arrowhead": 0,
           "arrowwidth": 1
          },
          "autotypenumbers": "strict",
          "coloraxis": {
           "colorbar": {
            "outlinewidth": 0,
            "ticks": ""
           }
          },
          "colorscale": {
           "diverging": [
            [
             0,
             "#8e0152"
            ],
            [
             0.1,
             "#c51b7d"
            ],
            [
             0.2,
             "#de77ae"
            ],
            [
             0.3,
             "#f1b6da"
            ],
            [
             0.4,
             "#fde0ef"
            ],
            [
             0.5,
             "#f7f7f7"
            ],
            [
             0.6,
             "#e6f5d0"
            ],
            [
             0.7,
             "#b8e186"
            ],
            [
             0.8,
             "#7fbc41"
            ],
            [
             0.9,
             "#4d9221"
            ],
            [
             1,
             "#276419"
            ]
           ],
           "sequential": [
            [
             0,
             "#0d0887"
            ],
            [
             0.1111111111111111,
             "#46039f"
            ],
            [
             0.2222222222222222,
             "#7201a8"
            ],
            [
             0.3333333333333333,
             "#9c179e"
            ],
            [
             0.4444444444444444,
             "#bd3786"
            ],
            [
             0.5555555555555556,
             "#d8576b"
            ],
            [
             0.6666666666666666,
             "#ed7953"
            ],
            [
             0.7777777777777778,
             "#fb9f3a"
            ],
            [
             0.8888888888888888,
             "#fdca26"
            ],
            [
             1,
             "#f0f921"
            ]
           ],
           "sequentialminus": [
            [
             0,
             "#0d0887"
            ],
            [
             0.1111111111111111,
             "#46039f"
            ],
            [
             0.2222222222222222,
             "#7201a8"
            ],
            [
             0.3333333333333333,
             "#9c179e"
            ],
            [
             0.4444444444444444,
             "#bd3786"
            ],
            [
             0.5555555555555556,
             "#d8576b"
            ],
            [
             0.6666666666666666,
             "#ed7953"
            ],
            [
             0.7777777777777778,
             "#fb9f3a"
            ],
            [
             0.8888888888888888,
             "#fdca26"
            ],
            [
             1,
             "#f0f921"
            ]
           ]
          },
          "colorway": [
           "#636efa",
           "#EF553B",
           "#00cc96",
           "#ab63fa",
           "#FFA15A",
           "#19d3f3",
           "#FF6692",
           "#B6E880",
           "#FF97FF",
           "#FECB52"
          ],
          "font": {
           "color": "#2a3f5f"
          },
          "geo": {
           "bgcolor": "white",
           "lakecolor": "white",
           "landcolor": "#E5ECF6",
           "showlakes": true,
           "showland": true,
           "subunitcolor": "white"
          },
          "hoverlabel": {
           "align": "left"
          },
          "hovermode": "closest",
          "mapbox": {
           "style": "light"
          },
          "paper_bgcolor": "white",
          "plot_bgcolor": "#E5ECF6",
          "polar": {
           "angularaxis": {
            "gridcolor": "white",
            "linecolor": "white",
            "ticks": ""
           },
           "bgcolor": "#E5ECF6",
           "radialaxis": {
            "gridcolor": "white",
            "linecolor": "white",
            "ticks": ""
           }
          },
          "scene": {
           "xaxis": {
            "backgroundcolor": "#E5ECF6",
            "gridcolor": "white",
            "gridwidth": 2,
            "linecolor": "white",
            "showbackground": true,
            "ticks": "",
            "zerolinecolor": "white"
           },
           "yaxis": {
            "backgroundcolor": "#E5ECF6",
            "gridcolor": "white",
            "gridwidth": 2,
            "linecolor": "white",
            "showbackground": true,
            "ticks": "",
            "zerolinecolor": "white"
           },
           "zaxis": {
            "backgroundcolor": "#E5ECF6",
            "gridcolor": "white",
            "gridwidth": 2,
            "linecolor": "white",
            "showbackground": true,
            "ticks": "",
            "zerolinecolor": "white"
           }
          },
          "shapedefaults": {
           "line": {
            "color": "#2a3f5f"
           }
          },
          "ternary": {
           "aaxis": {
            "gridcolor": "white",
            "linecolor": "white",
            "ticks": ""
           },
           "baxis": {
            "gridcolor": "white",
            "linecolor": "white",
            "ticks": ""
           },
           "bgcolor": "#E5ECF6",
           "caxis": {
            "gridcolor": "white",
            "linecolor": "white",
            "ticks": ""
           }
          },
          "title": {
           "x": 0.05
          },
          "xaxis": {
           "automargin": true,
           "gridcolor": "white",
           "linecolor": "white",
           "ticks": "",
           "title": {
            "standoff": 15
           },
           "zerolinecolor": "white",
           "zerolinewidth": 2
          },
          "yaxis": {
           "automargin": true,
           "gridcolor": "white",
           "linecolor": "white",
           "ticks": "",
           "title": {
            "standoff": 15
           },
           "zerolinecolor": "white",
           "zerolinewidth": 2
          }
         }
        },
        "title": {
         "text": "Drone Flight Plan",
         "x": 0.5
        },
        "updatemenus": [
         {
          "buttons": [
           {
            "args": [
             null,
             {
              "frame": {
               "duration": 1000,
               "redraw": false
              },
              "fromcurrent": true,
              "transition": {
               "duration": 1000
              }
             }
            ],
            "label": "Play",
            "method": "animate"
           }
          ],
          "type": "buttons"
         }
        ],
        "xaxis": {
         "autorange": true,
         "range": [
          0,
          0
         ],
         "zeroline": false
        },
        "yaxis": {
         "autorange": true,
         "range": [
          0,
          150
         ],
         "zeroline": false
        }
       }
      }
     },
     "metadata": {},
     "output_type": "display_data"
    }
   ],
   "source": [
    "camera_ = copy.deepcopy(camera_x10)\n",
    "dataset_spec_ = copy.deepcopy(dataset_spec)\n",
    "\n",
    "\n",
    "dataset_spec_.height = 100\n",
    "\n",
    "\n",
    "print(camera_, dataset_spec_)\n",
    "print(\"Original Speed\", compute_speed_during_photo_capture(camera_x10,dataset_spec))\n",
    "print(\"Increased speed: \", compute_speed_during_photo_capture(camera_,dataset_spec_))\n",
    "print(\"Original Footprint\", compute_image_footprint_on_surface(camera_x10, dataset_spec.height))\n",
    "print(\"Increased Footprint\", compute_image_footprint_on_surface(camera_, dataset_spec_.height))\n",
    "print(\"Original GSD\", compute_ground_sampling_distance(camera_x10, dataset_spec.height))\n",
    "print(\"Increased GSD\", compute_ground_sampling_distance(camera_, dataset_spec_.height))\n",
    "print(\"Original Distance between images\", compute_distance_between_images(camera_x10, dataset_spec))\n",
    "print(\"Increased Distance between images\", compute_distance_between_images(camera_, dataset_spec_))\n",
    "\n",
    "fig = plot_photo_plan(generate_photo_plan_on_grid(camera_, dataset_spec_))\n",
    "fig.show()"
   ]
  }
 ],
 "metadata": {
  "kernelspec": {
   "display_name": "drone-trajectory-XrFQBQhb-py3.13",
   "language": "python",
   "name": "python3"
  },
  "language_info": {
   "codemirror_mode": {
    "name": "ipython",
    "version": 3
   },
   "file_extension": ".py",
   "mimetype": "text/x-python",
   "name": "python",
   "nbconvert_exporter": "python",
   "pygments_lexer": "ipython3",
   "version": "3.13.2"
  }
 },
 "nbformat": 4,
 "nbformat_minor": 5
}
